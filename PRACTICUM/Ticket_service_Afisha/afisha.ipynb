{
 "cells": [
  {
   "cell_type": "markdown",
   "metadata": {
    "id": "LMuaGIE3lGcr"
   },
   "source": [
    "## Исследовательский анализ данных в Python и проверка гипотез.\n",
    "\n",
    "Автор: Зайцев Виталий.\n",
    "Дата: 18.09.2025 г.\n",
    "\n",
    "В нашем распоряжении данные о бронировании билетов на сервисе Афиша за период с 1 июня по 31 октября 2024 года.  \n",
    "(Все названия в данных заменены на вымешленные.)\n",
    "\n",
    "**Цели и задачи**\n",
    "\n",
    "*Цель*  \n",
    "Разобраться, почему произошло изменение в пользовательском спросе в конце октября 2024 г. (упал спрос).\n",
    "\n",
    "*Задачи*  \n",
    "- изучить распределение заказов по сегментам и сезонности\n",
    "- исследовать осеннюю активность пользователей\n",
    "- выявить популярные события и партнеров\n",
    "- провести статистический анализ данных\n",
    "\n",
    "<a id=\"label_00\"></a>\n",
    "#### Содержание проекта \n",
    "\n",
    "---\n",
    "0. [Описание данных.](#label_0)\n",
    "1. [Знакомство с данными: загрузка и знакомство с данными.](#label_1)\n",
    "2. [Предобработка данных и подготовка их к исследованию.](#label_2)\n",
    "   1. [Проверка на дубликаты.](#label_2_1)\n",
    "   2. [Объединение таблиц](label_2_2)\n",
    "   3. [Преобразование типов данных.](#label_2_3)\n",
    "   4. [Изучяем значения в ключевых столбцах.](#label_2_4)\n",
    "   5. [Создаем новые столбцы](#label__2_5)\n",
    "3. [Исследовательский анализ данных.](#label_3)\n",
    "    1. [Анализ распределения заказов по сегментам и их сезонные изменения.](#label_3_1)\n",
    "    2. [Осенняя активность пользователей.](#label_3_2)\n",
    "    3. [Популярные события и партнёры.](#label_3_3)\n",
    "4. [Статистический анализ данных.](#label_4)\n",
    "5. [Общий вывод и рекомендации.](#label_5)"
   ]
  },
  {
   "cell_type": "markdown",
   "metadata": {},
   "source": [
    "<a id=\"label_0\"></a>\n",
    "### Описание данных.\n",
    "\n",
    "Таблица `final_tickets_orders_df.csv` включает информацию обо всех заказах билетов, совершённых с двух типов устройств — мобильных и стационарных:\n",
    "- `order_id` — уникальный идентификатор заказа.\n",
    "- `user_id` — уникальный идентификатор пользователя.\n",
    "- `created_dt_msk` — дата создания заказа (московское время).\n",
    "- `created_ts_msk` — дата и время создания заказа (московское время).\n",
    "- `event_id` — идентификатор мероприятия из таблицы events.\n",
    "- `cinema_circuit` — сеть кинотеатров. Если не применимо, то здесь будет значение 'нет'.\n",
    "- `age_limit` — возрастное ограничение мероприятия.\n",
    "- `currency_code` — валюта оплаты, например rub для российских рублей.\n",
    "- `device_type_canonical` — тип устройства, с которого был оформлен заказ, например mobile для мобильных устройств, desktop для стационарных.\n",
    "- `revenue` — выручка от заказа.\n",
    "- `service_name` — название билетного оператора.\n",
    "- `tickets_count` — количество купленных билетов.\n",
    "- `total` — общая сумма заказа.\n",
    "В данные также был добавлен столбец `days_since_prev` с количеством дней с предыдущей покупки для каждого пользователя. Если покупки не было, то данные содержат пропуск.\n",
    "\n",
    "Таблица `final_tickets_events_df.csv` содержит информацию о событиях, включая город и регион события, а также информацию о площадке проведения мероприятия. Датасет содержит такие поля:\n",
    "- `event_id` — уникальный идентификатор мероприятия.\n",
    "- `event_name` — название мероприятия. Аналог поля event_name_code из исходной базы данных.\n",
    "- `event_type_description` — описание типа мероприятия.\n",
    "- `event_type_main` — основной тип мероприятия: театральная постановка, концерт и так далее.\n",
    "- `organizers` — организаторы мероприятия.\n",
    "- `region_name` — название региона.\n",
    "- `city_name` — название города.\n",
    "- `venue_id` — уникальный идентификатор площадки.\n",
    "- `venue_name` — название площадки.\n",
    "- `venue_address` — адрес площадки.\n",
    "\n",
    "Для перевода из тенге в рубли есть таблица `final_tickets_tenge_df.csv` с информацией о курсе тенге к российскому рублю за 2024 год. Значения в рублях представлено для 100 тенге. Датасет содержит такие поля:\n",
    "- `nominal` — номинал (100 тенге);\n",
    "- `data` — дата;\n",
    "- `curs` — курс тенге к рублю;\n",
    "- `cdx` — обозначение валюты (kzt).\n",
    "\n",
    "[к содержанию](#label_00)\n",
    "\n",
    "---"
   ]
  },
  {
   "cell_type": "code",
   "execution_count": 1,
   "metadata": {},
   "outputs": [],
   "source": [
    "# загрузим необходимые библиотеки\n",
    "import pandas as pd\n",
    "import matplotlib.pyplot as plt\n",
    "import numpy as np\n",
    "\n",
    "# загружаем статистические тесты\n",
    "from scipy.stats import ttest_ind\n",
    "from statsmodels.stats.proportion import proportions_ztest\n",
    "from statsmodels.stats.power import NormalIndPower\n",
    "from statsmodels.stats.proportion import proportion_effectsize"
   ]
  },
  {
   "cell_type": "markdown",
   "metadata": {},
   "source": [
    "<a id=\"label_1\"></a>\n",
    "### 1. Знакомство с данными: загрузка и знакомство с данными."
   ]
  },
  {
   "cell_type": "code",
   "execution_count": 2,
   "metadata": {},
   "outputs": [],
   "source": [
    "# загужаем данные\n",
    "try:\n",
    "    orders_df = pd.read_csv('/datasets/final_tickets_orders_df.csv')\n",
    "except:\n",
    "    orders_df = pd.read_csv('C:/Files/Ya_Practicum/Projects/Final_proj/final_tickets_orders_df.csv')\n",
    "\n",
    "try:\n",
    "    events_df = pd.read_csv('/datasets/final_tickets_events_df.csv')\n",
    "except:\n",
    "    events_df = pd.read_csv('C:/Files/Ya_Practicum/Projects/Final_proj/final_tickets_events_df.csv')\n",
    "\n",
    "try:\n",
    "    tenge_df = pd.read_csv('/datasets/final_tickets_tenge_df.csv')\n",
    "except:\n",
    "    tenge_df = pd.read_csv('C:/Files/Ya_Practicum/Projects/Final_projs/final_tickets_tenge_df.csv')"
   ]
  },
  {
   "cell_type": "code",
   "execution_count": 3,
   "metadata": {},
   "outputs": [
    {
     "data": {
      "text/html": [
       "<div>\n",
       "<style scoped>\n",
       "    .dataframe tbody tr th:only-of-type {\n",
       "        vertical-align: middle;\n",
       "    }\n",
       "\n",
       "    .dataframe tbody tr th {\n",
       "        vertical-align: top;\n",
       "    }\n",
       "\n",
       "    .dataframe thead th {\n",
       "        text-align: right;\n",
       "    }\n",
       "</style>\n",
       "<table border=\"1\" class=\"dataframe\">\n",
       "  <thead>\n",
       "    <tr style=\"text-align: right;\">\n",
       "      <th></th>\n",
       "      <th>order_id</th>\n",
       "      <th>user_id</th>\n",
       "      <th>created_dt_msk</th>\n",
       "      <th>created_ts_msk</th>\n",
       "      <th>event_id</th>\n",
       "      <th>cinema_circuit</th>\n",
       "      <th>age_limit</th>\n",
       "      <th>currency_code</th>\n",
       "      <th>device_type_canonical</th>\n",
       "      <th>revenue</th>\n",
       "      <th>service_name</th>\n",
       "      <th>tickets_count</th>\n",
       "      <th>total</th>\n",
       "      <th>days_since_prev</th>\n",
       "    </tr>\n",
       "  </thead>\n",
       "  <tbody>\n",
       "    <tr>\n",
       "      <th>214337</th>\n",
       "      <td>2934598</td>\n",
       "      <td>b34524f63004132</td>\n",
       "      <td>2024-06-08</td>\n",
       "      <td>2024-06-08 10:47:27</td>\n",
       "      <td>501198</td>\n",
       "      <td>нет</td>\n",
       "      <td>0</td>\n",
       "      <td>rub</td>\n",
       "      <td>mobile</td>\n",
       "      <td>35.89</td>\n",
       "      <td>Билеты в руки</td>\n",
       "      <td>3</td>\n",
       "      <td>717.75</td>\n",
       "      <td>0.0</td>\n",
       "    </tr>\n",
       "    <tr>\n",
       "      <th>46250</th>\n",
       "      <td>7979003</td>\n",
       "      <td>1c2a2133e1df1b4</td>\n",
       "      <td>2024-09-03</td>\n",
       "      <td>2024-09-03 13:23:23</td>\n",
       "      <td>41089</td>\n",
       "      <td>нет</td>\n",
       "      <td>16</td>\n",
       "      <td>rub</td>\n",
       "      <td>desktop</td>\n",
       "      <td>254.03</td>\n",
       "      <td>Тебе билет!</td>\n",
       "      <td>4</td>\n",
       "      <td>2540.28</td>\n",
       "      <td>0.0</td>\n",
       "    </tr>\n",
       "    <tr>\n",
       "      <th>41586</th>\n",
       "      <td>2767703</td>\n",
       "      <td>18e9aead0a393e7</td>\n",
       "      <td>2024-10-27</td>\n",
       "      <td>2024-10-27 17:30:06</td>\n",
       "      <td>500862</td>\n",
       "      <td>нет</td>\n",
       "      <td>12</td>\n",
       "      <td>rub</td>\n",
       "      <td>mobile</td>\n",
       "      <td>902.74</td>\n",
       "      <td>Облачко</td>\n",
       "      <td>3</td>\n",
       "      <td>8206.70</td>\n",
       "      <td>0.0</td>\n",
       "    </tr>\n",
       "    <tr>\n",
       "      <th>64722</th>\n",
       "      <td>7424059</td>\n",
       "      <td>2c8092b69b753cc</td>\n",
       "      <td>2024-07-31</td>\n",
       "      <td>2024-07-31 11:52:57</td>\n",
       "      <td>553512</td>\n",
       "      <td>нет</td>\n",
       "      <td>6</td>\n",
       "      <td>rub</td>\n",
       "      <td>mobile</td>\n",
       "      <td>0.00</td>\n",
       "      <td>Билеты без проблем</td>\n",
       "      <td>4</td>\n",
       "      <td>0.00</td>\n",
       "      <td>0.0</td>\n",
       "    </tr>\n",
       "    <tr>\n",
       "      <th>251068</th>\n",
       "      <td>8077603</td>\n",
       "      <td>d962a8ea254322e</td>\n",
       "      <td>2024-10-26</td>\n",
       "      <td>2024-10-26 16:43:14</td>\n",
       "      <td>367631</td>\n",
       "      <td>нет</td>\n",
       "      <td>18</td>\n",
       "      <td>rub</td>\n",
       "      <td>mobile</td>\n",
       "      <td>83.69</td>\n",
       "      <td>Билеты без проблем</td>\n",
       "      <td>3</td>\n",
       "      <td>2092.14</td>\n",
       "      <td>0.0</td>\n",
       "    </tr>\n",
       "  </tbody>\n",
       "</table>\n",
       "</div>"
      ],
      "text/plain": [
       "        order_id          user_id created_dt_msk       created_ts_msk  \\\n",
       "214337   2934598  b34524f63004132     2024-06-08  2024-06-08 10:47:27   \n",
       "46250    7979003  1c2a2133e1df1b4     2024-09-03  2024-09-03 13:23:23   \n",
       "41586    2767703  18e9aead0a393e7     2024-10-27  2024-10-27 17:30:06   \n",
       "64722    7424059  2c8092b69b753cc     2024-07-31  2024-07-31 11:52:57   \n",
       "251068   8077603  d962a8ea254322e     2024-10-26  2024-10-26 16:43:14   \n",
       "\n",
       "        event_id cinema_circuit  age_limit currency_code  \\\n",
       "214337    501198            нет          0           rub   \n",
       "46250      41089            нет         16           rub   \n",
       "41586     500862            нет         12           rub   \n",
       "64722     553512            нет          6           rub   \n",
       "251068    367631            нет         18           rub   \n",
       "\n",
       "       device_type_canonical  revenue        service_name  tickets_count  \\\n",
       "214337                mobile    35.89       Билеты в руки              3   \n",
       "46250                desktop   254.03         Тебе билет!              4   \n",
       "41586                 mobile   902.74             Облачко              3   \n",
       "64722                 mobile     0.00  Билеты без проблем              4   \n",
       "251068                mobile    83.69  Билеты без проблем              3   \n",
       "\n",
       "          total  days_since_prev  \n",
       "214337   717.75              0.0  \n",
       "46250   2540.28              0.0  \n",
       "41586   8206.70              0.0  \n",
       "64722      0.00              0.0  \n",
       "251068  2092.14              0.0  "
      ]
     },
     "metadata": {},
     "output_type": "display_data"
    },
    {
     "name": "stdout",
     "output_type": "stream",
     "text": [
      "<class 'pandas.core.frame.DataFrame'>\n",
      "RangeIndex: 290849 entries, 0 to 290848\n",
      "Data columns (total 14 columns):\n",
      " #   Column                 Non-Null Count   Dtype  \n",
      "---  ------                 --------------   -----  \n",
      " 0   order_id               290849 non-null  int64  \n",
      " 1   user_id                290849 non-null  object \n",
      " 2   created_dt_msk         290849 non-null  object \n",
      " 3   created_ts_msk         290849 non-null  object \n",
      " 4   event_id               290849 non-null  int64  \n",
      " 5   cinema_circuit         290849 non-null  object \n",
      " 6   age_limit              290849 non-null  int64  \n",
      " 7   currency_code          290849 non-null  object \n",
      " 8   device_type_canonical  290849 non-null  object \n",
      " 9   revenue                290849 non-null  float64\n",
      " 10  service_name           290849 non-null  object \n",
      " 11  tickets_count          290849 non-null  int64  \n",
      " 12  total                  290849 non-null  float64\n",
      " 13  days_since_prev        268909 non-null  float64\n",
      "dtypes: float64(3), int64(4), object(7)\n",
      "memory usage: 31.1+ MB\n"
     ]
    },
    {
     "data": {
      "text/plain": [
       "None"
      ]
     },
     "metadata": {},
     "output_type": "display_data"
    },
    {
     "data": {
      "text/html": [
       "<div>\n",
       "<style scoped>\n",
       "    .dataframe tbody tr th:only-of-type {\n",
       "        vertical-align: middle;\n",
       "    }\n",
       "\n",
       "    .dataframe tbody tr th {\n",
       "        vertical-align: top;\n",
       "    }\n",
       "\n",
       "    .dataframe thead th {\n",
       "        text-align: right;\n",
       "    }\n",
       "</style>\n",
       "<table border=\"1\" class=\"dataframe\">\n",
       "  <thead>\n",
       "    <tr style=\"text-align: right;\">\n",
       "      <th></th>\n",
       "      <th>event_id</th>\n",
       "      <th>event_name</th>\n",
       "      <th>event_type_description</th>\n",
       "      <th>event_type_main</th>\n",
       "      <th>organizers</th>\n",
       "      <th>region_name</th>\n",
       "      <th>city_name</th>\n",
       "      <th>city_id</th>\n",
       "      <th>venue_id</th>\n",
       "      <th>venue_name</th>\n",
       "      <th>venue_address</th>\n",
       "    </tr>\n",
       "  </thead>\n",
       "  <tbody>\n",
       "    <tr>\n",
       "      <th>691</th>\n",
       "      <td>32291</td>\n",
       "      <td>b38f0ff8-8445-4877-80ce-3c6a3b278b20</td>\n",
       "      <td>опера</td>\n",
       "      <td>театр</td>\n",
       "      <td>№5051</td>\n",
       "      <td>Светополянский округ</td>\n",
       "      <td>Глиноград</td>\n",
       "      <td>54</td>\n",
       "      <td>4174</td>\n",
       "      <td>Творческое объединение \"Rebel\" Лтд</td>\n",
       "      <td>ул. Приозерная, д. 4</td>\n",
       "    </tr>\n",
       "    <tr>\n",
       "      <th>5477</th>\n",
       "      <td>354651</td>\n",
       "      <td>20165b73-7202-48df-a5e3-fd8cd1a70554</td>\n",
       "      <td>спектакль</td>\n",
       "      <td>театр</td>\n",
       "      <td>№5028</td>\n",
       "      <td>Каменевский регион</td>\n",
       "      <td>Глиногорск</td>\n",
       "      <td>213</td>\n",
       "      <td>2704</td>\n",
       "      <td>Летний фестиваль \"Симфония\" Лтд</td>\n",
       "      <td>бул. Боровой, д. 8/1 стр. 43</td>\n",
       "    </tr>\n",
       "    <tr>\n",
       "      <th>8024</th>\n",
       "      <td>454057</td>\n",
       "      <td>9313228f-6bbc-4f50-a5b8-d744dafd48dd</td>\n",
       "      <td>событие</td>\n",
       "      <td>выставки</td>\n",
       "      <td>№1796</td>\n",
       "      <td>Широковская область</td>\n",
       "      <td>Радужнополье</td>\n",
       "      <td>35</td>\n",
       "      <td>3123</td>\n",
       "      <td>Музей истории \"Mission\" Лимитед</td>\n",
       "      <td>пр. Технический, д. 1/5 стр. 8</td>\n",
       "    </tr>\n",
       "    <tr>\n",
       "      <th>9390</th>\n",
       "      <td>495491</td>\n",
       "      <td>e2452457-196b-4690-b614-3b93c7abde9e</td>\n",
       "      <td>событие</td>\n",
       "      <td>другое</td>\n",
       "      <td>№4510</td>\n",
       "      <td>Каменевский регион</td>\n",
       "      <td>Глиногорск</td>\n",
       "      <td>213</td>\n",
       "      <td>3676</td>\n",
       "      <td>Лаборатория по созданию комиксов \"Успех\" Инк</td>\n",
       "      <td>наб. Строителей, д. 64</td>\n",
       "    </tr>\n",
       "    <tr>\n",
       "      <th>16440</th>\n",
       "      <td>551789</td>\n",
       "      <td>34047c8c-a549-4d2f-b330-ac77e4f55469</td>\n",
       "      <td>спектакль</td>\n",
       "      <td>театр</td>\n",
       "      <td>№3891</td>\n",
       "      <td>Дальнезорский край</td>\n",
       "      <td>Рощино</td>\n",
       "      <td>195</td>\n",
       "      <td>2363</td>\n",
       "      <td>Арт-лаборатория \"Способы\" Инкорпорэйтед</td>\n",
       "      <td>наб. Дружбы, д. 6 стр. 71</td>\n",
       "    </tr>\n",
       "  </tbody>\n",
       "</table>\n",
       "</div>"
      ],
      "text/plain": [
       "       event_id                            event_name event_type_description  \\\n",
       "691       32291  b38f0ff8-8445-4877-80ce-3c6a3b278b20                  опера   \n",
       "5477     354651  20165b73-7202-48df-a5e3-fd8cd1a70554              спектакль   \n",
       "8024     454057  9313228f-6bbc-4f50-a5b8-d744dafd48dd                событие   \n",
       "9390     495491  e2452457-196b-4690-b614-3b93c7abde9e                событие   \n",
       "16440    551789  34047c8c-a549-4d2f-b330-ac77e4f55469              спектакль   \n",
       "\n",
       "      event_type_main organizers           region_name     city_name  city_id  \\\n",
       "691             театр      №5051  Светополянский округ     Глиноград       54   \n",
       "5477            театр      №5028    Каменевский регион    Глиногорск      213   \n",
       "8024         выставки      №1796   Широковская область  Радужнополье       35   \n",
       "9390           другое      №4510    Каменевский регион    Глиногорск      213   \n",
       "16440           театр      №3891    Дальнезорский край        Рощино      195   \n",
       "\n",
       "       venue_id                                    venue_name  \\\n",
       "691        4174            Творческое объединение \"Rebel\" Лтд   \n",
       "5477       2704               Летний фестиваль \"Симфония\" Лтд   \n",
       "8024       3123               Музей истории \"Mission\" Лимитед   \n",
       "9390       3676  Лаборатория по созданию комиксов \"Успех\" Инк   \n",
       "16440      2363       Арт-лаборатория \"Способы\" Инкорпорэйтед   \n",
       "\n",
       "                        venue_address  \n",
       "691              ул. Приозерная, д. 4  \n",
       "5477     бул. Боровой, д. 8/1 стр. 43  \n",
       "8024   пр. Технический, д. 1/5 стр. 8  \n",
       "9390           наб. Строителей, д. 64  \n",
       "16440       наб. Дружбы, д. 6 стр. 71  "
      ]
     },
     "metadata": {},
     "output_type": "display_data"
    },
    {
     "name": "stdout",
     "output_type": "stream",
     "text": [
      "<class 'pandas.core.frame.DataFrame'>\n",
      "RangeIndex: 22427 entries, 0 to 22426\n",
      "Data columns (total 11 columns):\n",
      " #   Column                  Non-Null Count  Dtype \n",
      "---  ------                  --------------  ----- \n",
      " 0   event_id                22427 non-null  int64 \n",
      " 1   event_name              22427 non-null  object\n",
      " 2   event_type_description  22427 non-null  object\n",
      " 3   event_type_main         22427 non-null  object\n",
      " 4   organizers              22427 non-null  object\n",
      " 5   region_name             22427 non-null  object\n",
      " 6   city_name               22427 non-null  object\n",
      " 7   city_id                 22427 non-null  int64 \n",
      " 8   venue_id                22427 non-null  int64 \n",
      " 9   venue_name              22427 non-null  object\n",
      " 10  venue_address           22427 non-null  object\n",
      "dtypes: int64(3), object(8)\n",
      "memory usage: 1.9+ MB\n"
     ]
    },
    {
     "data": {
      "text/plain": [
       "None"
      ]
     },
     "metadata": {},
     "output_type": "display_data"
    },
    {
     "data": {
      "text/html": [
       "<div>\n",
       "<style scoped>\n",
       "    .dataframe tbody tr th:only-of-type {\n",
       "        vertical-align: middle;\n",
       "    }\n",
       "\n",
       "    .dataframe tbody tr th {\n",
       "        vertical-align: top;\n",
       "    }\n",
       "\n",
       "    .dataframe thead th {\n",
       "        text-align: right;\n",
       "    }\n",
       "</style>\n",
       "<table border=\"1\" class=\"dataframe\">\n",
       "  <thead>\n",
       "    <tr style=\"text-align: right;\">\n",
       "      <th></th>\n",
       "      <th>data</th>\n",
       "      <th>nominal</th>\n",
       "      <th>curs</th>\n",
       "      <th>cdx</th>\n",
       "    </tr>\n",
       "  </thead>\n",
       "  <tbody>\n",
       "    <tr>\n",
       "      <th>309</th>\n",
       "      <td>2024-11-14</td>\n",
       "      <td>100</td>\n",
       "      <td>19.8739</td>\n",
       "      <td>kzt</td>\n",
       "    </tr>\n",
       "    <tr>\n",
       "      <th>246</th>\n",
       "      <td>2024-09-12</td>\n",
       "      <td>100</td>\n",
       "      <td>19.1152</td>\n",
       "      <td>kzt</td>\n",
       "    </tr>\n",
       "    <tr>\n",
       "      <th>180</th>\n",
       "      <td>2024-07-08</td>\n",
       "      <td>100</td>\n",
       "      <td>18.5395</td>\n",
       "      <td>kzt</td>\n",
       "    </tr>\n",
       "    <tr>\n",
       "      <th>218</th>\n",
       "      <td>2024-08-15</td>\n",
       "      <td>100</td>\n",
       "      <td>18.7730</td>\n",
       "      <td>kzt</td>\n",
       "    </tr>\n",
       "    <tr>\n",
       "      <th>287</th>\n",
       "      <td>2024-10-23</td>\n",
       "      <td>100</td>\n",
       "      <td>20.0531</td>\n",
       "      <td>kzt</td>\n",
       "    </tr>\n",
       "  </tbody>\n",
       "</table>\n",
       "</div>"
      ],
      "text/plain": [
       "           data  nominal     curs  cdx\n",
       "309  2024-11-14      100  19.8739  kzt\n",
       "246  2024-09-12      100  19.1152  kzt\n",
       "180  2024-07-08      100  18.5395  kzt\n",
       "218  2024-08-15      100  18.7730  kzt\n",
       "287  2024-10-23      100  20.0531  kzt"
      ]
     },
     "metadata": {},
     "output_type": "display_data"
    },
    {
     "name": "stdout",
     "output_type": "stream",
     "text": [
      "<class 'pandas.core.frame.DataFrame'>\n",
      "RangeIndex: 357 entries, 0 to 356\n",
      "Data columns (total 4 columns):\n",
      " #   Column   Non-Null Count  Dtype  \n",
      "---  ------   --------------  -----  \n",
      " 0   data     357 non-null    object \n",
      " 1   nominal  357 non-null    int64  \n",
      " 2   curs     357 non-null    float64\n",
      " 3   cdx      357 non-null    object \n",
      "dtypes: float64(1), int64(1), object(2)\n",
      "memory usage: 11.3+ KB\n"
     ]
    },
    {
     "data": {
      "text/plain": [
       "None"
      ]
     },
     "metadata": {},
     "output_type": "display_data"
    }
   ],
   "source": [
    "# посмотрим, что в таблицах\n",
    "for df in [orders_df, events_df, tenge_df]:\n",
    "    display(df.sample(5))\n",
    "    display(df.info())"
   ]
  },
  {
   "cell_type": "markdown",
   "metadata": {},
   "source": [
    "Загруженные таблицы имеют snake-тип названий столбцов.\n",
    "\n",
    "Таблица `orders_df` содержит 290849 строк, пропуски только в столбце `days_since_prev`, что говорит только об одной покупке (не было предыдущих). Типы данных соответствуют данным, кроме дат - они в формате `object`, нужно привести к формату даты.\n",
    "\n",
    "Таблица `events_df` содержит 22427 строк, пропусков нет, типы данных соответствуют данным.\n",
    "\n",
    "Таблица `tenge_df` содержит 357 строк, пропусков нет, типы данных соответствуют данным, кроме дат - они в формате `object`, нужно привести к формату даты."
   ]
  },
  {
   "cell_type": "code",
   "execution_count": 4,
   "metadata": {},
   "outputs": [],
   "source": [
    "# приведем столбцы с датами к типу дат\n",
    "orders_df['created_dt_msk'] = pd.to_datetime(orders_df['created_dt_msk'])\n",
    "orders_df['created_ts_msk'] = pd.to_datetime(orders_df['created_ts_msk'])\n",
    "tenge_df['data'] = pd.to_datetime(tenge_df['data'])"
   ]
  },
  {
   "cell_type": "markdown",
   "metadata": {},
   "source": [
    "**Промежуточные выводы**\n",
    "- Пропусков в таблицах нет (кроме столбца `days_since_prev` в таблице `orders_df`, но это понятные пропуски).\n",
    "- Типы данных соответствуют содержимому.\n",
    "\n",
    "[к содержанию](#label_00)\n",
    "\n",
    "---\n",
    "\n",
    "\n",
    "<a id=\"label_2\"></a>\n",
    "### 2. Предобработка данных и подготовка их к исследованию.\n",
    "\n",
    "<a id=\"label_2_1\"></a>\n",
    "#### 2.1 Проверка на дубликаты."
   ]
  },
  {
   "cell_type": "code",
   "execution_count": 5,
   "metadata": {},
   "outputs": [
    {
     "name": "stdout",
     "output_type": "stream",
     "text": [
      "В таблице orders_df дубликатов нет\n",
      "В таблице events_df дубликатов нет\n",
      "В таблице tenge_df дубликатов нет\n"
     ]
    }
   ],
   "source": [
    "# проверим данные на явные дубликаты\n",
    "tables_dict = {'orders_df':orders_df, 'events_df':events_df, 'tenge_df':tenge_df}\n",
    "for name, df in tables_dict.items():\n",
    "    dupl = df.duplicated().sum()\n",
    "    if dupl == 0:\n",
    "        print(f'В таблице {name} дубликатов нет')\n",
    "    else: \n",
    "        print(f'В таблице {name} найдено {dupl} дубликатов')"
   ]
  },
  {
   "cell_type": "markdown",
   "metadata": {},
   "source": [
    "Попробуем найти неявные дубликаты. Они могут быть в следующих столбцах:\n",
    "- таблица `orders_df`, столбец `service_name` - могут быть одни названия, но написанные по разному.\n",
    "- таблица `events_df`, столбцы `venue_name` и `venue_address` могут иметь одно название, но разный адрес, или наоборот."
   ]
  },
  {
   "cell_type": "code",
   "execution_count": 6,
   "metadata": {},
   "outputs": [
    {
     "data": {
      "text/plain": [
       "array(['Край билетов', 'Мой билет', 'За билетом!', 'Лови билет!',\n",
       "       'Билеты без проблем', 'Облачко', 'Лучшие билеты', 'Прачечная',\n",
       "       'Быстробилет', 'Дом культуры', 'Весь в билетах', 'Билеты в руки',\n",
       "       'Тебе билет!', 'Show_ticket', 'Городской дом культуры', 'Яблоко',\n",
       "       'Билет по телефону', 'Выступления.ру', 'Росбилет',\n",
       "       'Шоу начинается!', 'Мир касс', 'Восьмёрка', 'Телебилет',\n",
       "       'Crazy ticket!', 'Реестр', 'Быстрый кассир', 'КарандашРУ',\n",
       "       'Радио ticket', 'Дырокол', 'Вперёд!', 'Кино билет', 'Цвет и билет',\n",
       "       'Зе Бест!', 'Тех билет', 'Лимоны', 'Билеты в интернете'],\n",
       "      dtype=object)"
      ]
     },
     "execution_count": 6,
     "metadata": {},
     "output_type": "execute_result"
    }
   ],
   "source": [
    "# выведим уникальные названия билетных операторов\n",
    "orders_df['service_name'].unique()"
   ]
  },
  {
   "cell_type": "markdown",
   "metadata": {},
   "source": [
    "Видим, что в этом столбце нет одинаковых названий, т.е. неявных дубликатов в этом столце нет."
   ]
  },
  {
   "cell_type": "code",
   "execution_count": 7,
   "metadata": {},
   "outputs": [
    {
     "data": {
      "text/plain": [
       "venue_name\n",
       "Арт-объединение \"Сделайка\" Инк                          2\n",
       "Детская художественная школа \"Echo\" Инк                 2\n",
       "Клуб исторических реконструкций \"Палитра\" и партнеры    2\n",
       "Клуб стендап-комедии \"Символ\" Лтд                       2\n",
       "Мастерская графического дизайна \"Успех\" Лтд             2\n",
       "Ремесленный центр \"Лестница\" Лтд                        2\n",
       "Санкт-Петербургский дом культуры \"Пегас\" Лимитед        2\n",
       "Центр традиционной культуры \"Стройка\" Лтд               2\n",
       "Name: venue_address, dtype: int64"
      ]
     },
     "execution_count": 7,
     "metadata": {},
     "output_type": "execute_result"
    }
   ],
   "source": [
    "# сгруппируем таблицу events_df по столбцу venue_name и посчитаем кол-во уникальных адресов\n",
    "events_df.groupby('venue_name').agg({'venue_address':'nunique'}).query('venue_address > 1')['venue_address']"
   ]
  },
  {
   "cell_type": "markdown",
   "metadata": {},
   "source": [
    "Таких организаций 8, у которых есть 2 разных адреса проведения мероприятия. Правильно было бы найти эти организации по интернету и уточнить их реальный адрес, а потом заменить в данных некорректный второй адрес на верный. Но т.к. у нас тут выдуманные организации, мы это сделать не можем. По большому счету, адрес у нас нигде в исследовании не используется, поэтому можно оставить как есть. Заказчику нужно рекомендовать проверить реальные адреса реальных 8 организаций из их данных."
   ]
  },
  {
   "cell_type": "code",
   "execution_count": 8,
   "metadata": {},
   "outputs": [
    {
     "data": {
      "text/plain": [
       "Series([], Name: venue_name, dtype: int64)"
      ]
     },
     "execution_count": 8,
     "metadata": {},
     "output_type": "execute_result"
    }
   ],
   "source": [
    "# проверим теперь, а нет ли 2х и более организаций по одному адресу\n",
    "events_df.groupby('venue_address').agg({'venue_name':'nunique'}).query('venue_name > 1')['venue_name']"
   ]
  },
  {
   "cell_type": "markdown",
   "metadata": {},
   "source": [
    "Таких организаций нет, значит неявных дубликатов организаций с одним адресом нет в данных."
   ]
  },
  {
   "cell_type": "code",
   "execution_count": 9,
   "metadata": {},
   "outputs": [
    {
     "name": "stdout",
     "output_type": "stream",
     "text": [
      "\n",
      "Колонка: age_limit\n",
      "Уникальные значения: [16  0 18 12  6]\n",
      "Пропущенные значения: 0\n",
      "Кол-во значений:\n",
      "16    78579\n",
      "12    62557\n",
      "0     61487\n",
      "6     52173\n",
      "18    36053\n",
      "Name: age_limit, dtype: int64 \n",
      "\n",
      "\n",
      "Колонка: currency_code\n",
      "Уникальные значения: ['rub' 'kzt']\n",
      "Пропущенные значения: 0\n",
      "Кол-во значений:\n",
      "rub    285780\n",
      "kzt      5069\n",
      "Name: currency_code, dtype: int64 \n",
      "\n",
      "\n",
      "Колонка: device_type_canonical\n",
      "Уникальные значения: ['mobile' 'desktop']\n",
      "Пропущенные значения: 0\n",
      "Кол-во значений:\n",
      "mobile     232679\n",
      "desktop     58170\n",
      "Name: device_type_canonical, dtype: int64 \n",
      "\n",
      "\n",
      "Колонка: service_name\n",
      "Уникальные значения: ['Край билетов' 'Мой билет' 'За билетом!' 'Лови билет!'\n",
      " 'Билеты без проблем' 'Облачко' 'Лучшие билеты' 'Прачечная' 'Быстробилет'\n",
      " 'Дом культуры' 'Весь в билетах' 'Билеты в руки' 'Тебе билет!'\n",
      " 'Show_ticket' 'Городской дом культуры' 'Яблоко' 'Билет по телефону'\n",
      " 'Выступления.ру' 'Росбилет' 'Шоу начинается!' 'Мир касс' 'Восьмёрка'\n",
      " 'Телебилет' 'Crazy ticket!' 'Реестр' 'Быстрый кассир' 'КарандашРУ'\n",
      " 'Радио ticket' 'Дырокол' 'Вперёд!' 'Кино билет' 'Цвет и билет' 'Зе Бест!'\n",
      " 'Тех билет' 'Лимоны' 'Билеты в интернете']\n",
      "Пропущенные значения: 0\n",
      "Кол-во значений:\n",
      "Билеты без проблем        63709\n",
      "Лови билет!               41126\n",
      "Билеты в руки             40364\n",
      "Мой билет                 34843\n",
      "Облачко                   26642\n",
      "Лучшие билеты             17795\n",
      "Весь в билетах            16849\n",
      "Прачечная                 10273\n",
      "Край билетов               6207\n",
      "Тебе билет!                5228\n",
      "Яблоко                     5039\n",
      "Дом культуры               4502\n",
      "За билетом!                2865\n",
      "Городской дом культуры     2733\n",
      "Show_ticket                2200\n",
      "Мир касс                   2167\n",
      "Быстробилет                2003\n",
      "Выступления.ру             1616\n",
      "Восьмёрка                  1118\n",
      "Crazy ticket!               790\n",
      "Росбилет                    539\n",
      "Шоу начинается!             499\n",
      "Быстрый кассир              381\n",
      "Радио ticket                376\n",
      "Телебилет                   321\n",
      "КарандашРУ                  133\n",
      "Реестр                      125\n",
      "Билет по телефону            85\n",
      "Вперёд!                      80\n",
      "Дырокол                      74\n",
      "Кино билет                   67\n",
      "Цвет и билет                 61\n",
      "Тех билет                    22\n",
      "Лимоны                        8\n",
      "Зе Бест!                      5\n",
      "Билеты в интернете            4\n",
      "Name: service_name, dtype: int64 \n",
      "\n"
     ]
    }
   ],
   "source": [
    "# проанализируем категориальные колонки\n",
    "for column in ['age_limit', 'currency_code', 'device_type_canonical', 'service_name']:\n",
    "    print(f\"\\nКолонка: {column}\")\n",
    "    print(\"Уникальные значения:\", orders_df[column].unique())\n",
    "    print(\"Пропущенные значения:\", orders_df[column].isna().sum())\n",
    "    print(\"Кол-во значений:\")\n",
    "    print(orders_df[column].value_counts(dropna=False), \"\\n\")"
   ]
  },
  {
   "cell_type": "markdown",
   "metadata": {},
   "source": [
    "Аномалий в этих колонках нет, следующие колнки имеют небольшое кол-во значений:\n",
    "- `age_limit` - 5\n",
    "- `currency_code`- 2\n",
    "- `device_type_canonical` - 2\n",
    "\n",
    "[к содержанию](#label_00)\n",
    "\n",
    "---\n",
    "\n",
    "<a id=\"label_2_2\"></a>\n",
    "#### 2.2 Объединение таблиц.\n",
    "\n",
    "Объединим все 3 таблицы в одну."
   ]
  },
  {
   "cell_type": "code",
   "execution_count": 10,
   "metadata": {
    "scrolled": true
   },
   "outputs": [
    {
     "data": {
      "text/html": [
       "<div>\n",
       "<style scoped>\n",
       "    .dataframe tbody tr th:only-of-type {\n",
       "        vertical-align: middle;\n",
       "    }\n",
       "\n",
       "    .dataframe tbody tr th {\n",
       "        vertical-align: top;\n",
       "    }\n",
       "\n",
       "    .dataframe thead th {\n",
       "        text-align: right;\n",
       "    }\n",
       "</style>\n",
       "<table border=\"1\" class=\"dataframe\">\n",
       "  <thead>\n",
       "    <tr style=\"text-align: right;\">\n",
       "      <th></th>\n",
       "      <th>order_id</th>\n",
       "      <th>user_id</th>\n",
       "      <th>created_dt_msk</th>\n",
       "      <th>created_ts_msk</th>\n",
       "      <th>event_id</th>\n",
       "      <th>cinema_circuit</th>\n",
       "      <th>age_limit</th>\n",
       "      <th>currency_code</th>\n",
       "      <th>device_type_canonical</th>\n",
       "      <th>revenue</th>\n",
       "      <th>...</th>\n",
       "      <th>region_name</th>\n",
       "      <th>city_name</th>\n",
       "      <th>city_id</th>\n",
       "      <th>venue_id</th>\n",
       "      <th>venue_name</th>\n",
       "      <th>venue_address</th>\n",
       "      <th>data</th>\n",
       "      <th>nominal</th>\n",
       "      <th>curs</th>\n",
       "      <th>cdx</th>\n",
       "    </tr>\n",
       "  </thead>\n",
       "  <tbody>\n",
       "    <tr>\n",
       "      <th>174795</th>\n",
       "      <td>8351189</td>\n",
       "      <td>8d974a49ae0cd5b</td>\n",
       "      <td>2024-09-05</td>\n",
       "      <td>2024-09-05 21:59:29</td>\n",
       "      <td>541746</td>\n",
       "      <td>нет</td>\n",
       "      <td>16</td>\n",
       "      <td>rub</td>\n",
       "      <td>mobile</td>\n",
       "      <td>80.82</td>\n",
       "      <td>...</td>\n",
       "      <td>Крутоводская область</td>\n",
       "      <td>Никольянов</td>\n",
       "      <td>191.0</td>\n",
       "      <td>4368.0</td>\n",
       "      <td>Сообщество художников \"Сказка\" Лимитед</td>\n",
       "      <td>пр. Никитина, д. 3 к. 183</td>\n",
       "      <td>2024-09-05</td>\n",
       "      <td>100</td>\n",
       "      <td>18.4217</td>\n",
       "      <td>kzt</td>\n",
       "    </tr>\n",
       "    <tr>\n",
       "      <th>142604</th>\n",
       "      <td>2583060</td>\n",
       "      <td>75a1435d305cbe9</td>\n",
       "      <td>2024-08-05</td>\n",
       "      <td>2024-08-05 17:59:37</td>\n",
       "      <td>201459</td>\n",
       "      <td>нет</td>\n",
       "      <td>16</td>\n",
       "      <td>rub</td>\n",
       "      <td>mobile</td>\n",
       "      <td>77.97</td>\n",
       "      <td>...</td>\n",
       "      <td>Светополянский округ</td>\n",
       "      <td>Глиноград</td>\n",
       "      <td>54.0</td>\n",
       "      <td>4443.0</td>\n",
       "      <td>Центр культурного наследия \"Объединение\" и пар...</td>\n",
       "      <td>бул. Карбышева, д. 50</td>\n",
       "      <td>2024-08-05</td>\n",
       "      <td>100</td>\n",
       "      <td>18.0536</td>\n",
       "      <td>kzt</td>\n",
       "    </tr>\n",
       "    <tr>\n",
       "      <th>141033</th>\n",
       "      <td>2846003</td>\n",
       "      <td>72fd90994d5e8e0</td>\n",
       "      <td>2024-10-17</td>\n",
       "      <td>2024-10-17 18:02:29</td>\n",
       "      <td>426989</td>\n",
       "      <td>нет</td>\n",
       "      <td>6</td>\n",
       "      <td>rub</td>\n",
       "      <td>mobile</td>\n",
       "      <td>187.05</td>\n",
       "      <td>...</td>\n",
       "      <td>Речиновская область</td>\n",
       "      <td>Дальнесветск</td>\n",
       "      <td>65.0</td>\n",
       "      <td>3254.0</td>\n",
       "      <td>Академия прикладного искусства \"Эссенция\" и па...</td>\n",
       "      <td>ш. Новгородское, д. 23 стр. 7/2</td>\n",
       "      <td>2024-10-17</td>\n",
       "      <td>100</td>\n",
       "      <td>19.9534</td>\n",
       "      <td>kzt</td>\n",
       "    </tr>\n",
       "    <tr>\n",
       "      <th>259707</th>\n",
       "      <td>1032459</td>\n",
       "      <td>e2c6cc9956748c8</td>\n",
       "      <td>2024-08-25</td>\n",
       "      <td>2024-08-25 17:35:15</td>\n",
       "      <td>515996</td>\n",
       "      <td>нет</td>\n",
       "      <td>0</td>\n",
       "      <td>rub</td>\n",
       "      <td>mobile</td>\n",
       "      <td>42.25</td>\n",
       "      <td>...</td>\n",
       "      <td>Речиновская область</td>\n",
       "      <td>Дальнесветск</td>\n",
       "      <td>65.0</td>\n",
       "      <td>3381.0</td>\n",
       "      <td>Народный театр \"Ритм\" Инк</td>\n",
       "      <td>ш. Угловое, д. 252 к. 2/4</td>\n",
       "      <td>2024-08-25</td>\n",
       "      <td>100</td>\n",
       "      <td>19.1202</td>\n",
       "      <td>kzt</td>\n",
       "    </tr>\n",
       "    <tr>\n",
       "      <th>155125</th>\n",
       "      <td>1386259</td>\n",
       "      <td>7eb4fc207ecc10f</td>\n",
       "      <td>2024-09-26</td>\n",
       "      <td>2024-09-26 12:49:58</td>\n",
       "      <td>566580</td>\n",
       "      <td>нет</td>\n",
       "      <td>16</td>\n",
       "      <td>rub</td>\n",
       "      <td>mobile</td>\n",
       "      <td>364.28</td>\n",
       "      <td>...</td>\n",
       "      <td>Малиновоярский округ</td>\n",
       "      <td>Верховино</td>\n",
       "      <td>197.0</td>\n",
       "      <td>3324.0</td>\n",
       "      <td>Школа музыкального театра \"Фантазия\" Групп</td>\n",
       "      <td>алл. Литейная, д. 311</td>\n",
       "      <td>2024-09-26</td>\n",
       "      <td>100</td>\n",
       "      <td>19.2591</td>\n",
       "      <td>kzt</td>\n",
       "    </tr>\n",
       "  </tbody>\n",
       "</table>\n",
       "<p>5 rows × 28 columns</p>\n",
       "</div>"
      ],
      "text/plain": [
       "        order_id          user_id created_dt_msk      created_ts_msk  \\\n",
       "174795   8351189  8d974a49ae0cd5b     2024-09-05 2024-09-05 21:59:29   \n",
       "142604   2583060  75a1435d305cbe9     2024-08-05 2024-08-05 17:59:37   \n",
       "141033   2846003  72fd90994d5e8e0     2024-10-17 2024-10-17 18:02:29   \n",
       "259707   1032459  e2c6cc9956748c8     2024-08-25 2024-08-25 17:35:15   \n",
       "155125   1386259  7eb4fc207ecc10f     2024-09-26 2024-09-26 12:49:58   \n",
       "\n",
       "        event_id cinema_circuit  age_limit currency_code  \\\n",
       "174795    541746            нет         16           rub   \n",
       "142604    201459            нет         16           rub   \n",
       "141033    426989            нет          6           rub   \n",
       "259707    515996            нет          0           rub   \n",
       "155125    566580            нет         16           rub   \n",
       "\n",
       "       device_type_canonical  revenue  ...           region_name  \\\n",
       "174795                mobile    80.82  ...  Крутоводская область   \n",
       "142604                mobile    77.97  ...  Светополянский округ   \n",
       "141033                mobile   187.05  ...   Речиновская область   \n",
       "259707                mobile    42.25  ...   Речиновская область   \n",
       "155125                mobile   364.28  ...  Малиновоярский округ   \n",
       "\n",
       "           city_name  city_id  venue_id  \\\n",
       "174795    Никольянов    191.0    4368.0   \n",
       "142604     Глиноград     54.0    4443.0   \n",
       "141033  Дальнесветск     65.0    3254.0   \n",
       "259707  Дальнесветск     65.0    3381.0   \n",
       "155125     Верховино    197.0    3324.0   \n",
       "\n",
       "                                               venue_name  \\\n",
       "174795             Сообщество художников \"Сказка\" Лимитед   \n",
       "142604  Центр культурного наследия \"Объединение\" и пар...   \n",
       "141033  Академия прикладного искусства \"Эссенция\" и па...   \n",
       "259707                          Народный театр \"Ритм\" Инк   \n",
       "155125         Школа музыкального театра \"Фантазия\" Групп   \n",
       "\n",
       "                          venue_address       data nominal     curs  cdx  \n",
       "174795        пр. Никитина, д. 3 к. 183 2024-09-05     100  18.4217  kzt  \n",
       "142604            бул. Карбышева, д. 50 2024-08-05     100  18.0536  kzt  \n",
       "141033  ш. Новгородское, д. 23 стр. 7/2 2024-10-17     100  19.9534  kzt  \n",
       "259707        ш. Угловое, д. 252 к. 2/4 2024-08-25     100  19.1202  kzt  \n",
       "155125            алл. Литейная, д. 311 2024-09-26     100  19.2591  kzt  \n",
       "\n",
       "[5 rows x 28 columns]"
      ]
     },
     "execution_count": 10,
     "metadata": {},
     "output_type": "execute_result"
    }
   ],
   "source": [
    "df = orders_df.merge(events_df, on='event_id', how='left').merge(tenge_df, left_on='created_dt_msk', right_on='data', how='left')\n",
    "df.sample(5)"
   ]
  },
  {
   "cell_type": "code",
   "execution_count": 11,
   "metadata": {},
   "outputs": [
    {
     "name": "stdout",
     "output_type": "stream",
     "text": [
      "<class 'pandas.core.frame.DataFrame'>\n",
      "Int64Index: 290849 entries, 0 to 290848\n",
      "Data columns (total 28 columns):\n",
      " #   Column                  Non-Null Count   Dtype         \n",
      "---  ------                  --------------   -----         \n",
      " 0   order_id                290849 non-null  int64         \n",
      " 1   user_id                 290849 non-null  object        \n",
      " 2   created_dt_msk          290849 non-null  datetime64[ns]\n",
      " 3   created_ts_msk          290849 non-null  datetime64[ns]\n",
      " 4   event_id                290849 non-null  int64         \n",
      " 5   cinema_circuit          290849 non-null  object        \n",
      " 6   age_limit               290849 non-null  int64         \n",
      " 7   currency_code           290849 non-null  object        \n",
      " 8   device_type_canonical   290849 non-null  object        \n",
      " 9   revenue                 290849 non-null  float64       \n",
      " 10  service_name            290849 non-null  object        \n",
      " 11  tickets_count           290849 non-null  int64         \n",
      " 12  total                   290849 non-null  float64       \n",
      " 13  days_since_prev         268909 non-null  float64       \n",
      " 14  event_name              290611 non-null  object        \n",
      " 15  event_type_description  290611 non-null  object        \n",
      " 16  event_type_main         290611 non-null  object        \n",
      " 17  organizers              290611 non-null  object        \n",
      " 18  region_name             290611 non-null  object        \n",
      " 19  city_name               290611 non-null  object        \n",
      " 20  city_id                 290611 non-null  float64       \n",
      " 21  venue_id                290611 non-null  float64       \n",
      " 22  venue_name              290611 non-null  object        \n",
      " 23  venue_address           290611 non-null  object        \n",
      " 24  data                    290849 non-null  datetime64[ns]\n",
      " 25  nominal                 290849 non-null  int64         \n",
      " 26  curs                    290849 non-null  float64       \n",
      " 27  cdx                     290849 non-null  object        \n",
      "dtypes: datetime64[ns](3), float64(6), int64(5), object(14)\n",
      "memory usage: 64.4+ MB\n"
     ]
    }
   ],
   "source": [
    "df.info()"
   ]
  },
  {
   "cell_type": "markdown",
   "metadata": {},
   "source": [
    "Видим, что в новой таблице есть пропуски при присоединении таблицы events_df. Посчитаем их."
   ]
  },
  {
   "cell_type": "code",
   "execution_count": 12,
   "metadata": {},
   "outputs": [
    {
     "data": {
      "text/html": [
       "<style  type=\"text/css\" >\n",
       "#T_4e242_row0_col0,#T_4e242_row0_col1{\n",
       "            background-color:  #00441b;\n",
       "            color:  #f1f1f1;\n",
       "        }#T_4e242_row1_col0,#T_4e242_row1_col1,#T_4e242_row2_col0,#T_4e242_row2_col1,#T_4e242_row3_col0,#T_4e242_row3_col1,#T_4e242_row4_col0,#T_4e242_row4_col1,#T_4e242_row5_col0,#T_4e242_row5_col1,#T_4e242_row6_col0,#T_4e242_row6_col1,#T_4e242_row7_col0,#T_4e242_row7_col1,#T_4e242_row8_col0,#T_4e242_row8_col1,#T_4e242_row9_col0,#T_4e242_row9_col1,#T_4e242_row10_col0,#T_4e242_row10_col1{\n",
       "            background-color:  #f7fcf5;\n",
       "            color:  #000000;\n",
       "        }</style><table id=\"T_4e242_\" ><thead>    <tr>        <th class=\"blank level0\" ></th>        <th class=\"col_heading level0 col0\" >Кол-во пропусков</th>        <th class=\"col_heading level0 col1\" >Доля пропусков</th>    </tr></thead><tbody>\n",
       "                <tr>\n",
       "                        <th id=\"T_4e242_level0_row0\" class=\"row_heading level0 row0\" >days_since_prev</th>\n",
       "                        <td id=\"T_4e242_row0_col0\" class=\"data row0 col0\" >21940</td>\n",
       "                        <td id=\"T_4e242_row0_col1\" class=\"data row0 col1\" >0.075400</td>\n",
       "            </tr>\n",
       "            <tr>\n",
       "                        <th id=\"T_4e242_level0_row1\" class=\"row_heading level0 row1\" >event_name</th>\n",
       "                        <td id=\"T_4e242_row1_col0\" class=\"data row1 col0\" >238</td>\n",
       "                        <td id=\"T_4e242_row1_col1\" class=\"data row1 col1\" >0.000800</td>\n",
       "            </tr>\n",
       "            <tr>\n",
       "                        <th id=\"T_4e242_level0_row2\" class=\"row_heading level0 row2\" >event_type_description</th>\n",
       "                        <td id=\"T_4e242_row2_col0\" class=\"data row2 col0\" >238</td>\n",
       "                        <td id=\"T_4e242_row2_col1\" class=\"data row2 col1\" >0.000800</td>\n",
       "            </tr>\n",
       "            <tr>\n",
       "                        <th id=\"T_4e242_level0_row3\" class=\"row_heading level0 row3\" >event_type_main</th>\n",
       "                        <td id=\"T_4e242_row3_col0\" class=\"data row3 col0\" >238</td>\n",
       "                        <td id=\"T_4e242_row3_col1\" class=\"data row3 col1\" >0.000800</td>\n",
       "            </tr>\n",
       "            <tr>\n",
       "                        <th id=\"T_4e242_level0_row4\" class=\"row_heading level0 row4\" >organizers</th>\n",
       "                        <td id=\"T_4e242_row4_col0\" class=\"data row4 col0\" >238</td>\n",
       "                        <td id=\"T_4e242_row4_col1\" class=\"data row4 col1\" >0.000800</td>\n",
       "            </tr>\n",
       "            <tr>\n",
       "                        <th id=\"T_4e242_level0_row5\" class=\"row_heading level0 row5\" >region_name</th>\n",
       "                        <td id=\"T_4e242_row5_col0\" class=\"data row5 col0\" >238</td>\n",
       "                        <td id=\"T_4e242_row5_col1\" class=\"data row5 col1\" >0.000800</td>\n",
       "            </tr>\n",
       "            <tr>\n",
       "                        <th id=\"T_4e242_level0_row6\" class=\"row_heading level0 row6\" >city_name</th>\n",
       "                        <td id=\"T_4e242_row6_col0\" class=\"data row6 col0\" >238</td>\n",
       "                        <td id=\"T_4e242_row6_col1\" class=\"data row6 col1\" >0.000800</td>\n",
       "            </tr>\n",
       "            <tr>\n",
       "                        <th id=\"T_4e242_level0_row7\" class=\"row_heading level0 row7\" >city_id</th>\n",
       "                        <td id=\"T_4e242_row7_col0\" class=\"data row7 col0\" >238</td>\n",
       "                        <td id=\"T_4e242_row7_col1\" class=\"data row7 col1\" >0.000800</td>\n",
       "            </tr>\n",
       "            <tr>\n",
       "                        <th id=\"T_4e242_level0_row8\" class=\"row_heading level0 row8\" >venue_id</th>\n",
       "                        <td id=\"T_4e242_row8_col0\" class=\"data row8 col0\" >238</td>\n",
       "                        <td id=\"T_4e242_row8_col1\" class=\"data row8 col1\" >0.000800</td>\n",
       "            </tr>\n",
       "            <tr>\n",
       "                        <th id=\"T_4e242_level0_row9\" class=\"row_heading level0 row9\" >venue_name</th>\n",
       "                        <td id=\"T_4e242_row9_col0\" class=\"data row9 col0\" >238</td>\n",
       "                        <td id=\"T_4e242_row9_col1\" class=\"data row9 col1\" >0.000800</td>\n",
       "            </tr>\n",
       "            <tr>\n",
       "                        <th id=\"T_4e242_level0_row10\" class=\"row_heading level0 row10\" >venue_address</th>\n",
       "                        <td id=\"T_4e242_row10_col0\" class=\"data row10 col0\" >238</td>\n",
       "                        <td id=\"T_4e242_row10_col1\" class=\"data row10 col1\" >0.000800</td>\n",
       "            </tr>\n",
       "    </tbody></table>"
      ],
      "text/plain": [
       "<pandas.io.formats.style.Styler at 0x7fd36817fe50>"
      ]
     },
     "execution_count": 12,
     "metadata": {},
     "output_type": "execute_result"
    }
   ],
   "source": [
    "tmp = df.copy()            # Делаем копию текущего датасета\n",
    "missing_stats = pd.DataFrame({'Кол-во пропусков': tmp.isnull().sum(),\n",
    "                               'Доля пропусков': tmp.isnull().mean().round(4)})\n",
    "missing_stats = missing_stats[missing_stats['Кол-во пропусков'] > 0]\n",
    "missing_stats.style.background_gradient(cmap='Greens') if not missing_stats.empty else \"Пропусков в данных нет\""
   ]
  },
  {
   "cell_type": "markdown",
   "metadata": {},
   "source": [
    "Получилось по 238 пропусков во всех 10 столбцах из таблицы `events_df`. Это говорит о том, что в таблице `orders_df` есть 238 `event_id`, которых нет в присоединенной таблице. Доля этих событий менее 1%, их можно удалить."
   ]
  },
  {
   "cell_type": "code",
   "execution_count": 13,
   "metadata": {
    "scrolled": true
   },
   "outputs": [
    {
     "name": "stdout",
     "output_type": "stream",
     "text": [
      "<class 'pandas.core.frame.DataFrame'>\n",
      "Int64Index: 290611 entries, 0 to 290848\n",
      "Data columns (total 28 columns):\n",
      " #   Column                  Non-Null Count   Dtype         \n",
      "---  ------                  --------------   -----         \n",
      " 0   order_id                290611 non-null  int64         \n",
      " 1   user_id                 290611 non-null  object        \n",
      " 2   created_dt_msk          290611 non-null  datetime64[ns]\n",
      " 3   created_ts_msk          290611 non-null  datetime64[ns]\n",
      " 4   event_id                290611 non-null  int64         \n",
      " 5   cinema_circuit          290611 non-null  object        \n",
      " 6   age_limit               290611 non-null  int64         \n",
      " 7   currency_code           290611 non-null  object        \n",
      " 8   device_type_canonical   290611 non-null  object        \n",
      " 9   revenue                 290611 non-null  float64       \n",
      " 10  service_name            290611 non-null  object        \n",
      " 11  tickets_count           290611 non-null  int64         \n",
      " 12  total                   290611 non-null  float64       \n",
      " 13  days_since_prev         268698 non-null  float64       \n",
      " 14  event_name              290611 non-null  object        \n",
      " 15  event_type_description  290611 non-null  object        \n",
      " 16  event_type_main         290611 non-null  object        \n",
      " 17  organizers              290611 non-null  object        \n",
      " 18  region_name             290611 non-null  object        \n",
      " 19  city_name               290611 non-null  object        \n",
      " 20  city_id                 290611 non-null  float64       \n",
      " 21  venue_id                290611 non-null  float64       \n",
      " 22  venue_name              290611 non-null  object        \n",
      " 23  venue_address           290611 non-null  object        \n",
      " 24  data                    290611 non-null  datetime64[ns]\n",
      " 25  nominal                 290611 non-null  int64         \n",
      " 26  curs                    290611 non-null  float64       \n",
      " 27  cdx                     290611 non-null  object        \n",
      "dtypes: datetime64[ns](3), float64(6), int64(5), object(14)\n",
      "memory usage: 64.3+ MB\n"
     ]
    }
   ],
   "source": [
    "# составим список столбцов, по которым будем удалять пропуски\n",
    "cols = events_df.columns.difference(['event_id']).to_list()\n",
    "# удаляем строки с пустыми значениями в этих столбцах\n",
    "df = df.dropna(subset=cols)\n",
    "df.info()"
   ]
  },
  {
   "cell_type": "markdown",
   "metadata": {},
   "source": [
    "В итоговой таблице осталось 290611 строк и 28 столбцов.\n",
    "\n",
    "[к содержанию](#label_00)\n",
    "\n",
    "---\n",
    "\n",
    "<a id=\"label_2_3\"></a>\n",
    "#### 2.3 Преобразование типов данных.\n",
    "\n",
    "Столбцы с датой мы привели к типу даты еще до объединения таблиц. Преобразуем численные столбцы для снижения их размерности."
   ]
  },
  {
   "cell_type": "code",
   "execution_count": 14,
   "metadata": {
    "scrolled": true
   },
   "outputs": [
    {
     "name": "stdout",
     "output_type": "stream",
     "text": [
      "<class 'pandas.core.frame.DataFrame'>\n",
      "Int64Index: 290611 entries, 0 to 290848\n",
      "Data columns (total 28 columns):\n",
      " #   Column                  Non-Null Count   Dtype         \n",
      "---  ------                  --------------   -----         \n",
      " 0   order_id                290611 non-null  int32         \n",
      " 1   user_id                 290611 non-null  object        \n",
      " 2   created_dt_msk          290611 non-null  datetime64[ns]\n",
      " 3   created_ts_msk          290611 non-null  datetime64[ns]\n",
      " 4   event_id                290611 non-null  int32         \n",
      " 5   cinema_circuit          290611 non-null  object        \n",
      " 6   age_limit               290611 non-null  int8          \n",
      " 7   currency_code           290611 non-null  object        \n",
      " 8   device_type_canonical   290611 non-null  object        \n",
      " 9   revenue                 290611 non-null  float32       \n",
      " 10  service_name            290611 non-null  object        \n",
      " 11  tickets_count           290611 non-null  int8          \n",
      " 12  total                   290611 non-null  float32       \n",
      " 13  days_since_prev         268698 non-null  float32       \n",
      " 14  event_name              290611 non-null  object        \n",
      " 15  event_type_description  290611 non-null  object        \n",
      " 16  event_type_main         290611 non-null  object        \n",
      " 17  organizers              290611 non-null  object        \n",
      " 18  region_name             290611 non-null  object        \n",
      " 19  city_name               290611 non-null  object        \n",
      " 20  city_id                 290611 non-null  float32       \n",
      " 21  venue_id                290611 non-null  float32       \n",
      " 22  venue_name              290611 non-null  object        \n",
      " 23  venue_address           290611 non-null  object        \n",
      " 24  data                    290611 non-null  datetime64[ns]\n",
      " 25  nominal                 290611 non-null  int8          \n",
      " 26  curs                    290611 non-null  float32       \n",
      " 27  cdx                     290611 non-null  object        \n",
      "dtypes: datetime64[ns](3), float32(6), int32(2), int8(3), object(14)\n",
      "memory usage: 49.6+ MB\n"
     ]
    }
   ],
   "source": [
    "# выбирем столбцы с типами float и int\n",
    "float_cols = df.select_dtypes(include=['float']).columns\n",
    "int_cols = df.select_dtypes(include=['int']).columns\n",
    "\n",
    "# понизим их размерность\n",
    "df.loc[:, float_cols] = df.loc[:, float_cols].apply(pd.to_numeric, downcast='float')\n",
    "df.loc[:, int_cols] = df.loc[:, int_cols].apply(pd.to_numeric, downcast='integer')\n",
    "df.info()"
   ]
  },
  {
   "cell_type": "markdown",
   "metadata": {},
   "source": [
    "[к содержанию](#label_00)\n",
    "\n",
    "---\n",
    "\n",
    "<a id=\"label_2_4\"></a>\n",
    "#### 2.4 Изучяем значения в ключевых столбцах.\n",
    "\n",
    "**Количественные данные**\n",
    "\n",
    "Главная метрика для сервиса - выручка. Посмотрим, как распределены ее статистики."
   ]
  },
  {
   "cell_type": "code",
   "execution_count": 15,
   "metadata": {},
   "outputs": [
    {
     "data": {
      "text/plain": [
       "count    285542.000000\n",
       "mean        548.013916\n",
       "std         871.750183\n",
       "min         -90.760002\n",
       "1%            0.000000\n",
       "25%         114.169998\n",
       "50%         346.630005\n",
       "75%         793.320007\n",
       "99%        2570.800049\n",
       "max       81174.539062\n",
       "Name: revenue, dtype: float64"
      ]
     },
     "execution_count": 15,
     "metadata": {},
     "output_type": "execute_result"
    }
   ],
   "source": [
    "# посмотрим распределение выручки по рублям\n",
    "df[df['currency_code'] == 'rub']['revenue'].describe(percentiles=[0.01, 0.25, 0.5, 0.75, 0.99])"
   ]
  },
  {
   "cell_type": "markdown",
   "metadata": {},
   "source": [
    "Видим, что есть отрицательные значения, а также очень большой максимум, хотя до 99% процентиля цифры вполне приемлимые. Из-за большого максимума среднее сильно сдвинуто в право от медианы, и стандартное отклонение в 2 раза больше среднего значения. Нужно будтет отфильтровать данные в рублях по 99% процентилю. Отрицательные значения - это, скорее всего, возвраты, их убирать не стоит, т.к. это тоже выручка, хоть и отрицательная."
   ]
  },
  {
   "cell_type": "code",
   "execution_count": 16,
   "metadata": {},
   "outputs": [
    {
     "data": {
      "text/plain": [
       "count     5069.000000\n",
       "mean      4995.207031\n",
       "std       4916.752930\n",
       "min          0.000000\n",
       "1%          90.269997\n",
       "25%        518.099976\n",
       "50%       3698.830078\n",
       "75%       7397.660156\n",
       "99%      17617.240234\n",
       "max      26425.859375\n",
       "Name: revenue, dtype: float64"
      ]
     },
     "execution_count": 16,
     "metadata": {},
     "output_type": "execute_result"
    }
   ],
   "source": [
    "# посмотрим распределение выручки по тенге\n",
    "df[df['currency_code'] == 'kzt']['revenue'].describe(percentiles=[0.01, 0.25, 0.5, 0.75, 0.99])"
   ]
  },
  {
   "cell_type": "markdown",
   "metadata": {},
   "source": [
    "Здесь тоже видим выбросы после 99%. \n",
    "\n",
    "Отфильтруем данные по 99%."
   ]
  },
  {
   "cell_type": "code",
   "execution_count": 17,
   "metadata": {},
   "outputs": [],
   "source": [
    "# вычисляем 99-й процентиль по каждой валюте\n",
    "percentiles = df.groupby('currency_code')['revenue'].quantile(0.99).to_dict()\n",
    "\n",
    "# пишем функцию для фильтрации строки по соответствующему порогу\n",
    "def filter_by_percentile(row):\n",
    "    return row['revenue'] <= percentiles[row['currency_code']]\n",
    "\n",
    "# применяем фильтрацию\n",
    "filtered_df = df[df.apply(filter_by_percentile, axis=1)]"
   ]
  },
  {
   "cell_type": "code",
   "execution_count": 18,
   "metadata": {},
   "outputs": [
    {
     "data": {
      "text/plain": [
       "count    287782.000000\n",
       "mean          2.740217\n",
       "std           1.162477\n",
       "min           1.000000\n",
       "10%           1.000000\n",
       "25%           2.000000\n",
       "50%           3.000000\n",
       "75%           3.000000\n",
       "99%           6.000000\n",
       "max          57.000000\n",
       "Name: tickets_count, dtype: float64"
      ]
     },
     "execution_count": 18,
     "metadata": {},
     "output_type": "execute_result"
    }
   ],
   "source": [
    "# посмотрим распределение статистик по столбцу с кол-вом билетов\n",
    "filtered_df['tickets_count'].describe(percentiles=[0.1,0.25,0.5,0.75,0.99])"
   ]
  },
  {
   "cell_type": "code",
   "execution_count": 19,
   "metadata": {},
   "outputs": [
    {
     "name": "stdout",
     "output_type": "stream",
     "text": [
      "Фильтрация по 99% процентилю по выручке и кол-ву билетов удалила 3009 строк (1.035%)\n",
      "В отфильтрованной таблице осталось 287602 строк.\n"
     ]
    }
   ],
   "source": [
    "# отфильтруем данные и по этому столцу по 99% процентилю\n",
    "filtered_df = filtered_df[filtered_df['tickets_count'] <= filtered_df['tickets_count'].quantile(0.99)]\n",
    "\n",
    "# посмотрим, сколько строк мы потеряли строк после двух фильтраций\n",
    "diff = len(df) - len(filtered_df)\n",
    "share = round(diff * 100 / len(df), 3)\n",
    "print(f'Фильтрация по 99% процентилю по выручке и кол-ву билетов удалила {diff} строк ({share}%)')\n",
    "print(f'В отфильтрованной таблице осталось {filtered_df.shape[0]} строк.')"
   ]
  },
  {
   "cell_type": "markdown",
   "metadata": {},
   "source": [
    "**Категориальные данные**\n",
    "\n",
    "Из категорий, предствленных в данных, нас интересуют следующие:\n",
    "- тип мероприятия `event_type_main`\n",
    "- тип устройства `device_type_canonical`\n",
    "- возростной рейтинг `age_limit`\n",
    "- регионы `region_name`\n",
    "- партнеры `service_name`\n",
    "\n",
    "Изучим распределения этих категорий."
   ]
  },
  {
   "cell_type": "code",
   "execution_count": 20,
   "metadata": {},
   "outputs": [
    {
     "name": "stdout",
     "output_type": "stream",
     "text": [
      "В столбце event_type_main содержится:\n",
      "           count  proportion\n",
      "концерты  115276    0.396668\n",
      "театр      67321    0.231653\n",
      "другое     65867    0.226650\n",
      "спорт      21911    0.075396\n",
      "стендап    13393    0.046086\n",
      "выставки    4854    0.016703\n",
      "ёлки        1989    0.006844\n",
      "\n",
      "----------------------------------------\n",
      "\n",
      "В столбце device_type_canonical содержится:\n",
      "          count  proportion\n",
      "mobile   232490    0.800004\n",
      "desktop   58121    0.199996\n",
      "\n",
      "----------------------------------------\n",
      "\n",
      "В столбце age_limit содержится:\n",
      "    count  proportion\n",
      "16  78556    0.270313\n",
      "12  62474    0.214975\n",
      "0   61487    0.211578\n",
      "6   52161    0.179487\n",
      "18  35933    0.123646\n",
      "\n",
      "----------------------------------------\n",
      "\n",
      "В столбце region_name содержится:\n",
      "                          count  proportion\n",
      "Каменевский регион        91058    0.313333\n",
      "Североярская область      44049    0.151574\n",
      "Широковская область       16457    0.056629\n",
      "Медовская область         13901    0.047834\n",
      "Озернинский край          10476    0.036048\n",
      "...                         ...         ...\n",
      "Лесноярский край             19    0.000065\n",
      "Крутоводский регион          18    0.000062\n",
      "Верхозёрский край            11    0.000038\n",
      "Сосноводолинская область     10    0.000034\n",
      "Теплоозёрский округ           7    0.000024\n",
      "\n",
      "[81 rows x 2 columns]\n",
      "\n",
      "----------------------------------------\n",
      "\n",
      "В столбце service_name содержится:\n",
      "                        count  proportion\n",
      "Билеты без проблем      63519    0.218571\n",
      "Лови билет!             41124    0.141509\n",
      "Билеты в руки           40343    0.138821\n",
      "Мой билет               34839    0.119882\n",
      "Облачко                 26642    0.091676\n",
      "Лучшие билеты           17774    0.061161\n",
      "Весь в билетах          16849    0.057978\n",
      "Прачечная               10273    0.035350\n",
      "Край билетов             6207    0.021358\n",
      "Тебе билет!              5228    0.017990\n",
      "Яблоко                   5039    0.017339\n",
      "Дом культуры             4502    0.015491\n",
      "За билетом!              2865    0.009859\n",
      "Городской дом культуры   2733    0.009404\n",
      "Show_ticket              2200    0.007570\n",
      "Мир касс                 2167    0.007457\n",
      "Быстробилет              2003    0.006892\n",
      "Выступления.ру           1616    0.005561\n",
      "Восьмёрка                1118    0.003847\n",
      "Crazy ticket!             790    0.002718\n",
      "Росбилет                  539    0.001855\n",
      "Шоу начинается!           499    0.001717\n",
      "Быстрый кассир            381    0.001311\n",
      "Радио ticket              376    0.001294\n",
      "Телебилет                 321    0.001105\n",
      "КарандашРУ                133    0.000458\n",
      "Реестр                    125    0.000430\n",
      "Билет по телефону          85    0.000292\n",
      "Вперёд!                    80    0.000275\n",
      "Дырокол                    74    0.000255\n",
      "Кино билет                 67    0.000231\n",
      "Цвет и билет               61    0.000210\n",
      "Тех билет                  22    0.000076\n",
      "Лимоны                      8    0.000028\n",
      "Зе Бест!                    5    0.000017\n",
      "Билеты в интернете          4    0.000014\n",
      "\n",
      "----------------------------------------\n",
      "\n"
     ]
    }
   ],
   "source": [
    "# создаем список категорийных столбцов\n",
    "cols = ['event_type_main', 'device_type_canonical', 'age_limit', 'region_name', 'service_name']\n",
    "\n",
    "# выводим на экран информацию о кол-ве уникальнх значений и их доле\n",
    "for col in cols:\n",
    "    vc = df[col].value_counts()\n",
    "    vc_norm = df[col].value_counts(normalize=True)\n",
    "    result = pd.concat([vc, vc_norm], axis=1)\n",
    "    result.columns = ['count', 'proportion']\n",
    "    print(f\"В столбце {col} содержится:\")\n",
    "    print(result)\n",
    "    print(\"\\n\" + \"-\"*40 + \"\\n\")"
   ]
  },
  {
   "cell_type": "markdown",
   "metadata": {},
   "source": [
    "В колонке тип мероприятия есть значение `другое`, которое явно говорит об отстутствии данных, таких значений достаточно много - 65867 (23%). В остальных колонках нет значений, означающих отсутствие данных.\n",
    "\n",
    "[к содержанию](#label_00)\n",
    "\n",
    "---\n",
    "\n",
    "<a id=\"label_2_5\"></a>\n",
    "#### 2.5 Добавляем столбцы.\n",
    "\n",
    "Добавим следующие столбцы:\n",
    "- `revenue_rub` — приведем выручку с заказа к единой валюте — российскому рублю. \n",
    "- `one_ticket_revenue_rub` — выручка с продажи одного билета на мероприятие.\n",
    "- `month` — месяц оформления заказа.\n",
    "- `season` — столбец сезонности с двумя значениями 'лето', 'осень' (т.к. у нас данные только за 3 месяца лета и 2 месяца осени)."
   ]
  },
  {
   "cell_type": "code",
   "execution_count": 21,
   "metadata": {},
   "outputs": [],
   "source": [
    "# добавляем столбец с ещиной валютой - рублем\n",
    "filtered_df['revenue_rub'] = filtered_df.apply(\n",
    "    lambda row: row['revenue'] if row['currency_code'] == 'rub'\n",
    "    else row['revenue'] * row['curs'] / 100,\n",
    "    axis=1)"
   ]
  },
  {
   "cell_type": "code",
   "execution_count": 22,
   "metadata": {},
   "outputs": [],
   "source": [
    "# добавляем столбец с выручкой за один билет\n",
    "filtered_df['one_ticket_revenue_rub'] = filtered_df['revenue_rub'] / filtered_df['tickets_count']"
   ]
  },
  {
   "cell_type": "code",
   "execution_count": 23,
   "metadata": {},
   "outputs": [],
   "source": [
    "# добавляем столбец с месяцем продажи\n",
    "filtered_df['month'] = filtered_df['created_dt_msk'].dt.month"
   ]
  },
  {
   "cell_type": "code",
   "execution_count": 24,
   "metadata": {},
   "outputs": [],
   "source": [
    "# добавим столбец с сезонами\n",
    "filtered_df['season'] = filtered_df.apply(\n",
    "    lambda row: 'лето' if row['created_dt_msk'].month in (6,7,8)\n",
    "    else 'осень', axis=1)"
   ]
  },
  {
   "cell_type": "code",
   "execution_count": 25,
   "metadata": {
    "scrolled": true
   },
   "outputs": [
    {
     "data": {
      "text/html": [
       "<div>\n",
       "<style scoped>\n",
       "    .dataframe tbody tr th:only-of-type {\n",
       "        vertical-align: middle;\n",
       "    }\n",
       "\n",
       "    .dataframe tbody tr th {\n",
       "        vertical-align: top;\n",
       "    }\n",
       "\n",
       "    .dataframe thead th {\n",
       "        text-align: right;\n",
       "    }\n",
       "</style>\n",
       "<table border=\"1\" class=\"dataframe\">\n",
       "  <thead>\n",
       "    <tr style=\"text-align: right;\">\n",
       "      <th></th>\n",
       "      <th>order_id</th>\n",
       "      <th>user_id</th>\n",
       "      <th>created_dt_msk</th>\n",
       "      <th>created_ts_msk</th>\n",
       "      <th>event_id</th>\n",
       "      <th>cinema_circuit</th>\n",
       "      <th>age_limit</th>\n",
       "      <th>currency_code</th>\n",
       "      <th>device_type_canonical</th>\n",
       "      <th>revenue</th>\n",
       "      <th>...</th>\n",
       "      <th>venue_name</th>\n",
       "      <th>venue_address</th>\n",
       "      <th>data</th>\n",
       "      <th>nominal</th>\n",
       "      <th>curs</th>\n",
       "      <th>cdx</th>\n",
       "      <th>revenue_rub</th>\n",
       "      <th>one_ticket_revenue_rub</th>\n",
       "      <th>month</th>\n",
       "      <th>season</th>\n",
       "    </tr>\n",
       "  </thead>\n",
       "  <tbody>\n",
       "    <tr>\n",
       "      <th>155706</th>\n",
       "      <td>6926651</td>\n",
       "      <td>7eb4fc207ecc10f</td>\n",
       "      <td>2024-10-11</td>\n",
       "      <td>2024-10-11 11:24:07</td>\n",
       "      <td>480334</td>\n",
       "      <td>нет</td>\n",
       "      <td>12</td>\n",
       "      <td>rub</td>\n",
       "      <td>mobile</td>\n",
       "      <td>1935.260010</td>\n",
       "      <td>...</td>\n",
       "      <td>Сольный концерт \"Дюн\" Групп</td>\n",
       "      <td>бул. Запрудный, д. 69</td>\n",
       "      <td>2024-10-11</td>\n",
       "      <td>100</td>\n",
       "      <td>19.882900</td>\n",
       "      <td>kzt</td>\n",
       "      <td>1935.260010</td>\n",
       "      <td>322.543335</td>\n",
       "      <td>10</td>\n",
       "      <td>осень</td>\n",
       "    </tr>\n",
       "    <tr>\n",
       "      <th>49799</th>\n",
       "      <td>7791634</td>\n",
       "      <td>1e3795ecb8bb655</td>\n",
       "      <td>2024-08-30</td>\n",
       "      <td>2024-08-30 12:37:05</td>\n",
       "      <td>528568</td>\n",
       "      <td>нет</td>\n",
       "      <td>18</td>\n",
       "      <td>rub</td>\n",
       "      <td>mobile</td>\n",
       "      <td>210.490005</td>\n",
       "      <td>...</td>\n",
       "      <td>Совет искусства \"Шар\" и партнеры</td>\n",
       "      <td>наб. Монтажников, д. 5/5 стр. 7/5</td>\n",
       "      <td>2024-08-30</td>\n",
       "      <td>100</td>\n",
       "      <td>19.004801</td>\n",
       "      <td>kzt</td>\n",
       "      <td>210.490005</td>\n",
       "      <td>52.622501</td>\n",
       "      <td>8</td>\n",
       "      <td>лето</td>\n",
       "    </tr>\n",
       "    <tr>\n",
       "      <th>211479</th>\n",
       "      <td>853790</td>\n",
       "      <td>b0a277f3bf8213f</td>\n",
       "      <td>2024-08-19</td>\n",
       "      <td>2024-08-19 13:25:10</td>\n",
       "      <td>128591</td>\n",
       "      <td>нет</td>\n",
       "      <td>12</td>\n",
       "      <td>rub</td>\n",
       "      <td>desktop</td>\n",
       "      <td>237.539993</td>\n",
       "      <td>...</td>\n",
       "      <td>Цирковая студия \"Солнце\" и партнеры</td>\n",
       "      <td>алл. Тупиковая, д. 29</td>\n",
       "      <td>2024-08-19</td>\n",
       "      <td>100</td>\n",
       "      <td>18.577499</td>\n",
       "      <td>kzt</td>\n",
       "      <td>237.539993</td>\n",
       "      <td>237.539993</td>\n",
       "      <td>8</td>\n",
       "      <td>лето</td>\n",
       "    </tr>\n",
       "    <tr>\n",
       "      <th>213244</th>\n",
       "      <td>3962677</td>\n",
       "      <td>b17c4d278b4fa46</td>\n",
       "      <td>2024-10-17</td>\n",
       "      <td>2024-10-17 17:43:47</td>\n",
       "      <td>456603</td>\n",
       "      <td>нет</td>\n",
       "      <td>0</td>\n",
       "      <td>rub</td>\n",
       "      <td>desktop</td>\n",
       "      <td>580.210022</td>\n",
       "      <td>...</td>\n",
       "      <td>Центр культурного наследия \"Заряд\" и партнеры</td>\n",
       "      <td>ш. Пугачева, д. 9/7 к. 39</td>\n",
       "      <td>2024-10-17</td>\n",
       "      <td>100</td>\n",
       "      <td>19.953400</td>\n",
       "      <td>kzt</td>\n",
       "      <td>580.210022</td>\n",
       "      <td>193.403341</td>\n",
       "      <td>10</td>\n",
       "      <td>осень</td>\n",
       "    </tr>\n",
       "    <tr>\n",
       "      <th>276232</th>\n",
       "      <td>4306588</td>\n",
       "      <td>f312ae2133408be</td>\n",
       "      <td>2024-09-19</td>\n",
       "      <td>2024-09-19 22:50:21</td>\n",
       "      <td>145511</td>\n",
       "      <td>нет</td>\n",
       "      <td>18</td>\n",
       "      <td>rub</td>\n",
       "      <td>mobile</td>\n",
       "      <td>293.049988</td>\n",
       "      <td>...</td>\n",
       "      <td>Клуб китаристов \"Canvas\" и партнеры</td>\n",
       "      <td>наб. Песочная, д. 8</td>\n",
       "      <td>2024-09-19</td>\n",
       "      <td>100</td>\n",
       "      <td>19.073099</td>\n",
       "      <td>kzt</td>\n",
       "      <td>293.049988</td>\n",
       "      <td>293.049988</td>\n",
       "      <td>9</td>\n",
       "      <td>осень</td>\n",
       "    </tr>\n",
       "  </tbody>\n",
       "</table>\n",
       "<p>5 rows × 32 columns</p>\n",
       "</div>"
      ],
      "text/plain": [
       "        order_id          user_id created_dt_msk      created_ts_msk  \\\n",
       "155706   6926651  7eb4fc207ecc10f     2024-10-11 2024-10-11 11:24:07   \n",
       "49799    7791634  1e3795ecb8bb655     2024-08-30 2024-08-30 12:37:05   \n",
       "211479    853790  b0a277f3bf8213f     2024-08-19 2024-08-19 13:25:10   \n",
       "213244   3962677  b17c4d278b4fa46     2024-10-17 2024-10-17 17:43:47   \n",
       "276232   4306588  f312ae2133408be     2024-09-19 2024-09-19 22:50:21   \n",
       "\n",
       "        event_id cinema_circuit  age_limit currency_code  \\\n",
       "155706    480334            нет         12           rub   \n",
       "49799     528568            нет         18           rub   \n",
       "211479    128591            нет         12           rub   \n",
       "213244    456603            нет          0           rub   \n",
       "276232    145511            нет         18           rub   \n",
       "\n",
       "       device_type_canonical      revenue  ...  \\\n",
       "155706                mobile  1935.260010  ...   \n",
       "49799                 mobile   210.490005  ...   \n",
       "211479               desktop   237.539993  ...   \n",
       "213244               desktop   580.210022  ...   \n",
       "276232                mobile   293.049988  ...   \n",
       "\n",
       "                                           venue_name  \\\n",
       "155706                    Сольный концерт \"Дюн\" Групп   \n",
       "49799                Совет искусства \"Шар\" и партнеры   \n",
       "211479            Цирковая студия \"Солнце\" и партнеры   \n",
       "213244  Центр культурного наследия \"Заряд\" и партнеры   \n",
       "276232            Клуб китаристов \"Canvas\" и партнеры   \n",
       "\n",
       "                            venue_address       data  nominal       curs  cdx  \\\n",
       "155706              бул. Запрудный, д. 69 2024-10-11      100  19.882900  kzt   \n",
       "49799   наб. Монтажников, д. 5/5 стр. 7/5 2024-08-30      100  19.004801  kzt   \n",
       "211479              алл. Тупиковая, д. 29 2024-08-19      100  18.577499  kzt   \n",
       "213244          ш. Пугачева, д. 9/7 к. 39 2024-10-17      100  19.953400  kzt   \n",
       "276232                наб. Песочная, д. 8 2024-09-19      100  19.073099  kzt   \n",
       "\n",
       "        revenue_rub one_ticket_revenue_rub month season  \n",
       "155706  1935.260010             322.543335    10  осень  \n",
       "49799    210.490005              52.622501     8   лето  \n",
       "211479   237.539993             237.539993     8   лето  \n",
       "213244   580.210022             193.403341    10  осень  \n",
       "276232   293.049988             293.049988     9  осень  \n",
       "\n",
       "[5 rows x 32 columns]"
      ]
     },
     "metadata": {},
     "output_type": "display_data"
    },
    {
     "data": {
      "text/plain": [
       "(287602, 32)"
      ]
     },
     "metadata": {},
     "output_type": "display_data"
    }
   ],
   "source": [
    "# посмотрим, что получилось\n",
    "display(filtered_df.sample(5))\n",
    "display(filtered_df.shape)"
   ]
  },
  {
   "cell_type": "markdown",
   "metadata": {},
   "source": [
    "**Промежуточные итоги**\n",
    "\n",
    "Были загружены три таблицы:\n",
    "- `order_df` - таблица с заказами и выручкой\n",
    "- `event_df` - таблица с событиями, городами и регионами\n",
    "- `tenge_df` - таблица с курсом казахской тенге\n",
    "\n",
    "В загруженных таблицах пропуски были только в таблице с заказами в столбце с кол-вом дней между заказами (там где один заказ в этом столбце пропуск, что очевидно). Явных и неявных дубликатов в этих таблицах не обнаружено.\n",
    "\n",
    "Потом эти таблицы были объединены в одну. При соединении появилось 238 пропусков в столбцах из таблицы `event_df`. Их удалили.\n",
    "\n",
    "В объединенной таблице были исследованы числовые столбцы. В ходе исследования были обнаружены выбросы в столбцах с выручкой и кол-вом билетов. Данные были отфильтрованы по 99% процентиль, чтобы убрать выбросы. \n",
    "\n",
    "Итоговый размер отфильтрованной таблицы составляет 287602 строк и 32 столбца.\n",
    "\n",
    "Типы данных были приведены к соответствующим и понижены в размерности.\n",
    "\n",
    "Были добавлены 4 новых столбца:\n",
    "- `revenue_rub` — привели выручку с заказа к единой валюте — российскому рублю.\n",
    "- `one_ticket_revenue_rub` — выручка с продажи одного билета на мероприятие.\n",
    "- `month` — месяц оформления заказа.\n",
    "- `season` — столбец сезонности с двумя значениями 'лето', 'осень' (т.к. у нас данные только за 3 месяца лета и 2 месяца осени).\n",
    "\n",
    "[к содержанию](#label_00)\n",
    "\n",
    "---\n",
    "\n",
    "<a id=\"label_3\"></a>\n",
    "### 3. Исследовательский анализ данных\n",
    "\n",
    "#### 3.1. Анализ распределения заказов по сегментам и их сезонные изменения.\n",
    "\n",
    "Анализ дашборда показал, что в данных наблюдается сезонность — осенью количество заказов увеличивается. На стадии исследовательского анализа изучим изменение пользовательской активности или пользовательского интереса в связи с сезонностью.\n",
    "\n",
    "Проанализируем динамику по таким разрезам:\n",
    "- тип мероприятия event_type_main;\n",
    "- тип устройства device_type_canonical;\n",
    "- категория мероприятий по возрастному рейтингу age_limit."
   ]
  },
  {
   "cell_type": "code",
   "execution_count": 26,
   "metadata": {},
   "outputs": [
    {
     "data": {
      "text/plain": [
       "<Figure size 720x360 with 0 Axes>"
      ]
     },
     "metadata": {},
     "output_type": "display_data"
    },
    {
     "data": {
      "image/png": "[encoded data removed]",
      "text/plain": [
       "<Figure size 432x288 with 1 Axes>"
      ]
     },
     "metadata": {
      "needs_background": "light"
     },
     "output_type": "display_data"
    }
   ],
   "source": [
    "# посмотрим динамику заказов по месяцам\n",
    "month_orders = filtered_df.groupby('month').agg(orders_cnt=('order_id', 'count')).reset_index()\n",
    "\n",
    "# строим график\n",
    "plt.figure(figsize=(10,5))\n",
    "month_orders.plot(x='month', y='orders_cnt', legend=False, marker='o', color='teal')\n",
    "plt.title('Кол-во заказов по месяцам')\n",
    "plt.xlabel('Месяцы')\n",
    "plt.ylabel('Кол-во')\n",
    "plt.xticks(month_orders['month'])\n",
    "plt.show()"
   ]
  },
  {
   "cell_type": "markdown",
   "metadata": {},
   "source": [
    "Видим рост кол-ва заказов с июня и по октябрь вулючительно с ускорением после августа."
   ]
  },
  {
   "cell_type": "code",
   "execution_count": 27,
   "metadata": {},
   "outputs": [],
   "source": [
    "# посмотрим распределение заказов летом и осенью по типу мероприятия\n",
    "summer_events = filtered_df[filtered_df['season'] == 'лето'].groupby('event_type_main').agg(orders_cnt=\n",
    "                                        ('order_id', 'count')).reset_index().sort_values('orders_cnt', ascending=False)\n",
    "autumn_events = filtered_df[filtered_df['season'] == 'осень'].groupby('event_type_main').agg(orders_cnt=\n",
    "                                        ('order_id', 'count')).reset_index().sort_values('orders_cnt', ascending=False)"
   ]
  },
  {
   "cell_type": "code",
   "execution_count": 28,
   "metadata": {},
   "outputs": [
    {
     "data": {
      "image/png": "[encoded data removed]",
      "text/plain": [
       "<Figure size 1008x360 with 2 Axes>"
      ]
     },
     "metadata": {
      "needs_background": "light"
     },
     "output_type": "display_data"
    }
   ],
   "source": [
    "# построим графики\n",
    "fig, axes = plt.subplots(1,2, figsize=(14,5), sharey=True)\n",
    "\n",
    "summer_events.plot.bar(x='event_type_main', y='orders_cnt', ax=axes[0], color='teal', legend=False)\n",
    "axes[0].set_title(\"Летнее распределение заказов по типу мероприятия\")\n",
    "axes[0].set_xlabel('Тип мероприятия')\n",
    "axes[0].set_ylabel('Кол-во заказов')\n",
    "axes[0].tick_params(axis='x', rotation=45)\n",
    "axes[0].grid()\n",
    "\n",
    "autumn_events.plot.bar(x='event_type_main', y='orders_cnt', ax=axes[1], color='#d95f02', legend=False)\n",
    "axes[1].set_title(\"Осеннее распределение заказов по типу мероприятия\")\n",
    "axes[1].set_xlabel('Тип мероприятия')\n",
    "axes[1].set_ylabel('Кол-во заказов')\n",
    "axes[1].tick_params(axis='x', rotation=45)\n",
    "axes[1].grid()\n",
    "\n",
    "plt.show()"
   ]
  },
  {
   "cell_type": "markdown",
   "metadata": {},
   "source": [
    "Видим, что осенью кол-во заказов по типам мероприятий выше, чем летом. Лидирует категория Концерты. Театр вышел на второе место, подвинув Другое, а Спорт подвинул Стендап с 4го места."
   ]
  },
  {
   "cell_type": "code",
   "execution_count": 29,
   "metadata": {},
   "outputs": [],
   "source": [
    "# добавим столбцы с долей в группировки по лету и осени\n",
    "summer_events['event_type_share'] = summer_events['orders_cnt'] / summer_events['orders_cnt'].sum()\n",
    "autumn_events['event_type_share'] = autumn_events['orders_cnt'] / autumn_events['orders_cnt'].sum()"
   ]
  },
  {
   "cell_type": "code",
   "execution_count": 30,
   "metadata": {},
   "outputs": [
    {
     "data": {
      "image/png": "[encoded data removed]",
      "text/plain": [
       "<Figure size 1008x360 with 2 Axes>"
      ]
     },
     "metadata": {
      "needs_background": "light"
     },
     "output_type": "display_data"
    }
   ],
   "source": [
    "# построим эти же графики, но в долях\n",
    "fig, axes = plt.subplots(1,2, figsize=(14,5), sharey=True)\n",
    "\n",
    "summer_events.plot.bar(x='event_type_main', y='event_type_share', ax=axes[0], color='teal', legend=False)\n",
    "axes[0].set_title(\"Летнее распределение заказов по типу мероприятия\")\n",
    "axes[0].set_xlabel('Тип мероприятия')\n",
    "axes[0].set_ylabel('Доля заказов')\n",
    "axes[0].tick_params(axis='x', rotation=45)\n",
    "axes[0].grid()\n",
    "\n",
    "autumn_events.plot.bar(x='event_type_main', y='event_type_share', ax=axes[1], color='#d95f02', legend=False)\n",
    "axes[1].set_title(\"Осеннее распределение заказов по типу мероприятия\")\n",
    "axes[1].set_xlabel('Тип мероприятия')\n",
    "axes[1].set_ylabel('Доля заказов')\n",
    "axes[1].tick_params(axis='x', rotation=45)\n",
    "axes[1].grid()\n"
   ]
  },
  {
   "cell_type": "markdown",
   "metadata": {},
   "source": [
    "Видим, что доля заказов на концерты снизилась осенью по сравнению с летом, но эта категория по прежнему в лидерах, а доля билетов в театры и на спорт - выросла."
   ]
  },
  {
   "cell_type": "code",
   "execution_count": 31,
   "metadata": {},
   "outputs": [],
   "source": [
    "# посмотрим распределение заказов летом и осенью по типу мероприятия\n",
    "summer_device = filtered_df[filtered_df['season'] == 'лето'].groupby('device_type_canonical').agg(orders_cnt=\n",
    "                                        ('order_id', 'count')).reset_index().sort_values('orders_cnt', ascending=False)\n",
    "autumn_device = filtered_df[filtered_df['season'] == 'осень'].groupby('device_type_canonical').agg(orders_cnt=\n",
    "                                        ('order_id', 'count')).reset_index().sort_values('orders_cnt', ascending=False)\n",
    "# добавим столбцы с долей заказов в категории от общего кол-ва заказов\n",
    "summer_device['device_share'] = summer_device['orders_cnt'] / summer_device['orders_cnt'].sum()\n",
    "autumn_device['device_share'] = autumn_device['orders_cnt'] / autumn_device['orders_cnt'].sum()"
   ]
  },
  {
   "cell_type": "code",
   "execution_count": 32,
   "metadata": {},
   "outputs": [
    {
     "data": {
      "image/png": "[encoded data removed]",
      "text/plain": [
       "<Figure size 1008x360 with 4 Axes>"
      ]
     },
     "metadata": {
      "needs_background": "light"
     },
     "output_type": "display_data"
    }
   ],
   "source": [
    "# строим графики\n",
    "fig, axes = plt.subplots(2,2, figsize=(14,5), sharey='row', sharex=True)\n",
    "\n",
    "summer_device.plot.bar(x='device_type_canonical', y='orders_cnt', ax=axes[0, 0], color='teal', legend=False)\n",
    "axes[0,0].set_title(\"Летнее распределение заказов по типу устройства\")\n",
    "axes[0,0].set_ylabel('Кол-во заказов')\n",
    "axes[0,0].grid()\n",
    "\n",
    "autumn_device.plot.bar(x='device_type_canonical', y='orders_cnt', ax=axes[0,1], color='#d95f02', legend=False)\n",
    "axes[0,1].set_title(\"Осеннее распределение заказов по типу устройства\")\n",
    "axes[0,1].grid()\n",
    "\n",
    "summer_device.plot.bar(x='device_type_canonical', y='device_share', ax=axes[1, 0], color='teal', legend=False)\n",
    "axes[1,0].set_title(\"Доля заказов летом по типу устройства\")\n",
    "axes[1,0].set_xlabel('Тип устройства')\n",
    "axes[1,0].set_ylabel('Доля заказов')\n",
    "axes[1,0].tick_params(axis='x', rotation=0)\n",
    "axes[1,0].grid()\n",
    "\n",
    "autumn_device.plot.bar(x='device_type_canonical', y='device_share', ax=axes[1,1], color='#d95f02', legend=False)\n",
    "axes[1,1].set_title(\"Доля заказов осенью по типу устройства\")\n",
    "axes[1,1].set_xlabel('Тип устройства')\n",
    "axes[1,1].tick_params(axis='x', rotation=0)\n",
    "axes[1,1].grid()\n",
    "\n",
    "fig.subplots_adjust(hspace=0.4)\n",
    "plt.show()"
   ]
  },
  {
   "cell_type": "markdown",
   "metadata": {},
   "source": [
    "Видим, что доли заказов летом и осенью по типу устройства одинаковые, а вот абсолютные значения осенью выросли."
   ]
  },
  {
   "cell_type": "code",
   "execution_count": 33,
   "metadata": {},
   "outputs": [],
   "source": [
    "# посмотрим распределение заказов летом и осенью по возрастному рейтингу\n",
    "summer_age = filtered_df[filtered_df['season'] == 'лето'].groupby('age_limit').agg(orders_cnt=\n",
    "                                        ('order_id', 'count')).reset_index().sort_values('age_limit')\n",
    "autumn_age = filtered_df[filtered_df['season'] == 'осень'].groupby('age_limit').agg(orders_cnt=\n",
    "                                        ('order_id', 'count')).reset_index().sort_values('age_limit')\n",
    "# добавим столбцы с долей заказов в категории от общего кол-ва заказов\n",
    "summer_age['age_share'] = summer_age['orders_cnt'] / summer_age['orders_cnt'].sum()\n",
    "autumn_age['age_share'] = autumn_age['orders_cnt'] / autumn_age['orders_cnt'].sum()"
   ]
  },
  {
   "cell_type": "code",
   "execution_count": 34,
   "metadata": {},
   "outputs": [
    {
     "data": {
      "image/png": "[encoded data removed]",
      "text/plain": [
       "<Figure size 1008x360 with 4 Axes>"
      ]
     },
     "metadata": {
      "needs_background": "light"
     },
     "output_type": "display_data"
    }
   ],
   "source": [
    "# строим графики\n",
    "fig, axes = plt.subplots(2,2, figsize=(14,5), sharey='row', sharex=True)\n",
    "\n",
    "summer_age.plot.bar(x='age_limit', y='orders_cnt', ax=axes[0, 0], color='teal', legend=False)\n",
    "axes[0,0].set_title(\"Летнее распределение заказов по возрастному рейтингу\")\n",
    "axes[0,0].set_ylabel('Кол-во заказов')\n",
    "axes[0,0].grid()\n",
    "\n",
    "autumn_age.plot.bar(x='age_limit', y='orders_cnt', ax=axes[0,1], color='#d95f02', legend=False)\n",
    "axes[0,1].set_title(\"Осеннее распределение заказов по возрастному рейтингу\")\n",
    "axes[0,1].grid()\n",
    "\n",
    "summer_age.plot.bar(x='age_limit', y='age_share', ax=axes[1, 0], color='teal', legend=False)\n",
    "axes[1,0].set_title(\"Доля заказов летом по возрастному рейтингу\")\n",
    "axes[1,0].set_xlabel('Возростной рейтинг')\n",
    "axes[1,0].set_ylabel('Доля заказов')\n",
    "axes[1,0].tick_params(axis='x', rotation=0)\n",
    "axes[1,0].grid()\n",
    "\n",
    "autumn_age.plot.bar(x='age_limit', y='age_share', ax=axes[1,1], color='#d95f02', legend=False)\n",
    "axes[1,1].set_title(\"Доля заказов осенью по возрастному рейтингу\")\n",
    "axes[1,1].set_xlabel('Возростной рейтинг')\n",
    "axes[1,1].tick_params(axis='x', rotation=0)\n",
    "axes[1,1].grid()\n",
    "\n",
    "fig.subplots_adjust(hspace=0.4)\n",
    "plt.show()"
   ]
  },
  {
   "cell_type": "markdown",
   "metadata": {},
   "source": [
    "Видим, что в абсолютных значениях осенью выросли заказы по всем возрастным рейтингам, кроме 18+. В долях 6+ осталось почти неизменной, выросли доли 0 и 12+, снизились доли 16+ и 18+.\n",
    "\n",
    "Посмотрим, как менялась выручка с одного билета по месяцам."
   ]
  },
  {
   "cell_type": "code",
   "execution_count": 35,
   "metadata": {},
   "outputs": [
    {
     "data": {
      "text/plain": [
       "<Figure size 720x360 with 0 Axes>"
      ]
     },
     "metadata": {},
     "output_type": "display_data"
    },
    {
     "data": {
      "image/png": "[encoded data removed]",
      "text/plain": [
       "<Figure size 432x288 with 1 Axes>"
      ]
     },
     "metadata": {
      "needs_background": "light"
     },
     "output_type": "display_data"
    }
   ],
   "source": [
    "# сгруппируем по месяцу и посчитаем среднюю выручку с одного билета\n",
    "ticket_month = filtered_df.groupby('month').agg(avg_ticket_renevue=('one_ticket_revenue_rub', 'mean')).reset_index()\n",
    "\n",
    "# строим график\n",
    "plt.figure(figsize=(10,5))\n",
    "ticket_month.plot(x='month', y='avg_ticket_renevue', legend=False, marker='o', color='teal')\n",
    "plt.title('Средняя выручка с одного билета по месяцам')\n",
    "plt.xlabel('Месяцы')\n",
    "plt.ylabel('Средняя выручка с одного билета')\n",
    "plt.xticks(ticket_month['month'])\n",
    "plt.show()"
   ]
  },
  {
   "cell_type": "markdown",
   "metadata": {},
   "source": [
    "Видим, что средняя выручка с одного билета стабильно снижалась все лето и сентябрь, и только в октябре есть небольшой отскок (но не сравнимый с уровнем снижения).\n",
    "\n",
    "Посмотрим ту же динамику, но уже по типам мероприятий."
   ]
  },
  {
   "cell_type": "code",
   "execution_count": 36,
   "metadata": {},
   "outputs": [
    {
     "data": {
      "image/png": "[encoded data removed]",
      "text/plain": [
       "<Figure size 720x432 with 1 Axes>"
      ]
     },
     "metadata": {
      "needs_background": "light"
     },
     "output_type": "display_data"
    }
   ],
   "source": [
    "# сгруппируем по месяцу и по типу мероприятий и посчитаем среднюю выручку с одного билета\n",
    "ticket_event_m = filtered_df.groupby(['event_type_main', 'month']).agg(avg_ticket_renevue=('one_ticket_revenue_rub', \n",
    "                                                                                           'mean')).reset_index()\n",
    "# сделем сводную таблицу\n",
    "pivot = ticket_event_m.pivot(index='month', columns='event_type_main', values='avg_ticket_renevue')\n",
    "\n",
    "# строим график\n",
    "pivot.plot(marker='o', figsize=(10,6))\n",
    "\n",
    "plt.xlabel('Месяц')\n",
    "plt.ylabel('Средняя выручка с одного билета')\n",
    "plt.title('Средняя выручка с одного билета по месяцам по типу мероприятий')\n",
    "plt.legend(title='Тип мероприятия')\n",
    "plt.legend(bbox_to_anchor=(1.05, 1), loc='upper left', borderaxespad=0.)\n",
    "plt.grid(True)\n",
    "plt.xticks(pivot.index)\n",
    "plt.show()"
   ]
  },
  {
   "cell_type": "markdown",
   "metadata": {},
   "source": [
    "Видно, что выручка с одного билета распределилась по ценовым категориям: \n",
    "- до 100руб с билета - выставки, другое, спорт;\n",
    "- от 150 до 250 - стендап и театр;\n",
    "- от 250 и выше - концерты и елки.\n",
    "\n",
    "Видим также общую тенденцию к снижению выручки в осенью (кроме стендапа и выставок).\n",
    "\n",
    "Теперь посчитаем среднюю выручку с одного билет по типу мероприятия за весь период."
   ]
  },
  {
   "cell_type": "code",
   "execution_count": 37,
   "metadata": {},
   "outputs": [
    {
     "data": {
      "text/html": [
       "<div>\n",
       "<style scoped>\n",
       "    .dataframe tbody tr th:only-of-type {\n",
       "        vertical-align: middle;\n",
       "    }\n",
       "\n",
       "    .dataframe tbody tr th {\n",
       "        vertical-align: top;\n",
       "    }\n",
       "\n",
       "    .dataframe thead th {\n",
       "        text-align: right;\n",
       "    }\n",
       "</style>\n",
       "<table border=\"1\" class=\"dataframe\">\n",
       "  <thead>\n",
       "    <tr style=\"text-align: right;\">\n",
       "      <th></th>\n",
       "      <th>event_type_main</th>\n",
       "      <th>avg_ticket_renevue_summer</th>\n",
       "      <th>avg_ticket_renevue_autumn</th>\n",
       "      <th>relative_change</th>\n",
       "    </tr>\n",
       "  </thead>\n",
       "  <tbody>\n",
       "    <tr>\n",
       "      <th>0</th>\n",
       "      <td>выставки</td>\n",
       "      <td>86.388607</td>\n",
       "      <td>90.603609</td>\n",
       "      <td>0.048791</td>\n",
       "    </tr>\n",
       "    <tr>\n",
       "      <th>1</th>\n",
       "      <td>другое</td>\n",
       "      <td>77.395011</td>\n",
       "      <td>76.069735</td>\n",
       "      <td>-0.017124</td>\n",
       "    </tr>\n",
       "    <tr>\n",
       "      <th>2</th>\n",
       "      <td>концерты</td>\n",
       "      <td>304.805591</td>\n",
       "      <td>268.376406</td>\n",
       "      <td>-0.119516</td>\n",
       "    </tr>\n",
       "    <tr>\n",
       "      <th>3</th>\n",
       "      <td>спорт</td>\n",
       "      <td>50.744650</td>\n",
       "      <td>49.980039</td>\n",
       "      <td>-0.015068</td>\n",
       "    </tr>\n",
       "    <tr>\n",
       "      <th>4</th>\n",
       "      <td>стендап</td>\n",
       "      <td>218.518107</td>\n",
       "      <td>231.124973</td>\n",
       "      <td>0.057693</td>\n",
       "    </tr>\n",
       "    <tr>\n",
       "      <th>5</th>\n",
       "      <td>театр</td>\n",
       "      <td>214.185553</td>\n",
       "      <td>175.978105</td>\n",
       "      <td>-0.178385</td>\n",
       "    </tr>\n",
       "    <tr>\n",
       "      <th>6</th>\n",
       "      <td>ёлки</td>\n",
       "      <td>271.436177</td>\n",
       "      <td>229.564211</td>\n",
       "      <td>-0.154261</td>\n",
       "    </tr>\n",
       "  </tbody>\n",
       "</table>\n",
       "</div>"
      ],
      "text/plain": [
       "  event_type_main  avg_ticket_renevue_summer  avg_ticket_renevue_autumn  \\\n",
       "0        выставки                  86.388607                  90.603609   \n",
       "1          другое                  77.395011                  76.069735   \n",
       "2        концерты                 304.805591                 268.376406   \n",
       "3           спорт                  50.744650                  49.980039   \n",
       "4         стендап                 218.518107                 231.124973   \n",
       "5           театр                 214.185553                 175.978105   \n",
       "6            ёлки                 271.436177                 229.564211   \n",
       "\n",
       "   relative_change  \n",
       "0         0.048791  \n",
       "1        -0.017124  \n",
       "2        -0.119516  \n",
       "3        -0.015068  \n",
       "4         0.057693  \n",
       "5        -0.178385  \n",
       "6        -0.154261  "
      ]
     },
     "execution_count": 37,
     "metadata": {},
     "output_type": "execute_result"
    }
   ],
   "source": [
    "# сруппируем данные по типу мероприятия и посчитаем среднюю выручку с одного билета летом и осенью\n",
    "mean_rev_summer = filtered_df[filtered_df['season'] == 'лето'].groupby(\n",
    "    'event_type_main').agg(avg_ticket_renevue=('one_ticket_revenue_rub', 'mean')).reset_index()\n",
    "mean_rev_autumn = filtered_df[filtered_df['season'] == 'осень'].groupby(\n",
    "    'event_type_main').agg(avg_ticket_renevue=('one_ticket_revenue_rub', 'mean')).reset_index()\n",
    "\n",
    "# соединим эти таблицы\n",
    "comparison = pd.merge(mean_rev_summer, mean_rev_autumn, on='event_type_main', suffixes=('_summer', '_autumn'))\n",
    "# добавим столбец с относительным измененеием выручки осенью по сравнению с летом\n",
    "comparison['relative_change'] = (comparison['avg_ticket_renevue_autumn'] - comparison['avg_ticket_renevue_summer']\n",
    "                                ) / comparison['avg_ticket_renevue_summer']\n",
    "comparison"
   ]
  },
  {
   "cell_type": "code",
   "execution_count": 38,
   "metadata": {},
   "outputs": [
    {
     "data": {
      "image/png": "[encoded data removed]",
      "text/plain": [
       "<Figure size 720x432 with 1 Axes>"
      ]
     },
     "metadata": {
      "needs_background": "light"
     },
     "output_type": "display_data"
    }
   ],
   "source": [
    "# строим график\n",
    "plt.figure(figsize=(10, 6))\n",
    "# задаем цвета взависимости от знака\n",
    "colors = ['teal' if val >= 0 else '#d6616b' for val in comparison['relative_change']]\n",
    "\n",
    "bars = plt.bar(comparison['event_type_main'], comparison['relative_change'], color=colors)\n",
    "plt.axhline(0, color='black', linewidth=0.8, linestyle='--')\n",
    "plt.xticks(rotation=45, ha='right')\n",
    "plt.ylabel('Относительное изменение (осень vs лето)')\n",
    "plt.title('Относительное изменение средней выручки с одного билета по типам мероприятий')\n",
    "\n",
    "# подписи процентов над столбцами\n",
    "for bar in bars:\n",
    "    height = bar.get_height()\n",
    "    plt.text(bar.get_x() + bar.get_width() / 2, height, f'{height:.1%}', ha='center', va='bottom' if height >= 0 else 'top')\n",
    "\n",
    "plt.tight_layout()\n",
    "plt.show()"
   ]
  },
  {
   "cell_type": "markdown",
   "metadata": {},
   "source": [
    "Как и на линейном графике видно, что за время наблюдений средняя выручка с одного билета осенью снизилась относительно лета почти по всем типам мероприятий, кроме выставок и стендапа. Самое сильное падение выручки у театров. А самый большоей рост у стендапа.\n",
    "\n",
    "**Промежуточные выводы**\n",
    "\n",
    "Заказы по типам мероприятий и устройствам\n",
    "- Абсолютное количество заказов осенью выросло по сравнению с летом.\n",
    "- По типам мероприятий осенью наблюдается увеличение общего объема заказов с июня по октябрь, с ускорением после августа.\n",
    "- Лидирует категория «Концерты», которая сохраняет свои позиции.\n",
    "- «Театр» поднялся на второе место, сместив категорию «Другое».\n",
    "- «Спорт» усилился, вытеснив «Стендап» с четвёртого места.\n",
    "- Доли заказов по типам мероприятий показывают уменьшение у концертов и рост у театра и спорта осенью.\n",
    "- Доли заказов по типу устройства остались почти неизменными летом и осенью, при этом абсолютные значения заказов по устройствам выросли осенью.\n",
    "\n",
    "Заказы по возрастным рейтингам\n",
    "- В абсолютных значениях осенью выросли заказы по всем возрастным категориям, кроме 18+.\n",
    "- В относительных долях категории 6+ осталась почти неизменной.\n",
    "- Доли 0 и 12+ выросли.\n",
    "- Доли 16+ и 18+ снизились осенью.\n",
    "\n",
    "Средняя выручка с билета\n",
    "- Средняя выручка с одного билета стабильно снижалась всё лето и сентябрь, с незначительным отскоком в октябре, который не компенсирует снижение.\n",
    "- Выручка с одного билета распределилась по ценовым категориям:\n",
    "    - До 100 руб: выставки, другое, спорт.\n",
    "    - От 150 до 250 руб: стендап и театр.\n",
    "    - От 250 руб и выше: концерты и ёлки.\n",
    "- Общая тенденция — снижение выручки осенью, исключение составляют стендап и выставки.\n",
    "- Самое сильное падение выручки наблюдается у театров.\n",
    "- Самый значимый рост выручки зафиксирован у стендапа.\n",
    "\n",
    "[к содержанию](#label_00)\n",
    "\n",
    "---\n",
    "\n",
    "<a id=\"label_3_2\"></a>\n",
    "#### 3.2 Осенняя активность пользователей.\n",
    "\n",
    "Изучим активность пользователей осенью 2024г. У нас есть данные только за 2 месяца осени - сентябрь и октябрь.\n",
    "\n",
    "**Проанализируем динамику изменений по дням для:**\n",
    "- общего числа заказов;\n",
    "- количества активных пользователей DAU;\n",
    "- среднего числа заказов на одного пользователя;\n",
    "- средней стоимости одного билета."
   ]
  },
  {
   "cell_type": "code",
   "execution_count": 39,
   "metadata": {},
   "outputs": [
    {
     "data": {
      "text/html": [
       "<div>\n",
       "<style scoped>\n",
       "    .dataframe tbody tr th:only-of-type {\n",
       "        vertical-align: middle;\n",
       "    }\n",
       "\n",
       "    .dataframe tbody tr th {\n",
       "        vertical-align: top;\n",
       "    }\n",
       "\n",
       "    .dataframe thead th {\n",
       "        text-align: right;\n",
       "    }\n",
       "</style>\n",
       "<table border=\"1\" class=\"dataframe\">\n",
       "  <thead>\n",
       "    <tr style=\"text-align: right;\">\n",
       "      <th></th>\n",
       "      <th>avg_revenue_per_ticket</th>\n",
       "      <th>orders_count</th>\n",
       "      <th>unique_users</th>\n",
       "      <th>orders_per_user</th>\n",
       "    </tr>\n",
       "    <tr>\n",
       "      <th>created_dt_msk</th>\n",
       "      <th></th>\n",
       "      <th></th>\n",
       "      <th></th>\n",
       "      <th></th>\n",
       "    </tr>\n",
       "  </thead>\n",
       "  <tbody>\n",
       "    <tr>\n",
       "      <th>2024-09-01</th>\n",
       "      <td>200.168708</td>\n",
       "      <td>1327</td>\n",
       "      <td>564</td>\n",
       "      <td>2.352837</td>\n",
       "    </tr>\n",
       "    <tr>\n",
       "      <th>2024-09-02</th>\n",
       "      <td>189.464640</td>\n",
       "      <td>1380</td>\n",
       "      <td>574</td>\n",
       "      <td>2.404181</td>\n",
       "    </tr>\n",
       "    <tr>\n",
       "      <th>2024-09-03</th>\n",
       "      <td>80.350151</td>\n",
       "      <td>5113</td>\n",
       "      <td>778</td>\n",
       "      <td>6.571979</td>\n",
       "    </tr>\n",
       "    <tr>\n",
       "      <th>2024-09-04</th>\n",
       "      <td>178.077235</td>\n",
       "      <td>1772</td>\n",
       "      <td>685</td>\n",
       "      <td>2.586861</td>\n",
       "    </tr>\n",
       "    <tr>\n",
       "      <th>2024-09-05</th>\n",
       "      <td>189.763046</td>\n",
       "      <td>1940</td>\n",
       "      <td>739</td>\n",
       "      <td>2.625169</td>\n",
       "    </tr>\n",
       "    <tr>\n",
       "      <th>...</th>\n",
       "      <td>...</td>\n",
       "      <td>...</td>\n",
       "      <td>...</td>\n",
       "      <td>...</td>\n",
       "    </tr>\n",
       "    <tr>\n",
       "      <th>2024-10-27</th>\n",
       "      <td>186.968329</td>\n",
       "      <td>2849</td>\n",
       "      <td>1034</td>\n",
       "      <td>2.755319</td>\n",
       "    </tr>\n",
       "    <tr>\n",
       "      <th>2024-10-28</th>\n",
       "      <td>170.542890</td>\n",
       "      <td>2837</td>\n",
       "      <td>985</td>\n",
       "      <td>2.880203</td>\n",
       "    </tr>\n",
       "    <tr>\n",
       "      <th>2024-10-29</th>\n",
       "      <td>177.474151</td>\n",
       "      <td>2834</td>\n",
       "      <td>998</td>\n",
       "      <td>2.839679</td>\n",
       "    </tr>\n",
       "    <tr>\n",
       "      <th>2024-10-30</th>\n",
       "      <td>182.730972</td>\n",
       "      <td>2928</td>\n",
       "      <td>1039</td>\n",
       "      <td>2.818094</td>\n",
       "    </tr>\n",
       "    <tr>\n",
       "      <th>2024-10-31</th>\n",
       "      <td>150.577023</td>\n",
       "      <td>5958</td>\n",
       "      <td>1272</td>\n",
       "      <td>4.683962</td>\n",
       "    </tr>\n",
       "  </tbody>\n",
       "</table>\n",
       "<p>61 rows × 4 columns</p>\n",
       "</div>"
      ],
      "text/plain": [
       "                avg_revenue_per_ticket  orders_count  unique_users  \\\n",
       "created_dt_msk                                                       \n",
       "2024-09-01                  200.168708          1327           564   \n",
       "2024-09-02                  189.464640          1380           574   \n",
       "2024-09-03                   80.350151          5113           778   \n",
       "2024-09-04                  178.077235          1772           685   \n",
       "2024-09-05                  189.763046          1940           739   \n",
       "...                                ...           ...           ...   \n",
       "2024-10-27                  186.968329          2849          1034   \n",
       "2024-10-28                  170.542890          2837           985   \n",
       "2024-10-29                  177.474151          2834           998   \n",
       "2024-10-30                  182.730972          2928          1039   \n",
       "2024-10-31                  150.577023          5958          1272   \n",
       "\n",
       "                orders_per_user  \n",
       "created_dt_msk                   \n",
       "2024-09-01             2.352837  \n",
       "2024-09-02             2.404181  \n",
       "2024-09-03             6.571979  \n",
       "2024-09-04             2.586861  \n",
       "2024-09-05             2.625169  \n",
       "...                         ...  \n",
       "2024-10-27             2.755319  \n",
       "2024-10-28             2.880203  \n",
       "2024-10-29             2.839679  \n",
       "2024-10-30             2.818094  \n",
       "2024-10-31             4.683962  \n",
       "\n",
       "[61 rows x 4 columns]"
      ]
     },
     "execution_count": 39,
     "metadata": {},
     "output_type": "execute_result"
    }
   ],
   "source": [
    "# создадим сводную таблицу\n",
    "pivot_df = pd.pivot_table(\n",
    "    filtered_df,\n",
    "    index='created_dt_msk',\n",
    "    values=['order_id', 'user_id', 'one_ticket_revenue_rub'],\n",
    "    aggfunc={'order_id': 'count', 'user_id': pd.Series.nunique, 'one_ticket_revenue_rub': 'mean'}\n",
    ").rename(columns={'order_id': 'orders_count', 'user_id': 'unique_users', 'one_ticket_revenue_rub': 'avg_revenue_per_ticket'})\n",
    "\n",
    "# добавляем столбец с заказами на одного пользователя\n",
    "pivot_df['orders_per_user'] = pivot_df['orders_count'] / pivot_df['unique_users']\n",
    "# отфильтруем данные по двум осенним месяцам\n",
    "pivot_df = pivot_df[(pivot_df.index >= '2024-09-01') & (pivot_df.index <= '2024-10-31')]\n",
    "pivot_df"
   ]
  },
  {
   "cell_type": "code",
   "execution_count": 40,
   "metadata": {},
   "outputs": [
    {
     "data": {
      "image/png": "[encoded data removed]",
      "text/plain": [
       "<Figure size 1224x720 with 4 Axes>"
      ]
     },
     "metadata": {
      "needs_background": "light"
     },
     "output_type": "display_data"
    }
   ],
   "source": [
    "# строим графики\n",
    "fig, axes = plt.subplots(2,2, figsize=(17,10))\n",
    "\n",
    "pivot_df.plot.line(y='avg_revenue_per_ticket', ax=axes[0, 0], color='teal', legend=False)\n",
    "axes[0,0].set_title(\"Средняя выручка с одного билета по дням осени\")\n",
    "axes[0,0].set_ylabel('Средняя выручка с одного билета')\n",
    "axes[0,0].set_xlabel('Дни')\n",
    "axes[0,0].grid()\n",
    "\n",
    "pivot_df.plot.line(y='orders_count', ax=axes[0,1], color='teal', legend=False)\n",
    "axes[0,1].set_title(\"Кол-во заказов по дням осени\")\n",
    "axes[0,1].set_ylabel('Кол-во заказов')\n",
    "axes[0,1].set_xlabel('Дни')\n",
    "axes[0,1].grid()\n",
    "\n",
    "pivot_df.plot.line(y='unique_users', ax=axes[1, 0], color='teal', legend=False)\n",
    "axes[1,0].set_title(\"Кол-во уникальных пользователей по дням осени\")\n",
    "axes[1,0].set_xlabel('Дни')\n",
    "axes[1,0].set_ylabel('Кол-во пользователей')\n",
    "axes[1,0].grid()\n",
    "\n",
    "pivot_df.plot.line(y='orders_per_user', ax=axes[1,1], color='teal', legend=False)\n",
    "axes[1,1].set_title(\"Среднее кол-во заказов на пользователя по дням осени\")\n",
    "axes[1,1].set_xlabel('Дни')\n",
    "axes[1,1].set_ylabel('Среднее кол-во заказов на пользователя')\n",
    "axes[1,1].grid()\n",
    "\n",
    "fig.subplots_adjust(hspace=0.4)\n",
    "plt.show()"
   ]
  },
  {
   "cell_type": "markdown",
   "metadata": {},
   "source": [
    "Видим рост DAU с начала сентября и по конец октября.\n",
    "\n",
    "Средняя выручка с одного заказа стабильна (движется вбок), есть провалы в начале сентября, в начале и в конце октября (видимо были акции). В эти же дни видим всплеск покупательской активности - резко выросло кол-во заказов и среднее кол-во заказов на пользователя в эти дни. Кол-во заказов и среднее кол-во заказов на пользователя растут за период этих двух месяцев, причем кол-во заказов растет чуть быстрее, чем кол-во заказов на одного пользователя.\n",
    "\n",
    "[к содержанию](#label_00)\n"
   ]
  },
  {
   "cell_type": "markdown",
   "metadata": {},
   "source": [
    "Посмотрим активность пользователей по дням недели осенью."
   ]
  },
  {
   "cell_type": "code",
   "execution_count": 41,
   "metadata": {},
   "outputs": [
    {
     "data": {
      "text/html": [
       "<div>\n",
       "<style scoped>\n",
       "    .dataframe tbody tr th:only-of-type {\n",
       "        vertical-align: middle;\n",
       "    }\n",
       "\n",
       "    .dataframe tbody tr th {\n",
       "        vertical-align: top;\n",
       "    }\n",
       "\n",
       "    .dataframe thead th {\n",
       "        text-align: right;\n",
       "    }\n",
       "</style>\n",
       "<table border=\"1\" class=\"dataframe\">\n",
       "  <thead>\n",
       "    <tr style=\"text-align: right;\">\n",
       "      <th></th>\n",
       "      <th>num_week_day</th>\n",
       "      <th>day_name</th>\n",
       "      <th>avg_unique_users</th>\n",
       "      <th>avg_orders</th>\n",
       "      <th>avg_revenue</th>\n",
       "      <th>avg_revenue_mln</th>\n",
       "    </tr>\n",
       "  </thead>\n",
       "  <tbody>\n",
       "    <tr>\n",
       "      <th>0</th>\n",
       "      <td>1</td>\n",
       "      <td>Пон</td>\n",
       "      <td>853.444444</td>\n",
       "      <td>2389.333333</td>\n",
       "      <td>1.193856e+06</td>\n",
       "      <td>1.193856</td>\n",
       "    </tr>\n",
       "    <tr>\n",
       "      <th>1</th>\n",
       "      <td>2</td>\n",
       "      <td>Вт</td>\n",
       "      <td>934.444444</td>\n",
       "      <td>3497.888889</td>\n",
       "      <td>1.352005e+06</td>\n",
       "      <td>1.352005</td>\n",
       "    </tr>\n",
       "    <tr>\n",
       "      <th>2</th>\n",
       "      <td>3</td>\n",
       "      <td>Ср</td>\n",
       "      <td>923.222222</td>\n",
       "      <td>2541.666667</td>\n",
       "      <td>1.279046e+06</td>\n",
       "      <td>1.279046</td>\n",
       "    </tr>\n",
       "    <tr>\n",
       "      <th>3</th>\n",
       "      <td>4</td>\n",
       "      <td>Чт</td>\n",
       "      <td>962.000000</td>\n",
       "      <td>3016.888889</td>\n",
       "      <td>1.444409e+06</td>\n",
       "      <td>1.444409</td>\n",
       "    </tr>\n",
       "    <tr>\n",
       "      <th>4</th>\n",
       "      <td>5</td>\n",
       "      <td>Пт</td>\n",
       "      <td>1022.375000</td>\n",
       "      <td>3101.500000</td>\n",
       "      <td>1.575114e+06</td>\n",
       "      <td>1.575114</td>\n",
       "    </tr>\n",
       "    <tr>\n",
       "      <th>5</th>\n",
       "      <td>6</td>\n",
       "      <td>Сб</td>\n",
       "      <td>960.750000</td>\n",
       "      <td>2667.125000</td>\n",
       "      <td>1.411279e+06</td>\n",
       "      <td>1.411279</td>\n",
       "    </tr>\n",
       "    <tr>\n",
       "      <th>6</th>\n",
       "      <td>7</td>\n",
       "      <td>Вс</td>\n",
       "      <td>822.555556</td>\n",
       "      <td>2153.888889</td>\n",
       "      <td>1.165383e+06</td>\n",
       "      <td>1.165383</td>\n",
       "    </tr>\n",
       "  </tbody>\n",
       "</table>\n",
       "</div>"
      ],
      "text/plain": [
       "   num_week_day day_name  avg_unique_users   avg_orders   avg_revenue  \\\n",
       "0             1      Пон        853.444444  2389.333333  1.193856e+06   \n",
       "1             2       Вт        934.444444  3497.888889  1.352005e+06   \n",
       "2             3       Ср        923.222222  2541.666667  1.279046e+06   \n",
       "3             4       Чт        962.000000  3016.888889  1.444409e+06   \n",
       "4             5       Пт       1022.375000  3101.500000  1.575114e+06   \n",
       "5             6       Сб        960.750000  2667.125000  1.411279e+06   \n",
       "6             7       Вс        822.555556  2153.888889  1.165383e+06   \n",
       "\n",
       "   avg_revenue_mln  \n",
       "0         1.193856  \n",
       "1         1.352005  \n",
       "2         1.279046  \n",
       "3         1.444409  \n",
       "4         1.575114  \n",
       "5         1.411279  \n",
       "6         1.165383  "
      ]
     },
     "execution_count": 41,
     "metadata": {},
     "output_type": "execute_result"
    }
   ],
   "source": [
    "# отфильтруем данные по двум осенним месяцам\n",
    "filtered_autumn_df = filtered_df[(filtered_df['created_dt_msk'] >= '2024-09-01') & (filtered_df['created_dt_msk'] \n",
    "                                                                                    <= '2024-10-31')]\n",
    "# сгруппируем по дате и посчитаем кол-во уникальных пользователей в день, кол-во заказов и сумму выручки\n",
    "autumn_day = filtered_autumn_df.groupby('created_dt_msk').agg(\n",
    "                                                            unique_users=('user_id', 'nunique'),\n",
    "                                                            orders=('order_id', 'count'),\n",
    "                                                            day_revenue=('revenue_rub','sum')).reset_index()\n",
    "# добавим столбец с номером недели\n",
    "autumn_day['num_week_day'] = autumn_day['created_dt_msk'].dt.isocalendar().day\n",
    "# создадим словарь с названиями дней недели\n",
    "week = {1:'Пон', 2:'Вт', 3:'Ср', 4:'Чт', 5:'Пт', 6:'Сб', 7:'Вс'}\n",
    "# добавим столбец с названиями дней недели\n",
    "autumn_day['day_name'] = autumn_day['num_week_day'].map(week)\n",
    "# сгруппируем по дню недели и посчитаем среднее кол-во заказов, пользователей и среднюю выручку \n",
    "autumn_week_day = autumn_day.groupby(['num_week_day', 'day_name']).agg(\n",
    "                                                                        avg_unique_users=('unique_users', 'mean'),\n",
    "                                                                        avg_orders=('orders', 'mean'),\n",
    "                                                                        avg_revenue=('day_revenue', 'mean')).reset_index()\n",
    "# добавим столбец средней выручки в млн\n",
    "autumn_week_day['avg_revenue_mln'] = autumn_week_day['avg_revenue'] / 1e6\n",
    "autumn_week_day"
   ]
  },
  {
   "cell_type": "code",
   "execution_count": 42,
   "metadata": {},
   "outputs": [
    {
     "data": {
      "image/png": "[encoded data removed]",
      "text/plain": [
       "<Figure size 1080x288 with 3 Axes>"
      ]
     },
     "metadata": {
      "needs_background": "light"
     },
     "output_type": "display_data"
    }
   ],
   "source": [
    "# построим графики\n",
    "fig, axes = plt.subplots(1,3, figsize=(15,4))\n",
    "\n",
    "# график кол-ва пользователей\n",
    "autumn_week_day.plot.bar(x='day_name', y='avg_unique_users', ax=axes[0], color='#1f497d', legend=False)\n",
    "axes[0].set_title(\"Среднее кол-во пользователей по дням недели\")\n",
    "axes[0].set_ylabel('Средняя кол-во пользователей')\n",
    "axes[0].set_xlabel('Дни недели')\n",
    "axes[0].grid()\n",
    "\n",
    "# график кол-ва заказов\n",
    "autumn_week_day.plot.bar(x='day_name', y='avg_orders', ax=axes[1], color='teal', legend=False)\n",
    "axes[1].set_title(\"Среднее кол-во заказов по дням недели\")\n",
    "axes[1].set_ylabel('Кол-во заказов')\n",
    "axes[1].set_xlabel('Дни недели')\n",
    "axes[1].grid()\n",
    "\n",
    "# график выручки\n",
    "autumn_week_day.plot.bar(x='day_name', y='avg_revenue_mln', ax=axes[2], color='#d95f02', legend=False)\n",
    "axes[2].set_title(\"Средняя выручка по дням недели\")\n",
    "axes[2].set_ylabel('Выручка, млн руб')\n",
    "axes[2].set_xlabel('Дни недели')\n",
    "axes[2].grid()\n",
    "\n",
    "# поворачиваем названия дней недели\n",
    "for ax in axes:\n",
    "    ax.tick_params(axis='x', labelrotation=0)\n",
    "\n",
    "fig.subplots_adjust(wspace=0.5)\n",
    "plt.show()"
   ]
  },
  {
   "cell_type": "markdown",
   "metadata": {},
   "source": [
    "Активность пользователей по дням недели:\n",
    "- Среднее кол-во пользователей растет с понедельника по пятницу (максимум), небольшой всплеск во вторник, на выходные идет спад.\n",
    "- Среднее кол-во заказов тоже растет с понедельника по пятрицу, но есть пик во вторник (максимум). В выходные спад.\n",
    "- Средняя выручка также растет с понедельника по пятницу (максимум). Есть небольшой всплеск во вторник, но не такой высокий, как ожидалось по пику заказов - видимо были акции и цена была ниже.\n",
    "\n",
    "По всей видимости акции запускают во вторник, т.к. в этот день наблюдается максимум кол-ва заказов, при этом кол-во пользователей и выручка хоть и выше понедельника, но ниже пятничного максимума."
   ]
  },
  {
   "cell_type": "markdown",
   "metadata": {},
   "source": [
    "\n",
    "---\n",
    "\n",
    "<a id=\"label_3_3\"></a>\n",
    "#### 3.3 Популярные события и партнёры.\n",
    "\n",
    "- Для каждого **региона** посчитаем уникальное количество мероприятий и общее число заказов. Посмотрим, в каких регионах предлагается наибольшее разнообразие мероприятий?\n",
    "- Для каждого **билетного партнёра** посчитаем общее число уникальных мероприятий, обработанных заказов и суммарную выручку с заказов билетов. Выделим наиболее активных партнёров."
   ]
  },
  {
   "cell_type": "code",
   "execution_count": 43,
   "metadata": {},
   "outputs": [
    {
     "data": {
      "text/html": [
       "<div>\n",
       "<style scoped>\n",
       "    .dataframe tbody tr th:only-of-type {\n",
       "        vertical-align: middle;\n",
       "    }\n",
       "\n",
       "    .dataframe tbody tr th {\n",
       "        vertical-align: top;\n",
       "    }\n",
       "\n",
       "    .dataframe thead th {\n",
       "        text-align: right;\n",
       "    }\n",
       "</style>\n",
       "<table border=\"1\" class=\"dataframe\">\n",
       "  <thead>\n",
       "    <tr style=\"text-align: right;\">\n",
       "      <th></th>\n",
       "      <th>region_name</th>\n",
       "      <th>unique_events</th>\n",
       "      <th>order_cnt</th>\n",
       "      <th>unique_events_share</th>\n",
       "      <th>order_cnt_share</th>\n",
       "    </tr>\n",
       "  </thead>\n",
       "  <tbody>\n",
       "    <tr>\n",
       "      <th>23</th>\n",
       "      <td>Каменевский регион</td>\n",
       "      <td>4748</td>\n",
       "      <td>89649</td>\n",
       "      <td>0.247808</td>\n",
       "      <td>0.311712</td>\n",
       "    </tr>\n",
       "    <tr>\n",
       "      <th>60</th>\n",
       "      <td>Североярская область</td>\n",
       "      <td>3196</td>\n",
       "      <td>43628</td>\n",
       "      <td>0.166806</td>\n",
       "      <td>0.151696</td>\n",
       "    </tr>\n",
       "    <tr>\n",
       "      <th>57</th>\n",
       "      <td>Светополянский округ</td>\n",
       "      <td>997</td>\n",
       "      <td>7502</td>\n",
       "      <td>0.052035</td>\n",
       "      <td>0.026085</td>\n",
       "    </tr>\n",
       "    <tr>\n",
       "      <th>77</th>\n",
       "      <td>Широковская область</td>\n",
       "      <td>992</td>\n",
       "      <td>16164</td>\n",
       "      <td>0.051775</td>\n",
       "      <td>0.056203</td>\n",
       "    </tr>\n",
       "    <tr>\n",
       "      <th>52</th>\n",
       "      <td>Речиновская область</td>\n",
       "      <td>653</td>\n",
       "      <td>6266</td>\n",
       "      <td>0.034081</td>\n",
       "      <td>0.021787</td>\n",
       "    </tr>\n",
       "    <tr>\n",
       "      <th>...</th>\n",
       "      <td>...</td>\n",
       "      <td>...</td>\n",
       "      <td>...</td>\n",
       "      <td>...</td>\n",
       "      <td>...</td>\n",
       "    </tr>\n",
       "    <tr>\n",
       "      <th>68</th>\n",
       "      <td>Теплоозёрский округ</td>\n",
       "      <td>2</td>\n",
       "      <td>7</td>\n",
       "      <td>0.000104</td>\n",
       "      <td>0.000024</td>\n",
       "    </tr>\n",
       "    <tr>\n",
       "      <th>66</th>\n",
       "      <td>Сосноводолинская область</td>\n",
       "      <td>2</td>\n",
       "      <td>10</td>\n",
       "      <td>0.000104</td>\n",
       "      <td>0.000035</td>\n",
       "    </tr>\n",
       "    <tr>\n",
       "      <th>33</th>\n",
       "      <td>Лесноярский край</td>\n",
       "      <td>2</td>\n",
       "      <td>19</td>\n",
       "      <td>0.000104</td>\n",
       "      <td>0.000066</td>\n",
       "    </tr>\n",
       "    <tr>\n",
       "      <th>56</th>\n",
       "      <td>Светолесский край</td>\n",
       "      <td>2</td>\n",
       "      <td>24</td>\n",
       "      <td>0.000104</td>\n",
       "      <td>0.000083</td>\n",
       "    </tr>\n",
       "    <tr>\n",
       "      <th>5</th>\n",
       "      <td>Верхозёрский край</td>\n",
       "      <td>2</td>\n",
       "      <td>11</td>\n",
       "      <td>0.000104</td>\n",
       "      <td>0.000038</td>\n",
       "    </tr>\n",
       "  </tbody>\n",
       "</table>\n",
       "<p>81 rows × 5 columns</p>\n",
       "</div>"
      ],
      "text/plain": [
       "                 region_name  unique_events  order_cnt  unique_events_share  \\\n",
       "23        Каменевский регион           4748      89649             0.247808   \n",
       "60      Североярская область           3196      43628             0.166806   \n",
       "57      Светополянский округ            997       7502             0.052035   \n",
       "77       Широковская область            992      16164             0.051775   \n",
       "52       Речиновская область            653       6266             0.034081   \n",
       "..                       ...            ...        ...                  ...   \n",
       "68       Теплоозёрский округ              2          7             0.000104   \n",
       "66  Сосноводолинская область              2         10             0.000104   \n",
       "33          Лесноярский край              2         19             0.000104   \n",
       "56         Светолесский край              2         24             0.000104   \n",
       "5          Верхозёрский край              2         11             0.000104   \n",
       "\n",
       "    order_cnt_share  \n",
       "23         0.311712  \n",
       "60         0.151696  \n",
       "57         0.026085  \n",
       "77         0.056203  \n",
       "52         0.021787  \n",
       "..              ...  \n",
       "68         0.000024  \n",
       "66         0.000035  \n",
       "33         0.000066  \n",
       "56         0.000083  \n",
       "5          0.000038  \n",
       "\n",
       "[81 rows x 5 columns]"
      ]
     },
     "execution_count": 43,
     "metadata": {},
     "output_type": "execute_result"
    }
   ],
   "source": [
    "# сгруппируем данные по регионам, посчитаем кол-во уникальных мероприятий и общее число заказов\n",
    "region_df = filtered_df.groupby('region_name').agg(unique_events=\n",
    "                                                  ('event_name', 'nunique'),\n",
    "                                                  order_cnt=\n",
    "                                                  ('order_id', 'count')).reset_index().sort_values('unique_events',\n",
    "                                                                                                   ascending=False)\n",
    "# добавим столбецы с долями уникальных событий и числа заказов\n",
    "region_df['unique_events_share'] = region_df['unique_events'] / region_df['unique_events'].sum()\n",
    "region_df['order_cnt_share'] = region_df['order_cnt'] / region_df['order_cnt'].sum()\n",
    "region_df"
   ]
  },
  {
   "cell_type": "code",
   "execution_count": 44,
   "metadata": {},
   "outputs": [
    {
     "data": {
      "image/png": "[encoded data removed]",
      "text/plain": [
       "<Figure size 1008x432 with 2 Axes>"
      ]
     },
     "metadata": {
      "needs_background": "light"
     },
     "output_type": "display_data"
    }
   ],
   "source": [
    "top_5_regions = region_df.head(5)\n",
    "\n",
    "x = np.arange(len(top_5_regions['region_name']))\n",
    "width = 0.35\n",
    "\n",
    "fig, (ax1, ax2) = plt.subplots(1, 2, figsize=(14, 6))\n",
    "\n",
    "# Абсолютные значения\n",
    "bar1_1 = ax1.bar(x - width/2, top_5_regions['unique_events'], width, label='Кол-во мероприятий', color='#1f497d')\n",
    "bar1_2 = ax1.bar(x + width/2, top_5_regions['order_cnt'], width, label='Кол-во заказов', color='#d95f02')\n",
    "ax1.set_xticks(x)\n",
    "ax1.set_xticklabels(top_5_regions['region_name'], rotation=45, ha='right')\n",
    "ax1.set_title('Абсолютные значения')\n",
    "ax1.grid(axis='y', linestyle='--', alpha=0.7)\n",
    "ax1.legend()\n",
    "\n",
    "# Доли\n",
    "bar2_1 = ax2.bar(x - width/2, top_5_regions['unique_events_share'], width, label='Доля мероприятий', color='#1f497d')\n",
    "bar2_2 = ax2.bar(x + width/2, top_5_regions['order_cnt_share'], width, label='Доля заказов', color='#d95f02')\n",
    "ax2.set_xticks(x)\n",
    "ax2.set_xticklabels(top_5_regions['region_name'], rotation=45, ha='right')\n",
    "ax2.set_title('Доли')\n",
    "ax2.grid(axis='y', linestyle='--', alpha=0.7)\n",
    "ax2.legend()\n",
    "\n",
    "plt.suptitle('Активность по регионам: абсолютные значения и доли', fontsize=16)\n",
    "plt.tight_layout(rect=[0, 0, 1, 0.95])\n",
    "plt.show()"
   ]
  },
  {
   "cell_type": "markdown",
   "metadata": {},
   "source": [
    "Больше всего уникальных мероприятий проводилось в двух районах:\n",
    "- Каменевский регион:\n",
    "    - 4 748 мероприятий (25% от общего числа мероприятий)\n",
    "    - 89 649 заказов (31% от общего числа заказов)\n",
    "- Североярская область:\n",
    "    - 3 196 мероприятий (17% от общего числа мероприятий)\n",
    "    - 43 628 заказов (15% от общего числа заказов)"
   ]
  },
  {
   "cell_type": "code",
   "execution_count": 45,
   "metadata": {},
   "outputs": [
    {
     "data": {
      "text/html": [
       "<div>\n",
       "<style scoped>\n",
       "    .dataframe tbody tr th:only-of-type {\n",
       "        vertical-align: middle;\n",
       "    }\n",
       "\n",
       "    .dataframe tbody tr th {\n",
       "        vertical-align: top;\n",
       "    }\n",
       "\n",
       "    .dataframe thead th {\n",
       "        text-align: right;\n",
       "    }\n",
       "</style>\n",
       "<table border=\"1\" class=\"dataframe\">\n",
       "  <thead>\n",
       "    <tr style=\"text-align: right;\">\n",
       "      <th></th>\n",
       "      <th>service_name</th>\n",
       "      <th>unique_events</th>\n",
       "      <th>order_cnt</th>\n",
       "      <th>total_revenue</th>\n",
       "      <th>unique_events_share</th>\n",
       "      <th>order_cnt_share</th>\n",
       "      <th>revenue_share</th>\n",
       "    </tr>\n",
       "  </thead>\n",
       "  <tbody>\n",
       "    <tr>\n",
       "      <th>21</th>\n",
       "      <td>Лови билет!</td>\n",
       "      <td>3856</td>\n",
       "      <td>40802</td>\n",
       "      <td>1.667497e+07</td>\n",
       "      <td>0.194286</td>\n",
       "      <td>0.141870</td>\n",
       "      <td>1.118303e-01</td>\n",
       "    </tr>\n",
       "    <tr>\n",
       "      <th>3</th>\n",
       "      <td>Билеты без проблем</td>\n",
       "      <td>3156</td>\n",
       "      <td>62738</td>\n",
       "      <td>2.420158e+07</td>\n",
       "      <td>0.159016</td>\n",
       "      <td>0.218142</td>\n",
       "      <td>1.623074e-01</td>\n",
       "    </tr>\n",
       "    <tr>\n",
       "      <th>5</th>\n",
       "      <td>Билеты в руки</td>\n",
       "      <td>2942</td>\n",
       "      <td>40279</td>\n",
       "      <td>1.319228e+07</td>\n",
       "      <td>0.148234</td>\n",
       "      <td>0.140051</td>\n",
       "      <td>8.847375e-02</td>\n",
       "    </tr>\n",
       "    <tr>\n",
       "      <th>25</th>\n",
       "      <td>Облачко</td>\n",
       "      <td>1762</td>\n",
       "      <td>26402</td>\n",
       "      <td>1.858861e+07</td>\n",
       "      <td>0.088779</td>\n",
       "      <td>0.091800</td>\n",
       "      <td>1.246642e-01</td>\n",
       "    </tr>\n",
       "    <tr>\n",
       "      <th>22</th>\n",
       "      <td>Лучшие билеты</td>\n",
       "      <td>1514</td>\n",
       "      <td>17734</td>\n",
       "      <td>2.720993e+06</td>\n",
       "      <td>0.076284</td>\n",
       "      <td>0.061662</td>\n",
       "      <td>1.824828e-02</td>\n",
       "    </tr>\n",
       "    <tr>\n",
       "      <th>24</th>\n",
       "      <td>Мой билет</td>\n",
       "      <td>1029</td>\n",
       "      <td>34417</td>\n",
       "      <td>2.201831e+07</td>\n",
       "      <td>0.051847</td>\n",
       "      <td>0.119669</td>\n",
       "      <td>1.476653e-01</td>\n",
       "    </tr>\n",
       "    <tr>\n",
       "      <th>30</th>\n",
       "      <td>Тебе билет!</td>\n",
       "      <td>925</td>\n",
       "      <td>5191</td>\n",
       "      <td>2.962344e+06</td>\n",
       "      <td>0.046607</td>\n",
       "      <td>0.018049</td>\n",
       "      <td>1.986690e-02</td>\n",
       "    </tr>\n",
       "    <tr>\n",
       "      <th>26</th>\n",
       "      <td>Прачечная</td>\n",
       "      <td>874</td>\n",
       "      <td>10222</td>\n",
       "      <td>4.746811e+06</td>\n",
       "      <td>0.044037</td>\n",
       "      <td>0.035542</td>\n",
       "      <td>3.183439e-02</td>\n",
       "    </tr>\n",
       "    <tr>\n",
       "      <th>8</th>\n",
       "      <td>Весь в билетах</td>\n",
       "      <td>688</td>\n",
       "      <td>16425</td>\n",
       "      <td>1.653323e+07</td>\n",
       "      <td>0.034665</td>\n",
       "      <td>0.057110</td>\n",
       "      <td>1.108798e-01</td>\n",
       "    </tr>\n",
       "    <tr>\n",
       "      <th>35</th>\n",
       "      <td>Яблоко</td>\n",
       "      <td>612</td>\n",
       "      <td>5004</td>\n",
       "      <td>3.868337e+06</td>\n",
       "      <td>0.030836</td>\n",
       "      <td>0.017399</td>\n",
       "      <td>2.594292e-02</td>\n",
       "    </tr>\n",
       "    <tr>\n",
       "      <th>12</th>\n",
       "      <td>Городской дом культуры</td>\n",
       "      <td>350</td>\n",
       "      <td>2727</td>\n",
       "      <td>1.641318e+06</td>\n",
       "      <td>0.017635</td>\n",
       "      <td>0.009482</td>\n",
       "      <td>1.100747e-02</td>\n",
       "    </tr>\n",
       "    <tr>\n",
       "      <th>1</th>\n",
       "      <td>Show_ticket</td>\n",
       "      <td>267</td>\n",
       "      <td>2090</td>\n",
       "      <td>1.449276e+06</td>\n",
       "      <td>0.013453</td>\n",
       "      <td>0.007267</td>\n",
       "      <td>9.719542e-03</td>\n",
       "    </tr>\n",
       "    <tr>\n",
       "      <th>0</th>\n",
       "      <td>Crazy ticket!</td>\n",
       "      <td>247</td>\n",
       "      <td>789</td>\n",
       "      <td>4.519248e+05</td>\n",
       "      <td>0.012445</td>\n",
       "      <td>0.002743</td>\n",
       "      <td>3.030824e-03</td>\n",
       "    </tr>\n",
       "    <tr>\n",
       "      <th>19</th>\n",
       "      <td>Край билетов</td>\n",
       "      <td>233</td>\n",
       "      <td>6108</td>\n",
       "      <td>6.403469e+06</td>\n",
       "      <td>0.011740</td>\n",
       "      <td>0.021238</td>\n",
       "      <td>4.294473e-02</td>\n",
       "    </tr>\n",
       "    <tr>\n",
       "      <th>13</th>\n",
       "      <td>Дом культуры</td>\n",
       "      <td>231</td>\n",
       "      <td>4412</td>\n",
       "      <td>4.358656e+06</td>\n",
       "      <td>0.011639</td>\n",
       "      <td>0.015341</td>\n",
       "      <td>2.923124e-02</td>\n",
       "    </tr>\n",
       "    <tr>\n",
       "      <th>15</th>\n",
       "      <td>За билетом!</td>\n",
       "      <td>227</td>\n",
       "      <td>2855</td>\n",
       "      <td>2.036077e+06</td>\n",
       "      <td>0.011437</td>\n",
       "      <td>0.009927</td>\n",
       "      <td>1.365491e-02</td>\n",
       "    </tr>\n",
       "    <tr>\n",
       "      <th>6</th>\n",
       "      <td>Быстробилет</td>\n",
       "      <td>225</td>\n",
       "      <td>1983</td>\n",
       "      <td>1.533526e+06</td>\n",
       "      <td>0.011337</td>\n",
       "      <td>0.006895</td>\n",
       "      <td>1.028456e-02</td>\n",
       "    </tr>\n",
       "    <tr>\n",
       "      <th>23</th>\n",
       "      <td>Мир касс</td>\n",
       "      <td>183</td>\n",
       "      <td>2138</td>\n",
       "      <td>1.839539e+06</td>\n",
       "      <td>0.009221</td>\n",
       "      <td>0.007434</td>\n",
       "      <td>1.233683e-02</td>\n",
       "    </tr>\n",
       "    <tr>\n",
       "      <th>9</th>\n",
       "      <td>Восьмёрка</td>\n",
       "      <td>141</td>\n",
       "      <td>1106</td>\n",
       "      <td>6.578092e+05</td>\n",
       "      <td>0.007104</td>\n",
       "      <td>0.003846</td>\n",
       "      <td>4.411584e-03</td>\n",
       "    </tr>\n",
       "    <tr>\n",
       "      <th>11</th>\n",
       "      <td>Выступления.ру</td>\n",
       "      <td>135</td>\n",
       "      <td>1590</td>\n",
       "      <td>1.218605e+06</td>\n",
       "      <td>0.006802</td>\n",
       "      <td>0.005528</td>\n",
       "      <td>8.172548e-03</td>\n",
       "    </tr>\n",
       "    <tr>\n",
       "      <th>29</th>\n",
       "      <td>Росбилет</td>\n",
       "      <td>59</td>\n",
       "      <td>395</td>\n",
       "      <td>5.145134e+05</td>\n",
       "      <td>0.002973</td>\n",
       "      <td>0.001373</td>\n",
       "      <td>3.450573e-03</td>\n",
       "    </tr>\n",
       "    <tr>\n",
       "      <th>17</th>\n",
       "      <td>КарандашРУ</td>\n",
       "      <td>46</td>\n",
       "      <td>133</td>\n",
       "      <td>2.447286e+04</td>\n",
       "      <td>0.002318</td>\n",
       "      <td>0.000462</td>\n",
       "      <td>1.641267e-04</td>\n",
       "    </tr>\n",
       "    <tr>\n",
       "      <th>10</th>\n",
       "      <td>Вперёд!</td>\n",
       "      <td>37</td>\n",
       "      <td>80</td>\n",
       "      <td>3.153965e+04</td>\n",
       "      <td>0.001864</td>\n",
       "      <td>0.000278</td>\n",
       "      <td>2.115200e-04</td>\n",
       "    </tr>\n",
       "    <tr>\n",
       "      <th>31</th>\n",
       "      <td>Телебилет</td>\n",
       "      <td>23</td>\n",
       "      <td>321</td>\n",
       "      <td>1.873227e+05</td>\n",
       "      <td>0.001159</td>\n",
       "      <td>0.001116</td>\n",
       "      <td>1.256276e-03</td>\n",
       "    </tr>\n",
       "    <tr>\n",
       "      <th>33</th>\n",
       "      <td>Цвет и билет</td>\n",
       "      <td>18</td>\n",
       "      <td>61</td>\n",
       "      <td>5.140309e+04</td>\n",
       "      <td>0.000907</td>\n",
       "      <td>0.000212</td>\n",
       "      <td>3.447338e-04</td>\n",
       "    </tr>\n",
       "    <tr>\n",
       "      <th>2</th>\n",
       "      <td>Билет по телефону</td>\n",
       "      <td>17</td>\n",
       "      <td>85</td>\n",
       "      <td>7.244740e+04</td>\n",
       "      <td>0.000857</td>\n",
       "      <td>0.000296</td>\n",
       "      <td>4.858670e-04</td>\n",
       "    </tr>\n",
       "    <tr>\n",
       "      <th>7</th>\n",
       "      <td>Быстрый кассир</td>\n",
       "      <td>16</td>\n",
       "      <td>379</td>\n",
       "      <td>3.966899e+05</td>\n",
       "      <td>0.000806</td>\n",
       "      <td>0.001318</td>\n",
       "      <td>2.660393e-03</td>\n",
       "    </tr>\n",
       "    <tr>\n",
       "      <th>34</th>\n",
       "      <td>Шоу начинается!</td>\n",
       "      <td>9</td>\n",
       "      <td>460</td>\n",
       "      <td>4.636412e+05</td>\n",
       "      <td>0.000453</td>\n",
       "      <td>0.001599</td>\n",
       "      <td>3.109400e-03</td>\n",
       "    </tr>\n",
       "    <tr>\n",
       "      <th>27</th>\n",
       "      <td>Радио ticket</td>\n",
       "      <td>8</td>\n",
       "      <td>376</td>\n",
       "      <td>8.189324e+04</td>\n",
       "      <td>0.000403</td>\n",
       "      <td>0.001307</td>\n",
       "      <td>5.492153e-04</td>\n",
       "    </tr>\n",
       "    <tr>\n",
       "      <th>28</th>\n",
       "      <td>Реестр</td>\n",
       "      <td>7</td>\n",
       "      <td>124</td>\n",
       "      <td>5.513692e+04</td>\n",
       "      <td>0.000353</td>\n",
       "      <td>0.000431</td>\n",
       "      <td>3.697746e-04</td>\n",
       "    </tr>\n",
       "    <tr>\n",
       "      <th>20</th>\n",
       "      <td>Лимоны</td>\n",
       "      <td>3</td>\n",
       "      <td>8</td>\n",
       "      <td>6.365100e+02</td>\n",
       "      <td>0.000151</td>\n",
       "      <td>0.000028</td>\n",
       "      <td>4.268741e-06</td>\n",
       "    </tr>\n",
       "    <tr>\n",
       "      <th>14</th>\n",
       "      <td>Дырокол</td>\n",
       "      <td>2</td>\n",
       "      <td>70</td>\n",
       "      <td>1.040780e+05</td>\n",
       "      <td>0.000101</td>\n",
       "      <td>0.000243</td>\n",
       "      <td>6.979967e-04</td>\n",
       "    </tr>\n",
       "    <tr>\n",
       "      <th>32</th>\n",
       "      <td>Тех билет</td>\n",
       "      <td>2</td>\n",
       "      <td>22</td>\n",
       "      <td>5.665740e+03</td>\n",
       "      <td>0.000101</td>\n",
       "      <td>0.000076</td>\n",
       "      <td>3.799717e-05</td>\n",
       "    </tr>\n",
       "    <tr>\n",
       "      <th>4</th>\n",
       "      <td>Билеты в интернете</td>\n",
       "      <td>1</td>\n",
       "      <td>4</td>\n",
       "      <td>5.482300e+02</td>\n",
       "      <td>0.000050</td>\n",
       "      <td>0.000014</td>\n",
       "      <td>3.676693e-06</td>\n",
       "    </tr>\n",
       "    <tr>\n",
       "      <th>16</th>\n",
       "      <td>Зе Бест!</td>\n",
       "      <td>1</td>\n",
       "      <td>5</td>\n",
       "      <td>6.430000e+01</td>\n",
       "      <td>0.000050</td>\n",
       "      <td>0.000017</td>\n",
       "      <td>4.312266e-07</td>\n",
       "    </tr>\n",
       "    <tr>\n",
       "      <th>18</th>\n",
       "      <td>Кино билет</td>\n",
       "      <td>1</td>\n",
       "      <td>67</td>\n",
       "      <td>2.180864e+04</td>\n",
       "      <td>0.000050</td>\n",
       "      <td>0.000233</td>\n",
       "      <td>1.462592e-04</td>\n",
       "    </tr>\n",
       "  </tbody>\n",
       "</table>\n",
       "</div>"
      ],
      "text/plain": [
       "              service_name  unique_events  order_cnt  total_revenue  \\\n",
       "21             Лови билет!           3856      40802   1.667497e+07   \n",
       "3       Билеты без проблем           3156      62738   2.420158e+07   \n",
       "5            Билеты в руки           2942      40279   1.319228e+07   \n",
       "25                 Облачко           1762      26402   1.858861e+07   \n",
       "22           Лучшие билеты           1514      17734   2.720993e+06   \n",
       "24               Мой билет           1029      34417   2.201831e+07   \n",
       "30             Тебе билет!            925       5191   2.962344e+06   \n",
       "26               Прачечная            874      10222   4.746811e+06   \n",
       "8           Весь в билетах            688      16425   1.653323e+07   \n",
       "35                  Яблоко            612       5004   3.868337e+06   \n",
       "12  Городской дом культуры            350       2727   1.641318e+06   \n",
       "1              Show_ticket            267       2090   1.449276e+06   \n",
       "0            Crazy ticket!            247        789   4.519248e+05   \n",
       "19            Край билетов            233       6108   6.403469e+06   \n",
       "13            Дом культуры            231       4412   4.358656e+06   \n",
       "15             За билетом!            227       2855   2.036077e+06   \n",
       "6              Быстробилет            225       1983   1.533526e+06   \n",
       "23                Мир касс            183       2138   1.839539e+06   \n",
       "9                Восьмёрка            141       1106   6.578092e+05   \n",
       "11          Выступления.ру            135       1590   1.218605e+06   \n",
       "29                Росбилет             59        395   5.145134e+05   \n",
       "17              КарандашРУ             46        133   2.447286e+04   \n",
       "10                 Вперёд!             37         80   3.153965e+04   \n",
       "31               Телебилет             23        321   1.873227e+05   \n",
       "33            Цвет и билет             18         61   5.140309e+04   \n",
       "2        Билет по телефону             17         85   7.244740e+04   \n",
       "7           Быстрый кассир             16        379   3.966899e+05   \n",
       "34         Шоу начинается!              9        460   4.636412e+05   \n",
       "27            Радио ticket              8        376   8.189324e+04   \n",
       "28                  Реестр              7        124   5.513692e+04   \n",
       "20                  Лимоны              3          8   6.365100e+02   \n",
       "14                 Дырокол              2         70   1.040780e+05   \n",
       "32               Тех билет              2         22   5.665740e+03   \n",
       "4       Билеты в интернете              1          4   5.482300e+02   \n",
       "16                Зе Бест!              1          5   6.430000e+01   \n",
       "18              Кино билет              1         67   2.180864e+04   \n",
       "\n",
       "    unique_events_share  order_cnt_share  revenue_share  \n",
       "21             0.194286         0.141870   1.118303e-01  \n",
       "3              0.159016         0.218142   1.623074e-01  \n",
       "5              0.148234         0.140051   8.847375e-02  \n",
       "25             0.088779         0.091800   1.246642e-01  \n",
       "22             0.076284         0.061662   1.824828e-02  \n",
       "24             0.051847         0.119669   1.476653e-01  \n",
       "30             0.046607         0.018049   1.986690e-02  \n",
       "26             0.044037         0.035542   3.183439e-02  \n",
       "8              0.034665         0.057110   1.108798e-01  \n",
       "35             0.030836         0.017399   2.594292e-02  \n",
       "12             0.017635         0.009482   1.100747e-02  \n",
       "1              0.013453         0.007267   9.719542e-03  \n",
       "0              0.012445         0.002743   3.030824e-03  \n",
       "19             0.011740         0.021238   4.294473e-02  \n",
       "13             0.011639         0.015341   2.923124e-02  \n",
       "15             0.011437         0.009927   1.365491e-02  \n",
       "6              0.011337         0.006895   1.028456e-02  \n",
       "23             0.009221         0.007434   1.233683e-02  \n",
       "9              0.007104         0.003846   4.411584e-03  \n",
       "11             0.006802         0.005528   8.172548e-03  \n",
       "29             0.002973         0.001373   3.450573e-03  \n",
       "17             0.002318         0.000462   1.641267e-04  \n",
       "10             0.001864         0.000278   2.115200e-04  \n",
       "31             0.001159         0.001116   1.256276e-03  \n",
       "33             0.000907         0.000212   3.447338e-04  \n",
       "2              0.000857         0.000296   4.858670e-04  \n",
       "7              0.000806         0.001318   2.660393e-03  \n",
       "34             0.000453         0.001599   3.109400e-03  \n",
       "27             0.000403         0.001307   5.492153e-04  \n",
       "28             0.000353         0.000431   3.697746e-04  \n",
       "20             0.000151         0.000028   4.268741e-06  \n",
       "14             0.000101         0.000243   6.979967e-04  \n",
       "32             0.000101         0.000076   3.799717e-05  \n",
       "4              0.000050         0.000014   3.676693e-06  \n",
       "16             0.000050         0.000017   4.312266e-07  \n",
       "18             0.000050         0.000233   1.462592e-04  "
      ]
     },
     "execution_count": 45,
     "metadata": {},
     "output_type": "execute_result"
    }
   ],
   "source": [
    "# сгруппируем данные по партнерам и посчитаем число уникальных мероприятий, число заказов и общую выручку\n",
    "service_df = filtered_df.groupby('service_name').agg(unique_events=\n",
    "                                                  ('event_name', 'nunique'),\n",
    "                                                  order_cnt=\n",
    "                                                  ('order_id', 'count'),\n",
    "                                                   total_revenue=\n",
    "                                                    ('revenue_rub', 'sum')).reset_index().sort_values('unique_events',\n",
    "                                                                                                   ascending=False)\n",
    "# добавим столбцы с долями числа мероприятий, часла заказов и обей выручки\n",
    "service_df['unique_events_share'] = service_df['unique_events'] / service_df['unique_events'].sum()\n",
    "service_df['order_cnt_share'] = service_df['order_cnt'] / service_df['order_cnt'].sum()\n",
    "service_df['revenue_share'] = service_df['total_revenue'] / service_df['total_revenue'].sum()\n",
    "service_df"
   ]
  },
  {
   "cell_type": "code",
   "execution_count": 46,
   "metadata": {},
   "outputs": [],
   "source": [
    "top_5_services = service_df.head(5)"
   ]
  },
  {
   "cell_type": "code",
   "execution_count": 47,
   "metadata": {},
   "outputs": [
    {
     "data": {
      "image/png": "[encoded data removed]",
      "text/plain": [
       "<Figure size 864x504 with 2 Axes>"
      ]
     },
     "metadata": {
      "needs_background": "light"
     },
     "output_type": "display_data"
    }
   ],
   "source": [
    "x = np.arange(len(top_5_services['service_name']))\n",
    "width = 0.25  # ширина столбцов\n",
    "\n",
    "fig, ax1 = plt.subplots(figsize=(12,7))\n",
    "\n",
    "# Столбцы для unique_events, order_cnt (активность)\n",
    "bar1 = ax1.bar(x - width/2, top_5_services['unique_events'], width, label='Кол-во мероприятий', color='#1f497d')\n",
    "bar2 = ax1.bar(x + width/2, top_5_services['order_cnt'], width, label='Кол-во заказов', color='#d95f02')\n",
    "\n",
    "ax1.set_ylabel('Кол-во (мероприятия и заказы)')\n",
    "ax1.set_xticks(x)\n",
    "ax1.set_xticklabels(top_5_services['service_name'], rotation=45, ha='right')\n",
    "ax1.grid(axis='y', linestyle='--', alpha=0.7)\n",
    "\n",
    "ax2 = ax1.twinx()\n",
    "bar3 = ax2.bar(x + width*1.5, top_5_services['total_revenue'] / 1e6, width, alpha=0.5, label='Выручка', color='teal')\n",
    "ax2.set_ylabel('Выручка, млн')\n",
    "\n",
    "ax1.legend([bar1, bar2, bar3], ['Кол-во мероприятий', 'Кол-во заказов', 'Выручка'], loc='upper left')\n",
    "\n",
    "plt.title('Топ-5 партнёров по активности: мероприятия, заказы и выручка', fontsize=16)\n",
    "plt.tight_layout()\n",
    "plt.show()"
   ]
  },
  {
   "cell_type": "code",
   "execution_count": 48,
   "metadata": {},
   "outputs": [
    {
     "data": {
      "image/png": "[encoded data removed]",
      "text/plain": [
       "<Figure size 864x504 with 1 Axes>"
      ]
     },
     "metadata": {
      "needs_background": "light"
     },
     "output_type": "display_data"
    }
   ],
   "source": [
    "x = np.arange(len(top_5_services['service_name']))\n",
    "width = 0.25  # ширина столбцов\n",
    "\n",
    "fig, ax1 = plt.subplots(figsize=(12,7))\n",
    "\n",
    "# Столбцы для unique_events, order_cnt (активность)\n",
    "bar1 = ax1.bar(x - width/2, top_5_services['unique_events_share'], width, label='Доля мероприятий', color='#1f497d')\n",
    "bar2 = ax1.bar(x + width/2, top_5_services['order_cnt_share'], width, label='Доля заказов', color='#d95f02')\n",
    "\n",
    "ax1.set_ylabel('Доля (мероприятия и заказы)')\n",
    "ax1.set_xticks(x)\n",
    "ax1.set_xticklabels(top_5_services['service_name'], rotation=45, ha='right')\n",
    "ax1.grid(axis='y', linestyle='--', alpha=0.7)\n",
    "\n",
    "bar3 = ax1.bar(x + width*1.5, top_5_services['revenue_share'], width, alpha=0.5, label='Доля выручки', color='teal')\n",
    "ax1.set_ylabel('Доля')\n",
    "\n",
    "ax1.legend([bar1, bar2, bar3], ['Доля мероприятий', 'Доля заказов', 'Доля выручки'], loc='upper right')\n",
    "\n",
    "plt.title('Топ-5 партнёров по активности: мероприятия, заказы и выручка', fontsize=16)\n",
    "plt.tight_layout()\n",
    "plt.show()"
   ]
  },
  {
   "cell_type": "markdown",
   "metadata": {},
   "source": [
    "Самый активный по разнообразию мероприятий партнер - \"Лови билет!\" - 3 856 уникальных мероприятий за исследуемый период (19.4% всех мероприятий). При этом кол-во заказов и выручка у него меньше, чему у второго по активности партнера \"Билеты без проблем\" - у него самое большое кол-во заказов 62 738 (21,8% всех заказов) и самая большая выручка 24,2 млн руб. (16,2% всей выручки).\n",
    "\n",
    "**Промежуточные выводы**\n",
    "- Два региона — Каменевский и Североярская область — концентрируют основную часть уникальных мероприятий и заказов. Каменевский регион занимает лидирующую позицию с четвертью всех мероприятий (25%) и почти третью часть заказов (31%), Североярская область — вторая по активности с 17% мероприятий и 15% заказов. Это указывает на наличие крупных и активных центров событий в данных регионах.\n",
    "\n",
    "- Среди партнёров по продажам билетов лидер по количеству уникальных мероприятий — \"Лови билет!\" с 19,4% событий, но при этом уступающий по объёму заказов и выручке. \"Билеты без проблем\" занимают второе место по количеству мероприятий, но опережают по заказам (21,8%) и прибыли (16,2%). Это может говорить о более эффективной монетизации и конверсии у второго партнёра, несмотря на меньшую разнообразность мероприятий.\n",
    "\n",
    "- Разрыв между количеством проведённых мероприятий и полученной выручкой свидетельствует об отличиях в качестве или стоимости билетов, а также в конверсионной эффективности партнеров.\n",
    "\n",
    "- В совокупности данные показывают концентрацию активности и выручки в нескольких ведущих регионах и партнёрах, что характерно для зрелого и сегментированного рынка, где ключевые игроки удерживают большую долю.\n",
    "\n",
    "- Такие выводы позволяют сориентироваться в фокусе дальнейших стратегий развития — например, усиливать работу в топ-регионах и с наиболее прибыльными партнёрами, а также анализировать причины высокой конверсии у некоторых игроков для тиражирования успешных практик.\n",
    "\n",
    "**Итог**: концентрация активности и прибыли в определённых регионах и партнёрах указывает на значимые центры влияния на рынке билетов и мероприятий, важные для бизнес-анализа и планирования.\n",
    "\n",
    "[к содержанию](#label_00)\n",
    "\n",
    "---\n",
    "\n",
    "<a id=\"label_4\"></a>\n",
    "### 4. Статистический анализ данных.\n",
    "\n",
    "Коллеги из продуктового отдела хотят отдельно проверить несколько гипотез относительно активности пользователей мобильных и стационарных устройств. Нужно проверить две гипотезы, которые предполагают большую активность пользователей мобильных устройств:\n",
    "- **Среднее количество заказов** на одного пользователя мобильного приложения выше по сравнению с пользователями стационарных устройств.\n",
    "- **Среднее время между заказами** пользователей мобильных приложений выше по сравнению с пользователями стационарных устройств.\n",
    "\n",
    "Гипотезы должны быть проверены только на осенних данных."
   ]
  },
  {
   "cell_type": "code",
   "execution_count": 49,
   "metadata": {},
   "outputs": [
    {
     "data": {
      "text/plain": [
       "array(['mobile', 'desktop'], dtype=object)"
      ]
     },
     "execution_count": 49,
     "metadata": {},
     "output_type": "execute_result"
    }
   ],
   "source": [
    "filtered_df['device_type_canonical'].unique()"
   ]
  },
  {
   "cell_type": "code",
   "execution_count": 50,
   "metadata": {},
   "outputs": [
    {
     "name": "stdout",
     "output_type": "stream",
     "text": [
      "В таблице пользователей десктопров кол-во строк: 4866\n",
      "В таблице пользователей мобильных устройств кол-во строк: 14187\n"
     ]
    }
   ],
   "source": [
    "# отфильтруем данные по осени\n",
    "autumn = filtered_df[filtered_df['season'] == 'осень']\n",
    "# разделим данные на два датафрейма: на стационарных и мобильных устройствах\n",
    "desktop = autumn[autumn['device_type_canonical'] == 'desktop']\n",
    "mobile = autumn[autumn['device_type_canonical'] == 'mobile']\n",
    "# сгруппируем эти датафреймы по пользователям и посчитаем для них кол-во заказов\n",
    "desktop_users = desktop.groupby('user_id').agg(order_cnt=\n",
    "                                                      ('order_id', 'count')).reset_index()\n",
    "mobile_users = mobile.groupby('user_id').agg(order_cnt=\n",
    "                                                    ('order_id', 'count')).reset_index()\n",
    "print(f'В таблице пользователей десктопров кол-во строк: {desktop_users.shape[0]}')\n",
    "print(f'В таблице пользователей мобильных устройств кол-во строк: {mobile_users.shape[0]}')"
   ]
  },
  {
   "cell_type": "markdown",
   "metadata": {},
   "source": [
    "Прежде, чем проводить тесты, нужно исследовать группы на:\n",
    "- пропуски и дубликаты\n",
    "- аномалии и выборсы\n",
    "- пересечеия"
   ]
  },
  {
   "cell_type": "code",
   "execution_count": 51,
   "metadata": {},
   "outputs": [
    {
     "name": "stdout",
     "output_type": "stream",
     "text": [
      "В таблице пользователей десктопов:\n"
     ]
    },
    {
     "data": {
      "text/plain": [
       "'Пропусков в данных нет'"
      ]
     },
     "execution_count": 51,
     "metadata": {},
     "output_type": "execute_result"
    }
   ],
   "source": [
    "# проверим на пропуски \n",
    "tmp = desktop_users.copy()            # Делаем копию текущего датасета\n",
    "missing_stats = pd.DataFrame({'Кол-во пропусков': tmp.isnull().sum(),\n",
    "                              'Доля пропусков': tmp.isnull().mean().round(4)})\n",
    "missing_stats = missing_stats[missing_stats['Кол-во пропусков'] > 0]\n",
    "print('В таблице пользователей десктопов:')\n",
    "missing_stats.style.background_gradient(cmap='Greens') if not missing_stats.empty else \"Пропусков в данных нет\""
   ]
  },
  {
   "cell_type": "code",
   "execution_count": 52,
   "metadata": {},
   "outputs": [
    {
     "name": "stdout",
     "output_type": "stream",
     "text": [
      "В таблице пользователей мобильных устройств:\n"
     ]
    },
    {
     "data": {
      "text/plain": [
       "'Пропусков в данных нет'"
      ]
     },
     "execution_count": 52,
     "metadata": {},
     "output_type": "execute_result"
    }
   ],
   "source": [
    "tmp = mobile_users.copy()            # Делаем копию текущего датасета\n",
    "missing_stats = pd.DataFrame({'Кол-во пропусков': tmp.isnull().sum(),\n",
    "                              'Доля пропусков': tmp.isnull().mean().round(4)})\n",
    "missing_stats = missing_stats[missing_stats['Кол-во пропусков'] > 0]\n",
    "print('В таблице пользователей мобильных устройств:')\n",
    "missing_stats.style.background_gradient(cmap='Greens') if not missing_stats.empty else \"Пропусков в данных нет\""
   ]
  },
  {
   "cell_type": "code",
   "execution_count": 53,
   "metadata": {},
   "outputs": [
    {
     "name": "stdout",
     "output_type": "stream",
     "text": [
      "Дубликатов пользователей десктопов нет.\n"
     ]
    }
   ],
   "source": [
    "# проверим на дубликаты\n",
    "dupl_des = desktop_users.duplicated().sum()\n",
    "if dupl_des == 0:\n",
    "    print('Дубликатов пользователей десктопов нет.')\n",
    "else: \n",
    "    print(f'Найдено {dupl_des} дубликатов среди пользователей десктопов.')"
   ]
  },
  {
   "cell_type": "code",
   "execution_count": 54,
   "metadata": {},
   "outputs": [
    {
     "name": "stdout",
     "output_type": "stream",
     "text": [
      "Дубликатов пользователей мобильных устройств нет.\n"
     ]
    }
   ],
   "source": [
    "dupl_mob = mobile_users.duplicated().sum()\n",
    "if dupl_mob == 0:\n",
    "    print('Дубликатов пользователей мобильных устройств нет.')\n",
    "else: \n",
    "    print(f'Найдено {dupl_mob} дубликатов среди пользователей мобильных устройств.')"
   ]
  },
  {
   "cell_type": "code",
   "execution_count": 55,
   "metadata": {},
   "outputs": [
    {
     "name": "stdout",
     "output_type": "stream",
     "text": [
      "Пересечения есть, кол-во: 3248\n"
     ]
    }
   ],
   "source": [
    "# проверим выборки на пересечение\n",
    "group_a = set(desktop_users['user_id'])\n",
    "group_b = set(mobile_users['user_id'])\n",
    "intersection = group_a & group_b\n",
    "if intersection:\n",
    "    print(f'Пересечения есть, кол-во: {len(intersection)}')\n",
    "else:\n",
    "    print('Пересечений нет')\n",
    "    "
   ]
  },
  {
   "cell_type": "markdown",
   "metadata": {},
   "source": [
    "Слишком много пересечений, удалим их из обоих выборок."
   ]
  },
  {
   "cell_type": "code",
   "execution_count": 56,
   "metadata": {},
   "outputs": [
    {
     "name": "stdout",
     "output_type": "stream",
     "text": [
      "В таблице пользователей десктопров осталось строк: 1618\n",
      "В таблице пользователей мобильных устройств осталось строк: 10939\n"
     ]
    }
   ],
   "source": [
    "desktop_users_filt = desktop_users.loc[~desktop_users['user_id'].isin(intersection)]\n",
    "mobile_users_filt = mobile_users.loc[~mobile_users['user_id'].isin(intersection)]\n",
    "print(f'В таблице пользователей десктопров осталось строк: {desktop_users_filt.shape[0]}')\n",
    "print(f'В таблице пользователей мобильных устройств осталось строк: {mobile_users_filt.shape[0]}')"
   ]
  },
  {
   "cell_type": "code",
   "execution_count": 57,
   "metadata": {},
   "outputs": [
    {
     "data": {
      "text/plain": [
       "count    1618.000000\n",
       "mean        1.972188\n",
       "std         3.075805\n",
       "min         1.000000\n",
       "25%         1.000000\n",
       "50%         1.000000\n",
       "75%         2.000000\n",
       "max        56.000000\n",
       "Name: order_cnt, dtype: float64"
      ]
     },
     "metadata": {},
     "output_type": "display_data"
    },
    {
     "data": {
      "text/plain": [
       "count    10939.000000\n",
       "mean         2.858945\n",
       "std          4.097207\n",
       "min          1.000000\n",
       "25%          1.000000\n",
       "50%          2.000000\n",
       "75%          3.000000\n",
       "max        123.000000\n",
       "Name: order_cnt, dtype: float64"
      ]
     },
     "metadata": {},
     "output_type": "display_data"
    }
   ],
   "source": [
    "# посмотрим, как распределены статистики в этих выборках\n",
    "display(desktop_users_filt['order_cnt'].describe())\n",
    "display(mobile_users_filt['order_cnt'].describe())"
   ]
  },
  {
   "cell_type": "markdown",
   "metadata": {},
   "source": [
    "Стандартные отклонения (следовательно и дисперсии) у выборок сильно отличаются, выборки не одинаковые по кол-ву. Для проверки гипотезы о среднем кол-ве заказов на пользователя в этом случае подойдет t-тест Уэлча.\n",
    "\n",
    "Сформулируем гипотезы:\n",
    "- $H_{0}$ - **Среднее кол-во заказов** у пользователей десктопов и мобильных устройств не различается ($\\mu_{d}=\\mu_{m}$)\n",
    "- $H_{1}$ - **Среднее кол-во заказов** у пользователей мобильных устройств выше, чем у пользователей десктопов ($\\mu_{m}>\\mu_{d}$)"
   ]
  },
  {
   "cell_type": "code",
   "execution_count": 58,
   "metadata": {},
   "outputs": [
    {
     "name": "stdout",
     "output_type": "stream",
     "text": [
      "t-статистика: 10.3211\n",
      "p-value: 8.515664394767323e-25\n",
      "Отвергаем нулевую гипотезу. Есть статистические доказательства, что среднее кол-во заказов у пользователей мобильных устройств выше.\n"
     ]
    }
   ],
   "source": [
    "# считаем тест Уэлча\n",
    "grp_a = desktop_users_filt['order_cnt']\n",
    "grp_b = mobile_users_filt['order_cnt']\n",
    "\n",
    "result = ttest_ind(grp_b, grp_a, \n",
    "                  alternative='greater', # проверяем гипотезу (𝜇_𝑚>𝜇_𝑑)\n",
    "                  equal_var=False) # включаем тест Уэлча\n",
    "\n",
    "print(f't-статистика: {round(result.statistic, 4)}')\n",
    "print(f'p-value: {result.pvalue}')\n",
    "\n",
    "# Интерпретация:\n",
    "alpha = 0.05 # уровень значимости\n",
    "if result.pvalue < alpha:\n",
    "    print('Отвергаем нулевую гипотезу. Есть статистические доказательства, что среднее кол-во заказов у пользователей мобильных устройств выше.')\n",
    "else:\n",
    "    print('Не отвергаем нулевую гипотезу. Статистических доказательств того, среднее кол-во заказов у пользователей мобильных устройств выше, нет.')"
   ]
  },
  {
   "cell_type": "markdown",
   "metadata": {},
   "source": [
    "p-значение получилось очень маленьким, что дает нам статистически значимое доказательство гипотезы о том, что среднее кол-во заказов у пользователей мобильных устройств выше, чем у пользователей десктопов.\n",
    "\n",
    "Это отличие видно было и из расчета среднего выше:\n",
    "- 1,97 у пользователей десктопов\n",
    "- 2,86 у пользователей мобильных устройств.\n",
    "\n",
    "Теперь приступим к анализу данных для проверки второй гипотезы о среднем времени между заказами пользователей мобильных устройств и десктопов."
   ]
  },
  {
   "cell_type": "code",
   "execution_count": 59,
   "metadata": {},
   "outputs": [
    {
     "name": "stdout",
     "output_type": "stream",
     "text": [
      "В таблице пользователей десктопров осталось строк: 894\n",
      "В таблице пользователей мобильных устройств осталось строк: 7053\n"
     ]
    },
    {
     "data": {
      "text/html": [
       "<div>\n",
       "<style scoped>\n",
       "    .dataframe tbody tr th:only-of-type {\n",
       "        vertical-align: middle;\n",
       "    }\n",
       "\n",
       "    .dataframe tbody tr th {\n",
       "        vertical-align: top;\n",
       "    }\n",
       "\n",
       "    .dataframe thead th {\n",
       "        text-align: right;\n",
       "    }\n",
       "</style>\n",
       "<table border=\"1\" class=\"dataframe\">\n",
       "  <thead>\n",
       "    <tr style=\"text-align: right;\">\n",
       "      <th></th>\n",
       "      <th>avg_days</th>\n",
       "    </tr>\n",
       "  </thead>\n",
       "  <tbody>\n",
       "    <tr>\n",
       "      <th>count</th>\n",
       "      <td>894.000000</td>\n",
       "    </tr>\n",
       "    <tr>\n",
       "      <th>mean</th>\n",
       "      <td>31.359261</td>\n",
       "    </tr>\n",
       "    <tr>\n",
       "      <th>std</th>\n",
       "      <td>36.562824</td>\n",
       "    </tr>\n",
       "    <tr>\n",
       "      <th>min</th>\n",
       "      <td>0.000000</td>\n",
       "    </tr>\n",
       "    <tr>\n",
       "      <th>25%</th>\n",
       "      <td>0.000000</td>\n",
       "    </tr>\n",
       "    <tr>\n",
       "      <th>50%</th>\n",
       "      <td>16.000000</td>\n",
       "    </tr>\n",
       "    <tr>\n",
       "      <th>75%</th>\n",
       "      <td>53.000000</td>\n",
       "    </tr>\n",
       "    <tr>\n",
       "      <th>max</th>\n",
       "      <td>146.000000</td>\n",
       "    </tr>\n",
       "  </tbody>\n",
       "</table>\n",
       "</div>"
      ],
      "text/plain": [
       "         avg_days\n",
       "count  894.000000\n",
       "mean    31.359261\n",
       "std     36.562824\n",
       "min      0.000000\n",
       "25%      0.000000\n",
       "50%     16.000000\n",
       "75%     53.000000\n",
       "max    146.000000"
      ]
     },
     "metadata": {},
     "output_type": "display_data"
    },
    {
     "data": {
      "text/html": [
       "<div>\n",
       "<style scoped>\n",
       "    .dataframe tbody tr th:only-of-type {\n",
       "        vertical-align: middle;\n",
       "    }\n",
       "\n",
       "    .dataframe tbody tr th {\n",
       "        vertical-align: top;\n",
       "    }\n",
       "\n",
       "    .dataframe thead th {\n",
       "        text-align: right;\n",
       "    }\n",
       "</style>\n",
       "<table border=\"1\" class=\"dataframe\">\n",
       "  <thead>\n",
       "    <tr style=\"text-align: right;\">\n",
       "      <th></th>\n",
       "      <th>avg_days</th>\n",
       "    </tr>\n",
       "  </thead>\n",
       "  <tbody>\n",
       "    <tr>\n",
       "      <th>count</th>\n",
       "      <td>7053.000000</td>\n",
       "    </tr>\n",
       "    <tr>\n",
       "      <th>mean</th>\n",
       "      <td>25.231760</td>\n",
       "    </tr>\n",
       "    <tr>\n",
       "      <th>std</th>\n",
       "      <td>30.191755</td>\n",
       "    </tr>\n",
       "    <tr>\n",
       "      <th>min</th>\n",
       "      <td>0.000000</td>\n",
       "    </tr>\n",
       "    <tr>\n",
       "      <th>25%</th>\n",
       "      <td>2.851852</td>\n",
       "    </tr>\n",
       "    <tr>\n",
       "      <th>50%</th>\n",
       "      <td>14.000000</td>\n",
       "    </tr>\n",
       "    <tr>\n",
       "      <th>75%</th>\n",
       "      <td>36.000000</td>\n",
       "    </tr>\n",
       "    <tr>\n",
       "      <th>max</th>\n",
       "      <td>148.000000</td>\n",
       "    </tr>\n",
       "  </tbody>\n",
       "</table>\n",
       "</div>"
      ],
      "text/plain": [
       "          avg_days\n",
       "count  7053.000000\n",
       "mean     25.231760\n",
       "std      30.191755\n",
       "min       0.000000\n",
       "25%       2.851852\n",
       "50%      14.000000\n",
       "75%      36.000000\n",
       "max     148.000000"
      ]
     },
     "metadata": {},
     "output_type": "display_data"
    }
   ],
   "source": [
    "# посчитаем у пользователей десктопов и мобильных устройств среднее время между заказами\n",
    "desktops_days = desktop.groupby('user_id').agg(avg_days=('days_since_prev', 'mean')).reset_index()\n",
    "mobile_days = mobile.groupby('user_id').agg(avg_days=('days_since_prev', 'mean')).reset_index()\n",
    "# удалим пропуски в столбце days_since_prev\n",
    "desktops_days = desktops_days.dropna(subset=['avg_days'])\n",
    "mobile_days = mobile_days.dropna(subset=['avg_days'])\n",
    "# удалим пересекающихся пользователей (это те же, что и в выборках предыдущей гипотезы)\n",
    "desktops_days_filt = desktops_days.loc[~desktops_days['user_id'].isin(intersection)]\n",
    "mobile_days_filt = mobile_days.loc[~mobile_days['user_id'].isin(intersection)]\n",
    "print(f'В таблице пользователей десктопров осталось строк: {desktops_days_filt.shape[0]}')\n",
    "print(f'В таблице пользователей мобильных устройств осталось строк: {mobile_days_filt.shape[0]}')\n",
    "# выведем статистики по этим выборкам\n",
    "display(desktops_days_filt.describe())\n",
    "display(mobile_days_filt.describe())"
   ]
  },
  {
   "cell_type": "markdown",
   "metadata": {},
   "source": [
    "Стандартное отклонение среднего времени между заказами у пользователей десктопов 36,56, а у пользователей мобильных устройств - 30,19 (21% разницы). Кол-ва пользователей в выборках различается почти в 8 раз. Для проверки гипотезы о среднем времени между заказами в этом случае тоже подойдет тест Уэлча.\n",
    "\n",
    "Сформулируем гипотезы:\n",
    "- $H_{0}$ - **Среднее время между заказами** у пользователей десктопов и мобильных устройств не различается ($\\mu_{d}=\\mu_{m}$)\n",
    "- $H_{1}$ - **Среднее время между заказами** у пользователей мобильных устройств выше, чем у пользователей десктопов ($\\mu_{m}>\\mu_{d}$)"
   ]
  },
  {
   "cell_type": "code",
   "execution_count": 60,
   "metadata": {},
   "outputs": [
    {
     "name": "stdout",
     "output_type": "stream",
     "text": [
      "t-статистика: -4.8074\n",
      "p-value: 0.9999991244565929\n",
      "Не отвергаем нулевую гипотезу. Статистических доказательств того, среднее время между заказами у пользователей мобильных устройств выше, нет.\n"
     ]
    }
   ],
   "source": [
    "## считаем тест Уэлча\n",
    "grp_d = desktops_days_filt['avg_days']\n",
    "grp_m = mobile_days_filt['avg_days']\n",
    "\n",
    "result = ttest_ind(grp_m, grp_d, \n",
    "                  alternative='greater', # проверяем гипотезу (𝜇_𝑚>𝜇_𝑑)\n",
    "                  equal_var=False) # включаем тест Уэлча\n",
    "\n",
    "print(f't-статистика: {round(result.statistic, 4)}')\n",
    "print(f'p-value: {result.pvalue}')\n",
    "\n",
    "# Интерпретация:\n",
    "alpha = 0.05 # уровень значимости\n",
    "if result.pvalue < alpha:\n",
    "    print('Отвергаем нулевую гипотезу. Есть статистические доказательства, что среднее время между заказами у пользователей мобильных устройств выше.')\n",
    "else:\n",
    "    print('Не отвергаем нулевую гипотезу. Статистических доказательств того, среднее время между заказами у пользователей мобильных устройств выше, нет.')"
   ]
  },
  {
   "cell_type": "markdown",
   "metadata": {},
   "source": [
    "p-значение почти 1, нет статистически значемых оснований отвергать нулевую гипотезу.\n",
    "\n",
    "**Промежуточные выводы**\n",
    "\n",
    "- Предположение, что **среднее кол-во заказов** у пользователей мобильных устройств выше, чем у пользователей десктопов, статистически подтвердилось.\n",
    "\n",
    "- Предложение, что **среднее время мезду заказами** у пользователей мобильных устройств выше, чему у пользователей десктопов, статистически не подтвердилось.\n",
    "\n",
    "[к содержанию](#label_00)\n",
    "\n",
    "---\n",
    "\n",
    "<a id=\"label_5\"></a>\n",
    "### 5. Общий вывод и рекомендации.\n",
    "\n",
    "#### Информация о данных.\n",
    "\n",
    "Были загружены три таблицы:\n",
    "\n",
    "- `order_df` - таблица с заказами и выручкой\n",
    "- `event_df` - таблица с событиями, городами и регионами\n",
    "- `tenge_df` - таблица с курсом казахской тенге\n",
    "\n",
    "В загруженных таблицах пропуски были только в таблице с заказами в столбце с кол-вом дней между заказами (у пользователей, у которых всего один заказ, в этом столбце пропуск, что очевидно). Явных и неявных дубликатов в этих таблицах не обнаружено.\n",
    "\n",
    "Потом эти таблицы были объединены в одну. При соединении появилось 238 пропусков в столбцах из таблицы event_df. Их удалили.\n",
    "\n",
    "В объединенной таблице были исследованы числовые столбцы. В ходе исследования были обнаружены выбросы в столбцах с выручкой и кол-вом билетов. Данные были отфильтрованы по 99му процентилю, чтобы убрать выбросы.\n",
    "\n",
    "Итоговый размер отфильтрованной таблицы составляет 287602 строк и 32 столбца.\n",
    "\n",
    "Типы данных были приведены к соответствующим и понижены в размерности.\n",
    "\n",
    "Были добавлены 4 новых столбца:\n",
    "\n",
    "revenue_rub — привели выручку с заказа к единой валюте — российскому рублю.\n",
    "one_ticket_revenue_rub — выручка с продажи одного билета на мероприятие.\n",
    "month — месяц оформления заказа.\n",
    "season — столбец сезонности с двумя значениями 'лето', 'осень' (т.к. у нас данные только за 3 месяца лета и 2 месяца осени).\n",
    "\n",
    "#### Основные результаты анализа.\n",
    "\n",
    "**Анализ распределения заказов по сегментам и их сезонные изменения.**\n",
    "\n",
    "Заказы по типам мероприятий и устройствам\n",
    "- Абсолютное количество заказов осенью выросло по сравнению с летом.\n",
    "- По типам мероприятий осенью наблюдается увеличение общего объема заказов с июня по октябрь, с ускорением после августа.\n",
    "- Лидирует категория «Концерты», которая сохраняет свои позиции.\n",
    "- «Театр» поднялся на второе место, сместив категорию «Другое».\n",
    "- «Спорт» усилился, вытеснив «Стендап» с четвёртого места.\n",
    "- Доли заказов по типам мероприятий показывают уменьшение у концертов и рост у театра и спорта осенью.\n",
    "- Доли заказов по типу устройства остались почти неизменными летом и осенью, при этом абсолютные значения заказов по устройствам выросли осенью.\n",
    "\n",
    "Заказы по возрастным рейтингам\n",
    "- В абсолютных значениях осенью выросли заказы по всем возрастным категориям, кроме 18+.\n",
    "- В относительных долях категории 6+ осталась почти неизменной.\n",
    "- Доли 0 и 12+ выросли.\n",
    "- Доли 16+ и 18+ снизились осенью.\n",
    "\n",
    "Средняя выручка с билета\n",
    "- Средняя выручка с одного билета стабильно снижалась всё лето и сентябрь, с незначительным отскоком в октябре, который не компенсирует снижение.\n",
    "- Выручка с одного билета распределилась по ценовым категориям:\n",
    "    - До 100 руб: выставки, другое, спорт.\n",
    "    - От 150 до 250 руб: стендап и театр.\n",
    "    - От 250 руб и выше: концерты и ёлки.\n",
    "- Общая тенденция — снижение выручки осенью, исключение составляют стендап и выставки.\n",
    "- Самое сильное падение выручки наблюдается у театров.\n",
    "- Самый значимый рост выручки зафиксирован у стендапа.\n",
    "\n",
    "**Осенняя активность пользователей.**\n",
    "\n",
    "Виден рост DAU с начала сентября и по конец октября.\n",
    "\n",
    "Средняя выручка с одного заказа стабильна (движется вбок), есть провалы в начале сентября, в начале и в конце октября (видимо были акции). В эти же дни видим всплеск покупательской активности - резко выросло кол-во заказов и среднее кол-во заказов на пользователя в эти дни. Кол-во заказов и среднее кол-во заказов на пользователя растут за период этих двух месяцев, причем кол-во заказов растет чуть быстрее, чем кол-во заказов на одного пользователя.\n",
    "\n",
    "*Активность пользователей по дням недели осени*:\n",
    "- Среднее кол-во пользователей растет с понедельника по пятницу (максимум), небольшой всплеск во вторник, на выходные идет спад.\n",
    "- Среднее кол-во заказов тоже растет с понедельника по пятрицу, но есть пик во вторник (максимум). В выходные спад.\n",
    "- Средняя выручка также растет с понедельника по пятницу (максимум). Есть небольшой всплеск во вторник, но не такой высокий, как ожидалось по пику заказов - видимо были акции и цена была ниже.\n",
    "\n",
    "По всей видимости акции запускают во вторник, т.к. в этот день наблюдается максимум кол-ва заказов, при этом кол-во пользователей и выручка хоть и выше понедельника, но ниже пятничного максимума.\n",
    "\n",
    "**Популярные события и партнёры.**\n",
    "\n",
    "- Два региона — Каменевский и Североярская область — концентрируют основную часть уникальных мероприятий и заказов. Каменевский регион занимает лидирующую позицию с четвертью всех мероприятий (25%) и почти третью часть заказов (31%), Североярская область — вторая по активности с 17% мероприятий и 15% заказов. Это указывает на наличие крупных и активных центров событий в данных регионах.\n",
    "\n",
    "- Среди партнёров по продажам билетов лидер по количеству уникальных мероприятий — \"Лови билет!\" с 19,4% событий, но при этом уступающий по объёму заказов и выручке. \"Билеты без проблем\" занимают второе место по количеству мероприятий, но опережают по заказам (21,8%) и прибыли (16,2%). Это может говорить о более эффективной монетизации и конверсии у второго партнёра, несмотря на меньшую разнообразность мероприятий.\n",
    "\n",
    "- Разрыв между количеством проведённых мероприятий и полученной выручкой свидетельствует об отличиях в качестве или стоимости билетов, а также в конверсионной эффективности партнеров.\n",
    "\n",
    "- В совокупности данные показывают концентрацию активности и выручки в нескольких ведущих регионах и партнёрах, что характерно для зрелого и сегментированного рынка, где ключевые игроки удерживают большую долю.\n",
    "\n",
    "- Такие выводы позволяют сориентироваться в фокусе дальнейших стратегий развития — например, усиливать работу в топ-регионах и с наиболее прибыльными партнёрами, а также анализировать причины высокой конверсии у некоторых игроков для тиражирования успешных практик.\n",
    "\n",
    "Итог: концентрация активности и прибыли в определённых регионах и партнёрах указывает на значимые центры влияния на рынке билетов и мероприятий, важные для бизнес-анализа и планирования.\n",
    "\n",
    "**Статистический анализ данных.**\n",
    "\n",
    "Были проверены два предположения по пользователях мобильных и десктопных устройств в осенний период.\n",
    "\n",
    "Были выделены две группы пользователей: с мобильных устройств и с десктопов. По этим выборкам сделаны проверки на пропуски, дубилкаты, пересечения. Выборки были откорректированы по результатам этого анализа. У выборок оказались сильно различающиеся кол-ва пользователей, и их дисперсии значительно различались. Поэтому в качестве статистического теста был выбран t-тест Уэлча.\n",
    "\n",
    "1. Для **среднего кол-ва заказов** на одного пользователя были выдвинуты нулевая и альтернативная гипотезы:\n",
    "- $H_{0}$ - **Среднее кол-во заказов** у пользователей десктопов и мобильных устройств не различается ($\\mu_{d}=\\mu_{m}$)\n",
    "- $H_{1}$ - **Среднее кол-во заказов** у пользователей мобильных устройств выше, чем у пользователей десктопов ($\\mu_{m}>\\mu_{d}$)\n",
    "\n",
    "    Статистический тест Уэлча показал очень маленькое p-значение, что говорит об отклонении нулевой гипотезы.\n",
    "\n",
    "2. Для **среднего времени между заказами** пользователей были выдвинуты нулевая и альтернативная гипотезы:\n",
    "- $H_{0}$ - **Среднее время между заказами** у пользователей десктопов и мобильных устройств не различается ($\\mu_{d}=\\mu_{m}$)\n",
    "- $H_{1}$ - **Среднее время между заказами** у пользователей мобильных устройств выше, чем у пользователей десктопов ($\\mu_{m}>\\mu_{d}$)\n",
    "    \n",
    "    Статистический тест Уэлча показал очень высокое p-значение (почти 1), что не дало отвергнуть нулевую гипотезу.\n",
    "    \n",
    "#### Итоговые выводы\n",
    "\n",
    "- Осенью наблюдается общий рост активности пользователей и объёма заказов по большинству категорий мероприятий и возрастных групп, при этом заметно смещаются лидерские позиции по типам событий (театр и спорт укрепляют позиции, концерты теряют долю).\n",
    "\n",
    "- Средняя выручка с билета имеет устойчивую тенденцию к снижению осенью, особенно сильно упала у театра, при этом стендап и выставки показали рост выручки, что может указывать на изменение предпочтений аудитории и ценовой политики.\n",
    "\n",
    "- Активность пользователей (DAU и заказы) активно росла с сентября по октябрь, с отдельными всплесками в ключевые дни, совпадающие с акциями, однако в конце октября произошёл спад активности.\n",
    "\n",
    "- Концентрация мероприятий и продаж по регионам и партнёрам выявила устойчивые центры активности (Каменевский регион и Североярская область) и различия в эффективности партнёров — это важный фактор для дальнейших стратегий.\n",
    "\n",
    "- Статистический анализ показал, что пользоваели с мобильных устройств делают больше заказов, чем с десктопов, однако время между заказами у этих групп статистически не отличается.\n",
    "\n",
    "**Возможные причины снижения активности в конце октября**\n",
    "- Всплески покупательской активности и провалы выручки и заказов в начале сентября и октября связаны с акциями, после которых в конце октября наблюдается спад, что типично после завершения маркетинговых кампаний.\n",
    "\n",
    "- Вероятно, спад обусловлен окончанием сезонов акций и скидок, снижением частоты проведения стимулирующих мероприятий или сезонным фактором (конец осени традиционно менее активное время для развлечений).\n",
    "\n",
    "- Также снижение могло быть вызвано усталостью аудитории после интенсивного периода акций либо переключением интересов пользователей на другие виды активности.\n",
    "\n",
    "**Рекомендации**\n",
    "- Усилить работу с топ-регионами (Каменевский и Североярская область) и наиболее эффективными партнёрами для удержания и наращивания доли продаж.\n",
    "\n",
    "- Анализировать успешные практики партнёров с высокой конверсией и применять их к другим регионам и сегментам.\n",
    "\n",
    "- Пересмотреть ценовую стратегию по театру и концертам, учитывая сильное снижение выручки, возможно повысить привлекательность с помощью специальных предложений или новых форматов.\n",
    "\n",
    "- Планировать акции и маркетинговые кампании с учётом сезонности, чтобы избегать резких провалов активности, а также продлевать положительный эффект от акций.\n",
    "\n",
    "- В дальнейшем детальнее исследовать поведение мобильных пользователей, учитывая их большую активность, для разработки персонализированных предложений и улучшения опыта покупок на мобильных устройствах.\n",
    "\n",
    "- Наблюдать за динамикой активности в конце периода акций и проверять, нет ли факторов, влияющих на снижение, помимо естественной сезонности.\n",
    "\n",
    "Таким образом, падение активности в конце октября объяснимо завершением акций и сезонными особенностями, и требует корректировки маркетинговой стратегии для сглаживания этих спадов."
   ]
  }
 ],
 "metadata": {
  "ExecuteTimeLog": [
   {
    "duration": 945,
    "start_time": "2025-09-16T11:36:18.624Z"
   },
   {
    "duration": 95,
    "start_time": "2025-09-16T11:36:46.251Z"
   },
   {
    "duration": 993,
    "start_time": "2025-09-16T11:37:15.075Z"
   },
   {
    "duration": 174,
    "start_time": "2025-09-16T11:37:27.579Z"
   },
   {
    "duration": 165,
    "start_time": "2025-09-16T11:38:06.938Z"
   },
   {
    "duration": 955,
    "start_time": "2025-09-16T11:39:16.974Z"
   },
   {
    "duration": 1057,
    "start_time": "2025-09-16T11:39:17.931Z"
   },
   {
    "duration": 195,
    "start_time": "2025-09-16T11:39:18.989Z"
   },
   {
    "duration": 193,
    "start_time": "2025-09-16T11:39:19.187Z"
   },
   {
    "duration": 315,
    "start_time": "2025-09-16T11:39:34.096Z"
   },
   {
    "duration": 26,
    "start_time": "2025-09-16T11:40:02.912Z"
   },
   {
    "duration": 22,
    "start_time": "2025-09-16T11:40:26.312Z"
   },
   {
    "duration": 19,
    "start_time": "2025-09-16T11:40:51.208Z"
   },
   {
    "duration": 489,
    "start_time": "2025-09-16T11:41:17.496Z"
   },
   {
    "duration": 186,
    "start_time": "2025-09-16T11:41:30.424Z"
   },
   {
    "duration": 967,
    "start_time": "2025-09-16T11:41:58.681Z"
   },
   {
    "duration": 393,
    "start_time": "2025-09-16T11:42:34.281Z"
   },
   {
    "duration": 277,
    "start_time": "2025-09-16T11:43:04.793Z"
   },
   {
    "duration": 93,
    "start_time": "2025-09-16T11:43:34.714Z"
   },
   {
    "duration": 31,
    "start_time": "2025-09-16T11:44:00.449Z"
   },
   {
    "duration": 5744,
    "start_time": "2025-09-16T11:44:23.857Z"
   },
   {
    "duration": 15,
    "start_time": "2025-09-16T12:21:01.532Z"
   },
   {
    "duration": 7,
    "start_time": "2025-09-16T12:33:43.432Z"
   },
   {
    "duration": 228,
    "start_time": "2025-09-16T12:34:31.664Z"
   },
   {
    "duration": 41,
    "start_time": "2025-09-16T12:34:46.809Z"
   },
   {
    "duration": 69,
    "start_time": "2025-09-16T12:36:18.129Z"
   },
   {
    "duration": 52,
    "start_time": "2025-09-16T12:36:48.185Z"
   },
   {
    "duration": 1173,
    "start_time": "2025-09-16T12:51:11.905Z"
   },
   {
    "duration": 966,
    "start_time": "2025-09-16T12:51:13.080Z"
   },
   {
    "duration": 163,
    "start_time": "2025-09-16T12:51:14.048Z"
   },
   {
    "duration": 181,
    "start_time": "2025-09-16T12:51:14.213Z"
   },
   {
    "duration": 311,
    "start_time": "2025-09-16T12:51:14.396Z"
   },
   {
    "duration": 25,
    "start_time": "2025-09-16T12:51:14.709Z"
   },
   {
    "duration": 40,
    "start_time": "2025-09-16T12:51:14.736Z"
   },
   {
    "duration": 20,
    "start_time": "2025-09-16T12:51:14.778Z"
   },
   {
    "duration": 563,
    "start_time": "2025-09-16T12:51:14.800Z"
   },
   {
    "duration": 201,
    "start_time": "2025-09-16T12:51:15.370Z"
   },
   {
    "duration": 486,
    "start_time": "2025-09-16T12:51:15.573Z"
   },
   {
    "duration": 421,
    "start_time": "2025-09-16T12:51:16.062Z"
   },
   {
    "duration": 287,
    "start_time": "2025-09-16T12:51:16.486Z"
   },
   {
    "duration": 109,
    "start_time": "2025-09-16T12:51:16.777Z"
   },
   {
    "duration": 32,
    "start_time": "2025-09-16T12:51:16.888Z"
   },
   {
    "duration": 5528,
    "start_time": "2025-09-16T12:51:16.921Z"
   },
   {
    "duration": 22,
    "start_time": "2025-09-16T12:51:22.451Z"
   },
   {
    "duration": 62,
    "start_time": "2025-09-16T12:51:22.475Z"
   },
   {
    "duration": 84,
    "start_time": "2025-09-16T12:52:34.356Z"
   },
   {
    "duration": 46,
    "start_time": "2025-09-16T12:52:44.156Z"
   },
   {
    "duration": 240,
    "start_time": "2025-09-16T13:09:03.242Z"
   },
   {
    "duration": 273,
    "start_time": "2025-09-16T13:11:59.907Z"
   },
   {
    "duration": 237,
    "start_time": "2025-09-16T13:14:30.387Z"
   },
   {
    "duration": 5988,
    "start_time": "2025-09-16T13:35:00.617Z"
   },
   {
    "duration": 6611,
    "start_time": "2025-09-16T13:36:31.529Z"
   },
   {
    "duration": 1304,
    "start_time": "2025-09-16T13:38:01.974Z"
   },
   {
    "duration": 1050,
    "start_time": "2025-09-16T13:38:03.281Z"
   },
   {
    "duration": 193,
    "start_time": "2025-09-16T13:38:04.332Z"
   },
   {
    "duration": 185,
    "start_time": "2025-09-16T13:38:04.527Z"
   },
   {
    "duration": 304,
    "start_time": "2025-09-16T13:38:04.714Z"
   },
   {
    "duration": 25,
    "start_time": "2025-09-16T13:38:05.021Z"
   },
   {
    "duration": 102,
    "start_time": "2025-09-16T13:38:05.048Z"
   },
   {
    "duration": 48,
    "start_time": "2025-09-16T13:38:05.152Z"
   },
   {
    "duration": 530,
    "start_time": "2025-09-16T13:38:05.201Z"
   },
   {
    "duration": 210,
    "start_time": "2025-09-16T13:38:05.733Z"
   },
   {
    "duration": 528,
    "start_time": "2025-09-16T13:38:05.944Z"
   },
   {
    "duration": 465,
    "start_time": "2025-09-16T13:38:06.475Z"
   },
   {
    "duration": 318,
    "start_time": "2025-09-16T13:38:06.942Z"
   },
   {
    "duration": 123,
    "start_time": "2025-09-16T13:38:07.263Z"
   },
   {
    "duration": 69,
    "start_time": "2025-09-16T13:38:07.388Z"
   },
   {
    "duration": 6048,
    "start_time": "2025-09-16T13:38:07.459Z"
   },
   {
    "duration": 15,
    "start_time": "2025-09-16T13:38:13.508Z"
   },
   {
    "duration": 88,
    "start_time": "2025-09-16T13:38:13.525Z"
   },
   {
    "duration": 262,
    "start_time": "2025-09-16T13:38:13.614Z"
   },
   {
    "duration": 5739,
    "start_time": "2025-09-16T13:38:13.878Z"
   },
   {
    "duration": 5,
    "start_time": "2025-09-16T13:40:58.972Z"
   },
   {
    "duration": 36,
    "start_time": "2025-09-16T13:41:11.084Z"
   },
   {
    "duration": 5,
    "start_time": "2025-09-16T13:42:36.428Z"
   },
   {
    "duration": 37,
    "start_time": "2025-09-16T13:42:37.348Z"
   },
   {
    "duration": 27,
    "start_time": "2025-09-16T13:45:54.093Z"
   },
   {
    "duration": 35,
    "start_time": "2025-09-16T13:46:13.844Z"
   },
   {
    "duration": 3416,
    "start_time": "2025-09-16T13:51:06.783Z"
   },
   {
    "duration": 2869,
    "start_time": "2025-09-16T13:52:11.054Z"
   },
   {
    "duration": 3049,
    "start_time": "2025-09-16T13:52:32.135Z"
   },
   {
    "duration": 2998,
    "start_time": "2025-09-16T13:53:22.751Z"
   },
   {
    "duration": 4839,
    "start_time": "2025-09-16T13:58:16.081Z"
   },
   {
    "duration": 169,
    "start_time": "2025-09-16T13:58:35.632Z"
   },
   {
    "duration": 84,
    "start_time": "2025-09-16T14:20:03.486Z"
   },
   {
    "duration": 86,
    "start_time": "2025-09-16T14:20:35.925Z"
   },
   {
    "duration": 92,
    "start_time": "2025-09-16T14:20:45.373Z"
   },
   {
    "duration": 32,
    "start_time": "2025-09-16T14:21:05.725Z"
   },
   {
    "duration": 24,
    "start_time": "2025-09-16T14:32:06.331Z"
   },
   {
    "duration": 185,
    "start_time": "2025-09-16T14:34:09.004Z"
   },
   {
    "duration": 176,
    "start_time": "2025-09-16T14:35:05.676Z"
   },
   {
    "duration": 195,
    "start_time": "2025-09-16T14:36:23.364Z"
   },
   {
    "duration": 173,
    "start_time": "2025-09-16T14:38:06.572Z"
   },
   {
    "duration": 181,
    "start_time": "2025-09-16T14:41:08.541Z"
   },
   {
    "duration": 184,
    "start_time": "2025-09-16T14:41:22.741Z"
   },
   {
    "duration": 185,
    "start_time": "2025-09-16T14:41:59.845Z"
   },
   {
    "duration": 161,
    "start_time": "2025-09-16T14:43:29.822Z"
   },
   {
    "duration": 179,
    "start_time": "2025-09-16T14:46:34.078Z"
   },
   {
    "duration": 176,
    "start_time": "2025-09-16T14:46:54.254Z"
   },
   {
    "duration": 1237,
    "start_time": "2025-09-16T14:59:16.125Z"
   },
   {
    "duration": 1023,
    "start_time": "2025-09-16T14:59:17.363Z"
   },
   {
    "duration": 184,
    "start_time": "2025-09-16T14:59:18.387Z"
   },
   {
    "duration": 206,
    "start_time": "2025-09-16T14:59:18.575Z"
   },
   {
    "duration": 341,
    "start_time": "2025-09-16T14:59:18.784Z"
   },
   {
    "duration": 25,
    "start_time": "2025-09-16T14:59:19.126Z"
   },
   {
    "duration": 43,
    "start_time": "2025-09-16T14:59:19.153Z"
   },
   {
    "duration": 21,
    "start_time": "2025-09-16T14:59:19.197Z"
   },
   {
    "duration": 579,
    "start_time": "2025-09-16T14:59:19.219Z"
   },
   {
    "duration": 218,
    "start_time": "2025-09-16T14:59:19.801Z"
   },
   {
    "duration": 530,
    "start_time": "2025-09-16T14:59:20.021Z"
   },
   {
    "duration": 452,
    "start_time": "2025-09-16T14:59:20.552Z"
   },
   {
    "duration": 309,
    "start_time": "2025-09-16T14:59:21.005Z"
   },
   {
    "duration": 111,
    "start_time": "2025-09-16T14:59:21.316Z"
   },
   {
    "duration": 30,
    "start_time": "2025-09-16T14:59:21.428Z"
   },
   {
    "duration": 6131,
    "start_time": "2025-09-16T14:59:21.472Z"
   },
   {
    "duration": 15,
    "start_time": "2025-09-16T14:59:27.605Z"
   },
   {
    "duration": 89,
    "start_time": "2025-09-16T14:59:27.621Z"
   },
   {
    "duration": 281,
    "start_time": "2025-09-16T14:59:27.712Z"
   },
   {
    "duration": 5979,
    "start_time": "2025-09-16T14:59:27.994Z"
   },
   {
    "duration": 8,
    "start_time": "2025-09-16T14:59:33.978Z"
   },
   {
    "duration": 28,
    "start_time": "2025-09-16T14:59:33.987Z"
   },
   {
    "duration": 4986,
    "start_time": "2025-09-16T14:59:34.016Z"
   },
   {
    "duration": 193,
    "start_time": "2025-09-16T14:59:39.004Z"
   },
   {
    "duration": 207,
    "start_time": "2025-09-16T14:59:39.198Z"
   },
   {
    "duration": 79,
    "start_time": "2025-09-16T15:07:37.941Z"
   },
   {
    "duration": 139,
    "start_time": "2025-09-16T15:08:22.796Z"
   },
   {
    "duration": 170,
    "start_time": "2025-09-16T15:10:05.733Z"
   },
   {
    "duration": 140,
    "start_time": "2025-09-16T15:10:15.948Z"
   },
   {
    "duration": 142,
    "start_time": "2025-09-16T15:10:47.613Z"
   },
   {
    "duration": 112,
    "start_time": "2025-09-16T15:11:20.916Z"
   },
   {
    "duration": 160,
    "start_time": "2025-09-16T15:11:36.764Z"
   },
   {
    "duration": 242,
    "start_time": "2025-09-16T15:18:42.077Z"
   },
   {
    "duration": 1403,
    "start_time": "2025-09-16T15:19:11.430Z"
   },
   {
    "duration": 1492,
    "start_time": "2025-09-16T15:20:48.655Z"
   },
   {
    "duration": 1583,
    "start_time": "2025-09-16T15:23:05.287Z"
   },
   {
    "duration": 1460,
    "start_time": "2025-09-16T15:23:23.176Z"
   },
   {
    "duration": 253,
    "start_time": "2025-09-16T15:24:42.176Z"
   },
   {
    "duration": 1413,
    "start_time": "2025-09-16T15:24:52.248Z"
   },
   {
    "duration": 1312,
    "start_time": "2025-09-16T15:25:18.592Z"
   },
   {
    "duration": 1341,
    "start_time": "2025-09-16T15:25:25.456Z"
   },
   {
    "duration": 267,
    "start_time": "2025-09-16T15:25:41.080Z"
   },
   {
    "duration": 215,
    "start_time": "2025-09-16T15:26:37.409Z"
   },
   {
    "duration": 258,
    "start_time": "2025-09-16T15:27:16.928Z"
   },
   {
    "duration": 284,
    "start_time": "2025-09-16T15:27:47.623Z"
   },
   {
    "duration": 313,
    "start_time": "2025-09-16T15:29:38.993Z"
   },
   {
    "duration": 297,
    "start_time": "2025-09-16T15:30:54.921Z"
   },
   {
    "duration": 309,
    "start_time": "2025-09-16T15:31:38.944Z"
   },
   {
    "duration": 303,
    "start_time": "2025-09-16T15:31:46.785Z"
   },
   {
    "duration": 268,
    "start_time": "2025-09-16T15:32:05.424Z"
   },
   {
    "duration": 290,
    "start_time": "2025-09-16T15:33:44.817Z"
   },
   {
    "duration": 292,
    "start_time": "2025-09-16T15:35:49.282Z"
   },
   {
    "duration": 353,
    "start_time": "2025-09-16T15:36:32.130Z"
   },
   {
    "duration": 304,
    "start_time": "2025-09-16T15:36:46.187Z"
   },
   {
    "duration": 297,
    "start_time": "2025-09-16T15:40:03.387Z"
   },
   {
    "duration": 309,
    "start_time": "2025-09-16T15:41:02.500Z"
   },
   {
    "duration": 1489,
    "start_time": "2025-09-17T04:53:39.325Z"
   },
   {
    "duration": 1126,
    "start_time": "2025-09-17T04:53:40.819Z"
   },
   {
    "duration": 249,
    "start_time": "2025-09-17T04:53:41.947Z"
   },
   {
    "duration": 206,
    "start_time": "2025-09-17T04:53:42.202Z"
   },
   {
    "duration": 342,
    "start_time": "2025-09-17T04:53:42.410Z"
   },
   {
    "duration": 37,
    "start_time": "2025-09-17T04:53:42.754Z"
   },
   {
    "duration": 36,
    "start_time": "2025-09-17T04:53:42.794Z"
   },
   {
    "duration": 18,
    "start_time": "2025-09-17T04:53:42.832Z"
   },
   {
    "duration": 572,
    "start_time": "2025-09-17T04:53:42.851Z"
   },
   {
    "duration": 232,
    "start_time": "2025-09-17T04:53:43.425Z"
   },
   {
    "duration": 587,
    "start_time": "2025-09-17T04:53:43.659Z"
   },
   {
    "duration": 482,
    "start_time": "2025-09-17T04:53:44.248Z"
   },
   {
    "duration": 319,
    "start_time": "2025-09-17T04:53:44.732Z"
   },
   {
    "duration": 116,
    "start_time": "2025-09-17T04:53:45.053Z"
   },
   {
    "duration": 55,
    "start_time": "2025-09-17T04:53:45.170Z"
   },
   {
    "duration": 6645,
    "start_time": "2025-09-17T04:53:45.227Z"
   },
   {
    "duration": 18,
    "start_time": "2025-09-17T04:53:51.873Z"
   },
   {
    "duration": 86,
    "start_time": "2025-09-17T04:53:51.892Z"
   },
   {
    "duration": 350,
    "start_time": "2025-09-17T04:53:51.981Z"
   },
   {
    "duration": 6277,
    "start_time": "2025-09-17T04:53:52.333Z"
   },
   {
    "duration": 5,
    "start_time": "2025-09-17T04:53:58.612Z"
   },
   {
    "duration": 56,
    "start_time": "2025-09-17T04:53:58.619Z"
   },
   {
    "duration": 5397,
    "start_time": "2025-09-17T04:53:58.681Z"
   },
   {
    "duration": 182,
    "start_time": "2025-09-17T04:54:04.081Z"
   },
   {
    "duration": 225,
    "start_time": "2025-09-17T04:54:04.265Z"
   },
   {
    "duration": 179,
    "start_time": "2025-09-17T04:54:04.492Z"
   },
   {
    "duration": 347,
    "start_time": "2025-09-17T04:54:04.673Z"
   },
   {
    "duration": 21,
    "start_time": "2025-09-17T04:54:40.775Z"
   },
   {
    "duration": 1213,
    "start_time": "2025-09-17T04:58:31.791Z"
   },
   {
    "duration": 988,
    "start_time": "2025-09-17T04:58:33.007Z"
   },
   {
    "duration": 192,
    "start_time": "2025-09-17T04:58:33.997Z"
   },
   {
    "duration": 169,
    "start_time": "2025-09-17T04:58:34.194Z"
   },
   {
    "duration": 294,
    "start_time": "2025-09-17T04:58:34.365Z"
   },
   {
    "duration": 49,
    "start_time": "2025-09-17T04:58:34.662Z"
   },
   {
    "duration": 24,
    "start_time": "2025-09-17T04:58:34.717Z"
   },
   {
    "duration": 18,
    "start_time": "2025-09-17T04:58:34.743Z"
   },
   {
    "duration": 493,
    "start_time": "2025-09-17T04:58:34.777Z"
   },
   {
    "duration": 219,
    "start_time": "2025-09-17T04:58:35.272Z"
   },
   {
    "duration": 550,
    "start_time": "2025-09-17T04:58:35.498Z"
   },
   {
    "duration": 434,
    "start_time": "2025-09-17T04:58:36.050Z"
   },
   {
    "duration": 353,
    "start_time": "2025-09-17T04:58:36.486Z"
   },
   {
    "duration": 116,
    "start_time": "2025-09-17T04:58:36.841Z"
   },
   {
    "duration": 59,
    "start_time": "2025-09-17T04:58:36.959Z"
   },
   {
    "duration": 6093,
    "start_time": "2025-09-17T04:58:37.019Z"
   },
   {
    "duration": 15,
    "start_time": "2025-09-17T04:58:43.114Z"
   },
   {
    "duration": 84,
    "start_time": "2025-09-17T04:58:43.131Z"
   },
   {
    "duration": 303,
    "start_time": "2025-09-17T04:58:43.217Z"
   },
   {
    "duration": 5764,
    "start_time": "2025-09-17T04:58:43.522Z"
   },
   {
    "duration": 14,
    "start_time": "2025-09-17T04:58:49.295Z"
   },
   {
    "duration": 27,
    "start_time": "2025-09-17T04:58:49.316Z"
   },
   {
    "duration": 5225,
    "start_time": "2025-09-17T04:58:49.345Z"
   },
   {
    "duration": 178,
    "start_time": "2025-09-17T04:58:54.572Z"
   },
   {
    "duration": 189,
    "start_time": "2025-09-17T04:58:54.752Z"
   },
   {
    "duration": 153,
    "start_time": "2025-09-17T04:58:54.943Z"
   },
   {
    "duration": 311,
    "start_time": "2025-09-17T04:58:55.099Z"
   },
   {
    "duration": 6,
    "start_time": "2025-09-17T04:58:55.413Z"
   },
   {
    "duration": 15,
    "start_time": "2025-09-17T05:00:58.488Z"
   },
   {
    "duration": 5,
    "start_time": "2025-09-17T05:02:27.671Z"
   },
   {
    "duration": 326,
    "start_time": "2025-09-17T05:03:57.290Z"
   },
   {
    "duration": 188,
    "start_time": "2025-09-17T05:14:12.170Z"
   },
   {
    "duration": 17,
    "start_time": "2025-09-17T05:14:18.709Z"
   },
   {
    "duration": 529,
    "start_time": "2025-09-17T05:24:02.933Z"
   },
   {
    "duration": 676,
    "start_time": "2025-09-17T05:25:02.021Z"
   },
   {
    "duration": 697,
    "start_time": "2025-09-17T05:29:56.800Z"
   },
   {
    "duration": 791,
    "start_time": "2025-09-17T05:30:37.936Z"
   },
   {
    "duration": 757,
    "start_time": "2025-09-17T05:32:57.604Z"
   },
   {
    "duration": 776,
    "start_time": "2025-09-17T05:34:40.840Z"
   },
   {
    "duration": 722,
    "start_time": "2025-09-17T05:35:31.505Z"
   },
   {
    "duration": 200,
    "start_time": "2025-09-17T05:38:34.539Z"
   },
   {
    "duration": 227,
    "start_time": "2025-09-17T05:39:52.025Z"
   },
   {
    "duration": 162,
    "start_time": "2025-09-17T05:40:18.532Z"
   },
   {
    "duration": 625,
    "start_time": "2025-09-17T05:44:05.667Z"
   },
   {
    "duration": 581,
    "start_time": "2025-09-17T05:45:00.770Z"
   },
   {
    "duration": 592,
    "start_time": "2025-09-17T05:45:20.307Z"
   },
   {
    "duration": 536,
    "start_time": "2025-09-17T05:45:33.406Z"
   },
   {
    "duration": 826,
    "start_time": "2025-09-17T05:45:54.717Z"
   },
   {
    "duration": 563,
    "start_time": "2025-09-17T05:46:06.012Z"
   },
   {
    "duration": 554,
    "start_time": "2025-09-17T05:46:14.739Z"
   },
   {
    "duration": 534,
    "start_time": "2025-09-17T05:46:22.140Z"
   },
   {
    "duration": 660,
    "start_time": "2025-09-17T05:46:47.052Z"
   },
   {
    "duration": 753,
    "start_time": "2025-09-17T05:47:32.355Z"
   },
   {
    "duration": 521,
    "start_time": "2025-09-17T05:47:51.204Z"
   },
   {
    "duration": 495,
    "start_time": "2025-09-17T05:48:52.060Z"
   },
   {
    "duration": 500,
    "start_time": "2025-09-17T05:49:12.522Z"
   },
   {
    "duration": 451,
    "start_time": "2025-09-17T05:49:34.116Z"
   },
   {
    "duration": 455,
    "start_time": "2025-09-17T05:52:42.973Z"
   },
   {
    "duration": 1129,
    "start_time": "2025-09-17T05:53:22.306Z"
   },
   {
    "duration": 974,
    "start_time": "2025-09-17T05:53:23.437Z"
   },
   {
    "duration": 196,
    "start_time": "2025-09-17T05:53:24.413Z"
   },
   {
    "duration": 207,
    "start_time": "2025-09-17T05:53:24.611Z"
   },
   {
    "duration": 324,
    "start_time": "2025-09-17T05:53:24.820Z"
   },
   {
    "duration": 55,
    "start_time": "2025-09-17T05:53:25.146Z"
   },
   {
    "duration": 22,
    "start_time": "2025-09-17T05:53:25.204Z"
   },
   {
    "duration": 19,
    "start_time": "2025-09-17T05:53:25.228Z"
   },
   {
    "duration": 622,
    "start_time": "2025-09-17T05:53:25.250Z"
   },
   {
    "duration": 226,
    "start_time": "2025-09-17T05:53:25.877Z"
   },
   {
    "duration": 531,
    "start_time": "2025-09-17T05:53:26.105Z"
   },
   {
    "duration": 417,
    "start_time": "2025-09-17T05:53:26.638Z"
   },
   {
    "duration": 290,
    "start_time": "2025-09-17T05:53:27.056Z"
   },
   {
    "duration": 110,
    "start_time": "2025-09-17T05:53:27.349Z"
   },
   {
    "duration": 44,
    "start_time": "2025-09-17T05:53:27.460Z"
   },
   {
    "duration": 6012,
    "start_time": "2025-09-17T05:53:27.506Z"
   },
   {
    "duration": 14,
    "start_time": "2025-09-17T05:53:33.519Z"
   },
   {
    "duration": 85,
    "start_time": "2025-09-17T05:53:33.535Z"
   },
   {
    "duration": 267,
    "start_time": "2025-09-17T05:53:33.622Z"
   },
   {
    "duration": 5721,
    "start_time": "2025-09-17T05:53:33.895Z"
   },
   {
    "duration": 5,
    "start_time": "2025-09-17T05:53:39.618Z"
   },
   {
    "duration": 32,
    "start_time": "2025-09-17T05:53:39.625Z"
   },
   {
    "duration": 4940,
    "start_time": "2025-09-17T05:53:39.659Z"
   },
   {
    "duration": 197,
    "start_time": "2025-09-17T05:53:44.603Z"
   },
   {
    "duration": 168,
    "start_time": "2025-09-17T05:53:44.802Z"
   },
   {
    "duration": 150,
    "start_time": "2025-09-17T05:53:44.978Z"
   },
   {
    "duration": 307,
    "start_time": "2025-09-17T05:53:45.130Z"
   },
   {
    "duration": 6,
    "start_time": "2025-09-17T05:53:45.438Z"
   },
   {
    "duration": 342,
    "start_time": "2025-09-17T05:53:45.445Z"
   },
   {
    "duration": 166,
    "start_time": "2025-09-17T05:53:45.795Z"
   },
   {
    "duration": 540,
    "start_time": "2025-09-17T05:53:45.963Z"
   },
   {
    "duration": 132,
    "start_time": "2025-09-17T05:53:46.506Z"
   },
   {
    "duration": 483,
    "start_time": "2025-09-17T05:53:46.640Z"
   },
   {
    "duration": 17,
    "start_time": "2025-09-17T06:16:00.452Z"
   },
   {
    "duration": 148,
    "start_time": "2025-09-17T06:17:20.123Z"
   },
   {
    "duration": 131,
    "start_time": "2025-09-17T06:22:59.357Z"
   },
   {
    "duration": 131,
    "start_time": "2025-09-17T06:23:42.726Z"
   },
   {
    "duration": 58,
    "start_time": "2025-09-17T06:32:03.387Z"
   },
   {
    "duration": 134,
    "start_time": "2025-09-17T06:33:23.530Z"
   },
   {
    "duration": 46,
    "start_time": "2025-09-17T06:33:31.385Z"
   },
   {
    "duration": 312,
    "start_time": "2025-09-17T06:34:14.697Z"
   },
   {
    "duration": 327,
    "start_time": "2025-09-17T06:35:23.282Z"
   },
   {
    "duration": 1165,
    "start_time": "2025-09-17T06:36:21.249Z"
   },
   {
    "duration": 284,
    "start_time": "2025-09-17T06:36:50.050Z"
   },
   {
    "duration": 271,
    "start_time": "2025-09-17T06:37:51.225Z"
   },
   {
    "duration": 34,
    "start_time": "2025-09-17T06:52:42.093Z"
   },
   {
    "duration": 13,
    "start_time": "2025-09-17T07:01:19.152Z"
   },
   {
    "duration": 56,
    "start_time": "2025-09-17T07:01:51.305Z"
   },
   {
    "duration": 64,
    "start_time": "2025-09-17T07:09:18.603Z"
   },
   {
    "duration": 151,
    "start_time": "2025-09-17T07:11:05.780Z"
   },
   {
    "duration": 961,
    "start_time": "2025-09-17T07:13:55.038Z"
   },
   {
    "duration": 146,
    "start_time": "2025-09-17T07:15:05.516Z"
   },
   {
    "duration": 388,
    "start_time": "2025-09-17T07:16:34.117Z"
   },
   {
    "duration": 563,
    "start_time": "2025-09-17T07:21:23.974Z"
   },
   {
    "duration": 111,
    "start_time": "2025-09-17T08:10:20.580Z"
   },
   {
    "duration": 873,
    "start_time": "2025-09-17T08:19:04.342Z"
   },
   {
    "duration": 113,
    "start_time": "2025-09-17T08:19:45.334Z"
   },
   {
    "duration": 315,
    "start_time": "2025-09-17T08:25:21.447Z"
   },
   {
    "duration": 107,
    "start_time": "2025-09-17T08:26:40.337Z"
   },
   {
    "duration": 105,
    "start_time": "2025-09-17T08:26:52.296Z"
   },
   {
    "duration": 109,
    "start_time": "2025-09-17T08:29:34.016Z"
   },
   {
    "duration": 113,
    "start_time": "2025-09-17T08:29:48.689Z"
   },
   {
    "duration": 1086,
    "start_time": "2025-09-17T08:33:55.747Z"
   },
   {
    "duration": 1293,
    "start_time": "2025-09-17T08:34:50.035Z"
   },
   {
    "duration": 1134,
    "start_time": "2025-09-17T08:35:41.171Z"
   },
   {
    "duration": 1167,
    "start_time": "2025-09-17T08:46:02.978Z"
   },
   {
    "duration": 888,
    "start_time": "2025-09-17T08:46:04.146Z"
   },
   {
    "duration": 159,
    "start_time": "2025-09-17T08:46:05.036Z"
   },
   {
    "duration": 167,
    "start_time": "2025-09-17T08:46:05.197Z"
   },
   {
    "duration": 282,
    "start_time": "2025-09-17T08:46:05.366Z"
   },
   {
    "duration": 30,
    "start_time": "2025-09-17T08:46:05.649Z"
   },
   {
    "duration": 33,
    "start_time": "2025-09-17T08:46:05.681Z"
   },
   {
    "duration": 34,
    "start_time": "2025-09-17T08:46:05.716Z"
   },
   {
    "duration": 499,
    "start_time": "2025-09-17T08:46:05.751Z"
   },
   {
    "duration": 184,
    "start_time": "2025-09-17T08:46:06.251Z"
   },
   {
    "duration": 457,
    "start_time": "2025-09-17T08:46:06.436Z"
   },
   {
    "duration": 384,
    "start_time": "2025-09-17T08:46:06.895Z"
   },
   {
    "duration": 250,
    "start_time": "2025-09-17T08:46:07.281Z"
   },
   {
    "duration": 98,
    "start_time": "2025-09-17T08:46:07.534Z"
   },
   {
    "duration": 28,
    "start_time": "2025-09-17T08:46:07.634Z"
   },
   {
    "duration": 5318,
    "start_time": "2025-09-17T08:46:07.664Z"
   },
   {
    "duration": 12,
    "start_time": "2025-09-17T08:46:12.984Z"
   },
   {
    "duration": 134,
    "start_time": "2025-09-17T08:46:12.998Z"
   },
   {
    "duration": 220,
    "start_time": "2025-09-17T08:46:13.134Z"
   },
   {
    "duration": 5057,
    "start_time": "2025-09-17T08:46:13.356Z"
   },
   {
    "duration": 5,
    "start_time": "2025-09-17T08:46:18.415Z"
   },
   {
    "duration": 143,
    "start_time": "2025-09-17T08:46:18.421Z"
   },
   {
    "duration": 4295,
    "start_time": "2025-09-17T08:46:18.566Z"
   },
   {
    "duration": 164,
    "start_time": "2025-09-17T08:46:22.863Z"
   },
   {
    "duration": 164,
    "start_time": "2025-09-17T08:46:23.029Z"
   },
   {
    "duration": 132,
    "start_time": "2025-09-17T08:46:23.194Z"
   },
   {
    "duration": 285,
    "start_time": "2025-09-17T08:46:23.328Z"
   },
   {
    "duration": 5,
    "start_time": "2025-09-17T08:46:23.615Z"
   },
   {
    "duration": 296,
    "start_time": "2025-09-17T08:46:23.622Z"
   },
   {
    "duration": 135,
    "start_time": "2025-09-17T08:46:23.919Z"
   },
   {
    "duration": 407,
    "start_time": "2025-09-17T08:46:24.056Z"
   },
   {
    "duration": 128,
    "start_time": "2025-09-17T08:46:24.464Z"
   },
   {
    "duration": 428,
    "start_time": "2025-09-17T08:46:24.593Z"
   },
   {
    "duration": 147,
    "start_time": "2025-09-17T08:46:25.022Z"
   },
   {
    "duration": 258,
    "start_time": "2025-09-17T08:46:25.176Z"
   },
   {
    "duration": 151,
    "start_time": "2025-09-17T08:46:25.436Z"
   },
   {
    "duration": 473,
    "start_time": "2025-09-17T08:46:25.589Z"
   },
   {
    "duration": 161,
    "start_time": "2025-09-17T08:46:26.064Z"
   },
   {
    "duration": 1163,
    "start_time": "2025-09-17T08:46:26.226Z"
   },
   {
    "duration": 1444,
    "start_time": "2025-09-17T09:53:52.715Z"
   },
   {
    "duration": 964,
    "start_time": "2025-09-17T09:53:54.161Z"
   },
   {
    "duration": 199,
    "start_time": "2025-09-17T09:53:55.127Z"
   },
   {
    "duration": 185,
    "start_time": "2025-09-17T09:53:55.329Z"
   },
   {
    "duration": 293,
    "start_time": "2025-09-17T09:53:55.516Z"
   },
   {
    "duration": 38,
    "start_time": "2025-09-17T09:53:55.811Z"
   },
   {
    "duration": 22,
    "start_time": "2025-09-17T09:53:55.850Z"
   },
   {
    "duration": 19,
    "start_time": "2025-09-17T09:53:55.873Z"
   },
   {
    "duration": 563,
    "start_time": "2025-09-17T09:53:55.894Z"
   },
   {
    "duration": 206,
    "start_time": "2025-09-17T09:53:56.460Z"
   },
   {
    "duration": 496,
    "start_time": "2025-09-17T09:53:56.668Z"
   },
   {
    "duration": 433,
    "start_time": "2025-09-17T09:53:57.166Z"
   },
   {
    "duration": 283,
    "start_time": "2025-09-17T09:53:57.600Z"
   },
   {
    "duration": 100,
    "start_time": "2025-09-17T09:53:57.885Z"
   },
   {
    "duration": 47,
    "start_time": "2025-09-17T09:53:57.987Z"
   },
   {
    "duration": 5527,
    "start_time": "2025-09-17T09:53:58.036Z"
   },
   {
    "duration": 12,
    "start_time": "2025-09-17T09:54:03.565Z"
   },
   {
    "duration": 76,
    "start_time": "2025-09-17T09:54:03.579Z"
   },
   {
    "duration": 246,
    "start_time": "2025-09-17T09:54:03.657Z"
   },
   {
    "duration": 5229,
    "start_time": "2025-09-17T09:54:03.905Z"
   },
   {
    "duration": 7,
    "start_time": "2025-09-17T09:54:09.136Z"
   },
   {
    "duration": 30,
    "start_time": "2025-09-17T09:54:09.145Z"
   },
   {
    "duration": 4698,
    "start_time": "2025-09-17T09:54:09.177Z"
   },
   {
    "duration": 177,
    "start_time": "2025-09-17T09:54:13.877Z"
   },
   {
    "duration": 196,
    "start_time": "2025-09-17T09:54:14.056Z"
   },
   {
    "duration": 146,
    "start_time": "2025-09-17T09:54:14.253Z"
   },
   {
    "duration": 332,
    "start_time": "2025-09-17T09:54:14.401Z"
   },
   {
    "duration": 6,
    "start_time": "2025-09-17T09:54:14.736Z"
   },
   {
    "duration": 318,
    "start_time": "2025-09-17T09:54:14.744Z"
   },
   {
    "duration": 141,
    "start_time": "2025-09-17T09:54:15.063Z"
   },
   {
    "duration": 473,
    "start_time": "2025-09-17T09:54:15.206Z"
   },
   {
    "duration": 128,
    "start_time": "2025-09-17T09:54:15.681Z"
   },
   {
    "duration": 477,
    "start_time": "2025-09-17T09:54:15.810Z"
   },
   {
    "duration": 152,
    "start_time": "2025-09-17T09:54:16.288Z"
   },
   {
    "duration": 291,
    "start_time": "2025-09-17T09:54:16.442Z"
   },
   {
    "duration": 140,
    "start_time": "2025-09-17T09:54:16.735Z"
   },
   {
    "duration": 515,
    "start_time": "2025-09-17T09:54:16.877Z"
   },
   {
    "duration": 126,
    "start_time": "2025-09-17T09:54:17.394Z"
   },
   {
    "duration": 1082,
    "start_time": "2025-09-17T09:54:17.522Z"
   },
   {
    "duration": 4,
    "start_time": "2025-09-17T10:12:45.105Z"
   },
   {
    "duration": 212,
    "start_time": "2025-09-17T10:17:05.441Z"
   },
   {
    "duration": 123,
    "start_time": "2025-09-17T10:17:16.707Z"
   },
   {
    "duration": 133,
    "start_time": "2025-09-17T10:20:54.196Z"
   },
   {
    "duration": 114,
    "start_time": "2025-09-17T10:30:28.862Z"
   },
   {
    "duration": 125,
    "start_time": "2025-09-17T10:38:53.289Z"
   },
   {
    "duration": 1160,
    "start_time": "2025-09-17T11:20:11.648Z"
   },
   {
    "duration": 960,
    "start_time": "2025-09-17T11:20:12.810Z"
   },
   {
    "duration": 200,
    "start_time": "2025-09-17T11:20:13.772Z"
   },
   {
    "duration": 186,
    "start_time": "2025-09-17T11:20:13.975Z"
   },
   {
    "duration": 291,
    "start_time": "2025-09-17T11:20:14.163Z"
   },
   {
    "duration": 26,
    "start_time": "2025-09-17T11:20:14.456Z"
   },
   {
    "duration": 40,
    "start_time": "2025-09-17T11:20:14.484Z"
   },
   {
    "duration": 19,
    "start_time": "2025-09-17T11:20:14.526Z"
   },
   {
    "duration": 500,
    "start_time": "2025-09-17T11:20:14.547Z"
   },
   {
    "duration": 216,
    "start_time": "2025-09-17T11:20:15.049Z"
   },
   {
    "duration": 599,
    "start_time": "2025-09-17T11:20:15.267Z"
   },
   {
    "duration": 464,
    "start_time": "2025-09-17T11:20:15.868Z"
   },
   {
    "duration": 293,
    "start_time": "2025-09-17T11:20:16.333Z"
   },
   {
    "duration": 100,
    "start_time": "2025-09-17T11:20:16.628Z"
   },
   {
    "duration": 31,
    "start_time": "2025-09-17T11:20:16.729Z"
   },
   {
    "duration": 5359,
    "start_time": "2025-09-17T11:20:16.762Z"
   },
   {
    "duration": 14,
    "start_time": "2025-09-17T11:20:22.122Z"
   },
   {
    "duration": 102,
    "start_time": "2025-09-17T11:20:22.137Z"
   },
   {
    "duration": 247,
    "start_time": "2025-09-17T11:20:22.241Z"
   },
   {
    "duration": 5130,
    "start_time": "2025-09-17T11:20:22.490Z"
   },
   {
    "duration": 5,
    "start_time": "2025-09-17T11:20:27.621Z"
   },
   {
    "duration": 32,
    "start_time": "2025-09-17T11:20:27.628Z"
   },
   {
    "duration": 4427,
    "start_time": "2025-09-17T11:20:27.662Z"
   },
   {
    "duration": 161,
    "start_time": "2025-09-17T11:20:32.090Z"
   },
   {
    "duration": 180,
    "start_time": "2025-09-17T11:20:32.253Z"
   },
   {
    "duration": 141,
    "start_time": "2025-09-17T11:20:32.435Z"
   },
   {
    "duration": 297,
    "start_time": "2025-09-17T11:20:32.577Z"
   },
   {
    "duration": 6,
    "start_time": "2025-09-17T11:20:32.877Z"
   },
   {
    "duration": 324,
    "start_time": "2025-09-17T11:20:32.885Z"
   },
   {
    "duration": 143,
    "start_time": "2025-09-17T11:20:33.210Z"
   },
   {
    "duration": 481,
    "start_time": "2025-09-17T11:20:33.355Z"
   },
   {
    "duration": 137,
    "start_time": "2025-09-17T11:20:33.838Z"
   },
   {
    "duration": 445,
    "start_time": "2025-09-17T11:20:33.977Z"
   },
   {
    "duration": 147,
    "start_time": "2025-09-17T11:20:34.425Z"
   },
   {
    "duration": 270,
    "start_time": "2025-09-17T11:20:34.573Z"
   },
   {
    "duration": 160,
    "start_time": "2025-09-17T11:20:34.845Z"
   },
   {
    "duration": 543,
    "start_time": "2025-09-17T11:20:35.007Z"
   },
   {
    "duration": 129,
    "start_time": "2025-09-17T11:20:35.552Z"
   },
   {
    "duration": 1121,
    "start_time": "2025-09-17T11:20:35.683Z"
   },
   {
    "duration": 5,
    "start_time": "2025-09-17T11:20:36.805Z"
   },
   {
    "duration": 121,
    "start_time": "2025-09-17T11:20:36.812Z"
   },
   {
    "duration": 145,
    "start_time": "2025-09-17T11:20:36.935Z"
   },
   {
    "duration": 3,
    "start_time": "2025-09-17T11:31:37.472Z"
   },
   {
    "duration": 3,
    "start_time": "2025-09-17T11:32:18.943Z"
   },
   {
    "duration": 493,
    "start_time": "2025-09-17T11:33:45.400Z"
   },
   {
    "duration": 358,
    "start_time": "2025-09-17T11:36:00.392Z"
   },
   {
    "duration": 20,
    "start_time": "2025-09-17T11:39:52.570Z"
   },
   {
    "duration": 399,
    "start_time": "2025-09-17T11:40:37.403Z"
   },
   {
    "duration": 378,
    "start_time": "2025-09-17T11:45:08.188Z"
   },
   {
    "duration": 376,
    "start_time": "2025-09-17T11:46:36.988Z"
   },
   {
    "duration": 334,
    "start_time": "2025-09-17T11:47:14.156Z"
   },
   {
    "duration": 1194,
    "start_time": "2025-09-17T11:47:43.228Z"
   },
   {
    "duration": 1041,
    "start_time": "2025-09-17T11:47:56.484Z"
   },
   {
    "duration": 370,
    "start_time": "2025-09-17T11:48:10.709Z"
   },
   {
    "duration": 134,
    "start_time": "2025-09-17T11:48:30.124Z"
   },
   {
    "duration": 433,
    "start_time": "2025-09-17T11:48:39.700Z"
   },
   {
    "duration": 449,
    "start_time": "2025-09-17T11:48:54.100Z"
   },
   {
    "duration": 296,
    "start_time": "2025-09-17T11:49:02.491Z"
   },
   {
    "duration": 454,
    "start_time": "2025-09-17T11:49:09.330Z"
   },
   {
    "duration": 139,
    "start_time": "2025-09-17T11:49:21.676Z"
   },
   {
    "duration": 1146,
    "start_time": "2025-09-17T11:49:43.857Z"
   },
   {
    "duration": 926,
    "start_time": "2025-09-17T11:49:45.005Z"
   },
   {
    "duration": 167,
    "start_time": "2025-09-17T11:49:45.933Z"
   },
   {
    "duration": 160,
    "start_time": "2025-09-17T11:49:46.120Z"
   },
   {
    "duration": 269,
    "start_time": "2025-09-17T11:49:46.282Z"
   },
   {
    "duration": 25,
    "start_time": "2025-09-17T11:49:46.553Z"
   },
   {
    "duration": 21,
    "start_time": "2025-09-17T11:49:46.579Z"
   },
   {
    "duration": 19,
    "start_time": "2025-09-17T11:49:46.620Z"
   },
   {
    "duration": 469,
    "start_time": "2025-09-17T11:49:46.640Z"
   },
   {
    "duration": 194,
    "start_time": "2025-09-17T11:49:47.118Z"
   },
   {
    "duration": 453,
    "start_time": "2025-09-17T11:49:47.318Z"
   },
   {
    "duration": 428,
    "start_time": "2025-09-17T11:49:47.772Z"
   },
   {
    "duration": 265,
    "start_time": "2025-09-17T11:49:48.202Z"
   },
   {
    "duration": 98,
    "start_time": "2025-09-17T11:49:48.469Z"
   },
   {
    "duration": 29,
    "start_time": "2025-09-17T11:49:48.569Z"
   },
   {
    "duration": 5702,
    "start_time": "2025-09-17T11:49:48.600Z"
   },
   {
    "duration": 24,
    "start_time": "2025-09-17T11:49:54.303Z"
   },
   {
    "duration": 66,
    "start_time": "2025-09-17T11:49:54.329Z"
   },
   {
    "duration": 299,
    "start_time": "2025-09-17T11:49:54.397Z"
   },
   {
    "duration": 5416,
    "start_time": "2025-09-17T11:49:54.698Z"
   },
   {
    "duration": 5,
    "start_time": "2025-09-17T11:50:00.115Z"
   },
   {
    "duration": 67,
    "start_time": "2025-09-17T11:50:00.122Z"
   },
   {
    "duration": 4537,
    "start_time": "2025-09-17T11:50:00.191Z"
   },
   {
    "duration": 176,
    "start_time": "2025-09-17T11:50:04.730Z"
   },
   {
    "duration": 184,
    "start_time": "2025-09-17T11:50:04.919Z"
   },
   {
    "duration": 192,
    "start_time": "2025-09-17T11:50:05.106Z"
   },
   {
    "duration": 342,
    "start_time": "2025-09-17T11:50:05.300Z"
   },
   {
    "duration": 6,
    "start_time": "2025-09-17T11:50:05.646Z"
   },
   {
    "duration": 375,
    "start_time": "2025-09-17T11:50:05.654Z"
   },
   {
    "duration": 162,
    "start_time": "2025-09-17T11:50:06.031Z"
   },
   {
    "duration": 569,
    "start_time": "2025-09-17T11:50:06.194Z"
   },
   {
    "duration": 135,
    "start_time": "2025-09-17T11:50:06.765Z"
   },
   {
    "duration": 484,
    "start_time": "2025-09-17T11:50:06.902Z"
   },
   {
    "duration": 145,
    "start_time": "2025-09-17T11:50:07.388Z"
   },
   {
    "duration": 271,
    "start_time": "2025-09-17T11:50:07.535Z"
   },
   {
    "duration": 152,
    "start_time": "2025-09-17T11:50:07.808Z"
   },
   {
    "duration": 536,
    "start_time": "2025-09-17T11:50:07.962Z"
   },
   {
    "duration": 124,
    "start_time": "2025-09-17T11:50:08.500Z"
   },
   {
    "duration": 1090,
    "start_time": "2025-09-17T11:50:08.626Z"
   },
   {
    "duration": 5,
    "start_time": "2025-09-17T11:50:09.718Z"
   },
   {
    "duration": 127,
    "start_time": "2025-09-17T11:50:09.724Z"
   },
   {
    "duration": 135,
    "start_time": "2025-09-17T11:50:09.853Z"
   },
   {
    "duration": 3,
    "start_time": "2025-09-17T11:50:09.990Z"
   },
   {
    "duration": 425,
    "start_time": "2025-09-17T11:50:09.994Z"
   },
   {
    "duration": 432,
    "start_time": "2025-09-17T11:53:12.031Z"
   },
   {
    "duration": 429,
    "start_time": "2025-09-17T11:54:10.022Z"
   },
   {
    "duration": 550,
    "start_time": "2025-09-17T11:54:22.118Z"
   },
   {
    "duration": 302,
    "start_time": "2025-09-17T11:54:30.134Z"
   },
   {
    "duration": 286,
    "start_time": "2025-09-17T11:54:36.398Z"
   },
   {
    "duration": 1154,
    "start_time": "2025-09-17T11:54:57.781Z"
   },
   {
    "duration": 919,
    "start_time": "2025-09-17T11:54:58.937Z"
   },
   {
    "duration": 166,
    "start_time": "2025-09-17T11:54:59.858Z"
   },
   {
    "duration": 173,
    "start_time": "2025-09-17T11:55:00.025Z"
   },
   {
    "duration": 284,
    "start_time": "2025-09-17T11:55:00.201Z"
   },
   {
    "duration": 33,
    "start_time": "2025-09-17T11:55:00.487Z"
   },
   {
    "duration": 35,
    "start_time": "2025-09-17T11:55:00.522Z"
   },
   {
    "duration": 44,
    "start_time": "2025-09-17T11:55:00.559Z"
   },
   {
    "duration": 508,
    "start_time": "2025-09-17T11:55:00.605Z"
   },
   {
    "duration": 189,
    "start_time": "2025-09-17T11:55:01.115Z"
   },
   {
    "duration": 468,
    "start_time": "2025-09-17T11:55:01.306Z"
   },
   {
    "duration": 381,
    "start_time": "2025-09-17T11:55:01.776Z"
   },
   {
    "duration": 284,
    "start_time": "2025-09-17T11:55:02.159Z"
   },
   {
    "duration": 103,
    "start_time": "2025-09-17T11:55:02.446Z"
   },
   {
    "duration": 29,
    "start_time": "2025-09-17T11:55:02.551Z"
   },
   {
    "duration": 5585,
    "start_time": "2025-09-17T11:55:02.581Z"
   },
   {
    "duration": 15,
    "start_time": "2025-09-17T11:55:08.168Z"
   },
   {
    "duration": 76,
    "start_time": "2025-09-17T11:55:08.184Z"
   },
   {
    "duration": 233,
    "start_time": "2025-09-17T11:55:08.261Z"
   },
   {
    "duration": 5507,
    "start_time": "2025-09-17T11:55:08.496Z"
   },
   {
    "duration": 14,
    "start_time": "2025-09-17T11:55:14.005Z"
   },
   {
    "duration": 29,
    "start_time": "2025-09-17T11:55:14.021Z"
   },
   {
    "duration": 4651,
    "start_time": "2025-09-17T11:55:14.052Z"
   },
   {
    "duration": 163,
    "start_time": "2025-09-17T11:55:18.705Z"
   },
   {
    "duration": 169,
    "start_time": "2025-09-17T11:55:18.870Z"
   },
   {
    "duration": 147,
    "start_time": "2025-09-17T11:55:19.040Z"
   },
   {
    "duration": 295,
    "start_time": "2025-09-17T11:55:19.188Z"
   },
   {
    "duration": 6,
    "start_time": "2025-09-17T11:55:19.485Z"
   },
   {
    "duration": 313,
    "start_time": "2025-09-17T11:55:19.493Z"
   },
   {
    "duration": 139,
    "start_time": "2025-09-17T11:55:19.808Z"
   },
   {
    "duration": 437,
    "start_time": "2025-09-17T11:55:19.949Z"
   },
   {
    "duration": 135,
    "start_time": "2025-09-17T11:55:20.387Z"
   },
   {
    "duration": 429,
    "start_time": "2025-09-17T11:55:20.524Z"
   },
   {
    "duration": 148,
    "start_time": "2025-09-17T11:55:20.955Z"
   },
   {
    "duration": 280,
    "start_time": "2025-09-17T11:55:21.105Z"
   },
   {
    "duration": 157,
    "start_time": "2025-09-17T11:55:21.387Z"
   },
   {
    "duration": 455,
    "start_time": "2025-09-17T11:55:21.547Z"
   },
   {
    "duration": 134,
    "start_time": "2025-09-17T11:55:22.004Z"
   },
   {
    "duration": 1064,
    "start_time": "2025-09-17T11:55:22.140Z"
   },
   {
    "duration": 5,
    "start_time": "2025-09-17T11:55:23.205Z"
   },
   {
    "duration": 122,
    "start_time": "2025-09-17T11:55:23.214Z"
   },
   {
    "duration": 137,
    "start_time": "2025-09-17T11:55:23.338Z"
   },
   {
    "duration": 4,
    "start_time": "2025-09-17T11:55:23.477Z"
   },
   {
    "duration": 441,
    "start_time": "2025-09-17T11:55:23.484Z"
   },
   {
    "duration": 410,
    "start_time": "2025-09-17T12:06:46.131Z"
   },
   {
    "duration": 386,
    "start_time": "2025-09-17T12:12:48.276Z"
   },
   {
    "duration": 396,
    "start_time": "2025-09-17T12:13:11.099Z"
   },
   {
    "duration": 335,
    "start_time": "2025-09-17T12:14:04.461Z"
   },
   {
    "duration": 301,
    "start_time": "2025-09-17T12:14:22.709Z"
   },
   {
    "duration": 325,
    "start_time": "2025-09-17T12:18:33.733Z"
   },
   {
    "duration": 1632,
    "start_time": "2025-09-17T12:32:20.081Z"
   },
   {
    "duration": 474,
    "start_time": "2025-09-17T12:33:05.866Z"
   },
   {
    "duration": 450,
    "start_time": "2025-09-17T12:33:28.585Z"
   },
   {
    "duration": 467,
    "start_time": "2025-09-17T12:33:47.987Z"
   },
   {
    "duration": 1156,
    "start_time": "2025-09-17T13:27:29.348Z"
   },
   {
    "duration": 923,
    "start_time": "2025-09-17T13:27:30.506Z"
   },
   {
    "duration": 189,
    "start_time": "2025-09-17T13:27:31.431Z"
   },
   {
    "duration": 165,
    "start_time": "2025-09-17T13:27:31.622Z"
   },
   {
    "duration": 279,
    "start_time": "2025-09-17T13:27:31.789Z"
   },
   {
    "duration": 23,
    "start_time": "2025-09-17T13:27:32.070Z"
   },
   {
    "duration": 36,
    "start_time": "2025-09-17T13:27:32.095Z"
   },
   {
    "duration": 17,
    "start_time": "2025-09-17T13:27:32.133Z"
   },
   {
    "duration": 491,
    "start_time": "2025-09-17T13:27:32.151Z"
   },
   {
    "duration": 186,
    "start_time": "2025-09-17T13:27:32.643Z"
   },
   {
    "duration": 455,
    "start_time": "2025-09-17T13:27:32.831Z"
   },
   {
    "duration": 411,
    "start_time": "2025-09-17T13:27:33.288Z"
   },
   {
    "duration": 273,
    "start_time": "2025-09-17T13:27:33.700Z"
   },
   {
    "duration": 98,
    "start_time": "2025-09-17T13:27:33.977Z"
   },
   {
    "duration": 43,
    "start_time": "2025-09-17T13:27:34.077Z"
   },
   {
    "duration": 5356,
    "start_time": "2025-09-17T13:27:34.121Z"
   },
   {
    "duration": 14,
    "start_time": "2025-09-17T13:27:39.479Z"
   },
   {
    "duration": 77,
    "start_time": "2025-09-17T13:27:39.494Z"
   },
   {
    "duration": 227,
    "start_time": "2025-09-17T13:27:39.573Z"
   },
   {
    "duration": 5106,
    "start_time": "2025-09-17T13:27:39.802Z"
   },
   {
    "duration": 5,
    "start_time": "2025-09-17T13:27:44.909Z"
   },
   {
    "duration": 64,
    "start_time": "2025-09-17T13:27:44.920Z"
   },
   {
    "duration": 4254,
    "start_time": "2025-09-17T13:27:44.986Z"
   },
   {
    "duration": 163,
    "start_time": "2025-09-17T13:27:49.242Z"
   },
   {
    "duration": 172,
    "start_time": "2025-09-17T13:27:49.418Z"
   },
   {
    "duration": 137,
    "start_time": "2025-09-17T13:27:49.592Z"
   },
   {
    "duration": 289,
    "start_time": "2025-09-17T13:27:49.730Z"
   },
   {
    "duration": 5,
    "start_time": "2025-09-17T13:27:50.021Z"
   },
   {
    "duration": 338,
    "start_time": "2025-09-17T13:27:50.028Z"
   },
   {
    "duration": 138,
    "start_time": "2025-09-17T13:27:50.368Z"
   },
   {
    "duration": 435,
    "start_time": "2025-09-17T13:27:50.508Z"
   },
   {
    "duration": 121,
    "start_time": "2025-09-17T13:27:50.945Z"
   },
   {
    "duration": 433,
    "start_time": "2025-09-17T13:27:51.067Z"
   },
   {
    "duration": 159,
    "start_time": "2025-09-17T13:27:51.503Z"
   },
   {
    "duration": 290,
    "start_time": "2025-09-17T13:27:51.664Z"
   },
   {
    "duration": 159,
    "start_time": "2025-09-17T13:27:51.956Z"
   },
   {
    "duration": 481,
    "start_time": "2025-09-17T13:27:52.117Z"
   },
   {
    "duration": 138,
    "start_time": "2025-09-17T13:27:52.600Z"
   },
   {
    "duration": 1173,
    "start_time": "2025-09-17T13:27:52.739Z"
   },
   {
    "duration": 140,
    "start_time": "2025-09-17T13:27:53.914Z"
   },
   {
    "duration": 498,
    "start_time": "2025-09-17T13:27:54.058Z"
   },
   {
    "duration": 145,
    "start_time": "2025-09-17T13:27:54.559Z"
   },
   {
    "duration": 4,
    "start_time": "2025-09-17T13:27:54.706Z"
   },
   {
    "duration": 439,
    "start_time": "2025-09-17T13:27:54.720Z"
   },
   {
    "duration": 360,
    "start_time": "2025-09-17T13:27:55.161Z"
   },
   {
    "duration": 41,
    "start_time": "2025-09-17T13:31:21.625Z"
   },
   {
    "duration": 98,
    "start_time": "2025-09-17T13:38:42.412Z"
   },
   {
    "duration": 87,
    "start_time": "2025-09-17T13:39:13.068Z"
   },
   {
    "duration": 105,
    "start_time": "2025-09-17T13:44:41.000Z"
   },
   {
    "duration": 116,
    "start_time": "2025-09-17T13:45:05.303Z"
   },
   {
    "duration": 4,
    "start_time": "2025-09-17T13:53:22.361Z"
   },
   {
    "duration": 141,
    "start_time": "2025-09-17T13:55:38.818Z"
   },
   {
    "duration": 180,
    "start_time": "2025-09-17T13:57:36.195Z"
   },
   {
    "duration": 20,
    "start_time": "2025-09-17T14:00:54.370Z"
   },
   {
    "duration": 28,
    "start_time": "2025-09-17T14:02:39.939Z"
   },
   {
    "duration": 18,
    "start_time": "2025-09-17T14:02:47.596Z"
   },
   {
    "duration": 26,
    "start_time": "2025-09-17T14:03:12.381Z"
   },
   {
    "duration": 9,
    "start_time": "2025-09-17T14:06:13.693Z"
   },
   {
    "duration": 9,
    "start_time": "2025-09-17T14:07:46.630Z"
   },
   {
    "duration": 10,
    "start_time": "2025-09-17T14:07:53.693Z"
   },
   {
    "duration": 9,
    "start_time": "2025-09-17T14:08:23.828Z"
   },
   {
    "duration": 18,
    "start_time": "2025-09-17T14:15:38.360Z"
   },
   {
    "duration": 18,
    "start_time": "2025-09-17T14:16:04.720Z"
   },
   {
    "duration": 1564,
    "start_time": "2025-09-18T05:34:44.060Z"
   },
   {
    "duration": 1147,
    "start_time": "2025-09-18T05:34:45.626Z"
   },
   {
    "duration": 199,
    "start_time": "2025-09-18T05:34:46.774Z"
   },
   {
    "duration": 178,
    "start_time": "2025-09-18T05:34:46.975Z"
   },
   {
    "duration": 289,
    "start_time": "2025-09-18T05:34:47.155Z"
   },
   {
    "duration": 35,
    "start_time": "2025-09-18T05:34:47.446Z"
   },
   {
    "duration": 27,
    "start_time": "2025-09-18T05:34:47.482Z"
   },
   {
    "duration": 19,
    "start_time": "2025-09-18T05:34:47.511Z"
   },
   {
    "duration": 592,
    "start_time": "2025-09-18T05:34:47.532Z"
   },
   {
    "duration": 204,
    "start_time": "2025-09-18T05:34:48.125Z"
   },
   {
    "duration": 492,
    "start_time": "2025-09-18T05:34:48.331Z"
   },
   {
    "duration": 414,
    "start_time": "2025-09-18T05:34:48.825Z"
   },
   {
    "duration": 284,
    "start_time": "2025-09-18T05:34:49.241Z"
   },
   {
    "duration": 108,
    "start_time": "2025-09-18T05:34:49.528Z"
   },
   {
    "duration": 46,
    "start_time": "2025-09-18T05:34:49.638Z"
   },
   {
    "duration": 5785,
    "start_time": "2025-09-18T05:34:49.686Z"
   },
   {
    "duration": 17,
    "start_time": "2025-09-18T05:34:55.473Z"
   },
   {
    "duration": 87,
    "start_time": "2025-09-18T05:34:55.493Z"
   },
   {
    "duration": 280,
    "start_time": "2025-09-18T05:34:55.582Z"
   },
   {
    "duration": 5318,
    "start_time": "2025-09-18T05:34:55.872Z"
   },
   {
    "duration": 4,
    "start_time": "2025-09-18T05:35:01.192Z"
   },
   {
    "duration": 104,
    "start_time": "2025-09-18T05:35:01.198Z"
   },
   {
    "duration": 4705,
    "start_time": "2025-09-18T05:35:01.304Z"
   },
   {
    "duration": 186,
    "start_time": "2025-09-18T05:35:06.010Z"
   },
   {
    "duration": 193,
    "start_time": "2025-09-18T05:35:06.197Z"
   },
   {
    "duration": 140,
    "start_time": "2025-09-18T05:35:06.392Z"
   },
   {
    "duration": 326,
    "start_time": "2025-09-18T05:35:06.534Z"
   },
   {
    "duration": 12,
    "start_time": "2025-09-18T05:35:06.862Z"
   },
   {
    "duration": 348,
    "start_time": "2025-09-18T05:35:06.876Z"
   },
   {
    "duration": 156,
    "start_time": "2025-09-18T05:35:07.226Z"
   },
   {
    "duration": 498,
    "start_time": "2025-09-18T05:35:07.384Z"
   },
   {
    "duration": 133,
    "start_time": "2025-09-18T05:35:07.883Z"
   },
   {
    "duration": 492,
    "start_time": "2025-09-18T05:35:08.018Z"
   },
   {
    "duration": 269,
    "start_time": "2025-09-18T05:35:08.512Z"
   },
   {
    "duration": 306,
    "start_time": "2025-09-18T05:35:08.784Z"
   },
   {
    "duration": 150,
    "start_time": "2025-09-18T05:35:09.092Z"
   },
   {
    "duration": 597,
    "start_time": "2025-09-18T05:35:09.244Z"
   },
   {
    "duration": 145,
    "start_time": "2025-09-18T05:35:09.843Z"
   },
   {
    "duration": 1138,
    "start_time": "2025-09-18T05:35:09.990Z"
   },
   {
    "duration": 134,
    "start_time": "2025-09-18T05:35:11.130Z"
   },
   {
    "duration": 477,
    "start_time": "2025-09-18T05:35:11.268Z"
   },
   {
    "duration": 150,
    "start_time": "2025-09-18T05:35:11.748Z"
   },
   {
    "duration": 3,
    "start_time": "2025-09-18T05:35:11.900Z"
   },
   {
    "duration": 451,
    "start_time": "2025-09-18T05:35:11.906Z"
   },
   {
    "duration": 320,
    "start_time": "2025-09-18T05:35:12.359Z"
   },
   {
    "duration": 253,
    "start_time": "2025-09-18T05:35:12.682Z"
   },
   {
    "duration": 44,
    "start_time": "2025-09-18T05:35:12.937Z"
   },
   {
    "duration": 20,
    "start_time": "2025-09-18T05:35:12.983Z"
   },
   {
    "duration": 11,
    "start_time": "2025-09-18T05:35:13.005Z"
   },
   {
    "duration": 14,
    "start_time": "2025-09-18T05:35:13.018Z"
   },
   {
    "duration": 6,
    "start_time": "2025-09-18T05:35:32.099Z"
   },
   {
    "duration": 11,
    "start_time": "2025-09-18T05:55:04.038Z"
   },
   {
    "duration": 9,
    "start_time": "2025-09-18T06:01:44.631Z"
   },
   {
    "duration": 82,
    "start_time": "2025-09-18T06:04:24.152Z"
   },
   {
    "duration": 86,
    "start_time": "2025-09-18T06:04:32.312Z"
   },
   {
    "duration": 287,
    "start_time": "2025-09-18T06:05:13.864Z"
   },
   {
    "duration": 211,
    "start_time": "2025-09-18T06:06:25.352Z"
   },
   {
    "duration": 29,
    "start_time": "2025-09-18T06:06:41.361Z"
   },
   {
    "duration": 22,
    "start_time": "2025-09-18T06:06:42.807Z"
   },
   {
    "duration": 10,
    "start_time": "2025-09-18T06:06:46.303Z"
   },
   {
    "duration": 10,
    "start_time": "2025-09-18T06:06:47.112Z"
   },
   {
    "duration": 9,
    "start_time": "2025-09-18T06:06:50.192Z"
   },
   {
    "duration": 225,
    "start_time": "2025-09-18T06:08:21.898Z"
   },
   {
    "duration": 201,
    "start_time": "2025-09-18T06:08:57.051Z"
   },
   {
    "duration": 16,
    "start_time": "2025-09-18T06:09:15.991Z"
   },
   {
    "duration": 14,
    "start_time": "2025-09-18T06:09:31.922Z"
   },
   {
    "duration": 17,
    "start_time": "2025-09-18T06:09:35.073Z"
   },
   {
    "duration": 19,
    "start_time": "2025-09-18T06:09:36.384Z"
   },
   {
    "duration": 8,
    "start_time": "2025-09-18T06:09:38.200Z"
   },
   {
    "duration": 15,
    "start_time": "2025-09-18T06:12:55.378Z"
   },
   {
    "duration": 34,
    "start_time": "2025-09-18T06:13:03.562Z"
   },
   {
    "duration": 208,
    "start_time": "2025-09-18T06:14:21.105Z"
   },
   {
    "duration": 16,
    "start_time": "2025-09-18T06:14:36.219Z"
   },
   {
    "duration": 17,
    "start_time": "2025-09-18T06:14:40.747Z"
   },
   {
    "duration": 7,
    "start_time": "2025-09-18T06:14:45.947Z"
   },
   {
    "duration": 12,
    "start_time": "2025-09-18T06:14:47.217Z"
   },
   {
    "duration": 15,
    "start_time": "2025-09-18T06:14:53.474Z"
   },
   {
    "duration": 11,
    "start_time": "2025-09-18T06:21:41.763Z"
   },
   {
    "duration": 16,
    "start_time": "2025-09-18T06:24:58.404Z"
   },
   {
    "duration": 8,
    "start_time": "2025-09-18T06:25:41.780Z"
   },
   {
    "duration": 12,
    "start_time": "2025-09-18T06:26:22.691Z"
   },
   {
    "duration": 16,
    "start_time": "2025-09-18T06:26:37.171Z"
   },
   {
    "duration": 13,
    "start_time": "2025-09-18T06:57:23.989Z"
   },
   {
    "duration": 7,
    "start_time": "2025-09-18T06:59:13.756Z"
   },
   {
    "duration": 7,
    "start_time": "2025-09-18T07:00:03.820Z"
   },
   {
    "duration": 8,
    "start_time": "2025-09-18T07:00:10.372Z"
   },
   {
    "duration": 7,
    "start_time": "2025-09-18T07:00:15.867Z"
   },
   {
    "duration": 8,
    "start_time": "2025-09-18T07:00:23.193Z"
   },
   {
    "duration": 7,
    "start_time": "2025-09-18T07:00:41.531Z"
   },
   {
    "duration": 9,
    "start_time": "2025-09-18T07:00:51.867Z"
   },
   {
    "duration": 1428,
    "start_time": "2025-09-18T10:21:06.786Z"
   },
   {
    "duration": 1056,
    "start_time": "2025-09-18T10:21:08.216Z"
   },
   {
    "duration": 161,
    "start_time": "2025-09-18T10:21:09.274Z"
   },
   {
    "duration": 199,
    "start_time": "2025-09-18T10:21:09.437Z"
   },
   {
    "duration": 319,
    "start_time": "2025-09-18T10:21:09.639Z"
   },
   {
    "duration": 26,
    "start_time": "2025-09-18T10:21:09.960Z"
   },
   {
    "duration": 22,
    "start_time": "2025-09-18T10:21:09.988Z"
   },
   {
    "duration": 42,
    "start_time": "2025-09-18T10:21:10.012Z"
   },
   {
    "duration": 632,
    "start_time": "2025-09-18T10:21:10.056Z"
   },
   {
    "duration": 200,
    "start_time": "2025-09-18T10:21:10.690Z"
   },
   {
    "duration": 477,
    "start_time": "2025-09-18T10:21:10.892Z"
   },
   {
    "duration": 417,
    "start_time": "2025-09-18T10:21:11.371Z"
   },
   {
    "duration": 277,
    "start_time": "2025-09-18T10:21:11.790Z"
   },
   {
    "duration": 106,
    "start_time": "2025-09-18T10:21:12.070Z"
   },
   {
    "duration": 31,
    "start_time": "2025-09-18T10:21:12.177Z"
   },
   {
    "duration": 5723,
    "start_time": "2025-09-18T10:21:12.210Z"
   },
   {
    "duration": 19,
    "start_time": "2025-09-18T10:21:17.935Z"
   },
   {
    "duration": 63,
    "start_time": "2025-09-18T10:21:17.956Z"
   },
   {
    "duration": 259,
    "start_time": "2025-09-18T10:21:18.021Z"
   },
   {
    "duration": 5363,
    "start_time": "2025-09-18T10:21:18.282Z"
   },
   {
    "duration": 4,
    "start_time": "2025-09-18T10:21:23.651Z"
   },
   {
    "duration": 71,
    "start_time": "2025-09-18T10:21:23.657Z"
   },
   {
    "duration": 4526,
    "start_time": "2025-09-18T10:21:23.730Z"
   },
   {
    "duration": 187,
    "start_time": "2025-09-18T10:21:28.258Z"
   },
   {
    "duration": 194,
    "start_time": "2025-09-18T10:21:28.450Z"
   },
   {
    "duration": 150,
    "start_time": "2025-09-18T10:21:28.650Z"
   },
   {
    "duration": 327,
    "start_time": "2025-09-18T10:21:28.802Z"
   },
   {
    "duration": 6,
    "start_time": "2025-09-18T10:21:29.131Z"
   },
   {
    "duration": 327,
    "start_time": "2025-09-18T10:21:29.151Z"
   },
   {
    "duration": 162,
    "start_time": "2025-09-18T10:21:29.480Z"
   },
   {
    "duration": 469,
    "start_time": "2025-09-18T10:21:29.644Z"
   },
   {
    "duration": 140,
    "start_time": "2025-09-18T10:21:30.115Z"
   },
   {
    "duration": 481,
    "start_time": "2025-09-18T10:21:30.257Z"
   },
   {
    "duration": 165,
    "start_time": "2025-09-18T10:21:30.740Z"
   },
   {
    "duration": 295,
    "start_time": "2025-09-18T10:21:30.907Z"
   },
   {
    "duration": 167,
    "start_time": "2025-09-18T10:21:31.204Z"
   },
   {
    "duration": 554,
    "start_time": "2025-09-18T10:21:31.372Z"
   },
   {
    "duration": 142,
    "start_time": "2025-09-18T10:21:31.928Z"
   },
   {
    "duration": 1168,
    "start_time": "2025-09-18T10:21:32.072Z"
   },
   {
    "duration": 135,
    "start_time": "2025-09-18T10:21:33.242Z"
   },
   {
    "duration": 508,
    "start_time": "2025-09-18T10:21:33.382Z"
   },
   {
    "duration": 145,
    "start_time": "2025-09-18T10:21:33.892Z"
   },
   {
    "duration": 4,
    "start_time": "2025-09-18T10:21:34.039Z"
   },
   {
    "duration": 449,
    "start_time": "2025-09-18T10:21:34.051Z"
   },
   {
    "duration": 337,
    "start_time": "2025-09-18T10:21:34.502Z"
   },
   {
    "duration": 24,
    "start_time": "2025-09-18T10:21:34.841Z"
   },
   {
    "duration": 176,
    "start_time": "2025-09-18T10:21:34.867Z"
   },
   {
    "duration": 27,
    "start_time": "2025-09-18T10:21:35.044Z"
   },
   {
    "duration": 128,
    "start_time": "2025-09-18T10:21:35.072Z"
   },
   {
    "duration": 7,
    "start_time": "2025-09-18T10:21:35.202Z"
   },
   {
    "duration": 16,
    "start_time": "2025-09-18T10:21:35.211Z"
   },
   {
    "duration": 24,
    "start_time": "2025-09-18T10:21:35.229Z"
   },
   {
    "duration": 21,
    "start_time": "2025-09-18T10:21:35.255Z"
   },
   {
    "duration": 34,
    "start_time": "2025-09-18T10:21:35.278Z"
   },
   {
    "duration": 11,
    "start_time": "2025-09-18T10:21:35.314Z"
   },
   {
    "duration": 139,
    "start_time": "2025-09-18T10:29:54.259Z"
   },
   {
    "duration": 53,
    "start_time": "2025-09-18T10:31:27.044Z"
   },
   {
    "duration": 4,
    "start_time": "2025-09-18T10:32:08.123Z"
   },
   {
    "duration": 49,
    "start_time": "2025-09-18T10:33:43.445Z"
   },
   {
    "duration": 71,
    "start_time": "2025-09-18T10:38:28.391Z"
   },
   {
    "duration": 7,
    "start_time": "2025-09-18T10:41:15.832Z"
   },
   {
    "duration": 69,
    "start_time": "2025-09-18T10:44:24.136Z"
   },
   {
    "duration": 66,
    "start_time": "2025-09-18T10:44:58.153Z"
   },
   {
    "duration": 7,
    "start_time": "2025-09-18T10:53:26.273Z"
   },
   {
    "duration": 1414,
    "start_time": "2025-09-18T12:39:44.888Z"
   },
   {
    "duration": 931,
    "start_time": "2025-09-18T12:39:46.304Z"
   },
   {
    "duration": 176,
    "start_time": "2025-09-18T12:39:47.237Z"
   },
   {
    "duration": 179,
    "start_time": "2025-09-18T12:39:47.415Z"
   },
   {
    "duration": 281,
    "start_time": "2025-09-18T12:39:47.597Z"
   },
   {
    "duration": 30,
    "start_time": "2025-09-18T12:39:47.880Z"
   },
   {
    "duration": 23,
    "start_time": "2025-09-18T12:39:47.912Z"
   },
   {
    "duration": 20,
    "start_time": "2025-09-18T12:39:47.937Z"
   },
   {
    "duration": 490,
    "start_time": "2025-09-18T12:39:47.987Z"
   },
   {
    "duration": 200,
    "start_time": "2025-09-18T12:39:48.479Z"
   },
   {
    "duration": 474,
    "start_time": "2025-09-18T12:39:48.681Z"
   },
   {
    "duration": 401,
    "start_time": "2025-09-18T12:39:49.157Z"
   },
   {
    "duration": 266,
    "start_time": "2025-09-18T12:39:49.560Z"
   },
   {
    "duration": 98,
    "start_time": "2025-09-18T12:39:49.830Z"
   },
   {
    "duration": 31,
    "start_time": "2025-09-18T12:39:49.930Z"
   },
   {
    "duration": 5647,
    "start_time": "2025-09-18T12:39:49.963Z"
   },
   {
    "duration": 13,
    "start_time": "2025-09-18T12:39:55.612Z"
   },
   {
    "duration": 72,
    "start_time": "2025-09-18T12:39:55.627Z"
   },
   {
    "duration": 265,
    "start_time": "2025-09-18T12:39:55.701Z"
   },
   {
    "duration": 5297,
    "start_time": "2025-09-18T12:39:55.968Z"
   },
   {
    "duration": 5,
    "start_time": "2025-09-18T12:40:01.267Z"
   },
   {
    "duration": 47,
    "start_time": "2025-09-18T12:40:01.274Z"
   },
   {
    "duration": 4653,
    "start_time": "2025-09-18T12:40:01.323Z"
   },
   {
    "duration": 178,
    "start_time": "2025-09-18T12:40:05.979Z"
   },
   {
    "duration": 185,
    "start_time": "2025-09-18T12:40:06.159Z"
   },
   {
    "duration": 140,
    "start_time": "2025-09-18T12:40:06.347Z"
   },
   {
    "duration": 303,
    "start_time": "2025-09-18T12:40:06.489Z"
   },
   {
    "duration": 6,
    "start_time": "2025-09-18T12:40:06.795Z"
   },
   {
    "duration": 356,
    "start_time": "2025-09-18T12:40:06.803Z"
   },
   {
    "duration": 147,
    "start_time": "2025-09-18T12:40:07.161Z"
   },
   {
    "duration": 448,
    "start_time": "2025-09-18T12:40:07.310Z"
   },
   {
    "duration": 128,
    "start_time": "2025-09-18T12:40:07.760Z"
   },
   {
    "duration": 441,
    "start_time": "2025-09-18T12:40:07.889Z"
   },
   {
    "duration": 147,
    "start_time": "2025-09-18T12:40:08.332Z"
   },
   {
    "duration": 272,
    "start_time": "2025-09-18T12:40:08.488Z"
   },
   {
    "duration": 149,
    "start_time": "2025-09-18T12:40:08.762Z"
   },
   {
    "duration": 538,
    "start_time": "2025-09-18T12:40:08.913Z"
   },
   {
    "duration": 125,
    "start_time": "2025-09-18T12:40:09.453Z"
   },
   {
    "duration": 1072,
    "start_time": "2025-09-18T12:40:09.580Z"
   },
   {
    "duration": 115,
    "start_time": "2025-09-18T12:40:10.654Z"
   },
   {
    "duration": 452,
    "start_time": "2025-09-18T12:40:10.774Z"
   },
   {
    "duration": 131,
    "start_time": "2025-09-18T12:40:11.228Z"
   },
   {
    "duration": 3,
    "start_time": "2025-09-18T12:40:11.361Z"
   },
   {
    "duration": 396,
    "start_time": "2025-09-18T12:40:11.365Z"
   },
   {
    "duration": 311,
    "start_time": "2025-09-18T12:40:11.762Z"
   },
   {
    "duration": 19,
    "start_time": "2025-09-18T12:40:12.087Z"
   },
   {
    "duration": 144,
    "start_time": "2025-09-18T12:40:12.108Z"
   },
   {
    "duration": 19,
    "start_time": "2025-09-18T12:40:12.254Z"
   },
   {
    "duration": 112,
    "start_time": "2025-09-18T12:40:12.275Z"
   },
   {
    "duration": 6,
    "start_time": "2025-09-18T12:40:12.389Z"
   },
   {
    "duration": 9,
    "start_time": "2025-09-18T12:40:12.396Z"
   },
   {
    "duration": 6,
    "start_time": "2025-09-18T12:40:12.406Z"
   },
   {
    "duration": 17,
    "start_time": "2025-09-18T12:40:12.413Z"
   },
   {
    "duration": 19,
    "start_time": "2025-09-18T12:40:12.432Z"
   },
   {
    "duration": 18,
    "start_time": "2025-09-18T12:40:12.453Z"
   },
   {
    "duration": 64,
    "start_time": "2025-09-18T12:40:12.487Z"
   },
   {
    "duration": 6,
    "start_time": "2025-09-18T12:40:12.553Z"
   },
   {
    "duration": 1348,
    "start_time": "2025-09-18T23:47:38.351Z"
   },
   {
    "duration": 906,
    "start_time": "2025-09-18T23:47:39.701Z"
   },
   {
    "duration": 162,
    "start_time": "2025-09-18T23:47:40.609Z"
   },
   {
    "duration": 170,
    "start_time": "2025-09-18T23:47:40.773Z"
   },
   {
    "duration": 266,
    "start_time": "2025-09-18T23:47:40.945Z"
   },
   {
    "duration": 24,
    "start_time": "2025-09-18T23:47:41.213Z"
   },
   {
    "duration": 20,
    "start_time": "2025-09-18T23:47:41.239Z"
   },
   {
    "duration": 34,
    "start_time": "2025-09-18T23:47:41.261Z"
   },
   {
    "duration": 474,
    "start_time": "2025-09-18T23:47:41.296Z"
   },
   {
    "duration": 184,
    "start_time": "2025-09-18T23:47:41.772Z"
   },
   {
    "duration": 462,
    "start_time": "2025-09-18T23:47:41.958Z"
   },
   {
    "duration": 390,
    "start_time": "2025-09-18T23:47:42.422Z"
   },
   {
    "duration": 263,
    "start_time": "2025-09-18T23:47:42.814Z"
   },
   {
    "duration": 88,
    "start_time": "2025-09-18T23:47:43.087Z"
   },
   {
    "duration": 40,
    "start_time": "2025-09-18T23:47:43.177Z"
   },
   {
    "duration": 5395,
    "start_time": "2025-09-18T23:47:43.218Z"
   },
   {
    "duration": 14,
    "start_time": "2025-09-18T23:47:48.615Z"
   },
   {
    "duration": 74,
    "start_time": "2025-09-18T23:47:48.630Z"
   },
   {
    "duration": 237,
    "start_time": "2025-09-18T23:47:48.706Z"
   },
   {
    "duration": 4946,
    "start_time": "2025-09-18T23:47:48.945Z"
   },
   {
    "duration": 5,
    "start_time": "2025-09-18T23:47:53.892Z"
   },
   {
    "duration": 30,
    "start_time": "2025-09-18T23:47:53.898Z"
   },
   {
    "duration": 4286,
    "start_time": "2025-09-18T23:47:53.930Z"
   },
   {
    "duration": 172,
    "start_time": "2025-09-18T23:47:58.218Z"
   },
   {
    "duration": 172,
    "start_time": "2025-09-18T23:47:58.391Z"
   },
   {
    "duration": 132,
    "start_time": "2025-09-18T23:47:58.565Z"
   },
   {
    "duration": 295,
    "start_time": "2025-09-18T23:47:58.698Z"
   },
   {
    "duration": 6,
    "start_time": "2025-09-18T23:47:58.994Z"
   },
   {
    "duration": 317,
    "start_time": "2025-09-18T23:47:59.001Z"
   },
   {
    "duration": 140,
    "start_time": "2025-09-18T23:47:59.319Z"
   },
   {
    "duration": 432,
    "start_time": "2025-09-18T23:47:59.461Z"
   },
   {
    "duration": 128,
    "start_time": "2025-09-18T23:47:59.894Z"
   },
   {
    "duration": 467,
    "start_time": "2025-09-18T23:48:00.023Z"
   },
   {
    "duration": 150,
    "start_time": "2025-09-18T23:48:00.492Z"
   },
   {
    "duration": 281,
    "start_time": "2025-09-18T23:48:00.644Z"
   },
   {
    "duration": 148,
    "start_time": "2025-09-18T23:48:00.927Z"
   },
   {
    "duration": 595,
    "start_time": "2025-09-18T23:48:01.076Z"
   },
   {
    "duration": 129,
    "start_time": "2025-09-18T23:48:01.672Z"
   },
   {
    "duration": 1054,
    "start_time": "2025-09-18T23:48:01.802Z"
   },
   {
    "duration": 121,
    "start_time": "2025-09-18T23:48:02.858Z"
   },
   {
    "duration": 480,
    "start_time": "2025-09-18T23:48:02.988Z"
   },
   {
    "duration": 134,
    "start_time": "2025-09-18T23:48:03.470Z"
   },
   {
    "duration": 3,
    "start_time": "2025-09-18T23:48:03.605Z"
   },
   {
    "duration": 451,
    "start_time": "2025-09-18T23:48:03.610Z"
   },
   {
    "duration": 307,
    "start_time": "2025-09-18T23:48:04.063Z"
   },
   {
    "duration": 26,
    "start_time": "2025-09-18T23:48:04.372Z"
   },
   {
    "duration": 136,
    "start_time": "2025-09-18T23:48:04.400Z"
   },
   {
    "duration": 18,
    "start_time": "2025-09-18T23:48:04.538Z"
   },
   {
    "duration": 109,
    "start_time": "2025-09-18T23:48:04.557Z"
   },
   {
    "duration": 6,
    "start_time": "2025-09-18T23:48:04.668Z"
   },
   {
    "duration": 9,
    "start_time": "2025-09-18T23:48:04.687Z"
   },
   {
    "duration": 34,
    "start_time": "2025-09-18T23:48:04.697Z"
   },
   {
    "duration": 8,
    "start_time": "2025-09-18T23:48:04.733Z"
   },
   {
    "duration": 12,
    "start_time": "2025-09-18T23:48:04.743Z"
   },
   {
    "duration": 6,
    "start_time": "2025-09-18T23:48:04.756Z"
   },
   {
    "duration": 76,
    "start_time": "2025-09-18T23:48:04.763Z"
   },
   {
    "duration": 6,
    "start_time": "2025-09-18T23:48:04.840Z"
   },
   {
    "duration": 94,
    "start_time": "2025-09-18T23:58:15.394Z"
   },
   {
    "duration": 6,
    "start_time": "2025-09-18T23:58:43.184Z"
   },
   {
    "duration": 88,
    "start_time": "2025-09-19T04:46:30.288Z"
   },
   {
    "duration": 49,
    "start_time": "2025-09-19T04:46:45.727Z"
   },
   {
    "duration": 1372,
    "start_time": "2025-09-19T04:47:16.069Z"
   },
   {
    "duration": 982,
    "start_time": "2025-09-19T04:47:17.443Z"
   },
   {
    "duration": 196,
    "start_time": "2025-09-19T04:47:18.428Z"
   },
   {
    "duration": 164,
    "start_time": "2025-09-19T04:47:18.626Z"
   },
   {
    "duration": 295,
    "start_time": "2025-09-19T04:47:18.792Z"
   },
   {
    "duration": 37,
    "start_time": "2025-09-19T04:47:19.089Z"
   },
   {
    "duration": 26,
    "start_time": "2025-09-19T04:47:19.128Z"
   },
   {
    "duration": 20,
    "start_time": "2025-09-19T04:47:19.156Z"
   },
   {
    "duration": 928,
    "start_time": "2025-09-19T04:47:19.200Z"
   },
   {
    "duration": 0,
    "start_time": "2025-09-19T04:47:20.133Z"
   },
   {
    "duration": 0,
    "start_time": "2025-09-19T04:47:20.134Z"
   },
   {
    "duration": 0,
    "start_time": "2025-09-19T04:47:20.136Z"
   },
   {
    "duration": 0,
    "start_time": "2025-09-19T04:47:20.138Z"
   },
   {
    "duration": 0,
    "start_time": "2025-09-19T04:47:20.139Z"
   },
   {
    "duration": 0,
    "start_time": "2025-09-19T04:47:20.141Z"
   },
   {
    "duration": 0,
    "start_time": "2025-09-19T04:47:20.143Z"
   },
   {
    "duration": 0,
    "start_time": "2025-09-19T04:47:20.144Z"
   },
   {
    "duration": 0,
    "start_time": "2025-09-19T04:47:20.146Z"
   },
   {
    "duration": 0,
    "start_time": "2025-09-19T04:47:20.148Z"
   },
   {
    "duration": 0,
    "start_time": "2025-09-19T04:47:20.149Z"
   },
   {
    "duration": 0,
    "start_time": "2025-09-19T04:47:20.151Z"
   },
   {
    "duration": 0,
    "start_time": "2025-09-19T04:47:20.152Z"
   },
   {
    "duration": 1,
    "start_time": "2025-09-19T04:47:20.153Z"
   },
   {
    "duration": 0,
    "start_time": "2025-09-19T04:47:20.155Z"
   },
   {
    "duration": 0,
    "start_time": "2025-09-19T04:47:20.156Z"
   },
   {
    "duration": 0,
    "start_time": "2025-09-19T04:47:20.158Z"
   },
   {
    "duration": 0,
    "start_time": "2025-09-19T04:47:20.159Z"
   },
   {
    "duration": 0,
    "start_time": "2025-09-19T04:47:20.160Z"
   },
   {
    "duration": 0,
    "start_time": "2025-09-19T04:47:20.161Z"
   },
   {
    "duration": 0,
    "start_time": "2025-09-19T04:47:20.163Z"
   },
   {
    "duration": 0,
    "start_time": "2025-09-19T04:47:20.164Z"
   },
   {
    "duration": 0,
    "start_time": "2025-09-19T04:47:20.165Z"
   },
   {
    "duration": 0,
    "start_time": "2025-09-19T04:47:20.166Z"
   },
   {
    "duration": 0,
    "start_time": "2025-09-19T04:47:20.168Z"
   },
   {
    "duration": 0,
    "start_time": "2025-09-19T04:47:20.198Z"
   },
   {
    "duration": 0,
    "start_time": "2025-09-19T04:47:20.201Z"
   },
   {
    "duration": 0,
    "start_time": "2025-09-19T04:47:20.202Z"
   },
   {
    "duration": 0,
    "start_time": "2025-09-19T04:47:20.203Z"
   },
   {
    "duration": 0,
    "start_time": "2025-09-19T04:47:20.204Z"
   },
   {
    "duration": 0,
    "start_time": "2025-09-19T04:47:20.205Z"
   },
   {
    "duration": 0,
    "start_time": "2025-09-19T04:47:20.207Z"
   },
   {
    "duration": 0,
    "start_time": "2025-09-19T04:47:20.208Z"
   },
   {
    "duration": 0,
    "start_time": "2025-09-19T04:47:20.209Z"
   },
   {
    "duration": 0,
    "start_time": "2025-09-19T04:47:20.210Z"
   },
   {
    "duration": 0,
    "start_time": "2025-09-19T04:47:20.211Z"
   },
   {
    "duration": 0,
    "start_time": "2025-09-19T04:47:20.212Z"
   },
   {
    "duration": 0,
    "start_time": "2025-09-19T04:47:20.213Z"
   },
   {
    "duration": 0,
    "start_time": "2025-09-19T04:47:20.214Z"
   },
   {
    "duration": 0,
    "start_time": "2025-09-19T04:47:20.215Z"
   },
   {
    "duration": 0,
    "start_time": "2025-09-19T04:47:20.216Z"
   },
   {
    "duration": 0,
    "start_time": "2025-09-19T04:47:20.217Z"
   },
   {
    "duration": 0,
    "start_time": "2025-09-19T04:47:20.219Z"
   },
   {
    "duration": 0,
    "start_time": "2025-09-19T04:47:20.220Z"
   },
   {
    "duration": 0,
    "start_time": "2025-09-19T04:47:20.222Z"
   },
   {
    "duration": 0,
    "start_time": "2025-09-19T04:47:20.223Z"
   },
   {
    "duration": 0,
    "start_time": "2025-09-19T04:47:20.224Z"
   },
   {
    "duration": 0,
    "start_time": "2025-09-19T04:47:20.226Z"
   },
   {
    "duration": 0,
    "start_time": "2025-09-19T04:47:20.227Z"
   },
   {
    "duration": 12,
    "start_time": "2025-09-19T04:49:31.785Z"
   },
   {
    "duration": 195,
    "start_time": "2025-09-19T04:49:58.708Z"
   },
   {
    "duration": 1253,
    "start_time": "2025-09-19T05:20:10.317Z"
   },
   {
    "duration": 1055,
    "start_time": "2025-09-19T05:20:11.573Z"
   },
   {
    "duration": 200,
    "start_time": "2025-09-19T05:20:12.630Z"
   },
   {
    "duration": 189,
    "start_time": "2025-09-19T05:20:12.832Z"
   },
   {
    "duration": 311,
    "start_time": "2025-09-19T05:20:13.024Z"
   },
   {
    "duration": 25,
    "start_time": "2025-09-19T05:20:13.337Z"
   },
   {
    "duration": 48,
    "start_time": "2025-09-19T05:20:13.364Z"
   },
   {
    "duration": 21,
    "start_time": "2025-09-19T05:20:13.418Z"
   },
   {
    "duration": 251,
    "start_time": "2025-09-19T05:20:13.441Z"
   },
   {
    "duration": 526,
    "start_time": "2025-09-19T05:20:13.702Z"
   },
   {
    "duration": 234,
    "start_time": "2025-09-19T05:20:14.230Z"
   },
   {
    "duration": 598,
    "start_time": "2025-09-19T05:20:14.466Z"
   },
   {
    "duration": 457,
    "start_time": "2025-09-19T05:20:15.066Z"
   },
   {
    "duration": 309,
    "start_time": "2025-09-19T05:20:15.527Z"
   },
   {
    "duration": 118,
    "start_time": "2025-09-19T05:20:15.838Z"
   },
   {
    "duration": 54,
    "start_time": "2025-09-19T05:20:15.958Z"
   },
   {
    "duration": 6076,
    "start_time": "2025-09-19T05:20:16.014Z"
   },
   {
    "duration": 23,
    "start_time": "2025-09-19T05:20:22.092Z"
   },
   {
    "duration": 65,
    "start_time": "2025-09-19T05:20:22.118Z"
   },
   {
    "duration": 277,
    "start_time": "2025-09-19T05:20:22.185Z"
   },
   {
    "duration": 5841,
    "start_time": "2025-09-19T05:20:22.463Z"
   },
   {
    "duration": 6,
    "start_time": "2025-09-19T05:20:28.306Z"
   },
   {
    "duration": 32,
    "start_time": "2025-09-19T05:20:28.315Z"
   },
   {
    "duration": 4927,
    "start_time": "2025-09-19T05:20:28.348Z"
   },
   {
    "duration": 183,
    "start_time": "2025-09-19T05:20:33.277Z"
   },
   {
    "duration": 203,
    "start_time": "2025-09-19T05:20:33.462Z"
   },
   {
    "duration": 150,
    "start_time": "2025-09-19T05:20:33.667Z"
   },
   {
    "duration": 328,
    "start_time": "2025-09-19T05:20:33.818Z"
   },
   {
    "duration": 6,
    "start_time": "2025-09-19T05:20:34.148Z"
   },
   {
    "duration": 355,
    "start_time": "2025-09-19T05:20:34.156Z"
   },
   {
    "duration": 146,
    "start_time": "2025-09-19T05:20:34.512Z"
   },
   {
    "duration": 526,
    "start_time": "2025-09-19T05:20:34.660Z"
   },
   {
    "duration": 149,
    "start_time": "2025-09-19T05:20:35.188Z"
   },
   {
    "duration": 489,
    "start_time": "2025-09-19T05:20:35.338Z"
   },
   {
    "duration": 199,
    "start_time": "2025-09-19T05:20:35.829Z"
   },
   {
    "duration": 300,
    "start_time": "2025-09-19T05:20:36.030Z"
   },
   {
    "duration": 177,
    "start_time": "2025-09-19T05:20:36.332Z"
   },
   {
    "duration": 478,
    "start_time": "2025-09-19T05:20:36.511Z"
   },
   {
    "duration": 136,
    "start_time": "2025-09-19T05:20:36.992Z"
   },
   {
    "duration": 1157,
    "start_time": "2025-09-19T05:20:37.130Z"
   },
   {
    "duration": 122,
    "start_time": "2025-09-19T05:20:38.294Z"
   },
   {
    "duration": 0,
    "start_time": "2025-09-19T05:20:38.418Z"
   },
   {
    "duration": 0,
    "start_time": "2025-09-19T05:20:38.419Z"
   },
   {
    "duration": 0,
    "start_time": "2025-09-19T05:20:38.421Z"
   },
   {
    "duration": 0,
    "start_time": "2025-09-19T05:20:38.422Z"
   },
   {
    "duration": 0,
    "start_time": "2025-09-19T05:20:38.423Z"
   },
   {
    "duration": 0,
    "start_time": "2025-09-19T05:20:38.425Z"
   },
   {
    "duration": 0,
    "start_time": "2025-09-19T05:20:38.426Z"
   },
   {
    "duration": 0,
    "start_time": "2025-09-19T05:20:38.427Z"
   },
   {
    "duration": 0,
    "start_time": "2025-09-19T05:20:38.428Z"
   },
   {
    "duration": 0,
    "start_time": "2025-09-19T05:20:38.429Z"
   },
   {
    "duration": 0,
    "start_time": "2025-09-19T05:20:38.430Z"
   },
   {
    "duration": 0,
    "start_time": "2025-09-19T05:20:38.432Z"
   },
   {
    "duration": 0,
    "start_time": "2025-09-19T05:20:38.433Z"
   },
   {
    "duration": 0,
    "start_time": "2025-09-19T05:20:38.434Z"
   },
   {
    "duration": 0,
    "start_time": "2025-09-19T05:20:38.435Z"
   },
   {
    "duration": 0,
    "start_time": "2025-09-19T05:20:38.436Z"
   },
   {
    "duration": 0,
    "start_time": "2025-09-19T05:20:38.437Z"
   },
   {
    "duration": 0,
    "start_time": "2025-09-19T05:20:38.438Z"
   },
   {
    "duration": 16,
    "start_time": "2025-09-19T05:28:15.185Z"
   },
   {
    "duration": 14,
    "start_time": "2025-09-19T05:29:01.906Z"
   },
   {
    "duration": 208,
    "start_time": "2025-09-19T05:29:55.812Z"
   },
   {
    "duration": 145,
    "start_time": "2025-09-19T05:32:37.457Z"
   },
   {
    "duration": 110,
    "start_time": "2025-09-19T05:48:55.895Z"
   },
   {
    "duration": 117,
    "start_time": "2025-09-19T05:50:20.145Z"
   },
   {
    "duration": 96,
    "start_time": "2025-09-19T05:54:56.110Z"
   },
   {
    "duration": 130,
    "start_time": "2025-09-19T05:55:54.587Z"
   },
   {
    "duration": 240,
    "start_time": "2025-09-19T06:07:54.038Z"
   },
   {
    "duration": 285,
    "start_time": "2025-09-19T06:08:28.297Z"
   },
   {
    "duration": 357,
    "start_time": "2025-09-19T06:09:01.360Z"
   },
   {
    "duration": 286,
    "start_time": "2025-09-19T06:09:14.106Z"
   },
   {
    "duration": 308,
    "start_time": "2025-09-19T06:09:30.729Z"
   },
   {
    "duration": 302,
    "start_time": "2025-09-19T06:09:39.553Z"
   },
   {
    "duration": 303,
    "start_time": "2025-09-19T06:10:19.352Z"
   },
   {
    "duration": 301,
    "start_time": "2025-09-19T06:10:32.016Z"
   },
   {
    "duration": 635,
    "start_time": "2025-09-19T06:12:00.184Z"
   },
   {
    "duration": 424,
    "start_time": "2025-09-19T06:13:51.289Z"
   },
   {
    "duration": 447,
    "start_time": "2025-09-19T06:14:08.241Z"
   },
   {
    "duration": 418,
    "start_time": "2025-09-19T06:14:19.006Z"
   },
   {
    "duration": 417,
    "start_time": "2025-09-19T06:14:29.627Z"
   },
   {
    "duration": 441,
    "start_time": "2025-09-19T06:15:55.769Z"
   },
   {
    "duration": 413,
    "start_time": "2025-09-19T06:16:02.842Z"
   },
   {
    "duration": 683,
    "start_time": "2025-09-19T06:16:19.020Z"
   },
   {
    "duration": 398,
    "start_time": "2025-09-19T06:17:18.709Z"
   },
   {
    "duration": 405,
    "start_time": "2025-09-19T06:18:26.074Z"
   },
   {
    "duration": 449,
    "start_time": "2025-09-19T06:22:12.476Z"
   },
   {
    "duration": 66,
    "start_time": "2025-09-19T06:22:27.348Z"
   },
   {
    "duration": 427,
    "start_time": "2025-09-19T06:22:37.796Z"
   },
   {
    "duration": 493,
    "start_time": "2025-09-19T06:23:17.764Z"
   },
   {
    "duration": 477,
    "start_time": "2025-09-19T06:26:23.310Z"
   },
   {
    "duration": 661,
    "start_time": "2025-09-19T06:26:36.104Z"
   },
   {
    "duration": 1357,
    "start_time": "2025-09-19T06:26:57.577Z"
   },
   {
    "duration": 1124,
    "start_time": "2025-09-19T06:26:58.936Z"
   },
   {
    "duration": 210,
    "start_time": "2025-09-19T06:27:00.061Z"
   },
   {
    "duration": 226,
    "start_time": "2025-09-19T06:27:00.273Z"
   },
   {
    "duration": 359,
    "start_time": "2025-09-19T06:27:00.507Z"
   },
   {
    "duration": 35,
    "start_time": "2025-09-19T06:27:00.868Z"
   },
   {
    "duration": 36,
    "start_time": "2025-09-19T06:27:00.905Z"
   },
   {
    "duration": 31,
    "start_time": "2025-09-19T06:27:00.943Z"
   },
   {
    "duration": 262,
    "start_time": "2025-09-19T06:27:00.976Z"
   },
   {
    "duration": 603,
    "start_time": "2025-09-19T06:27:01.240Z"
   },
   {
    "duration": 238,
    "start_time": "2025-09-19T06:27:01.845Z"
   },
   {
    "duration": 584,
    "start_time": "2025-09-19T06:27:02.085Z"
   },
   {
    "duration": 509,
    "start_time": "2025-09-19T06:27:02.671Z"
   },
   {
    "duration": 329,
    "start_time": "2025-09-19T06:27:03.183Z"
   },
   {
    "duration": 115,
    "start_time": "2025-09-19T06:27:03.517Z"
   },
   {
    "duration": 123,
    "start_time": "2025-09-19T06:27:03.634Z"
   },
   {
    "duration": 6823,
    "start_time": "2025-09-19T06:27:03.760Z"
   },
   {
    "duration": 24,
    "start_time": "2025-09-19T06:27:10.585Z"
   },
   {
    "duration": 73,
    "start_time": "2025-09-19T06:27:10.611Z"
   },
   {
    "duration": 305,
    "start_time": "2025-09-19T06:27:10.686Z"
   },
   {
    "duration": 6460,
    "start_time": "2025-09-19T06:27:11.003Z"
   },
   {
    "duration": 6,
    "start_time": "2025-09-19T06:27:17.465Z"
   },
   {
    "duration": 73,
    "start_time": "2025-09-19T06:27:17.473Z"
   },
   {
    "duration": 5597,
    "start_time": "2025-09-19T06:27:17.548Z"
   },
   {
    "duration": 198,
    "start_time": "2025-09-19T06:27:23.146Z"
   },
   {
    "duration": 193,
    "start_time": "2025-09-19T06:27:23.346Z"
   },
   {
    "duration": 166,
    "start_time": "2025-09-19T06:27:23.541Z"
   },
   {
    "duration": 364,
    "start_time": "2025-09-19T06:27:23.709Z"
   },
   {
    "duration": 6,
    "start_time": "2025-09-19T06:27:24.076Z"
   },
   {
    "duration": 432,
    "start_time": "2025-09-19T06:27:24.084Z"
   },
   {
    "duration": 170,
    "start_time": "2025-09-19T06:27:24.518Z"
   },
   {
    "duration": 591,
    "start_time": "2025-09-19T06:27:24.690Z"
   },
   {
    "duration": 157,
    "start_time": "2025-09-19T06:27:25.282Z"
   },
   {
    "duration": 536,
    "start_time": "2025-09-19T06:27:25.441Z"
   },
   {
    "duration": 181,
    "start_time": "2025-09-19T06:27:25.979Z"
   },
   {
    "duration": 321,
    "start_time": "2025-09-19T06:27:26.162Z"
   },
   {
    "duration": 177,
    "start_time": "2025-09-19T06:27:26.485Z"
   },
   {
    "duration": 566,
    "start_time": "2025-09-19T06:27:26.664Z"
   },
   {
    "duration": 142,
    "start_time": "2025-09-19T06:27:27.232Z"
   },
   {
    "duration": 1299,
    "start_time": "2025-09-19T06:27:27.376Z"
   },
   {
    "duration": 114,
    "start_time": "2025-09-19T06:27:28.680Z"
   },
   {
    "duration": 486,
    "start_time": "2025-09-19T06:27:28.795Z"
   },
   {
    "duration": 161,
    "start_time": "2025-09-19T06:27:29.283Z"
   },
   {
    "duration": 542,
    "start_time": "2025-09-19T06:27:29.446Z"
   },
   {
    "duration": 170,
    "start_time": "2025-09-19T06:27:29.990Z"
   },
   {
    "duration": 22,
    "start_time": "2025-09-19T06:27:30.162Z"
   },
   {
    "duration": 488,
    "start_time": "2025-09-19T06:27:30.186Z"
   },
   {
    "duration": 485,
    "start_time": "2025-09-19T06:27:30.676Z"
   },
   {
    "duration": 19,
    "start_time": "2025-09-19T06:27:31.163Z"
   },
   {
    "duration": 202,
    "start_time": "2025-09-19T06:27:31.184Z"
   },
   {
    "duration": 47,
    "start_time": "2025-09-19T06:27:31.388Z"
   },
   {
    "duration": 19,
    "start_time": "2025-09-19T06:27:31.437Z"
   },
   {
    "duration": 41,
    "start_time": "2025-09-19T06:27:31.458Z"
   },
   {
    "duration": 31,
    "start_time": "2025-09-19T06:27:31.504Z"
   },
   {
    "duration": 38,
    "start_time": "2025-09-19T06:27:31.537Z"
   },
   {
    "duration": 115,
    "start_time": "2025-09-19T06:27:31.578Z"
   },
   {
    "duration": 87,
    "start_time": "2025-09-19T06:27:31.695Z"
   },
   {
    "duration": 21,
    "start_time": "2025-09-19T06:27:31.783Z"
   },
   {
    "duration": 86,
    "start_time": "2025-09-19T06:27:31.805Z"
   },
   {
    "duration": 22,
    "start_time": "2025-09-19T06:27:31.893Z"
   },
   {
    "duration": 625,
    "start_time": "2025-09-19T06:28:45.869Z"
   },
   {
    "duration": 497,
    "start_time": "2025-09-19T06:29:06.227Z"
   },
   {
    "duration": 436,
    "start_time": "2025-09-19T06:42:04.895Z"
   },
   {
    "duration": 435,
    "start_time": "2025-09-19T06:42:12.463Z"
   },
   {
    "duration": 1277,
    "start_time": "2025-09-19T06:43:59.029Z"
   },
   {
    "duration": 1016,
    "start_time": "2025-09-19T06:44:00.308Z"
   },
   {
    "duration": 183,
    "start_time": "2025-09-19T06:44:01.325Z"
   },
   {
    "duration": 199,
    "start_time": "2025-09-19T06:44:01.510Z"
   },
   {
    "duration": 313,
    "start_time": "2025-09-19T06:44:01.711Z"
   },
   {
    "duration": 27,
    "start_time": "2025-09-19T06:44:02.026Z"
   },
   {
    "duration": 73,
    "start_time": "2025-09-19T06:44:02.056Z"
   },
   {
    "duration": 40,
    "start_time": "2025-09-19T06:44:02.132Z"
   },
   {
    "duration": 199,
    "start_time": "2025-09-19T06:44:02.174Z"
   },
   {
    "duration": 537,
    "start_time": "2025-09-19T06:44:02.375Z"
   },
   {
    "duration": 206,
    "start_time": "2025-09-19T06:44:02.915Z"
   },
   {
    "duration": 501,
    "start_time": "2025-09-19T06:44:03.123Z"
   },
   {
    "duration": 423,
    "start_time": "2025-09-19T06:44:03.626Z"
   },
   {
    "duration": 287,
    "start_time": "2025-09-19T06:44:04.054Z"
   },
   {
    "duration": 109,
    "start_time": "2025-09-19T06:44:04.343Z"
   },
   {
    "duration": 32,
    "start_time": "2025-09-19T06:44:04.454Z"
   },
   {
    "duration": 5833,
    "start_time": "2025-09-19T06:44:04.487Z"
   },
   {
    "duration": 15,
    "start_time": "2025-09-19T06:44:10.322Z"
   },
   {
    "duration": 80,
    "start_time": "2025-09-19T06:44:10.339Z"
   },
   {
    "duration": 255,
    "start_time": "2025-09-19T06:44:10.421Z"
   },
   {
    "duration": 5534,
    "start_time": "2025-09-19T06:44:10.678Z"
   },
   {
    "duration": 5,
    "start_time": "2025-09-19T06:44:16.214Z"
   },
   {
    "duration": 77,
    "start_time": "2025-09-19T06:44:16.221Z"
   },
   {
    "duration": 4658,
    "start_time": "2025-09-19T06:44:16.299Z"
   },
   {
    "duration": 178,
    "start_time": "2025-09-19T06:44:20.958Z"
   },
   {
    "duration": 181,
    "start_time": "2025-09-19T06:44:21.138Z"
   },
   {
    "duration": 141,
    "start_time": "2025-09-19T06:44:21.321Z"
   },
   {
    "duration": 316,
    "start_time": "2025-09-19T06:44:21.464Z"
   },
   {
    "duration": 5,
    "start_time": "2025-09-19T06:44:21.782Z"
   },
   {
    "duration": 349,
    "start_time": "2025-09-19T06:44:21.790Z"
   },
   {
    "duration": 150,
    "start_time": "2025-09-19T06:44:22.141Z"
   },
   {
    "duration": 481,
    "start_time": "2025-09-19T06:44:22.293Z"
   },
   {
    "duration": 134,
    "start_time": "2025-09-19T06:44:22.777Z"
   },
   {
    "duration": 487,
    "start_time": "2025-09-19T06:44:22.914Z"
   },
   {
    "duration": 159,
    "start_time": "2025-09-19T06:44:23.403Z"
   },
   {
    "duration": 292,
    "start_time": "2025-09-19T06:44:23.564Z"
   },
   {
    "duration": 173,
    "start_time": "2025-09-19T06:44:23.858Z"
   },
   {
    "duration": 453,
    "start_time": "2025-09-19T06:44:24.033Z"
   },
   {
    "duration": 144,
    "start_time": "2025-09-19T06:44:24.489Z"
   },
   {
    "duration": 1156,
    "start_time": "2025-09-19T06:44:24.635Z"
   },
   {
    "duration": 109,
    "start_time": "2025-09-19T06:44:25.797Z"
   },
   {
    "duration": 451,
    "start_time": "2025-09-19T06:44:25.909Z"
   },
   {
    "duration": 138,
    "start_time": "2025-09-19T06:44:26.362Z"
   },
   {
    "duration": 532,
    "start_time": "2025-09-19T06:44:26.502Z"
   },
   {
    "duration": 151,
    "start_time": "2025-09-19T06:44:27.036Z"
   },
   {
    "duration": 10,
    "start_time": "2025-09-19T06:44:27.189Z"
   },
   {
    "duration": 439,
    "start_time": "2025-09-19T06:44:27.201Z"
   },
   {
    "duration": 448,
    "start_time": "2025-09-19T06:44:27.642Z"
   },
   {
    "duration": 20,
    "start_time": "2025-09-19T06:44:28.098Z"
   },
   {
    "duration": 169,
    "start_time": "2025-09-19T06:44:28.119Z"
   },
   {
    "duration": 19,
    "start_time": "2025-09-19T06:44:28.290Z"
   },
   {
    "duration": 13,
    "start_time": "2025-09-19T06:44:28.311Z"
   },
   {
    "duration": 15,
    "start_time": "2025-09-19T06:44:28.326Z"
   },
   {
    "duration": 40,
    "start_time": "2025-09-19T06:44:28.343Z"
   },
   {
    "duration": 12,
    "start_time": "2025-09-19T06:44:28.386Z"
   },
   {
    "duration": 12,
    "start_time": "2025-09-19T06:44:28.399Z"
   },
   {
    "duration": 19,
    "start_time": "2025-09-19T06:44:28.413Z"
   },
   {
    "duration": 7,
    "start_time": "2025-09-19T06:44:28.434Z"
   },
   {
    "duration": 87,
    "start_time": "2025-09-19T06:44:28.442Z"
   },
   {
    "duration": 7,
    "start_time": "2025-09-19T06:44:28.531Z"
   },
   {
    "duration": 108,
    "start_time": "2025-09-19T06:46:46.153Z"
   },
   {
    "duration": 1210,
    "start_time": "2025-09-19T06:47:16.085Z"
   },
   {
    "duration": 977,
    "start_time": "2025-09-19T06:47:17.299Z"
   },
   {
    "duration": 176,
    "start_time": "2025-09-19T06:47:18.278Z"
   },
   {
    "duration": 199,
    "start_time": "2025-09-19T06:47:18.456Z"
   },
   {
    "duration": 302,
    "start_time": "2025-09-19T06:47:18.658Z"
   },
   {
    "duration": 38,
    "start_time": "2025-09-19T06:47:18.962Z"
   },
   {
    "duration": 26,
    "start_time": "2025-09-19T06:47:19.002Z"
   },
   {
    "duration": 25,
    "start_time": "2025-09-19T06:47:19.029Z"
   },
   {
    "duration": 210,
    "start_time": "2025-09-19T06:47:19.055Z"
   },
   {
    "duration": 518,
    "start_time": "2025-09-19T06:47:19.267Z"
   },
   {
    "duration": 212,
    "start_time": "2025-09-19T06:47:19.787Z"
   },
   {
    "duration": 493,
    "start_time": "2025-09-19T06:47:20.001Z"
   },
   {
    "duration": 421,
    "start_time": "2025-09-19T06:47:20.499Z"
   },
   {
    "duration": 289,
    "start_time": "2025-09-19T06:47:20.924Z"
   },
   {
    "duration": 108,
    "start_time": "2025-09-19T06:47:21.215Z"
   },
   {
    "duration": 31,
    "start_time": "2025-09-19T06:47:21.325Z"
   },
   {
    "duration": 6091,
    "start_time": "2025-09-19T06:47:21.358Z"
   },
   {
    "duration": 15,
    "start_time": "2025-09-19T06:47:27.451Z"
   },
   {
    "duration": 112,
    "start_time": "2025-09-19T06:47:27.468Z"
   },
   {
    "duration": 270,
    "start_time": "2025-09-19T06:47:27.582Z"
   },
   {
    "duration": 6012,
    "start_time": "2025-09-19T06:47:27.854Z"
   },
   {
    "duration": 6,
    "start_time": "2025-09-19T06:47:33.868Z"
   },
   {
    "duration": 72,
    "start_time": "2025-09-19T06:47:33.875Z"
   },
   {
    "duration": 4859,
    "start_time": "2025-09-19T06:47:33.949Z"
   },
   {
    "duration": 189,
    "start_time": "2025-09-19T06:47:38.810Z"
   },
   {
    "duration": 182,
    "start_time": "2025-09-19T06:47:39.001Z"
   },
   {
    "duration": 152,
    "start_time": "2025-09-19T06:47:39.185Z"
   },
   {
    "duration": 316,
    "start_time": "2025-09-19T06:47:39.339Z"
   },
   {
    "duration": 8,
    "start_time": "2025-09-19T06:47:39.657Z"
   },
   {
    "duration": 339,
    "start_time": "2025-09-19T06:47:39.668Z"
   },
   {
    "duration": 150,
    "start_time": "2025-09-19T06:47:40.009Z"
   },
   {
    "duration": 515,
    "start_time": "2025-09-19T06:47:40.160Z"
   },
   {
    "duration": 135,
    "start_time": "2025-09-19T06:47:40.678Z"
   },
   {
    "duration": 487,
    "start_time": "2025-09-19T06:47:40.815Z"
   },
   {
    "duration": 176,
    "start_time": "2025-09-19T06:47:41.305Z"
   },
   {
    "duration": 300,
    "start_time": "2025-09-19T06:47:41.483Z"
   },
   {
    "duration": 164,
    "start_time": "2025-09-19T06:47:41.785Z"
   },
   {
    "duration": 510,
    "start_time": "2025-09-19T06:47:41.951Z"
   },
   {
    "duration": 147,
    "start_time": "2025-09-19T06:47:42.463Z"
   },
   {
    "duration": 1199,
    "start_time": "2025-09-19T06:47:42.612Z"
   },
   {
    "duration": 100,
    "start_time": "2025-09-19T06:47:43.815Z"
   },
   {
    "duration": 450,
    "start_time": "2025-09-19T06:47:43.917Z"
   },
   {
    "duration": 150,
    "start_time": "2025-09-19T06:47:44.369Z"
   },
   {
    "duration": 530,
    "start_time": "2025-09-19T06:47:44.521Z"
   },
   {
    "duration": 157,
    "start_time": "2025-09-19T06:47:45.053Z"
   },
   {
    "duration": 4,
    "start_time": "2025-09-19T06:47:45.213Z"
   },
   {
    "duration": 543,
    "start_time": "2025-09-19T06:47:45.219Z"
   },
   {
    "duration": 485,
    "start_time": "2025-09-19T06:47:45.764Z"
   },
   {
    "duration": 20,
    "start_time": "2025-09-19T06:47:46.251Z"
   },
   {
    "duration": 256,
    "start_time": "2025-09-19T06:47:46.272Z"
   },
   {
    "duration": 21,
    "start_time": "2025-09-19T06:47:46.530Z"
   },
   {
    "duration": 27,
    "start_time": "2025-09-19T06:47:46.553Z"
   },
   {
    "duration": 39,
    "start_time": "2025-09-19T06:47:46.582Z"
   },
   {
    "duration": 9,
    "start_time": "2025-09-19T06:47:46.623Z"
   },
   {
    "duration": 12,
    "start_time": "2025-09-19T06:47:46.634Z"
   },
   {
    "duration": 19,
    "start_time": "2025-09-19T06:47:46.648Z"
   },
   {
    "duration": 29,
    "start_time": "2025-09-19T06:47:46.669Z"
   },
   {
    "duration": 11,
    "start_time": "2025-09-19T06:47:46.700Z"
   },
   {
    "duration": 94,
    "start_time": "2025-09-19T06:47:46.713Z"
   },
   {
    "duration": 8,
    "start_time": "2025-09-19T06:47:46.809Z"
   }
  ],
  "colab": {
   "provenance": []
  },
  "kernelspec": {
   "display_name": "Python 3 (ipykernel)",
   "language": "python",
   "name": "python3"
  },
  "language_info": {
   "codemirror_mode": {
    "name": "ipython",
    "version": 3
   },
   "file_extension": ".py",
   "mimetype": "text/x-python",
   "name": "python",
   "nbconvert_exporter": "python",
   "pygments_lexer": "ipython3",
   "version": "3.12.7"
  },
  "toc": {
   "base_numbering": 1,
   "nav_menu": {},
   "number_sections": true,
   "sideBar": true,
   "skip_h1_title": true,
   "title_cell": "Table of Contents",
   "title_sidebar": "Contents",
   "toc_cell": false,
   "toc_position": {},
   "toc_section_display": true,
   "toc_window_display": true
  }
 },
 "nbformat": 4,
 "nbformat_minor": 4
}

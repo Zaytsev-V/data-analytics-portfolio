{
 "cells": [
  {
   "cell_type": "markdown",
   "metadata": {
    "id": "u98L9TgH0eMk"
   },
   "source": [
    "# Разработка A/B-тестирования и анализ результатов\n",
    "\n",
    "Запрос на проведение А/В-теста от компании, которая разрабатывает развлекательное приложение с функцией «бесконечной» ленты, как, например, в приложениях с короткими видео. В вашем приложении существует две модели монетизации: первая — ежемесячная платная подписка, которая позволяет пользователям смотреть ленту без рекламы, вторая — демонстрация рекламы для пользователей, которые ещё не оформили подписку.\n",
    "\n",
    "Команда разработчиков рекомендательных систем создала новый алгоритм рекомендаций, который, по их мнению, будет показывать более интересный контент для каждого пользователя. Меня, как аналитика, просят помочь рассчитать параметры A/B-теста, который позволит проверить эту гипотезу, и проанализировать его результаты."
   ]
  },
  {
   "cell_type": "markdown",
   "metadata": {
    "id": "LJBRALHs0eMf"
   },
   "source": [
    "## Описание данных\n",
    "\n",
    "Даны три таблицы:\n",
    "\n",
    "- `sessions_project_history.csv` — таблица с историческими данными по сессиям пользователей на период с 2025-08-11 по 2025-09-23. \n",
    "\n",
    "- `sessions_project_test_part.csv` — таблица с данными за первый день проведения A/B-теста, то есть за 2025-10-14. \n",
    "\n",
    "- `sessions_project_test.csv` — таблица с данными за весь период проведения A/B-теста, то есть с 2025-10-14 по 2025-11-02. \n",
    "\n",
    "У этих таблиц почти совпадает структура и содержание колонок, различаются лишь периоды наблюдения.\n",
    "\n",
    "Поля таблиц `sessions_project_history.csv`, `sessions_project_test.csv`, `sessions_project_test_part.csv`:\n",
    "\n",
    "- `user_id` — идентификатор пользователя;\n",
    "\n",
    "- `session_id` — идентификатор сессии в приложении;\n",
    "\n",
    "- `session_date` — дата сессии;\n",
    "\n",
    "- `session_start_ts` — дата и время начала сессии;\n",
    "\n",
    "- `install_date` — дата установки приложения;\n",
    "\n",
    "- `session_number` — порядковый номер сессии для конкретного пользователя;\n",
    "\n",
    "- `registration_flag` — является ли пользователь зарегистрированным;\n",
    "\n",
    "- `page_counter` — количество просмотренных страниц во время сессии;\n",
    "\n",
    "- `region` — регион пользователя;\n",
    "\n",
    "- `device` — тип устройства пользователя;\n",
    "\n",
    "- `test_group` — тестовая группа (в таблице с историческими данными этого столбца нет).\n",
    "\n",
    "\n",
    "## Что нужно сделать\n",
    "Задачи: \n",
    "- рассчитать параметры теста\n",
    "- оценить корректность его проведения\n",
    "- проанализировать результаты эксперимента\n",
    "\n",
    "В рамках теста будет оцениваться метрика `доля успешных сессий`, ожидается ее повышение. Также будет протестирована метрика `количество уникальных дневных сессий` по группам, ожидается, что она останется не изменной."
   ]
  },
  {
   "cell_type": "markdown",
   "metadata": {
    "id": "UpOucjID0eMl"
   },
   "source": [
    "### 1. Работа с историческими данными (EDA)"
   ]
  },
  {
   "cell_type": "markdown",
   "metadata": {
    "id": "8iJMtL-30eMl"
   },
   "source": [
    "#### 1.1. Загрузка исторических данных"
   ]
  },
  {
   "cell_type": "code",
   "execution_count": 1,
   "metadata": {
    "id": "6TPR2-1RPboT"
   },
   "outputs": [],
   "source": [
    "# загружаем библиотеки\n",
    "import pandas as pd\n",
    "import matplotlib.pyplot as plt\n",
    "\n",
    "from math import ceil\n",
    "from scipy.stats import ttest_ind\n",
    "from statsmodels.stats.proportion import proportions_ztest"
   ]
  },
  {
   "cell_type": "code",
   "execution_count": 2,
   "metadata": {},
   "outputs": [
    {
     "data": {
      "text/html": [
       "<div>\n",
       "<style scoped>\n",
       "    .dataframe tbody tr th:only-of-type {\n",
       "        vertical-align: middle;\n",
       "    }\n",
       "\n",
       "    .dataframe tbody tr th {\n",
       "        vertical-align: top;\n",
       "    }\n",
       "\n",
       "    .dataframe thead th {\n",
       "        text-align: right;\n",
       "    }\n",
       "</style>\n",
       "<table border=\"1\" class=\"dataframe\">\n",
       "  <thead>\n",
       "    <tr style=\"text-align: right;\">\n",
       "      <th></th>\n",
       "      <th>user_id</th>\n",
       "      <th>session_id</th>\n",
       "      <th>session_date</th>\n",
       "      <th>session_start_ts</th>\n",
       "      <th>install_date</th>\n",
       "      <th>session_number</th>\n",
       "      <th>registration_flag</th>\n",
       "      <th>page_counter</th>\n",
       "      <th>region</th>\n",
       "      <th>device</th>\n",
       "    </tr>\n",
       "  </thead>\n",
       "  <tbody>\n",
       "    <tr>\n",
       "      <th>0</th>\n",
       "      <td>E302123B7000BFE4</td>\n",
       "      <td>F9AF61A0C2023832</td>\n",
       "      <td>2025-08-15</td>\n",
       "      <td>2025-08-15 17:47:35</td>\n",
       "      <td>2025-08-15</td>\n",
       "      <td>1</td>\n",
       "      <td>0</td>\n",
       "      <td>3</td>\n",
       "      <td>CIS</td>\n",
       "      <td>iPhone</td>\n",
       "    </tr>\n",
       "    <tr>\n",
       "      <th>1</th>\n",
       "      <td>2530F72E221829FB</td>\n",
       "      <td>85003A206CBDAC6F</td>\n",
       "      <td>2025-08-15</td>\n",
       "      <td>2025-08-15 16:42:14</td>\n",
       "      <td>2025-08-15</td>\n",
       "      <td>1</td>\n",
       "      <td>0</td>\n",
       "      <td>4</td>\n",
       "      <td>MENA</td>\n",
       "      <td>Android</td>\n",
       "    </tr>\n",
       "    <tr>\n",
       "      <th>2</th>\n",
       "      <td>876E020A4FC512F5</td>\n",
       "      <td>3677423E49D72DEE</td>\n",
       "      <td>2025-08-15</td>\n",
       "      <td>2025-08-15 12:30:00</td>\n",
       "      <td>2025-08-15</td>\n",
       "      <td>1</td>\n",
       "      <td>0</td>\n",
       "      <td>4</td>\n",
       "      <td>EU</td>\n",
       "      <td>PC</td>\n",
       "    </tr>\n",
       "    <tr>\n",
       "      <th>3</th>\n",
       "      <td>2640B349E1D81584</td>\n",
       "      <td>956B45F5915CA225</td>\n",
       "      <td>2025-08-15</td>\n",
       "      <td>2025-08-15 15:31:31</td>\n",
       "      <td>2025-08-15</td>\n",
       "      <td>1</td>\n",
       "      <td>0</td>\n",
       "      <td>4</td>\n",
       "      <td>CIS</td>\n",
       "      <td>Android</td>\n",
       "    </tr>\n",
       "    <tr>\n",
       "      <th>4</th>\n",
       "      <td>94E1CBFAEF1F5EE9</td>\n",
       "      <td>83BF0DA35F9F1F40</td>\n",
       "      <td>2025-08-15</td>\n",
       "      <td>2025-08-15 21:33:53</td>\n",
       "      <td>2025-08-15</td>\n",
       "      <td>1</td>\n",
       "      <td>0</td>\n",
       "      <td>3</td>\n",
       "      <td>CIS</td>\n",
       "      <td>Android</td>\n",
       "    </tr>\n",
       "  </tbody>\n",
       "</table>\n",
       "</div>"
      ],
      "text/plain": [
       "            user_id        session_id session_date     session_start_ts  \\\n",
       "0  E302123B7000BFE4  F9AF61A0C2023832   2025-08-15  2025-08-15 17:47:35   \n",
       "1  2530F72E221829FB  85003A206CBDAC6F   2025-08-15  2025-08-15 16:42:14   \n",
       "2  876E020A4FC512F5  3677423E49D72DEE   2025-08-15  2025-08-15 12:30:00   \n",
       "3  2640B349E1D81584  956B45F5915CA225   2025-08-15  2025-08-15 15:31:31   \n",
       "4  94E1CBFAEF1F5EE9  83BF0DA35F9F1F40   2025-08-15  2025-08-15 21:33:53   \n",
       "\n",
       "  install_date  session_number  registration_flag  page_counter region  \\\n",
       "0   2025-08-15               1                  0             3    CIS   \n",
       "1   2025-08-15               1                  0             4   MENA   \n",
       "2   2025-08-15               1                  0             4     EU   \n",
       "3   2025-08-15               1                  0             4    CIS   \n",
       "4   2025-08-15               1                  0             3    CIS   \n",
       "\n",
       "    device  \n",
       "0   iPhone  \n",
       "1  Android  \n",
       "2       PC  \n",
       "3  Android  \n",
       "4  Android  "
      ]
     },
     "execution_count": 2,
     "metadata": {},
     "output_type": "execute_result"
    }
   ],
   "source": [
    "# загружаем файл в датафрейм\n",
    "part_path = 'C:/Files/Ya_Practicum/Projects/Project_11/'\n",
    "sessions_history = pd.read_csv(part_path + 'sessions_project_history.csv')\n",
    "sessions_history.head()"
   ]
  },
  {
   "cell_type": "markdown",
   "metadata": {
    "id": "qTDoiODz0eMo"
   },
   "source": [
    "#### 1.2. Знакомство с данными\n",
    "\n",
    "- Выведим на экран все данные из таблицы `sessions_history` для одного пользователя с наибольшим количеством сессий.\n",
    "\n",
    "- Изучим таблицу для одного пользователя, чтобы лучше понять логику формирования каждого столбца данных."
   ]
  },
  {
   "cell_type": "code",
   "execution_count": 3,
   "metadata": {},
   "outputs": [
    {
     "data": {
      "text/html": [
       "<div>\n",
       "<style scoped>\n",
       "    .dataframe tbody tr th:only-of-type {\n",
       "        vertical-align: middle;\n",
       "    }\n",
       "\n",
       "    .dataframe tbody tr th {\n",
       "        vertical-align: top;\n",
       "    }\n",
       "\n",
       "    .dataframe thead th {\n",
       "        text-align: right;\n",
       "    }\n",
       "</style>\n",
       "<table border=\"1\" class=\"dataframe\">\n",
       "  <thead>\n",
       "    <tr style=\"text-align: right;\">\n",
       "      <th></th>\n",
       "      <th>user_id</th>\n",
       "      <th>session_id</th>\n",
       "      <th>session_date</th>\n",
       "      <th>session_start_ts</th>\n",
       "      <th>install_date</th>\n",
       "      <th>session_number</th>\n",
       "      <th>registration_flag</th>\n",
       "      <th>page_counter</th>\n",
       "      <th>region</th>\n",
       "      <th>device</th>\n",
       "    </tr>\n",
       "  </thead>\n",
       "  <tbody>\n",
       "    <tr>\n",
       "      <th>124515</th>\n",
       "      <td>6A73CB5566BB494D</td>\n",
       "      <td>110E3F28C1F5415F</td>\n",
       "      <td>2025-08-28</td>\n",
       "      <td>2025-08-28 18:58:19</td>\n",
       "      <td>2025-08-28</td>\n",
       "      <td>1</td>\n",
       "      <td>0</td>\n",
       "      <td>3</td>\n",
       "      <td>MENA</td>\n",
       "      <td>Mac</td>\n",
       "    </tr>\n",
       "    <tr>\n",
       "      <th>196252</th>\n",
       "      <td>6A73CB5566BB494D</td>\n",
       "      <td>D68C8D98A0F1C439</td>\n",
       "      <td>2025-08-29</td>\n",
       "      <td>2025-08-29 20:53:27</td>\n",
       "      <td>2025-08-28</td>\n",
       "      <td>2</td>\n",
       "      <td>1</td>\n",
       "      <td>3</td>\n",
       "      <td>MENA</td>\n",
       "      <td>Mac</td>\n",
       "    </tr>\n",
       "    <tr>\n",
       "      <th>242428</th>\n",
       "      <td>6A73CB5566BB494D</td>\n",
       "      <td>6587D217472BF807</td>\n",
       "      <td>2025-08-30</td>\n",
       "      <td>2025-08-30 13:08:22</td>\n",
       "      <td>2025-08-28</td>\n",
       "      <td>3</td>\n",
       "      <td>1</td>\n",
       "      <td>1</td>\n",
       "      <td>MENA</td>\n",
       "      <td>Mac</td>\n",
       "    </tr>\n",
       "    <tr>\n",
       "      <th>304287</th>\n",
       "      <td>6A73CB5566BB494D</td>\n",
       "      <td>A9BC25593D056F8E</td>\n",
       "      <td>2025-09-01</td>\n",
       "      <td>2025-09-01 18:52:49</td>\n",
       "      <td>2025-08-28</td>\n",
       "      <td>4</td>\n",
       "      <td>1</td>\n",
       "      <td>2</td>\n",
       "      <td>MENA</td>\n",
       "      <td>Mac</td>\n",
       "    </tr>\n",
       "    <tr>\n",
       "      <th>346611</th>\n",
       "      <td>6A73CB5566BB494D</td>\n",
       "      <td>CB6F9C4191FAF6F6</td>\n",
       "      <td>2025-09-03</td>\n",
       "      <td>2025-09-03 22:49:08</td>\n",
       "      <td>2025-08-28</td>\n",
       "      <td>5</td>\n",
       "      <td>1</td>\n",
       "      <td>3</td>\n",
       "      <td>MENA</td>\n",
       "      <td>Mac</td>\n",
       "    </tr>\n",
       "    <tr>\n",
       "      <th>363510</th>\n",
       "      <td>6A73CB5566BB494D</td>\n",
       "      <td>9C609432F6E6535A</td>\n",
       "      <td>2025-09-04</td>\n",
       "      <td>2025-09-04 13:59:46</td>\n",
       "      <td>2025-08-28</td>\n",
       "      <td>6</td>\n",
       "      <td>1</td>\n",
       "      <td>4</td>\n",
       "      <td>MENA</td>\n",
       "      <td>Mac</td>\n",
       "    </tr>\n",
       "    <tr>\n",
       "      <th>391902</th>\n",
       "      <td>6A73CB5566BB494D</td>\n",
       "      <td>5D892E33B97A257A</td>\n",
       "      <td>2025-09-06</td>\n",
       "      <td>2025-09-06 18:46:55</td>\n",
       "      <td>2025-08-28</td>\n",
       "      <td>7</td>\n",
       "      <td>1</td>\n",
       "      <td>2</td>\n",
       "      <td>MENA</td>\n",
       "      <td>Mac</td>\n",
       "    </tr>\n",
       "    <tr>\n",
       "      <th>404322</th>\n",
       "      <td>6A73CB5566BB494D</td>\n",
       "      <td>22A9BD3861F49087</td>\n",
       "      <td>2025-09-07</td>\n",
       "      <td>2025-09-07 18:33:49</td>\n",
       "      <td>2025-08-28</td>\n",
       "      <td>8</td>\n",
       "      <td>1</td>\n",
       "      <td>3</td>\n",
       "      <td>MENA</td>\n",
       "      <td>Mac</td>\n",
       "    </tr>\n",
       "    <tr>\n",
       "      <th>415489</th>\n",
       "      <td>6A73CB5566BB494D</td>\n",
       "      <td>F70E351154B092DC</td>\n",
       "      <td>2025-09-08</td>\n",
       "      <td>2025-09-08 20:30:22</td>\n",
       "      <td>2025-08-28</td>\n",
       "      <td>9</td>\n",
       "      <td>1</td>\n",
       "      <td>4</td>\n",
       "      <td>MENA</td>\n",
       "      <td>Mac</td>\n",
       "    </tr>\n",
       "    <tr>\n",
       "      <th>425805</th>\n",
       "      <td>6A73CB5566BB494D</td>\n",
       "      <td>84A3DC0CFF449F53</td>\n",
       "      <td>2025-09-09</td>\n",
       "      <td>2025-09-09 16:36:04</td>\n",
       "      <td>2025-08-28</td>\n",
       "      <td>10</td>\n",
       "      <td>1</td>\n",
       "      <td>1</td>\n",
       "      <td>MENA</td>\n",
       "      <td>Mac</td>\n",
       "    </tr>\n",
       "  </tbody>\n",
       "</table>\n",
       "</div>"
      ],
      "text/plain": [
       "                 user_id        session_id session_date     session_start_ts  \\\n",
       "124515  6A73CB5566BB494D  110E3F28C1F5415F   2025-08-28  2025-08-28 18:58:19   \n",
       "196252  6A73CB5566BB494D  D68C8D98A0F1C439   2025-08-29  2025-08-29 20:53:27   \n",
       "242428  6A73CB5566BB494D  6587D217472BF807   2025-08-30  2025-08-30 13:08:22   \n",
       "304287  6A73CB5566BB494D  A9BC25593D056F8E   2025-09-01  2025-09-01 18:52:49   \n",
       "346611  6A73CB5566BB494D  CB6F9C4191FAF6F6   2025-09-03  2025-09-03 22:49:08   \n",
       "363510  6A73CB5566BB494D  9C609432F6E6535A   2025-09-04  2025-09-04 13:59:46   \n",
       "391902  6A73CB5566BB494D  5D892E33B97A257A   2025-09-06  2025-09-06 18:46:55   \n",
       "404322  6A73CB5566BB494D  22A9BD3861F49087   2025-09-07  2025-09-07 18:33:49   \n",
       "415489  6A73CB5566BB494D  F70E351154B092DC   2025-09-08  2025-09-08 20:30:22   \n",
       "425805  6A73CB5566BB494D  84A3DC0CFF449F53   2025-09-09  2025-09-09 16:36:04   \n",
       "\n",
       "       install_date  session_number  registration_flag  page_counter region  \\\n",
       "124515   2025-08-28               1                  0             3   MENA   \n",
       "196252   2025-08-28               2                  1             3   MENA   \n",
       "242428   2025-08-28               3                  1             1   MENA   \n",
       "304287   2025-08-28               4                  1             2   MENA   \n",
       "346611   2025-08-28               5                  1             3   MENA   \n",
       "363510   2025-08-28               6                  1             4   MENA   \n",
       "391902   2025-08-28               7                  1             2   MENA   \n",
       "404322   2025-08-28               8                  1             3   MENA   \n",
       "415489   2025-08-28               9                  1             4   MENA   \n",
       "425805   2025-08-28              10                  1             1   MENA   \n",
       "\n",
       "       device  \n",
       "124515    Mac  \n",
       "196252    Mac  \n",
       "242428    Mac  \n",
       "304287    Mac  \n",
       "346611    Mac  \n",
       "363510    Mac  \n",
       "391902    Mac  \n",
       "404322    Mac  \n",
       "415489    Mac  \n",
       "425805    Mac  "
      ]
     },
     "execution_count": 3,
     "metadata": {},
     "output_type": "execute_result"
    }
   ],
   "source": [
    "# отфильтруем таблицу по пользователю с максимаьным кол-вом сессий (самым часто встречающимся пользователем)\n",
    "sessions_history[sessions_history.user_id == sessions_history['user_id'].value_counts().idxmax()]"
   ]
  },
  {
   "cell_type": "markdown",
   "metadata": {},
   "source": [
    "Видим, что сессия №1 совпадает по дате с датой установки приложения, далее номера сессий идут по возрастанию. Для каждой сессии есть дата и время начала сессии, а также кол-во посещенных страниц. Также есть столбец с регионом пользователя и столбец с типом устройсва, с которого совершалась сессия.\n",
    "\n",
    "---"
   ]
  },
  {
   "cell_type": "markdown",
   "metadata": {
    "id": "CmcGpJTP0eMq"
   },
   "source": [
    "#### 1.3. Анализ числа регистраций\n",
    "Одна из важнейших метрик продукта — число зарегистрированных пользователей. Используя исторические данные, визуализируем, как менялось число регистраций в приложении за время его существования.\n",
    "\n",
    "- Агрегируем исторические данные и рассчитаем число уникальных пользователей и число зарегистрированных пользователей для каждого дня наблюдения. Для простоты считаем, что у пользователя в течение дня бывает одна сессия максимум и статус регистрации в течение одного дня не может измениться.\n",
    "\n",
    "- Построим линейные графики общего числа пользователей и общего числа зарегистрированных пользователей по дням. Отобразим их на одном графике.\n",
    "\n",
    "- Построим отдельный линейный график доли зарегистрированных пользователей от всех пользователей по дням."
   ]
  },
  {
   "cell_type": "code",
   "execution_count": 4,
   "metadata": {
    "id": "tN_6Ml3EPatS"
   },
   "outputs": [],
   "source": [
    "# сделаем маску по первому в день времени входа пользоателя в приложение\n",
    "mask = sessions_history['session_start_ts'] == sessions_history.groupby(['user_id', 'session_date'])['session_start_ts'].transform('min')\n",
    "# отфильтруем данные по маске\n",
    "df_filtered = sessions_history[mask]\n",
    "# сгруппирум отфильтрованные данные по дате и посчитаем кол-во уникальных пользователей и зарегистрированных пользователей\n",
    "users_by_days = df_filtered.groupby('session_date').agg(\n",
    "                                unique_users=('user_id', 'nunique'),\n",
    "                                reg_users=('registration_flag', lambda x: (x==1).sum())\n",
    "                                ).reset_index()"
   ]
  },
  {
   "cell_type": "code",
   "execution_count": 5,
   "metadata": {},
   "outputs": [
    {
     "data": {
      "image/png": "[encoded data removed]",
      "text/plain": [
       "<Figure size 1500x500 with 1 Axes>"
      ]
     },
     "metadata": {},
     "output_type": "display_data"
    }
   ],
   "source": [
    "# построим график по этим данным\n",
    "plt.figure(figsize=(15,5))\n",
    "plt.plot(users_by_days.session_date, users_by_days.unique_users, label='Уникальные пользователи')\n",
    "plt.plot(users_by_days.session_date, users_by_days.reg_users, label='Зарегестрированные пользователи')\n",
    "plt.title('Кол-во уникальных и зарегестрированных пользователей по дням')\n",
    "plt.xlabel('Дни')\n",
    "plt.ylabel('Кол-во пользователей')\n",
    "plt.legend()\n",
    "plt.xticks(rotation=45)  # поворот дат для читаемости\n",
    "plt.tight_layout()\n",
    "plt.grid()\n",
    "plt.show()"
   ]
  },
  {
   "cell_type": "markdown",
   "metadata": {},
   "source": [
    "Видим, что зарегистрированнх пользователей сильно меньше общего числа пользователей. Есть 5 пиков кол-ва пользоватерей в день - возможно, это недельные колебания. Есть рост кол-ва с начала данных до 21 августа 2025, после чего идет тренд на снижение активности пользователей (максимумы и минимумы снижаются). В конце виден сильный спад кол-ва пользователей."
   ]
  },
  {
   "cell_type": "code",
   "execution_count": 6,
   "metadata": {},
   "outputs": [
    {
     "data": {
      "image/png": "[encoded data removed]",
      "text/plain": [
       "<Figure size 1500x500 with 1 Axes>"
      ]
     },
     "metadata": {},
     "output_type": "display_data"
    }
   ],
   "source": [
    "# построим график доли зарегистрированных пользователей от всех уникальных пользователей по дням\n",
    "plt.figure(figsize=(15,5))\n",
    "plt.plot(users_by_days.session_date, (users_by_days.reg_users / users_by_days.unique_users), label='Доля зарегистр. пользователей')\n",
    "plt.title('Доля зарегестрированных пользователей по дням')\n",
    "plt.xlabel('Дни')\n",
    "plt.ylabel('Доля зарегестрированных пользователей')\n",
    "plt.legend()\n",
    "plt.xticks(rotation=45)  # поворот дат для читаемости\n",
    "plt.tight_layout()\n",
    "plt.grid()\n",
    "plt.show()"
   ]
  },
  {
   "cell_type": "markdown",
   "metadata": {},
   "source": [
    "Видим, что доля зарегистрированнх пользователей растет - за исследуемый период времени доля выросла с 4,5% до более 12% (максимум графика)."
   ]
  },
  {
   "cell_type": "markdown",
   "metadata": {},
   "source": [
    "**Промежуточный вывод**\n",
    "\n",
    "Есть рост кол-ва пользователей до 21 августа 2025г., потом тренд на снижение пользователей - как зарегистрированных, так и не зарегистрированных. Наблюдается недельная цикличность посещаемости приложения. Есть общий спад посещаемости (особенно в конце наблюдений). Поэтому и доля зарегестрированнх растет, т.к. пользователей в конце становится сильно меньше.\n",
    "\n",
    "---"
   ]
  },
  {
   "cell_type": "markdown",
   "metadata": {
    "id": "UR7D7RhF0eMr"
   },
   "source": [
    "#### 1.4. Анализ числа просмотренных страниц\n",
    "Другая важная метрика продукта — число просмотренных страниц в приложении. Чем больше страниц просмотрено, тем сильнее пользователь увлечён контентом, а значит, выше шансы, что он зарегистрируется и оплатит подписку.\n",
    "\n",
    "- Найдем количество сессий для каждого значения количества просмотренных страниц. \n",
    "\n",
    "- Построим столбчатую диаграмму, где по оси X будет число просмотренных страниц, по оси Y — количество сессий."
   ]
  },
  {
   "cell_type": "code",
   "execution_count": 7,
   "metadata": {
    "id": "cb6hPlVzPaSf"
   },
   "outputs": [
    {
     "data": {
      "text/html": [
       "<div>\n",
       "<style scoped>\n",
       "    .dataframe tbody tr th:only-of-type {\n",
       "        vertical-align: middle;\n",
       "    }\n",
       "\n",
       "    .dataframe tbody tr th {\n",
       "        vertical-align: top;\n",
       "    }\n",
       "\n",
       "    .dataframe thead th {\n",
       "        text-align: right;\n",
       "    }\n",
       "</style>\n",
       "<table border=\"1\" class=\"dataframe\">\n",
       "  <thead>\n",
       "    <tr style=\"text-align: right;\">\n",
       "      <th></th>\n",
       "      <th>page_counter</th>\n",
       "      <th>session_id</th>\n",
       "    </tr>\n",
       "  </thead>\n",
       "  <tbody>\n",
       "    <tr>\n",
       "      <th>0</th>\n",
       "      <td>1</td>\n",
       "      <td>29160</td>\n",
       "    </tr>\n",
       "    <tr>\n",
       "      <th>1</th>\n",
       "      <td>2</td>\n",
       "      <td>105536</td>\n",
       "    </tr>\n",
       "    <tr>\n",
       "      <th>2</th>\n",
       "      <td>3</td>\n",
       "      <td>166690</td>\n",
       "    </tr>\n",
       "    <tr>\n",
       "      <th>3</th>\n",
       "      <td>4</td>\n",
       "      <td>105569</td>\n",
       "    </tr>\n",
       "    <tr>\n",
       "      <th>4</th>\n",
       "      <td>5</td>\n",
       "      <td>26288</td>\n",
       "    </tr>\n",
       "    <tr>\n",
       "      <th>5</th>\n",
       "      <td>6</td>\n",
       "      <td>2589</td>\n",
       "    </tr>\n",
       "    <tr>\n",
       "      <th>6</th>\n",
       "      <td>7</td>\n",
       "      <td>92</td>\n",
       "    </tr>\n",
       "  </tbody>\n",
       "</table>\n",
       "</div>"
      ],
      "text/plain": [
       "   page_counter  session_id\n",
       "0             1       29160\n",
       "1             2      105536\n",
       "2             3      166690\n",
       "3             4      105569\n",
       "4             5       26288\n",
       "5             6        2589\n",
       "6             7          92"
      ]
     },
     "execution_count": 7,
     "metadata": {},
     "output_type": "execute_result"
    }
   ],
   "source": [
    "# сгруппируем данные по кол-ву просмотров страниц и посчитаем кол-во сессий для каждого значения простмотра\n",
    "df_pages = sessions_history.groupby('page_counter')['session_id'].count().reset_index()\n",
    "df_pages"
   ]
  },
  {
   "cell_type": "code",
   "execution_count": 8,
   "metadata": {},
   "outputs": [
    {
     "data": {
      "text/plain": [
       "<Figure size 1000x400 with 0 Axes>"
      ]
     },
     "metadata": {},
     "output_type": "display_data"
    },
    {
     "data": {
      "image/png": "[encoded data removed]",
      "text/plain": [
       "<Figure size 640x480 with 1 Axes>"
      ]
     },
     "metadata": {},
     "output_type": "display_data"
    }
   ],
   "source": [
    "# построим столбчатую диаграмму\n",
    "plt.figure(figsize=(10,4))\n",
    "df_pages.plot(kind='bar', x='page_counter', y='session_id', rot=0)\n",
    "plt.title('Кол-во сессий по кол-ву просмотров страниц')\n",
    "plt.xlabel('Кол-во просмотров страниц')\n",
    "plt.ylabel('Кол-во сессий')\n",
    "plt.grid()\n",
    "plt.show()"
   ]
  },
  {
   "cell_type": "markdown",
   "metadata": {},
   "source": [
    "Видим почти нормальное распределение, больше всего сессий с просмотром 3 страниц за сессию.\n",
    "\n",
    "---"
   ]
  },
  {
   "cell_type": "markdown",
   "metadata": {
    "id": "xDltSpVP0eMr"
   },
   "source": [
    "#### 1.5. Доля пользователей, просмотревших более четырёх страниц\n",
    "Продуктовая команда продукта считает, что сессии, в рамках которых пользователь просмотрел 4 и более страниц, говорят об удовлетворённости контентом и алгоритмами рекомендаций. Этот показатель является важной прокси-метрикой для продукта.\n",
    "\n",
    "- В датафрейме `sessions_history` создадим дополнительный столбец `good_session`. В него войдёт значение `1`, если за одну сессию было просмотрено 4 и более страниц, и значение `0`, если было просмотрено меньше.\n",
    "\n",
    "- Построим график со средним значением доли успешных сессий от всех сессий по дням за весь период наблюдения."
   ]
  },
  {
   "cell_type": "code",
   "execution_count": 9,
   "metadata": {
    "id": "iygaPfixPYMW"
   },
   "outputs": [],
   "source": [
    "# создадим столбец good_session, где 1 - просмотрено 4 и более страниц, 0 - меньше 4.\n",
    "sessions_history['good_session'] = (sessions_history['page_counter'] >= 4).astype('int')\n",
    "# сгруппируем данные по дате и посчитаем кол-во успешных сессий, общее кол-во сессий\n",
    "df_good_sess = sessions_history.groupby(['session_date', 'user_id']).agg(\n",
    "                                        sessions_cnt=('session_id', 'count'),\n",
    "                                        good_sessions_cnt=('good_session', 'sum')\n",
    "                                        ).reset_index()\n",
    "#создадим столбец с долей успешных сессий\n",
    "df_good_sess['share_good_sessions'] = df_good_sess['good_sessions_cnt']/df_good_sess['sessions_cnt']\n",
    "# сгруппируем данные по дате и посчитаем среднее доли успешных сессий\n",
    "df_avg_share_good_sess = df_good_sess.groupby('session_date')['share_good_sessions'].mean().reset_index()"
   ]
  },
  {
   "cell_type": "code",
   "execution_count": 10,
   "metadata": {},
   "outputs": [
    {
     "data": {
      "image/png": "[encoded data removed]",
      "text/plain": [
       "<Figure size 1500x500 with 1 Axes>"
      ]
     },
     "metadata": {},
     "output_type": "display_data"
    }
   ],
   "source": [
    "# построим график средней доли успешных сессий по дням\n",
    "plt.figure(figsize=(15,5))\n",
    "plt.plot(df_avg_share_good_sess.session_date, df_avg_share_good_sess.share_good_sessions, label='Средняя доля успешных сессий')\n",
    "plt.title('Средняя доля успешных пользователей всех пользователей в день от общего числа сессий этих пльзователей в день')\n",
    "plt.xlabel('Дни')\n",
    "plt.ylabel('Средняя доля успешных сессий')\n",
    "plt.legend()\n",
    "plt.xticks(rotation=45)  # поворот дат для читаемости\n",
    "plt.ylim(0,0.4)\n",
    "plt.grid()\n",
    "plt.show()"
   ]
  },
  {
   "cell_type": "markdown",
   "metadata": {},
   "source": [
    "Видим, что в среднем, доля успешных сессий по пользователям в день выше 30% почти все время наблюдений, только во второй половине сентября 2025г. начинает снижаться ниже этой отметки (минимум 28,9%). Максимум средней доли - 32%.\n",
    "\n",
    "Также заметна цикличность данных (возможно, недельная), поэтому для теста лучше брать число дней, кратное неделе.\n",
    "\n",
    "---"
   ]
  },
  {
   "cell_type": "markdown",
   "metadata": {
    "id": "21JcG77Y0eMt"
   },
   "source": [
    "### 2. Подготовка к тесту\n",
    "При планировании теста необходимо проделать несколько важных шагов:\n",
    "\n",
    "- Сформулировать нулевую и альтернативную гипотезы\n",
    "\n",
    "- Определиться с целевой метрикой.\n",
    "\n",
    "- Рассчитать необходимый размер выборки.\n",
    "\n",
    "- Исходя из текущих значений трафика рассчитать необходимую длительность проведения теста."
   ]
  },
  {
   "cell_type": "markdown",
   "metadata": {
    "id": "kXdcwkjf859k"
   },
   "source": [
    "#### 2.1 Формулировка нулевой и альтернативной гипотез"
   ]
  },
  {
   "cell_type": "markdown",
   "metadata": {},
   "source": [
    "Главная метрика для проверки гипотезы - **доля успешных сессий** (как предполагают разработчики, новый алгоритм подтолкнет пользователей к большему кол-ву просмотров, т.е. к увеличению кол-ва просмотренных страниц).\n",
    "\n",
    "Формулиуем нулевую и альтернативную гипотезы:\n",
    "\n",
    "$Н_{0}$ - доля успешных сессий не изменилась.  \n",
    "$Н_{1}$ - доля успешных сессий стала больше.\n",
    "\n",
    "---"
   ]
  },
  {
   "cell_type": "markdown",
   "metadata": {
    "id": "uzaeln270eMt"
   },
   "source": [
    "#### 2.2. Расчёт размера выборки\n",
    "\n",
    "Для рассчета размера выборки установим в коде ниже следующие параметры:\n",
    "\n",
    "- Уровень значимости — 0.05.\n",
    "\n",
    "- Вероятность ошибки второго рода $\\beta$ — 0.2.\n",
    "\n",
    "- Мощность теста $1 - \\beta$ — 0.8.\n",
    "\n",
    "- Минимальный детектируемый эффект, или MDE, — 3%.\n",
    "\n",
    "- Базовый уровень метрики - 0.3 (типичное значение, которое мы получили для доли успешных сессий).\n",
    "\n",
    "При расчёте размера выборки используем метод `solve_power()` из класса `power.NormalIndPower` модуля `statsmodels.stats`."
   ]
  },
  {
   "cell_type": "code",
   "execution_count": 11,
   "metadata": {
    "id": "zSxJyPGPNdaI"
   },
   "outputs": [
    {
     "name": "stdout",
     "output_type": "stream",
     "text": [
      "Необходимый размер выборки для каждой группы: 41040\n"
     ]
    }
   ],
   "source": [
    "from statsmodels.stats.power import NormalIndPower\n",
    "from statsmodels.stats.proportion import proportion_effectsize\n",
    "\n",
    "# Задаём параметры\n",
    "alpha = 0.05  # Уровень значимости\n",
    "beta = 0.2  # Ошибка второго рода, часто 1 - мощность\n",
    "power = 0.8  # Мощность теста\n",
    "p = 0.3 # Базовый уровень доли\n",
    "mde = 0.03 * p   # Минимальный детектируемый эффект\n",
    "effect_size = proportion_effectsize(p, p + mde)\n",
    "\n",
    "# Инициализируем класс NormalIndPower\n",
    "power_analysis = NormalIndPower()\n",
    "\n",
    "# Рассчитываем размер выборки\n",
    "sample_size = power_analysis.solve_power(\n",
    "    effect_size = effect_size,\n",
    "    power = power,\n",
    "    alpha = alpha,\n",
    "    ratio = 1 # Равномерное распределение выборок\n",
    ")\n",
    "\n",
    "print(f\"Необходимый размер выборки для каждой группы: {int(sample_size)}\")"
   ]
  },
  {
   "cell_type": "markdown",
   "metadata": {
    "id": "qLEv4RoV0eMu"
   },
   "source": [
    "#### 2.3. Расчёт длительности A/B-теста\n",
    "\n",
    "Используя данные о количестве пользователей в каждой выборке и среднем количестве пользователей приложения рассчитаем длительность теста, разделив одно на другое.\n",
    "\n",
    "- Рассчитаем среднее количество уникальных пользователей приложения в день.\n",
    "\n",
    "- Определите длительность теста исходя из рассчитанного значения размера выборок и среднего дневного трафика приложения. Количество дней округлим в большую сторону."
   ]
  },
  {
   "cell_type": "code",
   "execution_count": 12,
   "metadata": {
    "id": "KZDRbryDOGHa"
   },
   "outputs": [
    {
     "name": "stdout",
     "output_type": "stream",
     "text": [
      "Рассчитанная длительность A/B-теста при текущем уровене трафика в 9908 пользователей в день составит 9 дней\n"
     ]
    }
   ],
   "source": [
    "# среднее количество пользователей приложения в день по историческим данным\n",
    "avg_daily_users = ceil(sessions_history.groupby('session_date')['user_id'].nunique().mean())\n",
    "\n",
    "# рассчитываем длительность теста в днях как отношение размера выборки к среднему числу пользователей\n",
    "test_duration = ceil(41040 * 2 / avg_daily_users)\n",
    "\n",
    "print(f\"Рассчитанная длительность A/B-теста при текущем уровене трафика в {avg_daily_users} пользователей в день составит {test_duration} дней\")"
   ]
  },
  {
   "cell_type": "markdown",
   "metadata": {},
   "source": [
    "Минимальное кол-во дней для теста - 9 дней, но лучше провести его 14 дней (кратно неделе, как говорилось выше).\n",
    "\n",
    "Решено проводить тест 20 дней, за счет этого общее число участников увеличится и мощность теста останется высокой. Это значит, что вероятность не заметить реальный эффект крайне мала."
   ]
  },
  {
   "cell_type": "markdown",
   "metadata": {
    "id": "ZuvtAdha0eMv"
   },
   "source": [
    "### 3. Мониторинг А/В-теста"
   ]
  },
  {
   "cell_type": "markdown",
   "metadata": {
    "id": "jq5sE3Ya0eMv"
   },
   "source": [
    "#### 3.1. Проверка распределения пользователей\n",
    "\n",
    "A/B-тест успешно запущен, и уже доступны данные за первый день. На этом этапе нужно убедиться, что всё идёт хорошо: пользователи разделены правильным образом, а интересующие вас метрики корректно считаются.\n",
    "\n",
    "- Считаем и сохраним в датафрейм `sessions_test_part` CSV-файл с историческими данными о сессиях пользователей `sessions_project_test_part.csv`.\n",
    "\n",
    "- Рассчитаем количество уникальных пользователей в каждой из экспериментальных групп для одного дня наблюдения.\n",
    "\n",
    "- Рассчитаем и выведиме на экран процентную разницу в количестве пользователей в группах A и B.\n",
    "\n",
    "Для расчёта процентной разницы воспользуемся формулой:\n",
    "$$P = 100 \\cdot  \\frac{|A − B|}{A}$$"
   ]
  },
  {
   "cell_type": "code",
   "execution_count": 13,
   "metadata": {
    "id": "G1bqIzDJOUiz"
   },
   "outputs": [
    {
     "data": {
      "text/html": [
       "<div>\n",
       "<style scoped>\n",
       "    .dataframe tbody tr th:only-of-type {\n",
       "        vertical-align: middle;\n",
       "    }\n",
       "\n",
       "    .dataframe tbody tr th {\n",
       "        vertical-align: top;\n",
       "    }\n",
       "\n",
       "    .dataframe thead th {\n",
       "        text-align: right;\n",
       "    }\n",
       "</style>\n",
       "<table border=\"1\" class=\"dataframe\">\n",
       "  <thead>\n",
       "    <tr style=\"text-align: right;\">\n",
       "      <th></th>\n",
       "      <th>user_id</th>\n",
       "      <th>session_id</th>\n",
       "      <th>session_date</th>\n",
       "      <th>session_start_ts</th>\n",
       "      <th>install_date</th>\n",
       "      <th>session_number</th>\n",
       "      <th>registration_flag</th>\n",
       "      <th>page_counter</th>\n",
       "      <th>region</th>\n",
       "      <th>device</th>\n",
       "      <th>test_group</th>\n",
       "    </tr>\n",
       "  </thead>\n",
       "  <tbody>\n",
       "    <tr>\n",
       "      <th>0</th>\n",
       "      <td>3404844B53442747</td>\n",
       "      <td>B4901323BD537E45</td>\n",
       "      <td>2025-10-14</td>\n",
       "      <td>2025-10-14 19:28:49</td>\n",
       "      <td>2025-10-14</td>\n",
       "      <td>1</td>\n",
       "      <td>0</td>\n",
       "      <td>3</td>\n",
       "      <td>CIS</td>\n",
       "      <td>Android</td>\n",
       "      <td>B</td>\n",
       "    </tr>\n",
       "    <tr>\n",
       "      <th>1</th>\n",
       "      <td>3A2BF4D364E62D89</td>\n",
       "      <td>216FC619308F8788</td>\n",
       "      <td>2025-10-14</td>\n",
       "      <td>2025-10-14 21:11:04</td>\n",
       "      <td>2025-10-14</td>\n",
       "      <td>1</td>\n",
       "      <td>0</td>\n",
       "      <td>3</td>\n",
       "      <td>MENA</td>\n",
       "      <td>iPhone</td>\n",
       "      <td>A</td>\n",
       "    </tr>\n",
       "    <tr>\n",
       "      <th>2</th>\n",
       "      <td>79CDAE11E32B1597</td>\n",
       "      <td>EDFCE4AC1A504074</td>\n",
       "      <td>2025-10-14</td>\n",
       "      <td>2025-10-14 21:44:03</td>\n",
       "      <td>2025-10-14</td>\n",
       "      <td>1</td>\n",
       "      <td>0</td>\n",
       "      <td>3</td>\n",
       "      <td>CIS</td>\n",
       "      <td>iPhone</td>\n",
       "      <td>A</td>\n",
       "    </tr>\n",
       "    <tr>\n",
       "      <th>3</th>\n",
       "      <td>D6AF8D78297A931F</td>\n",
       "      <td>CF0AC0EEDE92C690</td>\n",
       "      <td>2025-10-14</td>\n",
       "      <td>2025-10-14 19:07:55</td>\n",
       "      <td>2025-10-14</td>\n",
       "      <td>1</td>\n",
       "      <td>0</td>\n",
       "      <td>4</td>\n",
       "      <td>CIS</td>\n",
       "      <td>PC</td>\n",
       "      <td>A</td>\n",
       "    </tr>\n",
       "    <tr>\n",
       "      <th>4</th>\n",
       "      <td>37E0CE723AE568E0</td>\n",
       "      <td>2E6ED45E8C86C4E9</td>\n",
       "      <td>2025-10-14</td>\n",
       "      <td>2025-10-14 15:39:44</td>\n",
       "      <td>2025-10-14</td>\n",
       "      <td>1</td>\n",
       "      <td>0</td>\n",
       "      <td>3</td>\n",
       "      <td>CIS</td>\n",
       "      <td>Mac</td>\n",
       "      <td>B</td>\n",
       "    </tr>\n",
       "  </tbody>\n",
       "</table>\n",
       "</div>"
      ],
      "text/plain": [
       "            user_id        session_id session_date     session_start_ts  \\\n",
       "0  3404844B53442747  B4901323BD537E45   2025-10-14  2025-10-14 19:28:49   \n",
       "1  3A2BF4D364E62D89  216FC619308F8788   2025-10-14  2025-10-14 21:11:04   \n",
       "2  79CDAE11E32B1597  EDFCE4AC1A504074   2025-10-14  2025-10-14 21:44:03   \n",
       "3  D6AF8D78297A931F  CF0AC0EEDE92C690   2025-10-14  2025-10-14 19:07:55   \n",
       "4  37E0CE723AE568E0  2E6ED45E8C86C4E9   2025-10-14  2025-10-14 15:39:44   \n",
       "\n",
       "  install_date  session_number  registration_flag  page_counter region  \\\n",
       "0   2025-10-14               1                  0             3    CIS   \n",
       "1   2025-10-14               1                  0             3   MENA   \n",
       "2   2025-10-14               1                  0             3    CIS   \n",
       "3   2025-10-14               1                  0             4    CIS   \n",
       "4   2025-10-14               1                  0             3    CIS   \n",
       "\n",
       "    device test_group  \n",
       "0  Android          B  \n",
       "1   iPhone          A  \n",
       "2   iPhone          A  \n",
       "3       PC          A  \n",
       "4      Mac          B  "
      ]
     },
     "execution_count": 13,
     "metadata": {},
     "output_type": "execute_result"
    }
   ],
   "source": [
    "# загружаем данные за первые дни теста\n",
    "sessions_test_part = pd.read_csv(part_path + 'sessions_project_test_part.csv')\n",
    "sessions_test_part.head()"
   ]
  },
  {
   "cell_type": "code",
   "execution_count": 14,
   "metadata": {},
   "outputs": [
    {
     "data": {
      "text/plain": [
       "array(['2025-10-14'], dtype=object)"
      ]
     },
     "execution_count": 14,
     "metadata": {},
     "output_type": "execute_result"
    }
   ],
   "source": [
    "# посмотрим, сколько дней теста в таблице\n",
    "sessions_test_part['session_date'].unique()"
   ]
  },
  {
   "cell_type": "markdown",
   "metadata": {},
   "source": [
    "Всего 1 день 14 октября 2025г. предствлен в таблице."
   ]
  },
  {
   "cell_type": "code",
   "execution_count": 15,
   "metadata": {},
   "outputs": [
    {
     "name": "stdout",
     "output_type": "stream",
     "text": [
      "В группе А 1477 пользователей, в групп В 1466 пользователей.\n"
     ]
    }
   ],
   "source": [
    "# посчитаем кол-во уникальных пользователей для групп А и В\n",
    "users_a = sessions_test_part[sessions_test_part['test_group'] == 'A'].user_id.nunique()\n",
    "users_b = sessions_test_part[sessions_test_part['test_group'] == 'B'].user_id.nunique()\n",
    "print(f'В группе А {users_a} пользователей, в групп В {users_b} пользователей.')"
   ]
  },
  {
   "cell_type": "code",
   "execution_count": 16,
   "metadata": {},
   "outputs": [
    {
     "name": "stdout",
     "output_type": "stream",
     "text": [
      "Разница между группами А и В составляет 0.74%.\n"
     ]
    }
   ],
   "source": [
    "# рассчитаем процентную долю разницы кол-ва пользователей в группах\n",
    "dif_per = round(100 * abs(users_a - users_b) / users_a, 2)\n",
    "print(f'Разница между группами А и В составляет {dif_per}%.')"
   ]
  },
  {
   "cell_type": "code",
   "execution_count": 17,
   "metadata": {},
   "outputs": [
    {
     "data": {
      "image/png": "[encoded data removed]",
      "text/plain": [
       "<Figure size 600x400 with 1 Axes>"
      ]
     },
     "metadata": {},
     "output_type": "display_data"
    }
   ],
   "source": [
    "# построим график кол-ва пользователей в группах А и В\n",
    "groups = ['Группа А', 'Группа В']\n",
    "users = [1477, 1466]\n",
    "\n",
    "fig, ax = plt.subplots(figsize=(6, 4))\n",
    "bars = ax.bar(groups, users, color=['#1f77b4', '#ff7f0e'])\n",
    "\n",
    "# Добавляем количество пользователей в центре колонок, белым жирным шрифтом\n",
    "for bar in bars:\n",
    "    height = bar.get_height()\n",
    "    ax.text(bar.get_x() + bar.get_width() / 2, height / 2, str(height),\n",
    "            ha='center', va='center', color='white', fontsize=14, fontweight='bold')\n",
    "\n",
    "ax.set_title('Количество пользователей в группах A и B')\n",
    "ax.set_ylabel('Количество пользователей')\n",
    "\n",
    "plt.show()"
   ]
  },
  {
   "cell_type": "markdown",
   "metadata": {},
   "source": [
    "Видим, что кол-во пользователей в группах А и В почти одинаковые (разница 0,74%, что допустимо для продолжения теста).\n",
    "\n",
    "---"
   ]
  },
  {
   "cell_type": "markdown",
   "metadata": {
    "id": "sgpNY5bv0eM0"
   },
   "source": [
    "#### 3.2. Проверка пересечений пользователей\n",
    "Помимо проверки равенства количества пользователей в группах, полезно убедиться в том, что группы независимы. Для этого нужно убедиться, что никто из пользователей случайно не попал в обе группы одновременно.\n",
    "\n",
    "- Сгруппируем по пользователю и посчитаем названия групп для каждого пользователя. Если будет больше 1, то есть пересечение, если нет - то нет пересечений."
   ]
  },
  {
   "cell_type": "code",
   "execution_count": 18,
   "metadata": {},
   "outputs": [
    {
     "name": "stdout",
     "output_type": "stream",
     "text": [
      "Пересечений в группах нет\n"
     ]
    }
   ],
   "source": [
    "intersection = sessions_test_part.groupby('user_id').agg({'test_group': 'nunique'}).query('test_group > 1').test_group.sum()\n",
    "if intersection == 0:\n",
    "    print('Пересечений в группах нет')\n",
    "else:\n",
    "    print('Есть пересечения')"
   ]
  },
  {
   "cell_type": "markdown",
   "metadata": {
    "id": "6RvkNLrg0eM1"
   },
   "source": [
    "#### 3.3. Равномерность разделения пользователей по устройствам\n",
    "Полезно также убедиться в том, что пользователи равномерно распределены по всем доступным категориальным переменным — типам устройств и регионам.\n",
    "\n",
    "Построим две диаграммы:\n",
    "\n",
    "- доля каждого типа устройства для пользователей из группы A,\n",
    "\n",
    "- доля каждого типа устройства для пользователей из группы B."
   ]
  },
  {
   "cell_type": "code",
   "execution_count": 19,
   "metadata": {
    "id": "x_IP6PUNPWHC"
   },
   "outputs": [
    {
     "name": "stdout",
     "output_type": "stream",
     "text": [
      "Распределение по устройствам в группе А: \n",
      "    device  user_id  device_share\n",
      "0  Android      656      0.444144\n",
      "1      Mac      156      0.105619\n",
      "2       PC      369      0.249831\n",
      "3   iPhone      296      0.200406 \n",
      " Итого: 1477\n",
      "\n",
      "Распределение по устройствам в группе В: \n",
      "    device  user_id  device_share\n",
      "0  Android      668      0.455662\n",
      "1      Mac      148      0.100955\n",
      "2       PC      381      0.259891\n",
      "3   iPhone      269      0.183492\n",
      " Итого: 1466\n"
     ]
    }
   ],
   "source": [
    "# сгруппируем пользователей по типу устройства в каждой группы\n",
    "device_grp_a = sessions_test_part[sessions_test_part['test_group'] == 'A'].groupby('device')['user_id'].nunique().reset_index()\n",
    "device_grp_b = sessions_test_part[sessions_test_part['test_group'] == 'B'].groupby('device').user_id.nunique().reset_index()\n",
    "# добавим в группы столбец с долей устройств\n",
    "device_grp_a['device_share'] = device_grp_a.user_id / device_grp_a.user_id.sum()\n",
    "device_grp_b['device_share'] = device_grp_b.user_id / device_grp_b.user_id.sum()\n",
    "print(f'Распределение по устройствам в группе А: \\n{device_grp_a} \\n Итого: {device_grp_a.user_id.sum()}\\n')\n",
    "print(f'Распределение по устройствам в группе В: \\n{device_grp_b}\\n Итого: {device_grp_b.user_id.sum()}')"
   ]
  },
  {
   "cell_type": "code",
   "execution_count": 20,
   "metadata": {},
   "outputs": [
    {
     "data": {
      "image/png": "[encoded data removed]",
      "text/plain": [
       "<Figure size 1400x500 with 2 Axes>"
      ]
     },
     "metadata": {},
     "output_type": "display_data"
    }
   ],
   "source": [
    "# построим столбчатые диаграммы распределения групп по устройствам\n",
    "fig, (ax1, ax2) = plt.subplots(ncols=2, figsize=(14,5))\n",
    "\n",
    "bars1 = ax1.bar(device_grp_a.device, round(device_grp_a.device_share,2), color='#1f77b4')\n",
    "ax1.set_title('Распределение пользователей группы А по устройствам')\n",
    "ax1.set_ylabel('Доля пользователей')\n",
    "ax1.set_xlabel('Устройства')\n",
    "ax1.grid()\n",
    "ax1.set_ylim(0, 0.55)\n",
    "\n",
    "for bar in bars1:\n",
    "    height = bar.get_height()\n",
    "    ax1.text(bar.get_x() + bar.get_width() / 2, height / 2, str(height),\n",
    "            ha='center', va='center', color='white', fontsize=14, fontweight='bold')\n",
    "\n",
    "bars2 = ax2.bar(device_grp_b.device, round(device_grp_b.device_share,2), color='#ff7f0e')\n",
    "ax2.set_title('Распределение пользователей группы B по устройствам')\n",
    "ax2.set_ylabel('Доля пользователей и \\n разница в % с группой А')\n",
    "ax2.set_xlabel('Устройства')\n",
    "ax2.grid()\n",
    "ax2.set_ylim(0, 0.55)\n",
    "\n",
    "# Рассчитываем процентную разницу и добавляем над столбцами\n",
    "for i, bar in enumerate(bars2):\n",
    "    height = bar.get_height()\n",
    "    ax2.text(bar.get_x() + bar.get_width() / 2, height / 2, str(height),\n",
    "            ha='center', va='center', color='white', fontsize=14, fontweight='bold')\n",
    "\n",
    "    a_value = device_grp_a.device_share.iloc[i]\n",
    "    b_value = device_grp_b.device_share.iloc[i]\n",
    "    if a_value != 0:\n",
    "        diff_percent = ((b_value - a_value) / a_value) * 100\n",
    "        diff_text = f\"{diff_percent:+.1f}%\"\n",
    "    else:\n",
    "        diff_text = \"N/A\"\n",
    "\n",
    "    ax2.text(bar.get_x() + bar.get_width() / 2, height + max(device_grp_b.device_share)*0.05, diff_text,\n",
    "            ha='center', va='bottom', color='black', fontsize=12, fontweight='bold')\n",
    "\n",
    "plt.show()"
   ]
  },
  {
   "cell_type": "markdown",
   "metadata": {},
   "source": [
    "Видим, что распределения по устройствам похожи (распределены равномерно):\n",
    "- максимальная разница 4,0% в группе В у пользователей с РС\n",
    "- минимальная разница -8,4% в группе В у пользователей с iPhone\n",
    "---"
   ]
  },
  {
   "cell_type": "markdown",
   "metadata": {
    "id": "gAgmP6vo0eM1"
   },
   "source": [
    "#### 3.4. Равномерность распределения пользователей по регионам\n",
    "Теперь убедимся, что пользователи равномерно распределены по регионам.\n",
    "\n",
    "Построим две диаграммы:\n",
    "\n",
    "- доля каждого региона для пользователей из группы A,\n",
    "\n",
    "- доля каждого региона для пользователей из группы B."
   ]
  },
  {
   "cell_type": "code",
   "execution_count": 21,
   "metadata": {
    "id": "3hAq-FG4OdYM"
   },
   "outputs": [
    {
     "name": "stdout",
     "output_type": "stream",
     "text": [
      "Распределение по региону в группе А: \n",
      "  region  user_id  region_share\n",
      "0    CIS      644      0.436019\n",
      "1     EU      224      0.151659\n",
      "2   MENA      609      0.412322\n",
      " Итого: 1477 \n",
      "\n",
      "Распределение по региону в группе В: \n",
      "  region  user_id  region_share\n",
      "0    CIS      645      0.439973\n",
      "1     EU      217      0.148022\n",
      "2   MENA      604      0.412005\n",
      " Итого: 1466 \n",
      "\n"
     ]
    }
   ],
   "source": [
    "# сгруппируем пользователей по региону в каждой группы\n",
    "region_grp_a = sessions_test_part[sessions_test_part['test_group'] == 'A'].groupby('region')['user_id'].nunique().reset_index()\n",
    "region_grp_b = sessions_test_part[sessions_test_part['test_group'] == 'B'].groupby('region').user_id.nunique().reset_index()\n",
    "# добавим столбец с долей региона в каждую группу\n",
    "region_grp_a['region_share'] = region_grp_a.user_id / region_grp_a.user_id.sum()\n",
    "region_grp_b['region_share'] = region_grp_b.user_id / region_grp_b.user_id.sum()\n",
    "print(f'Распределение по региону в группе А: \\n{region_grp_a}\\n Итого: {region_grp_a.user_id.sum()} \\n')\n",
    "print(f'Распределение по региону в группе В: \\n{region_grp_b}\\n Итого: {region_grp_b.user_id.sum()} \\n')"
   ]
  },
  {
   "cell_type": "code",
   "execution_count": 22,
   "metadata": {},
   "outputs": [
    {
     "data": {
      "image/png": "[encoded data removed]",
      "text/plain": [
       "<Figure size 1400x500 with 2 Axes>"
      ]
     },
     "metadata": {},
     "output_type": "display_data"
    }
   ],
   "source": [
    "# построим столбчатые диаграммы распределения групп по регионам\n",
    "fig, (ax1, ax2) = plt.subplots(ncols=2, figsize=(14,5))\n",
    "\n",
    "bars1 = ax1.bar(region_grp_a.region, round(region_grp_a.region_share,2), color='#1f77b4')\n",
    "ax1.set_title('Распределение пользователей группы А по регионам')\n",
    "ax1.set_ylabel('Доля пользователей')\n",
    "ax1.set_xlabel('Регионы')\n",
    "ax1.grid()\n",
    "ax1.set_ylim(0, 0.55)\n",
    "\n",
    "for bar in bars1:\n",
    "    height = bar.get_height()\n",
    "    ax1.text(bar.get_x() + bar.get_width() / 2, height / 2, str(height),\n",
    "            ha='center', va='center', color='white', fontsize=14, fontweight='bold')\n",
    "\n",
    "bars2 = ax2.bar(region_grp_b.region, round(region_grp_b.region_share,2), color='#ff7f0e')\n",
    "ax2.set_title('Распределение пользователей группы B по регионам')\n",
    "ax2.set_ylabel('Доля пользователей и \\n разница в % с группой А')\n",
    "ax2.set_xlabel('Регионы')\n",
    "ax2.grid()\n",
    "ax2.set_ylim(0, 0.55)\n",
    "\n",
    "# Рассчитываем процентную разницу и добавляем над столбцами\n",
    "for i, bar in enumerate(bars2):\n",
    "    height = bar.get_height()\n",
    "    ax2.text(bar.get_x() + bar.get_width() / 2, height / 2, str(height),\n",
    "            ha='center', va='center', color='white', fontsize=14, fontweight='bold')\n",
    "\n",
    "    a_value = region_grp_a.region_share.iloc[i]\n",
    "    b_value = region_grp_b.region_share.iloc[i]\n",
    "    if a_value != 0:\n",
    "        diff_percent = ((b_value - a_value) / a_value) * 100\n",
    "        diff_text = f\"{diff_percent:+.1f}%\"\n",
    "    else:\n",
    "        diff_text = \"N/A\"\n",
    "\n",
    "    ax2.text(bar.get_x() + bar.get_width() / 2, height + max(region_grp_b.region_share)*0.05, diff_text,\n",
    "            ha='center', va='bottom', color='black', fontsize=12, fontweight='bold')\n",
    "\n",
    "plt.show()"
   ]
  },
  {
   "cell_type": "markdown",
   "metadata": {},
   "source": [
    "Видим, что распределения по регионам похожи (распределены равномерно):\n",
    "- максимальная разница 0,9% в группе В у пользователей из СНГ\n",
    "- минимальная разница -2,4% в группе В у пользователей из Европы\n",
    "---"
   ]
  },
  {
   "cell_type": "markdown",
   "metadata": {
    "id": "X2WSZ-sDrSUi"
   },
   "source": [
    "#### 3.5. Вывод после проверки A/B-теста\n",
    "\n",
    "В ходе проверки одного дня теста было выявлено:\n",
    "- в группе А 1477 пользователей, в группе В - 1466, разница всего в 0,74%\n",
    "- группы А и В являются незваисимыми - пересечений по пользователям в группах не обнаружено\n",
    "- равномерное распределение в группах сохраняется по категориальным переменным: устройствам и регионам.\n",
    "\n",
    "**Вывод**  \n",
    "\n",
    "А/В-тест проходит корректно, можно продолжать.\n",
    "\n",
    "---"
   ]
  },
  {
   "cell_type": "markdown",
   "metadata": {
    "id": "nudRr_BQ0eM2"
   },
   "source": [
    "### 4. Проверка результатов A/B-теста\n",
    "\n",
    "A/B-тест завершён, и у нас есть результаты за все дни проведения эксперимента. Необходимо убедиться в корректности теста и верно интерпретировать результаты."
   ]
  },
  {
   "cell_type": "markdown",
   "metadata": {
    "id": "JVve-YBB0eM2"
   },
   "source": [
    "#### 4.1. Получение результатов теста и подсчёт основной метрики\n",
    "\n",
    "- Считаем и сохраним в датафрейм `sessions_test` CSV-файл с историческими данными о сессиях пользователей `sessions_project_test.csv`.\n",
    "\n",
    "- В датафрейме `sessions_test` создадим дополнительный столбец `good_session`. В него войдёт значение `1`, если за одну сессию было просмотрено 4 и более страниц, и значение `0`, если просмотрено меньше."
   ]
  },
  {
   "cell_type": "code",
   "execution_count": 23,
   "metadata": {
    "id": "EqRlwMtKPTir"
   },
   "outputs": [],
   "source": [
    "# загружаем результаты теста\n",
    "sessions_test = pd.read_csv(part_path + 'sessions_project_test.csv')"
   ]
  },
  {
   "cell_type": "code",
   "execution_count": 24,
   "metadata": {},
   "outputs": [
    {
     "data": {
      "text/html": [
       "<div>\n",
       "<style scoped>\n",
       "    .dataframe tbody tr th:only-of-type {\n",
       "        vertical-align: middle;\n",
       "    }\n",
       "\n",
       "    .dataframe tbody tr th {\n",
       "        vertical-align: top;\n",
       "    }\n",
       "\n",
       "    .dataframe thead th {\n",
       "        text-align: right;\n",
       "    }\n",
       "</style>\n",
       "<table border=\"1\" class=\"dataframe\">\n",
       "  <thead>\n",
       "    <tr style=\"text-align: right;\">\n",
       "      <th></th>\n",
       "      <th>user_id</th>\n",
       "      <th>session_id</th>\n",
       "      <th>session_date</th>\n",
       "      <th>session_start_ts</th>\n",
       "      <th>install_date</th>\n",
       "      <th>session_number</th>\n",
       "      <th>registration_flag</th>\n",
       "      <th>page_counter</th>\n",
       "      <th>region</th>\n",
       "      <th>device</th>\n",
       "      <th>test_group</th>\n",
       "      <th>good_session</th>\n",
       "    </tr>\n",
       "  </thead>\n",
       "  <tbody>\n",
       "    <tr>\n",
       "      <th>0</th>\n",
       "      <td>6DAE3B3654DA738E</td>\n",
       "      <td>C69249E26E58F6E2</td>\n",
       "      <td>2025-10-26</td>\n",
       "      <td>2025-10-26 18:15:05</td>\n",
       "      <td>2025-10-16</td>\n",
       "      <td>3</td>\n",
       "      <td>0</td>\n",
       "      <td>3</td>\n",
       "      <td>MENA</td>\n",
       "      <td>Android</td>\n",
       "      <td>A</td>\n",
       "      <td>0</td>\n",
       "    </tr>\n",
       "    <tr>\n",
       "      <th>1</th>\n",
       "      <td>0A3FE5D1DD59110A</td>\n",
       "      <td>66D66D7C9F5181B7</td>\n",
       "      <td>2025-10-21</td>\n",
       "      <td>2025-10-21 17:04:53</td>\n",
       "      <td>2025-10-15</td>\n",
       "      <td>2</td>\n",
       "      <td>1</td>\n",
       "      <td>2</td>\n",
       "      <td>CIS</td>\n",
       "      <td>Android</td>\n",
       "      <td>B</td>\n",
       "      <td>0</td>\n",
       "    </tr>\n",
       "    <tr>\n",
       "      <th>2</th>\n",
       "      <td>2041F1D7AA740B88</td>\n",
       "      <td>50DE51D42215E74C</td>\n",
       "      <td>2025-10-23</td>\n",
       "      <td>2025-10-23 17:39:29</td>\n",
       "      <td>2025-10-19</td>\n",
       "      <td>3</td>\n",
       "      <td>0</td>\n",
       "      <td>2</td>\n",
       "      <td>MENA</td>\n",
       "      <td>Android</td>\n",
       "      <td>A</td>\n",
       "      <td>0</td>\n",
       "    </tr>\n",
       "    <tr>\n",
       "      <th>3</th>\n",
       "      <td>43D7585009168086</td>\n",
       "      <td>5763C0C353C22263</td>\n",
       "      <td>2025-10-24</td>\n",
       "      <td>2025-10-24 15:01:57</td>\n",
       "      <td>2025-10-18</td>\n",
       "      <td>4</td>\n",
       "      <td>0</td>\n",
       "      <td>1</td>\n",
       "      <td>CIS</td>\n",
       "      <td>iPhone</td>\n",
       "      <td>B</td>\n",
       "      <td>0</td>\n",
       "    </tr>\n",
       "    <tr>\n",
       "      <th>4</th>\n",
       "      <td>15AD68B14D62D88C</td>\n",
       "      <td>B1AD09F93C1053BC</td>\n",
       "      <td>2025-10-17</td>\n",
       "      <td>2025-10-17 17:34:39</td>\n",
       "      <td>2025-10-17</td>\n",
       "      <td>1</td>\n",
       "      <td>0</td>\n",
       "      <td>2</td>\n",
       "      <td>MENA</td>\n",
       "      <td>Android</td>\n",
       "      <td>B</td>\n",
       "      <td>0</td>\n",
       "    </tr>\n",
       "  </tbody>\n",
       "</table>\n",
       "</div>"
      ],
      "text/plain": [
       "            user_id        session_id session_date     session_start_ts  \\\n",
       "0  6DAE3B3654DA738E  C69249E26E58F6E2   2025-10-26  2025-10-26 18:15:05   \n",
       "1  0A3FE5D1DD59110A  66D66D7C9F5181B7   2025-10-21  2025-10-21 17:04:53   \n",
       "2  2041F1D7AA740B88  50DE51D42215E74C   2025-10-23  2025-10-23 17:39:29   \n",
       "3  43D7585009168086  5763C0C353C22263   2025-10-24  2025-10-24 15:01:57   \n",
       "4  15AD68B14D62D88C  B1AD09F93C1053BC   2025-10-17  2025-10-17 17:34:39   \n",
       "\n",
       "  install_date  session_number  registration_flag  page_counter region  \\\n",
       "0   2025-10-16               3                  0             3   MENA   \n",
       "1   2025-10-15               2                  1             2    CIS   \n",
       "2   2025-10-19               3                  0             2   MENA   \n",
       "3   2025-10-18               4                  0             1    CIS   \n",
       "4   2025-10-17               1                  0             2   MENA   \n",
       "\n",
       "    device test_group  good_session  \n",
       "0  Android          A             0  \n",
       "1  Android          B             0  \n",
       "2  Android          A             0  \n",
       "3   iPhone          B             0  \n",
       "4  Android          B             0  "
      ]
     },
     "execution_count": 24,
     "metadata": {},
     "output_type": "execute_result"
    }
   ],
   "source": [
    "# добавим столбец good_session, равный 1, если посещенных страниц >= 4, и 0, если меньше\n",
    "sessions_test['good_session'] = (sessions_test['page_counter'] >= 4).astype('int')\n",
    "sessions_test.head()"
   ]
  },
  {
   "cell_type": "markdown",
   "metadata": {
    "id": "aeYhrMYy0eM2"
   },
   "source": [
    "#### 4.2. Проверка корректности результатов теста\n",
    "\n",
    "Прежде чем приступать к анализу ключевых продуктовых метрик, необходимо убедиться, что тест проведён корректно и мы будем сравнивать две сопоставимые группы.\n",
    "\n",
    "- Рассчитаем количество уникальных сессий для каждого дня и обеих тестовых групп, используя группировку.\n",
    "\n",
    "- Проверим, что количество уникальных дневных сессий в двух выборках не различается или различия не статистически значимыми. Используем статистический тест, который позволит сделать вывод о равенстве средних двух выборок.\n",
    "\n",
    "Чтобы провести статистический тест о кол-ве уникальных дневных сессий в двух выборках сформируем сначала нулевую и альтернативную гипотезы:\n",
    "\n",
    "$H_{0}$ - кол-ва уникальных дневных сессий в контрольной и тестовой группах `не различаются`.  \n",
    "$H_{1}$ - кол-ва уникальных дневных сессий в котрольной и тестовой группах `различаются`."
   ]
  },
  {
   "cell_type": "code",
   "execution_count": 25,
   "metadata": {
    "id": "5NUlcltkTTSU"
   },
   "outputs": [
    {
     "name": "stdout",
     "output_type": "stream",
     "text": [
      "p-значение = 0.938\n"
     ]
    }
   ],
   "source": [
    "# расситаем кол-во уникальных сессий для каждой группы по дням\n",
    "sessions_a = sessions_test[sessions_test['test_group'] == 'A'].groupby('session_date').session_id.nunique().reset_index()\n",
    "sessions_b = sessions_test[sessions_test['test_group'] == 'B'].groupby('session_date').session_id.nunique().reset_index()\n",
    "# посчитаем статистику по 2м выборкам\n",
    "results = ttest_ind(sessions_a.session_id, sessions_b.session_id, alternative='two-sided') # смотрим есть ли вообще отличия\n",
    "print(f'p-значение = {round(results.pvalue, 3)}')"
   ]
  },
  {
   "cell_type": "markdown",
   "metadata": {},
   "source": [
    "p-значение почти 94%, это говорит об отстутствии статистически значимых различий между выборками и у нас нет оснований отвергать нулевую гипотезу.\n",
    "\n",
    "---"
   ]
  },
  {
   "cell_type": "markdown",
   "metadata": {
    "id": "7kwRxzg70eM3"
   },
   "source": [
    "#### 4.3. Сравнение доли успешных сессий\n",
    "\n",
    "Теперь, когда мы убедились, что количество сессий в обеих выборках не различалось, можно переходить к анализу ключевой метрики — доли успешных сессий.\n",
    "\n",
    "Используем созданный на первом шаге столбец `good_session` и рассчитаем долю успешных сессий для выборок A и B, а также разницу в этом показателе."
   ]
  },
  {
   "cell_type": "code",
   "execution_count": 26,
   "metadata": {
    "id": "Uku-V1CpPRCz"
   },
   "outputs": [
    {
     "name": "stdout",
     "output_type": "stream",
     "text": [
      "Все сессии в тесте уникальны (нет дубликатов)\n"
     ]
    }
   ],
   "source": [
    "# проверим, все ли сессии в данных теста уникальны\n",
    "sess_dupl = sessions_test.session_id.duplicated().sum()\n",
    "if sess_dupl == 0:\n",
    "    print('Все сессии в тесте уникальны (нет дубликатов)')\n",
    "else:\n",
    "    print(f'В данных теста есть не уникальные сессии (дубликаты): {sess_dupl} шт.')"
   ]
  },
  {
   "cell_type": "code",
   "execution_count": 27,
   "metadata": {},
   "outputs": [
    {
     "name": "stdout",
     "output_type": "stream",
     "text": [
      "Доля успешных сессий в группе А: 0.308 \n",
      "\n",
      "Доля успешных сессий в группу В: 0.318 \n",
      "\n",
      "Разница долей успешных сессий между группами составляет: 0.011\n"
     ]
    }
   ],
   "source": [
    "# посчитаем кол-во успешных сессий для каждой группы\n",
    "good_sess_a = sessions_test[sessions_test['test_group'] == 'A']['good_session'].sum()\n",
    "good_sess_b = sessions_test[sessions_test['test_group'] == 'B']['good_session'].sum()\n",
    "# посчитаем общее кол-во сессий в каждой группе\n",
    "sess_a_cnt = len(sessions_test[sessions_test['test_group'] == 'A'])\n",
    "sess_b_cnt = len(sessions_test[sessions_test['test_group'] == 'B'])\n",
    "# посчитаем доли успешних сессий для каждой группы\n",
    "gs_a_share = good_sess_a / sess_a_cnt\n",
    "gs_b_share = good_sess_b / sess_b_cnt\n",
    "# выводим результаты на экран\n",
    "print(f'Доля успешных сессий в группе А: {round(gs_a_share,3)} \\n')\n",
    "print(f'Доля успешных сессий в группу В: {round(gs_b_share,3)} \\n')\n",
    "print(f'Разница долей успешных сессий между группами составляет: {round(abs(gs_a_share - gs_b_share),3)}')"
   ]
  },
  {
   "cell_type": "markdown",
   "metadata": {},
   "source": [
    "Доля успешных сессий в тестовой группе выше на 1,1%. Это может говорить о том, что изменения алгоритма рекомендаций, протестированное в этой группе, положительно повлияли на пользовательский опыт. А значит, они могут быть внедрены в основную версию продукта.\n",
    "\n",
    "Но сначала нужно убедиться, является ли такое изменение статистически значимым, или это может быть случаное колебание метрики.\n",
    "\n",
    "---"
   ]
  },
  {
   "cell_type": "markdown",
   "metadata": {
    "id": "9fMFuja10eM4"
   },
   "source": [
    "#### 4.4. Насколько статистически значимо изменение ключевой метрики\n",
    "\n",
    "На предыдущем шаге мы убедились, что количество успешных сессий в тестовой выборке примерно на 1.1% выше, чем в контрольной, но делать выводы только на основе этого значения будет некорректно. Для принятия решения всегда необходимо отвечать на вопрос: является ли это изменение статистически значимым.\n",
    "\n",
    "Используя статистический тест, рассчитаем, является ли изменение в метрике доли успешных сессий статистически значимым.\n",
    "\n",
    "Т.к. у нас метрика долевая, то считать статистику будем через z-тест пропорций."
   ]
  },
  {
   "cell_type": "code",
   "execution_count": 28,
   "metadata": {},
   "outputs": [
    {
     "name": "stdout",
     "output_type": "stream",
     "text": [
      "p-значение = 0.00031\n",
      "Статистически значимые различия есть, отвергаем нулевую гипотезу\n"
     ]
    }
   ],
   "source": [
    "# посчитаем z-тест пропорции\n",
    "count = [good_sess_a, good_sess_b]\n",
    "nobs = [sess_a_cnt, sess_b_cnt]\n",
    "stat, p_value_zt = proportions_ztest(count, nobs)\n",
    "print(f'p-значение = {round(p_value_zt,5)}')\n",
    "if p_value_zt >= alpha:\n",
    "    print('Статистически значимых различий нет, оставляем нулевую гипотезу')\n",
    "else:\n",
    "    print('Статистически значимые различия есть, отвергаем нулевую гипотезу')"
   ]
  },
  {
   "cell_type": "markdown",
   "metadata": {
    "id": "GnJrkY9Q63zS"
   },
   "source": [
    "#### 4.5. Вывод по результатам A/B-эксперимента"
   ]
  },
  {
   "cell_type": "code",
   "execution_count": 29,
   "metadata": {},
   "outputs": [
    {
     "name": "stdout",
     "output_type": "stream",
     "text": [
      "В эксперименте приняло участие 30579 уникальных пользователей\n",
      "Эксперимент длился 20 дней.\n",
      "Группа А набрала за это время суммарно по дням 49242 пользователей.\n",
      "Группа B набрала за это время суммарно по дням 49929 пользователей.\n",
      "Суммарно за все время эксперимента было набрано 99171 пользователей.\n"
     ]
    }
   ],
   "source": [
    "# посчитаем, сколько уникальных пользователей участвовало в эксперименте\n",
    "test_unique_users = sessions_test.user_id.nunique()\n",
    "# посчитаем, сколько длился эксперимент\n",
    "test_duration = (pd.to_datetime(sessions_test['session_date']).max() - pd.to_datetime(sessions_test['session_date']).min()).days\n",
    "# посчитаем, сколько суммарно за каждый день эксперимента получилось участников в каждой группе\n",
    "all_users_a = sessions_test[sessions_test['test_group'] == 'A'].groupby('session_date').user_id.nunique().sum()\n",
    "all_users_b = sessions_test[sessions_test['test_group'] == 'B'].groupby('session_date').user_id.nunique().sum()\n",
    "print(f'В эксперименте приняло участие {test_unique_users} уникальных пользователей')\n",
    "print(f'Эксперимент длился {1 + test_duration} дней.') # 1 день в таблице sessions_test_part и остальные дни в таблице sessions_test\n",
    "print(f'Группа А набрала за это время суммарно по дням {all_users_a} пользователей.')\n",
    "print(f'Группа B набрала за это время суммарно по дням {all_users_b} пользователей.')\n",
    "print(f'Суммарно за все время эксперимента было набрано {all_users_a + all_users_b} пользователей.')"
   ]
  },
  {
   "cell_type": "markdown",
   "metadata": {
    "id": "rri8KRIgPMrW"
   },
   "source": [
    "**Параметры эксперимента**\n",
    "\n",
    "По рассчетам в эксперименте должно было быть задействовано минимум 82080 пользователей (по 41040 в контрольной и тестовой группах).\n",
    "Длиться эксперимент должен был минимум 9 дней.\n",
    "\n",
    "Реальный эксперимент набрал 99171 пользователя (49242 в контрольной группе, 49929 в тестовой группе) и длился 20 дней.\n",
    "\n",
    "**Итоги эксперимента**\n",
    "\n",
    "А/В-тест для метрики `доля успешных сессий` показал p-значение 0.00031, что является статистически значимым и позволило нам отклонить нулевую версию в пользу альтернативной - что новый алгоритм увеличил эту метрику. \n",
    "\n",
    "По результатам расчетов метрика `доля успешных сессий` выросла на 1,1%. Такой результат можно было бы отнести к разбросу стреднего, но статистическая проверка гипотезы показывает, что здесь статистически значимое различие, т.е. можно принять, что введение нового алгоритмя повлияло на увеличение метрики.\n",
    "\n",
    "**Рекомендация**\n",
    "\n",
    "Стоит внедрять новый алгоритм в приложение."
   ]
  },
  {
   "cell_type": "code",
   "execution_count": null,
   "metadata": {},
   "outputs": [],
   "source": []
  }
 ],
 "metadata": {
  "ExecuteTimeLog": [
   {
    "duration": 1307,
    "start_time": "2025-08-19T18:02:02.147Z"
   },
   {
    "duration": 1166,
    "start_time": "2025-08-19T18:03:52.127Z"
   },
   {
    "duration": 601,
    "start_time": "2025-08-19T18:07:33.993Z"
   },
   {
    "duration": 649,
    "start_time": "2025-08-19T18:09:13.065Z"
   },
   {
    "duration": 629,
    "start_time": "2025-08-19T18:09:30.209Z"
   },
   {
    "duration": 677,
    "start_time": "2025-08-19T18:09:57.649Z"
   },
   {
    "duration": 689,
    "start_time": "2025-08-19T18:10:30.089Z"
   },
   {
    "duration": 618,
    "start_time": "2025-08-19T18:10:48.138Z"
   },
   {
    "duration": 622,
    "start_time": "2025-08-19T18:11:02.593Z"
   },
   {
    "duration": 638,
    "start_time": "2025-08-19T18:11:24.897Z"
   },
   {
    "duration": 51,
    "start_time": "2025-08-20T04:47:36.096Z"
   },
   {
    "duration": 1599,
    "start_time": "2025-08-20T04:47:44.578Z"
   },
   {
    "duration": 1392,
    "start_time": "2025-08-20T04:47:46.181Z"
   },
   {
    "duration": 765,
    "start_time": "2025-08-20T04:47:47.575Z"
   },
   {
    "duration": 95,
    "start_time": "2025-08-20T04:47:48.342Z"
   },
   {
    "duration": 133,
    "start_time": "2025-08-20T04:47:48.440Z"
   },
   {
    "duration": 0,
    "start_time": "2025-08-20T04:47:48.576Z"
   },
   {
    "duration": 86,
    "start_time": "2025-08-20T04:49:01.130Z"
   },
   {
    "duration": 241,
    "start_time": "2025-08-20T06:01:50.883Z"
   },
   {
    "duration": 162,
    "start_time": "2025-08-20T06:03:25.505Z"
   },
   {
    "duration": 177,
    "start_time": "2025-08-20T06:03:34.630Z"
   },
   {
    "duration": 169,
    "start_time": "2025-08-20T06:04:28.225Z"
   },
   {
    "duration": 255,
    "start_time": "2025-08-20T06:07:42.896Z"
   },
   {
    "duration": 422,
    "start_time": "2025-08-20T06:09:36.922Z"
   },
   {
    "duration": 6,
    "start_time": "2025-08-20T06:12:08.105Z"
   },
   {
    "duration": 10,
    "start_time": "2025-08-20T06:13:41.889Z"
   },
   {
    "duration": 5,
    "start_time": "2025-08-20T06:13:52.921Z"
   },
   {
    "duration": 191,
    "start_time": "2025-08-20T06:14:11.145Z"
   },
   {
    "duration": 189,
    "start_time": "2025-08-20T06:15:01.106Z"
   },
   {
    "duration": 6,
    "start_time": "2025-08-20T06:15:10.065Z"
   },
   {
    "duration": 18,
    "start_time": "2025-08-20T06:16:30.123Z"
   },
   {
    "duration": 32477,
    "start_time": "2025-08-20T06:19:26.994Z"
   },
   {
    "duration": 6,
    "start_time": "2025-08-20T06:20:13.938Z"
   },
   {
    "duration": 33275,
    "start_time": "2025-08-20T06:20:34.940Z"
   },
   {
    "duration": 5,
    "start_time": "2025-08-20T06:21:08.217Z"
   },
   {
    "duration": 198,
    "start_time": "2025-08-20T06:26:27.363Z"
   },
   {
    "duration": 171,
    "start_time": "2025-08-20T06:26:46.980Z"
   },
   {
    "duration": 168,
    "start_time": "2025-08-20T06:27:07.420Z"
   },
   {
    "duration": 209,
    "start_time": "2025-08-20T06:30:00.726Z"
   },
   {
    "duration": 353,
    "start_time": "2025-08-20T06:34:34.462Z"
   },
   {
    "duration": 340,
    "start_time": "2025-08-20T06:35:06.135Z"
   },
   {
    "duration": 16,
    "start_time": "2025-08-20T06:40:14.799Z"
   },
   {
    "duration": 594,
    "start_time": "2025-08-20T06:43:29.456Z"
   },
   {
    "duration": 847,
    "start_time": "2025-08-20T06:44:14.578Z"
   },
   {
    "duration": 7,
    "start_time": "2025-08-20T06:46:09.394Z"
   },
   {
    "duration": 763,
    "start_time": "2025-08-20T07:13:04.881Z"
   },
   {
    "duration": 876,
    "start_time": "2025-08-20T07:17:20.796Z"
   },
   {
    "duration": 1286,
    "start_time": "2025-08-20T07:18:18.017Z"
   },
   {
    "duration": 1403,
    "start_time": "2025-08-20T07:18:19.305Z"
   },
   {
    "duration": 740,
    "start_time": "2025-08-20T07:18:20.711Z"
   },
   {
    "duration": 32874,
    "start_time": "2025-08-20T07:18:21.453Z"
   },
   {
    "duration": 821,
    "start_time": "2025-08-20T07:18:54.329Z"
   },
   {
    "duration": 827,
    "start_time": "2025-08-20T07:18:55.152Z"
   },
   {
    "duration": 122,
    "start_time": "2025-08-20T07:18:55.982Z"
   },
   {
    "duration": 0,
    "start_time": "2025-08-20T07:18:56.106Z"
   },
   {
    "duration": 42,
    "start_time": "2025-08-20T07:34:08.590Z"
   },
   {
    "duration": 1333,
    "start_time": "2025-08-20T07:41:15.157Z"
   },
   {
    "duration": 1378,
    "start_time": "2025-08-20T07:41:16.493Z"
   },
   {
    "duration": 784,
    "start_time": "2025-08-20T07:41:17.873Z"
   },
   {
    "duration": 33102,
    "start_time": "2025-08-20T07:41:18.661Z"
   },
   {
    "duration": 863,
    "start_time": "2025-08-20T07:41:51.766Z"
   },
   {
    "duration": 822,
    "start_time": "2025-08-20T07:41:52.631Z"
   },
   {
    "duration": 37,
    "start_time": "2025-08-20T07:41:53.455Z"
   },
   {
    "duration": 134,
    "start_time": "2025-08-20T07:41:53.494Z"
   },
   {
    "duration": 0,
    "start_time": "2025-08-20T07:41:53.630Z"
   },
   {
    "duration": 202,
    "start_time": "2025-08-20T07:45:38.701Z"
   },
   {
    "duration": 16,
    "start_time": "2025-08-20T07:55:24.057Z"
   },
   {
    "duration": 81,
    "start_time": "2025-08-20T08:06:57.101Z"
   },
   {
    "duration": 1377,
    "start_time": "2025-08-20T09:21:44.449Z"
   },
   {
    "duration": 1412,
    "start_time": "2025-08-20T09:21:45.829Z"
   },
   {
    "duration": 767,
    "start_time": "2025-08-20T09:21:47.243Z"
   },
   {
    "duration": 34551,
    "start_time": "2025-08-20T09:21:48.013Z"
   },
   {
    "duration": 827,
    "start_time": "2025-08-20T09:22:22.566Z"
   },
   {
    "duration": 828,
    "start_time": "2025-08-20T09:22:23.395Z"
   },
   {
    "duration": 47,
    "start_time": "2025-08-20T09:22:24.225Z"
   },
   {
    "duration": 211,
    "start_time": "2025-08-20T09:22:24.274Z"
   },
   {
    "duration": 91,
    "start_time": "2025-08-20T09:22:24.487Z"
   },
   {
    "duration": 123,
    "start_time": "2025-08-20T09:22:24.581Z"
   },
   {
    "duration": 0,
    "start_time": "2025-08-20T09:22:24.707Z"
   },
   {
    "duration": 23,
    "start_time": "2025-08-20T09:30:02.884Z"
   },
   {
    "duration": 980,
    "start_time": "2025-08-20T09:30:37.732Z"
   },
   {
    "duration": 944,
    "start_time": "2025-08-20T09:32:47.452Z"
   },
   {
    "duration": 1017,
    "start_time": "2025-08-20T09:34:36.916Z"
   },
   {
    "duration": 1011,
    "start_time": "2025-08-20T09:35:50.301Z"
   },
   {
    "duration": 851,
    "start_time": "2025-08-20T09:39:14.726Z"
   },
   {
    "duration": 624,
    "start_time": "2025-08-20T09:39:36.960Z"
   },
   {
    "duration": 604,
    "start_time": "2025-08-20T09:41:11.959Z"
   },
   {
    "duration": 705,
    "start_time": "2025-08-20T09:42:05.511Z"
   },
   {
    "duration": 13,
    "start_time": "2025-08-20T09:44:31.290Z"
   },
   {
    "duration": 1293,
    "start_time": "2025-08-20T12:32:35.072Z"
   },
   {
    "duration": 1390,
    "start_time": "2025-08-20T12:32:36.367Z"
   },
   {
    "duration": 556,
    "start_time": "2025-08-20T12:32:37.759Z"
   },
   {
    "duration": 31920,
    "start_time": "2025-08-20T12:32:38.318Z"
   },
   {
    "duration": 783,
    "start_time": "2025-08-20T12:33:10.240Z"
   },
   {
    "duration": 774,
    "start_time": "2025-08-20T12:33:11.024Z"
   },
   {
    "duration": 31,
    "start_time": "2025-08-20T12:33:11.800Z"
   },
   {
    "duration": 195,
    "start_time": "2025-08-20T12:33:11.833Z"
   },
   {
    "duration": 765,
    "start_time": "2025-08-20T12:33:12.029Z"
   },
   {
    "duration": 563,
    "start_time": "2025-08-20T12:33:12.795Z"
   },
   {
    "duration": 123,
    "start_time": "2025-08-20T12:33:13.360Z"
   },
   {
    "duration": 0,
    "start_time": "2025-08-20T12:33:13.485Z"
   },
   {
    "duration": 12,
    "start_time": "2025-08-20T12:37:09.094Z"
   },
   {
    "duration": 14,
    "start_time": "2025-08-20T12:43:12.718Z"
   },
   {
    "duration": 14,
    "start_time": "2025-08-20T12:47:49.912Z"
   },
   {
    "duration": 11,
    "start_time": "2025-08-20T12:56:34.103Z"
   },
   {
    "duration": 149,
    "start_time": "2025-08-20T12:56:55.025Z"
   },
   {
    "duration": 16,
    "start_time": "2025-08-20T13:01:26.570Z"
   },
   {
    "duration": 145,
    "start_time": "2025-08-20T13:04:26.187Z"
   },
   {
    "duration": 152,
    "start_time": "2025-08-20T13:04:54.179Z"
   },
   {
    "duration": 128,
    "start_time": "2025-08-20T13:07:25.651Z"
   },
   {
    "duration": 5,
    "start_time": "2025-08-20T13:14:50.206Z"
   },
   {
    "duration": 8,
    "start_time": "2025-08-20T13:20:15.865Z"
   },
   {
    "duration": 9,
    "start_time": "2025-08-20T13:23:59.186Z"
   },
   {
    "duration": 4,
    "start_time": "2025-08-20T13:24:46.234Z"
   },
   {
    "duration": 112,
    "start_time": "2025-08-20T13:29:11.243Z"
   },
   {
    "duration": 116,
    "start_time": "2025-08-20T13:32:16.428Z"
   },
   {
    "duration": 112,
    "start_time": "2025-08-20T13:34:17.101Z"
   },
   {
    "duration": 116,
    "start_time": "2025-08-20T13:34:29.149Z"
   },
   {
    "duration": 3,
    "start_time": "2025-08-20T13:36:55.486Z"
   },
   {
    "duration": 110,
    "start_time": "2025-08-20T13:41:43.167Z"
   },
   {
    "duration": 7,
    "start_time": "2025-08-20T13:48:46.105Z"
   },
   {
    "duration": 7,
    "start_time": "2025-08-20T13:48:59.745Z"
   },
   {
    "duration": 7,
    "start_time": "2025-08-20T13:53:52.587Z"
   },
   {
    "duration": 7,
    "start_time": "2025-08-20T13:56:55.732Z"
   },
   {
    "duration": 7,
    "start_time": "2025-08-20T13:57:39.892Z"
   },
   {
    "duration": 1499,
    "start_time": "2025-08-21T04:58:45.606Z"
   },
   {
    "duration": 1409,
    "start_time": "2025-08-21T04:58:47.107Z"
   },
   {
    "duration": 781,
    "start_time": "2025-08-21T04:58:48.518Z"
   },
   {
    "duration": 32811,
    "start_time": "2025-08-21T04:58:49.301Z"
   },
   {
    "duration": 862,
    "start_time": "2025-08-21T04:59:22.114Z"
   },
   {
    "duration": 822,
    "start_time": "2025-08-21T04:59:22.979Z"
   },
   {
    "duration": 36,
    "start_time": "2025-08-21T04:59:23.803Z"
   },
   {
    "duration": 237,
    "start_time": "2025-08-21T04:59:23.841Z"
   },
   {
    "duration": 981,
    "start_time": "2025-08-21T04:59:24.081Z"
   },
   {
    "duration": 613,
    "start_time": "2025-08-21T04:59:25.066Z"
   },
   {
    "duration": 26,
    "start_time": "2025-08-21T04:59:25.681Z"
   },
   {
    "duration": 252,
    "start_time": "2025-08-21T04:59:25.709Z"
   },
   {
    "duration": 35,
    "start_time": "2025-08-21T04:59:25.963Z"
   },
   {
    "duration": 6,
    "start_time": "2025-08-21T04:59:26.000Z"
   },
   {
    "duration": 32,
    "start_time": "2025-08-21T04:59:26.009Z"
   },
   {
    "duration": 16,
    "start_time": "2025-08-21T04:59:26.042Z"
   },
   {
    "duration": 148,
    "start_time": "2025-08-21T04:59:26.060Z"
   },
   {
    "duration": 11,
    "start_time": "2025-08-21T04:59:26.211Z"
   },
   {
    "duration": 14,
    "start_time": "2025-08-21T05:15:04.526Z"
   },
   {
    "duration": 20,
    "start_time": "2025-08-21T05:19:15.726Z"
   },
   {
    "duration": 13,
    "start_time": "2025-08-21T05:20:08.167Z"
   },
   {
    "duration": 13,
    "start_time": "2025-08-21T05:21:39.959Z"
   },
   {
    "duration": 14,
    "start_time": "2025-08-21T05:26:42.836Z"
   },
   {
    "duration": 16,
    "start_time": "2025-08-21T05:27:10.924Z"
   },
   {
    "duration": 16,
    "start_time": "2025-08-21T05:27:24.725Z"
   },
   {
    "duration": 462,
    "start_time": "2025-08-21T05:29:13.185Z"
   },
   {
    "duration": 294,
    "start_time": "2025-08-21T05:31:06.189Z"
   },
   {
    "duration": 235,
    "start_time": "2025-08-21T05:36:47.501Z"
   },
   {
    "duration": 234,
    "start_time": "2025-08-21T05:37:15.485Z"
   },
   {
    "duration": 246,
    "start_time": "2025-08-21T05:38:42.847Z"
   },
   {
    "duration": 227,
    "start_time": "2025-08-21T05:39:07.631Z"
   },
   {
    "duration": 238,
    "start_time": "2025-08-21T05:39:33.744Z"
   },
   {
    "duration": 236,
    "start_time": "2025-08-21T05:40:27.969Z"
   },
   {
    "duration": 274,
    "start_time": "2025-08-21T06:02:10.741Z"
   },
   {
    "duration": 324,
    "start_time": "2025-08-21T06:02:53.730Z"
   },
   {
    "duration": 299,
    "start_time": "2025-08-21T06:03:39.732Z"
   },
   {
    "duration": 512,
    "start_time": "2025-08-21T06:09:15.805Z"
   },
   {
    "duration": 323,
    "start_time": "2025-08-21T06:12:24.859Z"
   },
   {
    "duration": 308,
    "start_time": "2025-08-21T06:12:40.977Z"
   },
   {
    "duration": 334,
    "start_time": "2025-08-21T06:13:06.403Z"
   },
   {
    "duration": 352,
    "start_time": "2025-08-21T06:19:01.690Z"
   },
   {
    "duration": 5,
    "start_time": "2025-08-21T06:29:05.874Z"
   },
   {
    "duration": 17,
    "start_time": "2025-08-21T06:31:33.017Z"
   },
   {
    "duration": 7,
    "start_time": "2025-08-21T06:31:58.097Z"
   },
   {
    "duration": 7,
    "start_time": "2025-08-21T06:32:06.297Z"
   },
   {
    "duration": 16,
    "start_time": "2025-08-21T06:35:09.549Z"
   },
   {
    "duration": 17,
    "start_time": "2025-08-21T06:35:40.157Z"
   },
   {
    "duration": 17,
    "start_time": "2025-08-21T06:38:59.233Z"
   },
   {
    "duration": 18,
    "start_time": "2025-08-21T06:57:21.644Z"
   },
   {
    "duration": 17,
    "start_time": "2025-08-21T06:57:50.524Z"
   },
   {
    "duration": 19,
    "start_time": "2025-08-21T06:58:17.747Z"
   },
   {
    "duration": 1287,
    "start_time": "2025-08-21T06:58:57.711Z"
   },
   {
    "duration": 1544,
    "start_time": "2025-08-21T06:58:59.000Z"
   },
   {
    "duration": 821,
    "start_time": "2025-08-21T06:59:00.546Z"
   },
   {
    "duration": 33758,
    "start_time": "2025-08-21T06:59:01.369Z"
   },
   {
    "duration": 903,
    "start_time": "2025-08-21T06:59:35.130Z"
   },
   {
    "duration": 867,
    "start_time": "2025-08-21T06:59:36.035Z"
   },
   {
    "duration": 57,
    "start_time": "2025-08-21T06:59:36.905Z"
   },
   {
    "duration": 222,
    "start_time": "2025-08-21T06:59:36.964Z"
   },
   {
    "duration": 992,
    "start_time": "2025-08-21T06:59:37.188Z"
   },
   {
    "duration": 625,
    "start_time": "2025-08-21T06:59:38.181Z"
   },
   {
    "duration": 26,
    "start_time": "2025-08-21T06:59:38.808Z"
   },
   {
    "duration": 241,
    "start_time": "2025-08-21T06:59:38.836Z"
   },
   {
    "duration": 34,
    "start_time": "2025-08-21T06:59:39.079Z"
   },
   {
    "duration": 14,
    "start_time": "2025-08-21T06:59:39.117Z"
   },
   {
    "duration": 10,
    "start_time": "2025-08-21T06:59:39.133Z"
   },
   {
    "duration": 5,
    "start_time": "2025-08-21T06:59:39.161Z"
   },
   {
    "duration": 157,
    "start_time": "2025-08-21T06:59:39.169Z"
   },
   {
    "duration": 10,
    "start_time": "2025-08-21T06:59:39.329Z"
   },
   {
    "duration": 156,
    "start_time": "2025-08-21T06:59:39.342Z"
   },
   {
    "duration": 6,
    "start_time": "2025-08-21T06:59:39.500Z"
   },
   {
    "duration": 325,
    "start_time": "2025-08-21T06:59:39.508Z"
   },
   {
    "duration": 413,
    "start_time": "2025-08-21T07:00:42.774Z"
   },
   {
    "duration": 18,
    "start_time": "2025-08-21T07:07:33.584Z"
   },
   {
    "duration": 27,
    "start_time": "2025-08-21T07:09:33.168Z"
   },
   {
    "duration": 24,
    "start_time": "2025-08-21T07:10:33.985Z"
   },
   {
    "duration": 335,
    "start_time": "2025-08-21T07:12:45.969Z"
   },
   {
    "duration": 297,
    "start_time": "2025-08-21T07:13:32.658Z"
   },
   {
    "duration": 352,
    "start_time": "2025-08-21T07:25:55.557Z"
   },
   {
    "duration": 312,
    "start_time": "2025-08-21T07:29:23.654Z"
   },
   {
    "duration": 22,
    "start_time": "2025-08-21T07:29:27.549Z"
   },
   {
    "duration": 90,
    "start_time": "2025-08-21T07:38:36.879Z"
   },
   {
    "duration": 20,
    "start_time": "2025-08-21T07:38:49.872Z"
   },
   {
    "duration": 16,
    "start_time": "2025-08-21T07:39:11.640Z"
   },
   {
    "duration": 18,
    "start_time": "2025-08-21T07:39:29.584Z"
   },
   {
    "duration": 19,
    "start_time": "2025-08-21T07:39:59.929Z"
   },
   {
    "duration": 20,
    "start_time": "2025-08-21T07:41:46.281Z"
   },
   {
    "duration": 19,
    "start_time": "2025-08-21T07:41:54.128Z"
   },
   {
    "duration": 44,
    "start_time": "2025-08-21T07:45:06.230Z"
   },
   {
    "duration": 45,
    "start_time": "2025-08-21T07:45:21.293Z"
   },
   {
    "duration": 89,
    "start_time": "2025-08-21T07:54:41.219Z"
   },
   {
    "duration": 87,
    "start_time": "2025-08-21T07:54:48.378Z"
   },
   {
    "duration": 94,
    "start_time": "2025-08-21T07:55:28.099Z"
   },
   {
    "duration": 82,
    "start_time": "2025-08-21T07:58:13.477Z"
   },
   {
    "duration": 102,
    "start_time": "2025-08-21T08:01:53.292Z"
   },
   {
    "duration": 65,
    "start_time": "2025-08-21T08:10:19.299Z"
   },
   {
    "duration": 35,
    "start_time": "2025-08-21T08:10:47.714Z"
   },
   {
    "duration": 24,
    "start_time": "2025-08-21T08:12:09.547Z"
   },
   {
    "duration": 22,
    "start_time": "2025-08-21T08:15:22.139Z"
   },
   {
    "duration": 45,
    "start_time": "2025-08-21T08:17:01.549Z"
   },
   {
    "duration": 414,
    "start_time": "2025-08-21T08:23:15.820Z"
   },
   {
    "duration": 39,
    "start_time": "2025-08-21T08:23:22.123Z"
   },
   {
    "duration": 76,
    "start_time": "2025-08-21T08:27:30.561Z"
   },
   {
    "duration": 39,
    "start_time": "2025-08-21T08:45:55.128Z"
   },
   {
    "duration": 40,
    "start_time": "2025-08-21T08:46:04.488Z"
   },
   {
    "duration": 41,
    "start_time": "2025-08-21T08:48:03.585Z"
   },
   {
    "duration": 45,
    "start_time": "2025-08-21T08:52:35.103Z"
   },
   {
    "duration": 54,
    "start_time": "2025-08-21T09:08:49.333Z"
   },
   {
    "duration": 62,
    "start_time": "2025-08-21T09:10:19.709Z"
   },
   {
    "duration": 73,
    "start_time": "2025-08-21T09:10:47.063Z"
   },
   {
    "duration": 80,
    "start_time": "2025-08-21T09:11:01.142Z"
   },
   {
    "duration": 1287,
    "start_time": "2025-08-21T12:09:04.086Z"
   },
   {
    "duration": 1188,
    "start_time": "2025-08-21T12:09:05.375Z"
   },
   {
    "duration": 647,
    "start_time": "2025-08-21T12:09:06.565Z"
   },
   {
    "duration": 28363,
    "start_time": "2025-08-21T12:09:07.213Z"
   },
   {
    "duration": 775,
    "start_time": "2025-08-21T12:09:35.578Z"
   },
   {
    "duration": 719,
    "start_time": "2025-08-21T12:09:36.355Z"
   },
   {
    "duration": 33,
    "start_time": "2025-08-21T12:09:37.075Z"
   },
   {
    "duration": 187,
    "start_time": "2025-08-21T12:09:37.109Z"
   },
   {
    "duration": 792,
    "start_time": "2025-08-21T12:09:37.297Z"
   },
   {
    "duration": 539,
    "start_time": "2025-08-21T12:09:38.091Z"
   },
   {
    "duration": 22,
    "start_time": "2025-08-21T12:09:38.632Z"
   },
   {
    "duration": 169,
    "start_time": "2025-08-21T12:09:38.671Z"
   },
   {
    "duration": 32,
    "start_time": "2025-08-21T12:09:38.842Z"
   },
   {
    "duration": 5,
    "start_time": "2025-08-21T12:09:38.876Z"
   },
   {
    "duration": 8,
    "start_time": "2025-08-21T12:09:38.882Z"
   },
   {
    "duration": 3,
    "start_time": "2025-08-21T12:09:38.892Z"
   },
   {
    "duration": 129,
    "start_time": "2025-08-21T12:09:38.896Z"
   },
   {
    "duration": 8,
    "start_time": "2025-08-21T12:09:39.027Z"
   },
   {
    "duration": 65,
    "start_time": "2025-08-21T12:09:39.036Z"
   },
   {
    "duration": 270,
    "start_time": "2025-08-21T12:09:39.103Z"
   },
   {
    "duration": 17,
    "start_time": "2025-08-21T12:09:39.375Z"
   },
   {
    "duration": 337,
    "start_time": "2025-08-21T12:09:39.393Z"
   },
   {
    "duration": 262,
    "start_time": "2025-08-21T12:09:39.732Z"
   },
   {
    "duration": 13,
    "start_time": "2025-08-21T12:09:39.995Z"
   },
   {
    "duration": 86,
    "start_time": "2025-08-21T12:09:40.010Z"
   },
   {
    "duration": 16,
    "start_time": "2025-08-21T12:09:40.098Z"
   },
   {
    "duration": 75,
    "start_time": "2025-08-21T12:09:40.116Z"
   },
   {
    "duration": 33,
    "start_time": "2025-08-21T12:09:40.193Z"
   },
   {
    "duration": 69,
    "start_time": "2025-08-21T12:09:40.229Z"
   },
   {
    "duration": 76,
    "start_time": "2025-08-21T12:13:02.908Z"
   },
   {
    "duration": 105,
    "start_time": "2025-08-21T12:13:50.508Z"
   },
   {
    "duration": 105,
    "start_time": "2025-08-21T12:17:53.247Z"
   },
   {
    "duration": 3,
    "start_time": "2025-08-21T12:37:04.947Z"
   },
   {
    "duration": 5,
    "start_time": "2025-08-21T12:43:04.568Z"
   },
   {
    "duration": 4,
    "start_time": "2025-08-21T12:43:10.680Z"
   },
   {
    "duration": 4,
    "start_time": "2025-08-21T12:44:44.343Z"
   },
   {
    "duration": 1192,
    "start_time": "2025-08-21T12:48:37.157Z"
   },
   {
    "duration": 1079,
    "start_time": "2025-08-21T12:48:38.351Z"
   },
   {
    "duration": 607,
    "start_time": "2025-08-21T12:48:39.432Z"
   },
   {
    "duration": 28629,
    "start_time": "2025-08-21T12:48:40.042Z"
   },
   {
    "duration": 701,
    "start_time": "2025-08-21T12:49:08.673Z"
   },
   {
    "duration": 699,
    "start_time": "2025-08-21T12:49:09.375Z"
   },
   {
    "duration": 29,
    "start_time": "2025-08-21T12:49:10.076Z"
   },
   {
    "duration": 186,
    "start_time": "2025-08-21T12:49:10.107Z"
   },
   {
    "duration": 795,
    "start_time": "2025-08-21T12:49:10.294Z"
   },
   {
    "duration": 515,
    "start_time": "2025-08-21T12:49:11.092Z"
   },
   {
    "duration": 15,
    "start_time": "2025-08-21T12:49:11.608Z"
   },
   {
    "duration": 183,
    "start_time": "2025-08-21T12:49:11.625Z"
   },
   {
    "duration": 32,
    "start_time": "2025-08-21T12:49:11.810Z"
   },
   {
    "duration": 5,
    "start_time": "2025-08-21T12:49:11.843Z"
   },
   {
    "duration": 8,
    "start_time": "2025-08-21T12:49:11.850Z"
   },
   {
    "duration": 3,
    "start_time": "2025-08-21T12:49:11.872Z"
   },
   {
    "duration": 124,
    "start_time": "2025-08-21T12:49:11.877Z"
   },
   {
    "duration": 8,
    "start_time": "2025-08-21T12:49:12.003Z"
   },
   {
    "duration": 51,
    "start_time": "2025-08-21T12:49:12.013Z"
   },
   {
    "duration": 294,
    "start_time": "2025-08-21T12:49:12.066Z"
   },
   {
    "duration": 20,
    "start_time": "2025-08-21T12:49:12.362Z"
   },
   {
    "duration": 343,
    "start_time": "2025-08-21T12:49:12.384Z"
   },
   {
    "duration": 259,
    "start_time": "2025-08-21T12:49:12.729Z"
   },
   {
    "duration": 13,
    "start_time": "2025-08-21T12:49:12.990Z"
   },
   {
    "duration": 107,
    "start_time": "2025-08-21T12:49:13.005Z"
   },
   {
    "duration": 16,
    "start_time": "2025-08-21T12:49:13.113Z"
   },
   {
    "duration": 66,
    "start_time": "2025-08-21T12:49:13.131Z"
   },
   {
    "duration": 4,
    "start_time": "2025-08-21T12:49:13.200Z"
   },
   {
    "duration": 36,
    "start_time": "2025-08-21T12:49:13.206Z"
   },
   {
    "duration": 128,
    "start_time": "2025-08-21T12:49:13.244Z"
   },
   {
    "duration": 115,
    "start_time": "2025-08-21T13:01:22.404Z"
   },
   {
    "duration": 1574,
    "start_time": "2025-08-21T13:44:52.614Z"
   },
   {
    "duration": 3262,
    "start_time": "2025-08-21T13:44:54.190Z"
   },
   {
    "duration": 463,
    "start_time": "2025-08-21T13:44:57.454Z"
   },
   {
    "duration": 20896,
    "start_time": "2025-08-21T13:44:57.919Z"
   },
   {
    "duration": 764,
    "start_time": "2025-08-21T13:45:18.817Z"
   },
   {
    "duration": 618,
    "start_time": "2025-08-21T13:45:19.583Z"
   },
   {
    "duration": 42,
    "start_time": "2025-08-21T13:45:20.202Z"
   },
   {
    "duration": 312,
    "start_time": "2025-08-21T13:45:20.246Z"
   },
   {
    "duration": 499,
    "start_time": "2025-08-21T13:45:20.560Z"
   },
   {
    "duration": 565,
    "start_time": "2025-08-21T13:45:21.061Z"
   },
   {
    "duration": 21,
    "start_time": "2025-08-21T13:45:21.628Z"
   },
   {
    "duration": 191,
    "start_time": "2025-08-21T13:45:21.651Z"
   },
   {
    "duration": 31,
    "start_time": "2025-08-21T13:45:21.844Z"
   },
   {
    "duration": 60,
    "start_time": "2025-08-21T13:45:21.876Z"
   },
   {
    "duration": 23,
    "start_time": "2025-08-21T13:45:21.938Z"
   },
   {
    "duration": 10,
    "start_time": "2025-08-21T13:45:21.963Z"
   },
   {
    "duration": 223,
    "start_time": "2025-08-21T13:45:21.975Z"
   },
   {
    "duration": 9,
    "start_time": "2025-08-21T13:45:22.200Z"
   },
   {
    "duration": 35,
    "start_time": "2025-08-21T13:45:22.210Z"
   },
   {
    "duration": 413,
    "start_time": "2025-08-21T13:45:22.247Z"
   },
   {
    "duration": 13,
    "start_time": "2025-08-21T13:45:22.661Z"
   },
   {
    "duration": 490,
    "start_time": "2025-08-21T13:45:22.676Z"
   },
   {
    "duration": 238,
    "start_time": "2025-08-21T13:45:23.168Z"
   },
   {
    "duration": 18,
    "start_time": "2025-08-21T13:45:23.409Z"
   },
   {
    "duration": 93,
    "start_time": "2025-08-21T13:45:23.429Z"
   },
   {
    "duration": 27,
    "start_time": "2025-08-21T13:45:23.524Z"
   },
   {
    "duration": 227,
    "start_time": "2025-08-21T13:45:23.553Z"
   },
   {
    "duration": 4,
    "start_time": "2025-08-21T13:45:23.783Z"
   },
   {
    "duration": 51,
    "start_time": "2025-08-21T13:45:23.789Z"
   },
   {
    "duration": 111,
    "start_time": "2025-08-21T13:45:23.841Z"
   }
  ],
  "colab": {
   "provenance": []
  },
  "kernelspec": {
   "display_name": "Python 3 (ipykernel)",
   "language": "python",
   "name": "python3"
  },
  "language_info": {
   "codemirror_mode": {
    "name": "ipython",
    "version": 3
   },
   "file_extension": ".py",
   "mimetype": "text/x-python",
   "name": "python",
   "nbconvert_exporter": "python",
   "pygments_lexer": "ipython3",
   "version": "3.12.7"
  },
  "toc": {
   "base_numbering": 1,
   "nav_menu": {},
   "number_sections": true,
   "sideBar": true,
   "skip_h1_title": true,
   "title_cell": "Table of Contents",
   "title_sidebar": "Contents",
   "toc_cell": false,
   "toc_position": {},
   "toc_section_display": true,
   "toc_window_display": true
  }
 },
 "nbformat": 4,
 "nbformat_minor": 4
}
